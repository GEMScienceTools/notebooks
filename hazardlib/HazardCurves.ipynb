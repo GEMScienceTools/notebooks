{
 "cells": [
  {
   "cell_type": "markdown",
   "metadata": {},
   "source": [
    "# Hazard curves calculation in openquake.hazardlib"
   ]
  },
  {
   "cell_type": "raw",
   "metadata": {},
   "source": [
    "\n",
    "LICENSE\n",
    "\n",
    "Copyright (c) 2014, GEM Foundation, G. Weatherill, M. Pagani, D. Monelli.\n",
    "\n",
    "The notebook is free software: you can redistribute\n",
    "it and/or modify it under the terms of the GNU Affero General Public\n",
    "License as published by the Free Software Foundation, either version\n",
    "3 of the License, or (at your option) any later version.\n",
    "\n",
    "You should have received a copy of the GNU Affero General Public License\n",
    "along with OpenQuake. If not, see <http://www.gnu.org/licenses/>\n",
    "\n",
    "DISCLAIMER\n",
    " \n",
    "The notebook provided herein is released as a prototype\n",
    "implementation on behalf of scientists and engineers working within the GEM\n",
    "Foundation (Global Earthquake Model).\n",
    "\n",
    "It is distributed for the purpose of open collaboration and in the\n",
    "hope that it will be useful to the scientific, engineering, disaster\n",
    "risk and software design communities.\n",
    "\n",
    "The software is NOT distributed as part of GEM's OpenQuake suite\n",
    "(http://www.globalquakemodel.org/openquake) and must be considered as a\n",
    "separate entity. The software provided herein is designed and implemented\n",
    "by scientific staff. It is not developed to the design standards, nor\n",
    "subject to same level of critical review by professional software\n",
    "developers, as GEM's OpenQuake software suite.\n",
    "\n",
    "Feedback and contribution to the software is welcome, and can be\n",
    "directed to the hazard scientific staff of the GEM Model Facility\n",
    "(hazard@globalquakemodel.org).\n",
    "\n",
    "The notebook is therefore distributed WITHOUT ANY WARRANTY; without\n",
    "even the implied warranty of MERCHANTABILITY or FITNESS FOR A PARTICULAR\n",
    "PURPOSE. See the GNU General Public License for more details.\n",
    "\n",
    "The GEM Foundation, and the authors of the software, assume no liability for\n",
    "use of the software."
   ]
  },
  {
   "cell_type": "code",
   "execution_count": null,
   "metadata": {
    "collapsed": false
   },
   "outputs": [],
   "source": [
    "%matplotlib inline\n",
    "\n",
    "from openquake.hazardlib.source import AreaSource\n",
    "from openquake.hazardlib.mfd import TruncatedGRMFD\n",
    "from openquake.hazardlib.scalerel import PointMSR, WC1994\n",
    "from openquake.hazardlib.geo import Point, NodalPlane, Polygon\n",
    "from openquake.hazardlib.pmf import PMF\n",
    "from openquake.hazardlib.tom import PoissonTOM\n",
    "from openquake.hazardlib.calc.hazard_curve import calc_hazard_curves\n",
    "from openquake.hazardlib.site import Site, SiteCollection\n",
    "from openquake.hazardlib.imt import PGA, SA\n",
    "from openquake.hazardlib.gsim.campbell_bozorgnia_2008 import CampbellBozorgnia2008\n",
    "\n",
    "import numpy\n",
    "from matplotlib import pyplot"
   ]
  },
  {
   "cell_type": "markdown",
   "metadata": {},
   "source": [
    "# Hazard curves from area sources with point and finite ruptures"
   ]
  },
  {
   "cell_type": "code",
   "execution_count": null,
   "metadata": {
    "collapsed": false
   },
   "outputs": [],
   "source": [
    "# define area source with point ruptures\n",
    "src1 = AreaSource(\n",
    "    source_id='1',\n",
    "    name='area',\n",
    "    tectonic_region_type='Active Shallow Crust',\n",
    "    mfd=TruncatedGRMFD(min_mag=5., max_mag=6.5, bin_width=0.2, a_val=4.45, b_val=1.),\n",
    "    rupture_mesh_spacing=2.,\n",
    "    magnitude_scaling_relationship=PointMSR(),\n",
    "    rupture_aspect_ratio=1.,\n",
    "    temporal_occurrence_model=PoissonTOM(50.),\n",
    "    upper_seismogenic_depth=2.,\n",
    "    lower_seismogenic_depth=12.,\n",
    "    nodal_plane_distribution=PMF([(1, NodalPlane(strike=0., dip=50, rake=90.))]),\n",
    "    hypocenter_distribution=PMF([(1, 7.)]),\n",
    "    polygon=Point(0., 0.).to_polygon(200.),\n",
    "    area_discretization=10.\n",
    ")"
   ]
  },
  {
   "cell_type": "code",
   "execution_count": null,
   "metadata": {
    "collapsed": false
   },
   "outputs": [],
   "source": [
    "# define area source with finite ruptures\n",
    "src2 = AreaSource(\n",
    "    source_id='1',\n",
    "    name='area',\n",
    "    tectonic_region_type='Active Shallow Crust',\n",
    "    mfd=TruncatedGRMFD(min_mag=5., max_mag=6.5, bin_width=0.2, a_val=4.45, b_val=1.),\n",
    "    rupture_mesh_spacing=2.,\n",
    "    magnitude_scaling_relationship=WC1994(),\n",
    "    rupture_aspect_ratio=1.,\n",
    "    temporal_occurrence_model=PoissonTOM(50.),\n",
    "    upper_seismogenic_depth=2.,\n",
    "    lower_seismogenic_depth=12.,\n",
    "    nodal_plane_distribution=PMF([(1, NodalPlane(strike=0, dip=50, rake=90))]),\n",
    "    hypocenter_distribution=PMF([(1, 7.)]),\n",
    "    polygon=Point(0., 0.).to_polygon(200.),\n",
    "    area_discretization=10.\n",
    ")"
   ]
  },
  {
   "cell_type": "code",
   "execution_count": null,
   "metadata": {
    "collapsed": false
   },
   "outputs": [],
   "source": [
    "# compute hazard curve from src1\n",
    "imls = [0.005, 0.007, 0.0098, 0.0137, 0.0192, 0.0269, 0.0376, 0.0527, 0.0738, 0.103, 0.145,\n",
    "        0.203, 0.284, 0.397, 0.556, 0.778, 1.09, 1.52, 2.13]\n",
    "curves1 = calc_hazard_curves(\n",
    "    sources=[src1],\n",
    "    sites=SiteCollection([Site(location=Point(0., 0.), vs30=760., vs30measured=True, z1pt0=40., z2pt5=1.)]),\n",
    "    imtls={'PGA': imls},\n",
    "    gsim_by_trt={'Active Shallow Crust': CampbellBozorgnia2008()},\n",
    "    truncation_level=None\n",
    ")"
   ]
  },
  {
   "cell_type": "code",
   "execution_count": null,
   "metadata": {
    "collapsed": false
   },
   "outputs": [],
   "source": [
    "# compute hazard curve from src2\n",
    "curves2 = calc_hazard_curves(\n",
    "    sources=[src2],\n",
    "    sites=SiteCollection([Site(location=Point(0., 0.), vs30=760., vs30measured=True, z1pt0=40., z2pt5=1.)]),\n",
    "    imtls={'PGA': imls},\n",
    "    gsim_by_trt={'Active Shallow Crust': CampbellBozorgnia2008()},\n",
    "    truncation_level=None\n",
    ")"
   ]
  },
  {
   "cell_type": "code",
   "execution_count": null,
   "metadata": {
    "collapsed": false
   },
   "outputs": [],
   "source": [
    "fig = pyplot.figure(figsize=(9, 9))\n",
    "pyplot.loglog(imls, curves1['PGA'][0], '-r', linewidth=2, label='Point Ruptures - PGA')\n",
    "pyplot.loglog(imls, curves2['PGA'][0], '-g', linewidth=2, label='Finite Ruptures - PGA')\n",
    "#pyplot.loglog(imls, curves1[SA(period=1, damping=5)][0], '--r', linewidth=2, label='Point Ruptures - SA(1s)')\n",
    "#pyplot.loglog(imls, curves2[SA(period=1, damping=5)][0], '--g', linewidth=2, label='Finite Ruptures - SA(1s)')\n",
    "#pyplot.loglog(imls, curves1[SA(period=3, damping=5)][0], '-.r', linewidth=2, label='Point Ruptures - SA(3s)')\n",
    "#pyplot.loglog(imls, curves2[SA(period=3, damping=5)][0], '-.g', linewidth=2, label='Finite Ruptures - SA(3s)')\n",
    "pyplot.legend(loc=\"upper left\", bbox_to_anchor=(1,1))\n",
    "pyplot.xlabel('SA (g)', fontsize=20)\n",
    "pyplot.ylabel('Probability of exceedance in 50 years', fontsize=20)"
   ]
  },
  {
   "cell_type": "markdown",
   "metadata": {},
   "source": [
    "# Hazard curves from area sources with different nodal planes"
   ]
  },
  {
   "cell_type": "code",
   "execution_count": null,
   "metadata": {
    "collapsed": false
   },
   "outputs": [],
   "source": [
    "# define area source with vertical strike-slip ruptures\n",
    "src1 = AreaSource(\n",
    "    source_id='1',\n",
    "    name='area',\n",
    "    tectonic_region_type='Active Shallow Crust',\n",
    "    mfd=TruncatedGRMFD(min_mag=5., max_mag=6.5, bin_width=0.2, a_val=4.45, b_val=1.),\n",
    "    rupture_mesh_spacing=2.,\n",
    "    magnitude_scaling_relationship=WC1994(),\n",
    "    rupture_aspect_ratio=1.,\n",
    "    temporal_occurrence_model=PoissonTOM(50.),\n",
    "    upper_seismogenic_depth=2.,\n",
    "    lower_seismogenic_depth=12.,\n",
    "    nodal_plane_distribution=PMF([(1, NodalPlane(strike=0., dip=90, rake=0.))]),\n",
    "    hypocenter_distribution=PMF([(1, 7.)]),\n",
    "    polygon=Point(0., 0.).to_polygon(200.),\n",
    "    area_discretization=10.\n",
    ")"
   ]
  },
  {
   "cell_type": "code",
   "execution_count": null,
   "metadata": {
    "collapsed": false
   },
   "outputs": [],
   "source": [
    "# define area source with dipping (50 degrees) reverse ruptures\n",
    "src2 = AreaSource(\n",
    "    source_id='1',\n",
    "    name='area',\n",
    "    tectonic_region_type='Active Shallow Crust',\n",
    "    mfd=TruncatedGRMFD(min_mag=5., max_mag=6.5, bin_width=0.2, a_val=4.45, b_val=1.),\n",
    "    rupture_mesh_spacing=2.,\n",
    "    magnitude_scaling_relationship=WC1994(),\n",
    "    rupture_aspect_ratio=1.,\n",
    "    temporal_occurrence_model=PoissonTOM(50.),\n",
    "    upper_seismogenic_depth=2.,\n",
    "    lower_seismogenic_depth=12.,\n",
    "    nodal_plane_distribution=PMF([(1, NodalPlane(strike=0, dip=50, rake=90))]),\n",
    "    hypocenter_distribution=PMF([(1, 7.)]),\n",
    "    polygon=Point(0., 0.).to_polygon(200.),\n",
    "    area_discretization=10.\n",
    ")"
   ]
  },
  {
   "cell_type": "code",
   "execution_count": null,
   "metadata": {
    "collapsed": false
   },
   "outputs": [],
   "source": [
    "# compute hazard curve from src1\n",
    "imls = [0.005, 0.007, 0.0098, 0.0137, 0.0192, 0.0269, 0.0376, 0.0527, 0.0738, 0.103, 0.145,\n",
    "        0.203, 0.284, 0.397, 0.556, 0.778, 1.09, 1.52, 2.13]\n",
    "curves1 = calc_hazard_curves(\n",
    "    sources=[src1],\n",
    "    sites=SiteCollection([Site(location=Point(0., 0.), vs30=760., vs30measured=True, z1pt0=40., z2pt5=1.)]),\n",
    "    imtls={'PGA': imls},\n",
    "    gsim_by_trt={'Active Shallow Crust': CampbellBozorgnia2008()},\n",
    "    truncation_level=None\n",
    ")"
   ]
  },
  {
   "cell_type": "code",
   "execution_count": null,
   "metadata": {
    "collapsed": false
   },
   "outputs": [],
   "source": [
    "# compute hazard curve from src2\n",
    "curves2 = calc_hazard_curves(\n",
    "    sources=[src2],\n",
    "    sites=SiteCollection([Site(location=Point(0., 0.), vs30=760., vs30measured=True, z1pt0=40., z2pt5=1.)]),\n",
    "    imtls={'PGA': imls},\n",
    "    gsim_by_trt={'Active Shallow Crust': CampbellBozorgnia2008()},\n",
    "    truncation_level=None\n",
    ")"
   ]
  },
  {
   "cell_type": "code",
   "execution_count": null,
   "metadata": {
    "collapsed": false
   },
   "outputs": [],
   "source": [
    "fig = pyplot.figure(figsize=(9, 9))\n",
    "pyplot.loglog(imls, curves1['PGA'][0], '-r', linewidth=2, label='strike-slip - PGA')\n",
    "pyplot.loglog(imls, curves2['PGA'][0], '-g', linewidth=2, label='reverse - PGA')\n",
    "#pyplot.loglog(imls, curves1[SA(period=1, damping=5)][0], '--r', linewidth=2, label='strike-slip - SA(1s)')\n",
    "#pyplot.loglog(imls, curves2[SA(period=1, damping=5)][0], '--g', linewidth=2, label='reverse - SA(1s)')\n",
    "#pyplot.loglog(imls, curves1[SA(period=3, damping=5)][0], '-.r', linewidth=2, label='strike-slip - SA(3s)')\n",
    "#pyplot.loglog(imls, curves2[SA(period=3, damping=5)][0], '-.g', linewidth=2, label='reverse - SA(3s)')\n",
    "pyplot.legend(loc=\"upper left\", bbox_to_anchor=(1,1))\n",
    "pyplot.xlabel('SA (g)', fontsize=20)\n",
    "pyplot.ylabel('Probability of exceedance in 50 years', fontsize=20)"
   ]
  }
 ],
 "metadata": {
  "kernelspec": {
   "display_name": "Python 2",
   "language": "python",
   "name": "python2"
  },
  "language_info": {
   "codemirror_mode": {
    "name": "ipython",
    "version": 2
   },
   "file_extension": ".py",
   "mimetype": "text/x-python",
   "name": "python",
   "nbconvert_exporter": "python",
   "pygments_lexer": "ipython2",
   "version": "2.7.6"
  }
 },
 "nbformat": 4,
 "nbformat_minor": 0
}
