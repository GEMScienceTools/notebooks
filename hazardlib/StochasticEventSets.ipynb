{
 "cells": [
  {
   "cell_type": "markdown",
   "metadata": {},
   "source": [
    "# Stochastic event set generation in openquake.hazardlib"
   ]
  },
  {
   "cell_type": "raw",
   "metadata": {},
   "source": [
    "\n",
    "LICENSE\n",
    "\n",
    "Copyright (c) 2014, GEM Foundation, G. Weatherill, M. Pagani, D. Monelli.\n",
    "\n",
    "The notebook is free software: you can redistribute\n",
    "it and/or modify it under the terms of the GNU Affero General Public\n",
    "License as published by the Free Software Foundation, either version\n",
    "3 of the License, or (at your option) any later version.\n",
    "\n",
    "You should have received a copy of the GNU Affero General Public License\n",
    "along with OpenQuake. If not, see <http://www.gnu.org/licenses/>\n",
    "\n",
    "DISCLAIMER\n",
    " \n",
    "The notebook provided herein is released as a prototype\n",
    "implementation on behalf of scientists and engineers working within the GEM\n",
    "Foundation (Global Earthquake Model).\n",
    "\n",
    "It is distributed for the purpose of open collaboration and in the\n",
    "hope that it will be useful to the scientific, engineering, disaster\n",
    "risk and software design communities.\n",
    "\n",
    "The software is NOT distributed as part of GEM's OpenQuake suite\n",
    "(http://www.globalquakemodel.org/openquake) and must be considered as a\n",
    "separate entity. The software provided herein is designed and implemented\n",
    "by scientific staff. It is not developed to the design standards, nor\n",
    "subject to same level of critical review by professional software\n",
    "developers, as GEM's OpenQuake software suite.\n",
    "\n",
    "Feedback and contribution to the software is welcome, and can be\n",
    "directed to the hazard scientific staff of the GEM Model Facility\n",
    "(hazard@globalquakemodel.org).\n",
    "\n",
    "The notebook is therefore distributed WITHOUT ANY WARRANTY; without\n",
    "even the implied warranty of MERCHANTABILITY or FITNESS FOR A PARTICULAR\n",
    "PURPOSE. See the GNU General Public License for more details.\n",
    "\n",
    "The GEM Foundation, and the authors of the software, assume no liability for\n",
    "use of the software."
   ]
  },
  {
   "cell_type": "code",
   "execution_count": null,
   "metadata": {
    "collapsed": false
   },
   "outputs": [],
   "source": [
    "%matplotlib inline\n",
    "\n",
    "from openquake.hazardlib.source import AreaSource\n",
    "from openquake.hazardlib.mfd import TruncatedGRMFD\n",
    "from openquake.hazardlib.scalerel import WC1994\n",
    "from openquake.hazardlib.geo import Point, NodalPlane, Polygon\n",
    "from openquake.hazardlib.pmf import PMF\n",
    "from openquake.hazardlib.tom import PoissonTOM\n",
    "from openquake.hazardlib.calc import stochastic_event_set\n",
    "\n",
    "import matplotlib\n",
    "import numpy\n",
    "from matplotlib import pyplot\n",
    "from matplotlib import patches\n",
    "from mpl_toolkits.basemap import Basemap\n",
    "from obspy.imaging.beachball import Beach"
   ]
  },
  {
   "cell_type": "code",
   "execution_count": null,
   "metadata": {
    "collapsed": false
   },
   "outputs": [],
   "source": [
    "# beach ball reference width\n",
    "BB_WIDTH = 40000\n",
    "\n",
    "# magnitude bins\n",
    "MAG_BINS = numpy.array([4., 5., 6., 7., 8., 9.])\n",
    "MAG_BB_WIDTHS = numpy.array([BB_WIDTH * 0.5, BB_WIDTH, BB_WIDTH * 1.5, BB_WIDTH * 2., BB_WIDTH * 2.5])\n",
    "MAG_BB_COLORS = numpy.array(['r', 'g', 'b', 'c', 'm'])"
   ]
  },
  {
   "cell_type": "code",
   "execution_count": null,
   "metadata": {
    "collapsed": false
   },
   "outputs": [],
   "source": [
    "def get_map_projection(src):\n",
    "    \"\"\"\n",
    "    Return map projection specific to source.\n",
    "    \"\"\"\n",
    "    # extract rupture enclosing polygon (considering a buffer of 10 km)\n",
    "    rup_poly = src.get_rupture_enclosing_polygon(10.)\n",
    "    min_lon = numpy.min(rup_poly.lons)\n",
    "    max_lon = numpy.max(rup_poly.lons)\n",
    "    min_lat = numpy.min(rup_poly.lats)\n",
    "    max_lat = numpy.max(rup_poly.lats)\n",
    "    \n",
    "    # create map projection\n",
    "    m = Basemap(projection='merc', llcrnrlat=min_lat, urcrnrlat=max_lat,\n",
    "                llcrnrlon=min_lon, urcrnrlon=max_lon, resolution='l')\n",
    "\n",
    "    return min_lon, max_lon, min_lat, max_lat, m"
   ]
  },
  {
   "cell_type": "code",
   "execution_count": null,
   "metadata": {
    "collapsed": false
   },
   "outputs": [],
   "source": [
    "def create_ses_legend():\n",
    "    \"\"\"\n",
    "    Create legend for ses plot.\n",
    "    \"\"\"\n",
    "    bb1 = matplotlib.patches.Circle((0, 0), color=MAG_BB_COLORS[0])\n",
    "    bb2 = matplotlib.patches.Circle((0, 0), color=MAG_BB_COLORS[1])\n",
    "    bb3 = matplotlib.patches.Circle((0, 0), color=MAG_BB_COLORS[2])\n",
    "    bb4 = matplotlib.patches.Circle((0, 0), color=MAG_BB_COLORS[3])\n",
    "    bb5 = matplotlib.patches.Circle((0, 0), color=MAG_BB_COLORS[4])\n",
    "    matplotlib.pyplot.legend([bb1, bb2, bb3, bb4, bb5],\n",
    "        ['Mw < 5','5 <= Mw < 6', '6 <= Mw < 7', '7 <= Mw <= 8', 'Mw > 8'], numpoints=1)"
   ]
  },
  {
   "cell_type": "markdown",
   "metadata": {},
   "source": [
    "# Stochastic event set generated by an area source"
   ]
  },
  {
   "cell_type": "code",
   "execution_count": null,
   "metadata": {
    "collapsed": false
   },
   "outputs": [],
   "source": [
    "# time span for stochastic event set generation\n",
    "time_span = 1000.\n",
    "\n",
    "# define area source\n",
    "src = AreaSource(\n",
    "    source_id='1',\n",
    "    name='area',\n",
    "    tectonic_region_type='Active Shallow Crust',\n",
    "    mfd=TruncatedGRMFD(min_mag=5., max_mag=6.5, bin_width=0.2, a_val=4.45, b_val=0.98),\n",
    "    rupture_mesh_spacing=2.,\n",
    "    magnitude_scaling_relationship=WC1994(),\n",
    "    rupture_aspect_ratio=1.,\n",
    "    temporal_occurrence_model=PoissonTOM(time_span),\n",
    "    upper_seismogenic_depth=2.,\n",
    "    lower_seismogenic_depth=12.,\n",
    "    nodal_plane_distribution=PMF([(0.125, NodalPlane(strike=0, dip=90, rake=0)),\n",
    "                                  (0.125, NodalPlane(strike=45, dip=90, rake=0)),\n",
    "                                  (0.125, NodalPlane(strike=90, dip=90, rake=0)),\n",
    "                                  (0.125, NodalPlane(strike=135, dip=90, rake=0)),\n",
    "                                  (0.0625, NodalPlane(strike=0, dip=50, rake=90)),\n",
    "                                  (0.0625, NodalPlane(strike=45, dip=50, rake=90)),\n",
    "                                  (0.0625, NodalPlane(strike=90, dip=50, rake=90)),\n",
    "                                  (0.0625, NodalPlane(strike=135, dip=50, rake=90)),\n",
    "                                  (0.0625, NodalPlane(strike=180, dip=50, rake=90)),\n",
    "                                  (0.0625, NodalPlane(strike=225, dip=50, rake=90)),\n",
    "                                  (0.0625, NodalPlane(strike=270, dip=50, rake=90)),\n",
    "                                  (0.0625, NodalPlane(strike=315, dip=50, rake=90))]),\n",
    "    hypocenter_distribution=PMF([(1, 7.)]),\n",
    "    polygon=Polygon([Point(133.5, -22.5), Point(133.5, -23.0), Point(130.75, -23.75), Point(130.75, -24.5),\n",
    "                     Point(133.5, -26.0), Point(133.5, -27.0), Point(130.75, -27.0), Point(128.977, -25.065),\n",
    "                     Point(128.425, -23.436), Point(126.082, -23.233), Point(125.669, -22.351), Point(125.4, -20.5),\n",
    "                     Point(125.75, -20.25), Point(126.7, -21.25), Point(128.5, -21.25), Point(129.25, -20.6),\n",
    "                     Point(130.0, -20.6), Point(130.9, -22.25), Point(133.0, -22.0), Point(133.5, -22.5)]),\n",
    "    area_discretization=20.\n",
    ")"
   ]
  },
  {
   "cell_type": "code",
   "execution_count": null,
   "metadata": {
    "collapsed": false
   },
   "outputs": [],
   "source": [
    "# generate two different stochastic event sets from the area source\n",
    "numpy.random.seed(123)\n",
    "\n",
    "# generate event and store them in lists\n",
    "ses1 = list(stochastic_event_set([src]))\n",
    "ses2 = list(stochastic_event_set([src]))"
   ]
  },
  {
   "cell_type": "code",
   "execution_count": null,
   "metadata": {
    "collapsed": false
   },
   "outputs": [],
   "source": [
    "# define map projection\n",
    "min_lon, max_lon, min_lat, max_lat, m = get_map_projection(src)"
   ]
  },
  {
   "cell_type": "code",
   "execution_count": null,
   "metadata": {
    "collapsed": false
   },
   "outputs": [],
   "source": [
    "# plot events for event set 1\n",
    "for i, ses in enumerate([ses1, ses2]):\n",
    "    fig = pyplot.figure(figsize=(10, 10), dpi=160)\n",
    "    \n",
    "    # m.drawparallels(numpy.arange(min_lat, max_lat, 1.), labels=[True, False, False, True])\n",
    "    # m.drawmeridians(numpy.arange(min_lon, max_lon, 1.), labels=[True, False, False, True])\n",
    "    m.drawcoastlines()\n",
    "    m.drawcountries()\n",
    "    \n",
    "    x, y = m(src.polygon.lons, src.polygon.lats)\n",
    "    m.plot(x, y, color='black', linewidth=2)\n",
    "    \n",
    "    for rup in ses:\n",
    "        strike = rup.surface.get_strike()\n",
    "        dip = rup.surface.get_dip()\n",
    "        rake = rup.rake\n",
    "        x, y = m(rup.hypocenter.longitude, rup.hypocenter.latitude)\n",
    "        [bb_width] = MAG_BB_WIDTHS[numpy.digitize([rup.mag], MAG_BINS) - 1]\n",
    "        [bb_color] = MAG_BB_COLORS[numpy.digitize([rup.mag], MAG_BINS) - 1]\n",
    "        beach = Beach([strike, dip, rake], linewidth=1, xy=(x, y),\n",
    "                      width=bb_width, zorder=bb_width, facecolor=bb_color)\n",
    "        pyplot.gca().add_collection(beach)\n",
    "    \n",
    "    create_ses_legend()\n",
    "    pyplot.title('Stochastic Event Set %s for time span of %s years' % (i, time_span), fontsize=20)"
   ]
  }
 ],
 "metadata": {
  "kernelspec": {
   "display_name": "Python 2",
   "language": "python",
   "name": "python2"
  },
  "language_info": {
   "codemirror_mode": {
    "name": "ipython",
    "version": 2
   },
   "file_extension": ".py",
   "mimetype": "text/x-python",
   "name": "python",
   "nbconvert_exporter": "python",
   "pygments_lexer": "ipython2",
   "version": "2.7.6"
  }
 },
 "nbformat": 4,
 "nbformat_minor": 0
}
