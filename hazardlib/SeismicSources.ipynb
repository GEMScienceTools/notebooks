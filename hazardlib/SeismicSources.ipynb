{
 "cells": [
  {
   "cell_type": "markdown",
   "metadata": {},
   "source": [
    "# Seismic Sources in openquake.hazardlib"
   ]
  },
  {
   "cell_type": "raw",
   "metadata": {},
   "source": [
    "\n",
    "LICENSE\n",
    "\n",
    "Copyright (c) 2014, GEM Foundation, G. Weatherill, M. Pagani, D. Monelli.\n",
    "\n",
    "The notebook is free software: you can redistribute\n",
    "it and/or modify it under the terms of the GNU Affero General Public\n",
    "License as published by the Free Software Foundation, either version\n",
    "3 of the License, or (at your option) any later version.\n",
    "\n",
    "You should have received a copy of the GNU Affero General Public License\n",
    "along with OpenQuake. If not, see <http://www.gnu.org/licenses/>\n",
    "\n",
    "DISCLAIMER\n",
    " \n",
    "The notebook provided herein is released as a prototype\n",
    "implementation on behalf of scientists and engineers working within the GEM\n",
    "Foundation (Global Earthquake Model).\n",
    "\n",
    "It is distributed for the purpose of open collaboration and in the\n",
    "hope that it will be useful to the scientific, engineering, disaster\n",
    "risk and software design communities.\n",
    "\n",
    "The software is NOT distributed as part of GEM's OpenQuake suite\n",
    "(http://www.globalquakemodel.org/openquake) and must be considered as a\n",
    "separate entity. The software provided herein is designed and implemented\n",
    "by scientific staff. It is not developed to the design standards, nor\n",
    "subject to same level of critical review by professional software\n",
    "developers, as GEM's OpenQuake software suite.\n",
    "\n",
    "Feedback and contribution to the software is welcome, and can be\n",
    "directed to the hazard scientific staff of the GEM Model Facility\n",
    "(hazard@globalquakemodel.org).\n",
    "\n",
    "The notebook is therefore distributed WITHOUT ANY WARRANTY; without\n",
    "even the implied warranty of MERCHANTABILITY or FITNESS FOR A PARTICULAR\n",
    "PURPOSE. See the GNU General Public License for more details.\n",
    "\n",
    "The GEM Foundation, and the authors of the software, assume no liability for\n",
    "use of the software."
   ]
  },
  {
   "cell_type": "code",
   "execution_count": null,
   "metadata": {
    "collapsed": false
   },
   "outputs": [],
   "source": [
    "%matplotlib inline\n",
    "\n",
    "from openquake.hazardlib.source import PointSource, AreaSource, SimpleFaultSource, ComplexFaultSource, CharacteristicFaultSource\n",
    "from openquake.hazardlib.mfd import TruncatedGRMFD, EvenlyDiscretizedMFD\n",
    "from openquake.hazardlib.scalerel import WC1994\n",
    "from openquake.hazardlib.geo import Point, NodalPlane, Polygon, Line, ComplexFaultSurface\n",
    "from openquake.hazardlib.geo.surface import PlanarSurface\n",
    "from openquake.hazardlib.pmf import PMF\n",
    "from openquake.hazardlib.tom import PoissonTOM\n",
    "\n",
    "import numpy\n",
    "from matplotlib import pyplot\n",
    "from matplotlib import collections\n",
    "from mpl_toolkits.basemap import Basemap"
   ]
  },
  {
   "cell_type": "code",
   "execution_count": null,
   "metadata": {
    "collapsed": false
   },
   "outputs": [],
   "source": [
    "def get_map_projection(src):\n",
    "    \"\"\"\n",
    "    Return map projection specific to source.\n",
    "    \"\"\"\n",
    "    # extract rupture enclosing polygon (considering a buffer of 10 km)\n",
    "    rup_poly = src.get_rupture_enclosing_polygon(10.)\n",
    "    min_lon = numpy.min(rup_poly.lons)\n",
    "    max_lon = numpy.max(rup_poly.lons)\n",
    "    min_lat = numpy.min(rup_poly.lats)\n",
    "    max_lat = numpy.max(rup_poly.lats)\n",
    "    \n",
    "    # create map projection\n",
    "    m = Basemap(projection='merc', llcrnrlat=min_lat, urcrnrlat=max_lat,\n",
    "                llcrnrlon=min_lon, urcrnrlon=max_lon, resolution='l')\n",
    "\n",
    "    return min_lon, max_lon, min_lat, max_lat, m\n",
    "    "
   ]
  },
  {
   "cell_type": "code",
   "execution_count": null,
   "metadata": {
    "collapsed": false
   },
   "outputs": [],
   "source": [
    "def get_planar_surface_boundary(surf):\n",
    "    \"\"\"\n",
    "    Return coordinates of planar surface boundary\n",
    "    \"\"\"\n",
    "    boundary_lons = numpy.array(\n",
    "        [surf.top_left.longitude, surf.top_right.longitude,\n",
    "         surf.bottom_right.longitude, surf.bottom_left.longitude, surf.top_left.longitude]\n",
    "    )\n",
    "    boundary_lats = numpy.array(\n",
    "        [surf.top_left.latitude, surf.top_right.latitude,\n",
    "         surf.bottom_right.latitude, surf.bottom_left.latitude, surf.top_left.latitude]\n",
    "    )\n",
    "    \n",
    "    return boundary_lons, boundary_lats"
   ]
  },
  {
   "cell_type": "code",
   "execution_count": null,
   "metadata": {
    "collapsed": false
   },
   "outputs": [],
   "source": [
    "def get_mesh_boundary(mesh):\n",
    "    \"\"\"\n",
    "    Return coordinates of mesh boundary\n",
    "    \"\"\"\n",
    "    boundary_lons = numpy.concatenate((mesh.lons[0, :], mesh.lons[1:, -1], mesh.lons[-1,:-1][::-1], mesh.lons[:-1, 0][::-1]))\n",
    "    boundary_lats = numpy.concatenate((mesh.lats[0, :], mesh.lats[1:, -1], mesh.lats[-1,:-1][::-1], mesh.lats[:-1, 0][::-1]))\n",
    "    \n",
    "    return boundary_lons, boundary_lats"
   ]
  },
  {
   "cell_type": "markdown",
   "metadata": {},
   "source": [
    "# Point Source"
   ]
  },
  {
   "cell_type": "code",
   "execution_count": null,
   "metadata": {
    "collapsed": false
   },
   "outputs": [],
   "source": [
    "# define Point Source\n",
    "src = PointSource(\n",
    "    source_id='1',\n",
    "    name='point',\n",
    "    tectonic_region_type='Active Shallow Crust',\n",
    "    mfd=TruncatedGRMFD(min_mag=5., max_mag=6.5, bin_width=0.2, a_val=0.01, b_val=0.98),\n",
    "    rupture_mesh_spacing=2.,\n",
    "    magnitude_scaling_relationship=WC1994(),\n",
    "    rupture_aspect_ratio=1.,\n",
    "    temporal_occurrence_model=PoissonTOM(50.),\n",
    "    upper_seismogenic_depth=2.,\n",
    "    lower_seismogenic_depth=12.,\n",
    "    location=Point(9.1500, 45.1833),\n",
    "    nodal_plane_distribution=PMF([(0.5, NodalPlane(strike=45, dip=50, rake=0)), (0.5, NodalPlane(strike=135, dip=50, rake=0))]),\n",
    "    hypocenter_distribution=PMF([(1, 7.)])\n",
    ")"
   ]
  },
  {
   "cell_type": "code",
   "execution_count": null,
   "metadata": {
    "collapsed": false
   },
   "outputs": [],
   "source": [
    "# loop over ruptures, extract rupture surface boundary and magnitude\n",
    "min_lon, max_lon, min_lat, max_lat, m = get_map_projection(src)\n",
    "\n",
    "boundaries = []\n",
    "mags = []\n",
    "for rup in src.iter_ruptures():\n",
    "    surf = rup.surface\n",
    "    mag = rup.mag\n",
    "\n",
    "    boundary_lons, boundary_lats = get_planar_surface_boundary(surf)\n",
    "    xx, yy = m(boundary_lons, boundary_lats)\n",
    "    boundaries.append([(x, y) for x, y in zip(xx, yy)])\n",
    "    mags.append(mag)"
   ]
  },
  {
   "cell_type": "code",
   "execution_count": null,
   "metadata": {
    "collapsed": false
   },
   "outputs": [],
   "source": [
    "# plot rupturs. Color proportional to magnitude\n",
    "fig1 = pyplot.figure(figsize=(9, 9), dpi=160)\n",
    "\n",
    "# m.drawparallels(numpy.arange(min_lat, max_lat, 0.1), labels=[True, False, False, True])\n",
    "# m.drawmeridians(numpy.arange(min_lon, max_lon, 0.1), labels=[True, False, False, True])\n",
    "m.drawcoastlines()\n",
    "m.drawcountries()\n",
    "\n",
    "x, y = m(src.location.longitude, src.location.latitude)\n",
    "m.plot(y, y, marker='o', color='red')\n",
    "\n",
    "bounds = collections.LineCollection(boundaries)\n",
    "bounds.set_array(numpy.array(mags))\n",
    "pyplot.gca().add_collection(bounds)\n",
    "\n",
    "cb = pyplot.colorbar(bounds, orientation='horizontal')\n",
    "cb.set_label('Magnitude')\n",
    "pyplot.title('Point Source Ruptures', fontsize=20)"
   ]
  },
  {
   "cell_type": "markdown",
   "metadata": {},
   "source": [
    "# Area Source"
   ]
  },
  {
   "cell_type": "code",
   "execution_count": null,
   "metadata": {
    "collapsed": false
   },
   "outputs": [],
   "source": [
    "# define area source\n",
    "src = AreaSource(\n",
    "    source_id='1',\n",
    "    name='area',\n",
    "    tectonic_region_type='Active Shallow Crust',\n",
    "    mfd=TruncatedGRMFD(min_mag=5., max_mag=6.5, bin_width=0.2, a_val=3.45, b_val=0.98),\n",
    "    rupture_mesh_spacing=2.,\n",
    "    magnitude_scaling_relationship=WC1994(),\n",
    "    rupture_aspect_ratio=1.,\n",
    "    temporal_occurrence_model=PoissonTOM(50.),\n",
    "    upper_seismogenic_depth=2.,\n",
    "    lower_seismogenic_depth=12.,\n",
    "    nodal_plane_distribution=PMF([(1, NodalPlane(strike=45, dip=30, rake=0))]),\n",
    "    hypocenter_distribution=PMF([(1, 7.)]),\n",
    "    polygon=Polygon([Point(133.5, -22.5), Point(133.5, -23.0), Point(130.75, -23.75), Point(130.75, -24.5),\n",
    "                     Point(133.5, -26.0), Point(133.5, -27.0), Point(130.75, -27.0), Point(128.977, -25.065),\n",
    "                     Point(128.425, -23.436), Point(126.082, -23.233), Point(125.669, -22.351), Point(125.4, -20.5),\n",
    "                     Point(125.75, -20.25), Point(126.7, -21.25), Point(128.5, -21.25), Point(129.25, -20.6),\n",
    "                     Point(130.0, -20.6), Point(130.9, -22.25), Point(133.0, -22.0), Point(133.5, -22.5)]),\n",
    "    area_discretization=20.\n",
    ")"
   ]
  },
  {
   "cell_type": "code",
   "execution_count": null,
   "metadata": {
    "collapsed": false
   },
   "outputs": [],
   "source": [
    "# loop over ruptures, extract rupture surface boundary and magnitude\n",
    "min_lon, max_lon, min_lat, max_lat, m = get_map_projection(src)\n",
    "\n",
    "boundaries = []\n",
    "mags = []\n",
    "for rup in src.iter_ruptures():\n",
    "    surf = rup.surface\n",
    "    mag = rup.mag\n",
    "\n",
    "    boundary_lons, boundary_lats = get_planar_surface_boundary(surf)\n",
    "    xx, yy = m(boundary_lons, boundary_lats)\n",
    "    boundaries.append([(x, y) for x, y in zip(xx, yy)])\n",
    "    mags.append(mag)"
   ]
  },
  {
   "cell_type": "code",
   "execution_count": null,
   "metadata": {
    "collapsed": false
   },
   "outputs": [],
   "source": [
    "# plot ruptures. Color proportional to magnitude\n",
    "fig1 = pyplot.figure(figsize=(15, 15), dpi=160)\n",
    "\n",
    "m.drawparallels(numpy.arange(min_lat, max_lat, 5.), labels=[True, False, False, True])\n",
    "m.drawmeridians(numpy.arange(min_lon, max_lon, 5.), labels=[True, False, False, True])\n",
    "m.drawcoastlines()\n",
    "m.drawcountries()\n",
    "\n",
    "# plot area source boundary\n",
    "x, y = m(src.polygon.lons, src.polygon.lats)\n",
    "m.plot(x, y, linewidth=2, color='black')\n",
    "\n",
    "bounds = collections.LineCollection(boundaries)\n",
    "bounds.set_array(numpy.array(mags))\n",
    "pyplot.gca().add_collection(bounds)\n",
    "\n",
    "cb = pyplot.colorbar(bounds, orientation='horizontal')\n",
    "cb.set_label('Magnitude')\n",
    "pyplot.title('Area Source Ruptures', fontsize=20)"
   ]
  },
  {
   "cell_type": "markdown",
   "metadata": {},
   "source": [
    "# SimpleFaultSource"
   ]
  },
  {
   "cell_type": "code",
   "execution_count": null,
   "metadata": {
    "collapsed": false
   },
   "outputs": [],
   "source": [
    "src = SimpleFaultSource(\n",
    "    source_id='1',\n",
    "    name='simple fault',\n",
    "    tectonic_region_type='active shallow crust',\n",
    "    mfd=TruncatedGRMFD(min_mag=5., max_mag=6.5, bin_width=0.2, a_val=3.45, b_val=0.98),\n",
    "    rupture_mesh_spacing=2.,\n",
    "    magnitude_scaling_relationship=WC1994(),\n",
    "    rupture_aspect_ratio=1.,\n",
    "    temporal_occurrence_model=PoissonTOM(50.),\n",
    "    upper_seismogenic_depth=2.,\n",
    "    lower_seismogenic_depth=7.,\n",
    "    fault_trace=Line([Point(9.21602706445, 45.1555287905), Point(9.25645636929, 45.1877167851),\n",
    "                      Point(9.29688464252, 45.2199047798), Point(9.35715705075, 45.2398017764),\n",
    "                      Point(9.42902686305, 45.2401237764), Point(9.47246500782, 45.2381597767),\n",
    "                      Point(9.51590215304, 45.236194777), Point(9.56736930079, 45.2307927779),\n",
    "                      Point(9.61883544823, 45.2253897788), Point(9.67030259419, 45.2199877797),\n",
    "                      Point(9.72270625188, 45.2033947825), Point(9.77510990175, 45.1868007853),\n",
    "                      Point(9.83238881096, 45.1680237884), Point(9.88966771001, 45.1492457915),\n",
    "                      Point(9.94694559775, 45.1304687947), Point(10.0042244753, 45.1116907978)]),\n",
    "    dip=30.,\n",
    "    rake=90.\n",
    ")"
   ]
  },
  {
   "cell_type": "code",
   "execution_count": null,
   "metadata": {
    "collapsed": false
   },
   "outputs": [],
   "source": [
    "# loop over ruptures, extract rupture surface boundary and magnitude\n",
    "min_lon, max_lon, min_lat, max_lat, m = get_map_projection(src)\n",
    "\n",
    "boundaries = []\n",
    "mags = []\n",
    "for rup in src.iter_ruptures():\n",
    "    surf = rup.surface\n",
    "    mesh = surf.get_mesh()\n",
    "    mag = rup.mag\n",
    "\n",
    "    boundary_lons, boundary_lats = get_mesh_boundary(mesh)\n",
    "    xx, yy = m(boundary_lons, boundary_lats)\n",
    "\n",
    "    boundaries.append([(x, y) for x, y in zip(xx, yy)])\n",
    "    mags.append(mag)\n",
    "\n",
    "boundaries = numpy.array(boundaries)\n",
    "mags = numpy.array(mags)"
   ]
  },
  {
   "cell_type": "code",
   "execution_count": null,
   "metadata": {
    "collapsed": false
   },
   "outputs": [],
   "source": [
    "# plot ruptures.\n",
    "unique_mags = numpy.unique(mags)\n",
    "for mag in unique_mags:\n",
    "    idx = mags == mag\n",
    "\n",
    "    fig = pyplot.figure(figsize=(9, 9), dpi=160)\n",
    "    \n",
    "    m.drawparallels(numpy.arange(min_lat, max_lat, 0.2), labels=[True, False, False, True])\n",
    "    m.drawmeridians(numpy.arange(min_lon, max_lon, 0.2), labels=[True, False, False, True])\n",
    "    m.drawcoastlines()\n",
    "    m.drawcountries()\n",
    "    \n",
    "    # extract and plot fault trace\n",
    "    lons = [p.longitude for p in src.fault_trace.points]\n",
    "    lats = [p.latitude for p in src.fault_trace.points]\n",
    "    x, y = m(lons, lats)\n",
    "    m.plot(x, y, linewidth=2, color='black')\n",
    "    \n",
    "    bounds = collections.PolyCollection(boundaries[idx], facecolors='palegreen')\n",
    "    pyplot.gca().add_collection(bounds)\n",
    "    \n",
    "    pyplot.title('Simple Fault Source Ruptures, M=%s' % mag, fontsize=20)"
   ]
  },
  {
   "cell_type": "markdown",
   "metadata": {},
   "source": [
    "# Complex Fault Source"
   ]
  },
  {
   "cell_type": "code",
   "execution_count": null,
   "metadata": {
    "collapsed": false
   },
   "outputs": [],
   "source": [
    "top_edge = Line([Point(144.069555556, 39.7059999996, 9.202), Point(143.987666642, 39.0726212093, 9.202),\n",
    "                 Point(143.844804987, 38.4446225095, 9.202), Point(143.715121187, 37.8147879271, 9.202),\n",
    "                 Point(143.452451355, 37.2149977193, 9.202), Point(143.086155668, 36.6503300815, 9.202),\n",
    "                 Point(142.589773574, 36.1569466634, 9.202), Point(142.202909091, 35.606, 9.202)])\n",
    "\n",
    "bottom_edge = Line([Point(142.0450625, 39.7059999997, 48.202), Point(141.970993342, 39.1530522533, 48.202),\n",
    "                    Point(141.893707006, 38.6004781864, 48.202), Point(141.734990146, 38.0590949727, 48.202),\n",
    "                    Point(141.52384879, 37.5292617122, 48.202), Point(141.2114751, 37.0322180634, 48.202),\n",
    "                    Point(140.900140283, 36.5353773475, 48.202), Point(140.697696296, 36.006, 48.202)])\n",
    "edges = [top_edge, bottom_edge]\n",
    "\n",
    "src = ComplexFaultSource(\n",
    "    source_id='1', \n",
    "    name='Complex Fault',\n",
    "    tectonic_region_type='Subduction Interface',\n",
    "    mfd=EvenlyDiscretizedMFD(bin_width=0.1, min_mag=7.7, occurrence_rates=[0.004845]),\n",
    "    rupture_mesh_spacing=10.,\n",
    "    magnitude_scaling_relationship=WC1994(),\n",
    "    rupture_aspect_ratio=1.,\n",
    "    temporal_occurrence_model=PoissonTOM(50.),\n",
    "    edges=edges,\n",
    "    rake=90.\n",
    ")"
   ]
  },
  {
   "cell_type": "code",
   "execution_count": null,
   "metadata": {
    "collapsed": false
   },
   "outputs": [],
   "source": [
    "# loop over ruptures, extract rupture surface boundary and magnitude\n",
    "min_lon, max_lon, min_lat, max_lat, m = get_map_projection(src)\n",
    "\n",
    "boundaries = []\n",
    "mags = []\n",
    "for rup in src.iter_ruptures():\n",
    "    surf = rup.surface\n",
    "    mesh = surf.get_mesh()\n",
    "    mag = rup.mag\n",
    "\n",
    "    boundary_lons, boundary_lats = get_mesh_boundary(mesh)\n",
    "    xx, yy = m(boundary_lons, boundary_lats)\n",
    "\n",
    "    boundaries.append([(x, y) for x, y in zip(xx, yy)])\n",
    "    mags.append(mag)\n",
    "boundaries = numpy.array(boundaries)\n",
    "mags = numpy.array(mags)"
   ]
  },
  {
   "cell_type": "code",
   "execution_count": null,
   "metadata": {
    "collapsed": false
   },
   "outputs": [],
   "source": [
    "# plot ruptures.\n",
    "fig = pyplot.figure(figsize=(9, 9), dpi=160)\n",
    "\n",
    "# m.drawparallels(numpy.arange(min_lat, max_lat, 1.), labels=[True, False, False, True])\n",
    "# m.drawmeridians(numpy.arange(min_lon, max_lon, 1.), labels=[True, False, False, True])\n",
    "m.drawcoastlines()\n",
    "m.drawcountries()\n",
    "\n",
    "bounds = collections.PolyCollection(boundaries, facecolors='palegreen')\n",
    "pyplot.gca().add_collection(bounds)\n",
    "\n",
    "pyplot.title('Complex Fault Source Ruptures', fontsize=20)"
   ]
  },
  {
   "cell_type": "markdown",
   "metadata": {},
   "source": [
    "# Characteristic Fault Source"
   ]
  },
  {
   "cell_type": "code",
   "execution_count": null,
   "metadata": {
    "collapsed": false
   },
   "outputs": [],
   "source": [
    "src = CharacteristicFaultSource(\n",
    "    source_id='1',\n",
    "    name='characteristic',\n",
    "    tectonic_region_type='active shallow crust',\n",
    "    mfd=EvenlyDiscretizedMFD(bin_width=0.1, min_mag=8.7, occurrence_rates=[0.004845, 0.004845]),\n",
    "    temporal_occurrence_model=PoissonTOM(50.),\n",
    "    surface=ComplexFaultSurface.from_fault_data(edges=edges, mesh_spacing=10.),\n",
    "    rake=90.\n",
    ")"
   ]
  },
  {
   "cell_type": "code",
   "execution_count": null,
   "metadata": {
    "collapsed": false
   },
   "outputs": [],
   "source": [
    "# loop over ruptures, extract rupture surface boundary and magnitude\n",
    "min_lon, max_lon, min_lat, max_lat, m = get_map_projection(src)\n",
    "\n",
    "boundaries = []\n",
    "mags = []\n",
    "for rup in src.iter_ruptures():\n",
    "    surf = rup.surface\n",
    "    mesh = surf.get_mesh()\n",
    "    mag = rup.mag\n",
    "\n",
    "    boundary_lons, boundary_lats = get_mesh_boundary(mesh)\n",
    "    xx, yy = m(boundary_lons, boundary_lats)\n",
    "\n",
    "    boundaries.append([(x, y) for x, y in zip(xx, yy)])\n",
    "    mags.append(mag)\n",
    "boundaries = numpy.array(boundaries)\n",
    "mags = numpy.array(mags)"
   ]
  },
  {
   "cell_type": "code",
   "execution_count": null,
   "metadata": {
    "collapsed": false
   },
   "outputs": [],
   "source": [
    "# plot ruptures.\n",
    "fig = pyplot.figure(figsize=(9, 9), dpi=160)\n",
    "\n",
    "#m.drawparallels(numpy.arange(min_lat, max_lat, 1.), labels=[True, False, False, True])\n",
    "#m.drawmeridians(numpy.arange(min_lon, max_lon, 1.), labels=[True, False, False, True])\n",
    "m.drawcoastlines()\n",
    "m.drawcountries()\n",
    "\n",
    "bounds = collections.PolyCollection(boundaries, facecolors='palegreen')\n",
    "pyplot.gca().add_collection(bounds)\n",
    "\n",
    "pyplot.title('Characteristic Fault Source Ruptures', fontsize=20)"
   ]
  }
 ],
 "metadata": {
  "kernelspec": {
   "display_name": "Python 2",
   "language": "python",
   "name": "python2"
  },
  "language_info": {
   "codemirror_mode": {
    "name": "ipython",
    "version": 2
   },
   "file_extension": ".py",
   "mimetype": "text/x-python",
   "name": "python",
   "nbconvert_exporter": "python",
   "pygments_lexer": "ipython2",
   "version": "2.7.6"
  }
 },
 "nbformat": 4,
 "nbformat_minor": 0
}
