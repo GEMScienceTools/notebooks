{
 "cells": [
  {
   "cell_type": "markdown",
   "metadata": {},
   "source": [
    "# GMPEs in openquake.hazardlib"
   ]
  },
  {
   "cell_type": "raw",
   "metadata": {},
   "source": [
    "\n",
    "LICENSE\n",
    "\n",
    "Copyright (c) 2014, GEM Foundation, G. Weatherill, M. Pagani, D. Monelli.\n",
    "\n",
    "The notebook is free software: you can redistribute\n",
    "it and/or modify it under the terms of the GNU Affero General Public\n",
    "License as published by the Free Software Foundation, either version\n",
    "3 of the License, or (at your option) any later version.\n",
    "\n",
    "You should have received a copy of the GNU Affero General Public License\n",
    "along with OpenQuake. If not, see <http://www.gnu.org/licenses/>\n",
    "\n",
    "DISCLAIMER\n",
    " \n",
    "The notebook provided herein is released as a prototype\n",
    "implementation on behalf of scientists and engineers working within the GEM\n",
    "Foundation (Global Earthquake Model).\n",
    "\n",
    "It is distributed for the purpose of open collaboration and in the\n",
    "hope that it will be useful to the scientific, engineering, disaster\n",
    "risk and software design communities.\n",
    "\n",
    "The software is NOT distributed as part of GEM's OpenQuake suite\n",
    "(http://www.globalquakemodel.org/openquake) and must be considered as a\n",
    "separate entity. The software provided herein is designed and implemented\n",
    "by scientific staff. It is not developed to the design standards, nor\n",
    "subject to same level of critical review by professional software\n",
    "developers, as GEM's OpenQuake software suite.\n",
    "\n",
    "Feedback and contribution to the software is welcome, and can be\n",
    "directed to the hazard scientific staff of the GEM Model Facility\n",
    "(hazard@globalquakemodel.org).\n",
    "\n",
    "The notebook is therefore distributed WITHOUT ANY WARRANTY; without\n",
    "even the implied warranty of MERCHANTABILITY or FITNESS FOR A PARTICULAR\n",
    "PURPOSE. See the GNU General Public License for more details.\n",
    "\n",
    "The GEM Foundation, and the authors of the software, assume no liability for\n",
    "use of the software."
   ]
  },
  {
   "cell_type": "code",
   "execution_count": null,
   "metadata": {
    "collapsed": false
   },
   "outputs": [],
   "source": [
    "%matplotlib inline\n",
    "\n",
    "from openquake.hazardlib.gsim import get_available_gsims\n",
    "from openquake.hazardlib.source import PointSource\n",
    "from openquake.hazardlib.mfd import TruncatedGRMFD\n",
    "from openquake.hazardlib.scalerel import WC1994\n",
    "from openquake.hazardlib.geo import Point, NodalPlane, Line\n",
    "from openquake.hazardlib.pmf import PMF\n",
    "from openquake.hazardlib.tom import PoissonTOM\n",
    "from openquake.hazardlib.site import Site, SiteCollection\n",
    "from openquake.hazardlib.imt import PGA\n",
    "from openquake.hazardlib.const import StdDev\n",
    "from openquake.hazardlib.gsim.base import ContextMaker\n",
    "\n",
    "import numpy\n",
    "\n",
    "from matplotlib import pyplot, collections\n",
    "from matplotlib.colorbar import cm\n",
    "from collections import OrderedDict"
   ]
  },
  {
   "cell_type": "markdown",
   "metadata": {},
   "source": [
    "# Retrieve available GMPEs"
   ]
  },
  {
   "cell_type": "code",
   "execution_count": null,
   "metadata": {
    "collapsed": false,
    "scrolled": true
   },
   "outputs": [],
   "source": [
    "# list available GMPEs\n",
    "get_available_gsims().keys()"
   ]
  },
  {
   "cell_type": "markdown",
   "metadata": {},
   "source": [
    "# Explore GMPEs metadata"
   ]
  },
  {
   "cell_type": "code",
   "execution_count": null,
   "metadata": {
    "collapsed": false,
    "scrolled": true
   },
   "outputs": [],
   "source": [
    "for name, gmpe in get_available_gsims().items():\n",
    "    print name\n",
    "    print 'supported tectonic region: %s'% gmpe.DEFINED_FOR_TECTONIC_REGION_TYPE\n",
    "    print 'supported intensity measure types: %s' % ', '.join([imt.__name__ for imt in gmpe.DEFINED_FOR_INTENSITY_MEASURE_TYPES])\n",
    "    print 'supported component: %s' % gmpe.DEFINED_FOR_INTENSITY_MEASURE_COMPONENT\n",
    "    print 'supported standard deviations: %s' % ', '.join([std for std in gmpe.DEFINED_FOR_STANDARD_DEVIATION_TYPES])\n",
    "    print 'required site parameters: %s' % ', '.join([p for p in gmpe.REQUIRES_SITES_PARAMETERS])\n",
    "    print 'required rupture parameters: %s' % ', '.join([p for p in gmpe.REQUIRES_RUPTURE_PARAMETERS])\n",
    "    print 'required distance parameters: %s' % ', '.join([p for p in gmpe.REQUIRES_DISTANCES])\n",
    "    print"
   ]
  },
  {
   "cell_type": "markdown",
   "metadata": {},
   "source": [
    "# Explore GMPEs magnitude scaling"
   ]
  },
  {
   "cell_type": "code",
   "execution_count": null,
   "metadata": {
    "collapsed": false
   },
   "outputs": [],
   "source": [
    "# select a number of GMPEs for which we want to analyze the magnitude scaling\n",
    "from openquake.hazardlib.gsim.abrahamson_silva_2008 import AbrahamsonSilva2008\n",
    "from openquake.hazardlib.gsim.chiou_youngs_2008 import ChiouYoungs2008\n",
    "from openquake.hazardlib.gsim.campbell_bozorgnia_2008 import CampbellBozorgnia2008\n",
    "\n",
    "gmpes = [AbrahamsonSilva2008(), ChiouYoungs2008(), CampbellBozorgnia2008()]"
   ]
  },
  {
   "cell_type": "code",
   "execution_count": null,
   "metadata": {
    "collapsed": false
   },
   "outputs": [],
   "source": [
    "# explore magnitude scaling, by defining a Point source and calculating median ground shaking at the point\n",
    "# source location\n",
    "location = Point(9.1500, 45.1833)\n",
    "src = PointSource(\n",
    "    source_id='1',\n",
    "    name='point',\n",
    "    tectonic_region_type='Active Shallow Crust',\n",
    "    mfd=TruncatedGRMFD(min_mag=5., max_mag=6.5, bin_width=0.1, a_val=0.01, b_val=0.98),\n",
    "    rupture_mesh_spacing=2.,\n",
    "    magnitude_scaling_relationship=WC1994(),\n",
    "    rupture_aspect_ratio=1.,\n",
    "    temporal_occurrence_model=PoissonTOM(50.),\n",
    "    upper_seismogenic_depth=2.,\n",
    "    lower_seismogenic_depth=12.,\n",
    "    location=location,\n",
    "    nodal_plane_distribution=PMF([(1., NodalPlane(strike=45, dip=50, rake=0))]),\n",
    "    hypocenter_distribution=PMF([(1, 7.)])\n",
    ")\n",
    "\n",
    "# this is the site for which we compute the median ground shaking\n",
    "site_collection = SiteCollection([Site(location=location, vs30=760., vs30measured=True, z1pt0=40., z2pt5=1.0)])\n",
    "\n",
    "# this is the intensity measure type for which we compute the median ground shaking\n",
    "imt = PGA()"
   ]
  },
  {
   "cell_type": "code",
   "execution_count": null,
   "metadata": {
    "collapsed": false
   },
   "outputs": [],
   "source": [
    "# loop over ruptures. For each rupture extract magnitude and median value\n",
    "means = []\n",
    "mags = []\n",
    "context_maker = ContextMaker(gmpes)\n",
    "for rupture in src.iter_ruptures():\n",
    "    mags.append(rupture.mag)\n",
    "\n",
    "    values = []\n",
    "    for gmpe in gmpes:\n",
    "\n",
    "        sctx, rctx, dctx = context_maker.make_contexts(site_collection, rupture)\n",
    "        [mean], [std] = gmpe.get_mean_and_stddevs(sctx, rctx, dctx, PGA(), [StdDev.TOTAL])\n",
    "\n",
    "        values.append(numpy.exp(mean))\n",
    "\n",
    "    means.append(values)\n",
    "\n",
    "mags = numpy.array(mags)\n",
    "means = numpy.array(means).T"
   ]
  },
  {
   "cell_type": "code",
   "execution_count": null,
   "metadata": {
    "collapsed": false
   },
   "outputs": [],
   "source": [
    "# plot magnitude scaling\n",
    "fig = pyplot.figure(figsize=(9,9))\n",
    "\n",
    "for mean, gmpe in zip(means, gmpes):\n",
    "    pyplot.plot(mags, mean, linewidth=2, label=gmpe.__class__.__name__)\n",
    "\n",
    "pyplot.xlabel('Magnitude', fontsize=20)\n",
    "pyplot.ylabel('%s' % imt.__class__.__name__, fontsize=20)\n",
    "pyplot.legend(loc=\"upper left\", bbox_to_anchor=(1,1));"
   ]
  },
  {
   "cell_type": "markdown",
   "metadata": {},
   "source": [
    "# Explore GMPEs distance scaling"
   ]
  },
  {
   "cell_type": "code",
   "execution_count": null,
   "metadata": {
    "collapsed": false
   },
   "outputs": [],
   "source": [
    "# define JB distance for which calculating mean ground shaking\n",
    "jb_distances = numpy.arange(0, 210, 10)\n",
    "\n",
    "# extract first rupture\n",
    "ruptures = list(src.iter_ruptures())\n",
    "rupture = ruptures[0]\n",
    "\n",
    "# get coordinates of surface projection of bottom edge mid point\n",
    "bottom_edge = Line([rupture.surface.bottom_left, rupture.surface.bottom_right])\n",
    "bottom_edge = bottom_edge.resample_to_num_points(3)\n",
    "mid_point = bottom_edge[1]\n",
    "mid_point.depth = 0.\n",
    "\n",
    "# compute coordinates of locations that are at jb_distances from bottom edge mid point\n",
    "# along a direction that is perpendicular to the rupture strike\n",
    "locs = [mid_point.point_at(horizontal_distance=d, vertical_increment=0, azimuth=rupture.surface.strike + 90.)\n",
    "        for d in jb_distances]\n",
    "\n",
    "# create corresponding site collection\n",
    "site_collection = SiteCollection([Site(location=loc, vs30=760., vs30measured=True, z1pt0=40., z2pt5=1.) for loc in locs])\n",
    "\n",
    "values = []\n",
    "for gmpe in gmpes:\n",
    "\n",
    "    sctx, rctx, dctx = context_maker.make_contexts(site_collection, rupture)\n",
    "    mean, [std] = gmpe.get_mean_and_stddevs(sctx, rctx, dctx, PGA(), [StdDev.TOTAL])\n",
    "\n",
    "    values.append(numpy.exp(mean))\n"
   ]
  },
  {
   "cell_type": "code",
   "execution_count": null,
   "metadata": {
    "collapsed": false
   },
   "outputs": [],
   "source": [
    "# plot distance scaling\n",
    "fig = pyplot.figure(figsize=(9,9))\n",
    "\n",
    "for i, (means, gmpe) in enumerate(zip(values, gmpes)):\n",
    "    pyplot.loglog(jb_distances, means, linewidth=2, label=gmpe.__class__.__name__, color=cm.jet(float(i) / len(gmpes)))\n",
    "\n",
    "pyplot.xlabel('JB distance', fontsize=20)\n",
    "pyplot.ylabel('%s' % imt.__class__.__name__, fontsize=20)\n",
    "pyplot.title('Magnitude %s' % rupture.mag, fontsize=20)\n",
    "pyplot.legend(loc=\"upper left\", bbox_to_anchor=(1,1));"
   ]
  },
  {
   "cell_type": "code",
   "execution_count": null,
   "metadata": {
    "collapsed": true
   },
   "outputs": [],
   "source": []
  }
 ],
 "metadata": {
  "kernelspec": {
   "display_name": "Python 2",
   "language": "python",
   "name": "python2"
  },
  "language_info": {
   "codemirror_mode": {
    "name": "ipython",
    "version": 2
   },
   "file_extension": ".py",
   "mimetype": "text/x-python",
   "name": "python",
   "nbconvert_exporter": "python",
   "pygments_lexer": "ipython2",
   "version": "2.7.11"
  }
 },
 "nbformat": 4,
 "nbformat_minor": 0
}
