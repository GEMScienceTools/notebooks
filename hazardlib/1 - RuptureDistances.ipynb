{
 "cells": [
  {
   "cell_type": "markdown",
   "metadata": {
    "deletable": true,
    "editable": true,
    "slideshow": {
     "slide_type": "-"
    }
   },
   "source": [
    "# Rupture distances (Rrup, Rx, Rjb) in openquake.hazardlib"
   ]
  },
  {
   "cell_type": "raw",
   "metadata": {
    "deletable": true,
    "editable": true
   },
   "source": [
    "\n",
    "LICENSE\n",
    "\n",
    "Copyright (c) 2014, GEM Foundation, G. Weatherill, M. Pagani, D. Monelli.\n",
    "\n",
    "The notebook is free software: you can redistribute\n",
    "it and/or modify it under the terms of the GNU Affero General Public\n",
    "License as published by the Free Software Foundation, either version\n",
    "3 of the License, or (at your option) any later version.\n",
    "\n",
    "You should have received a copy of the GNU Affero General Public License\n",
    "along with OpenQuake. If not, see <http://www.gnu.org/licenses/>\n",
    "\n",
    "DISCLAIMER\n",
    " \n",
    "The notebook provided herein is released as a prototype\n",
    "implementation on behalf of scientists and engineers working within the GEM\n",
    "Foundation (Global Earthquake Model).\n",
    "\n",
    "It is distributed for the purpose of open collaboration and in the\n",
    "hope that it will be useful to the scientific, engineering, disaster\n",
    "risk and software design communities.\n",
    "\n",
    "The software is NOT distributed as part of GEM's OpenQuake suite\n",
    "(http://www.globalquakemodel.org/openquake) and must be considered as a\n",
    "separate entity. The software provided herein is designed and implemented\n",
    "by scientific staff. It is not developed to the design standards, nor\n",
    "subject to same level of critical review by professional software\n",
    "developers, as GEM's OpenQuake software suite.\n",
    "\n",
    "Feedback and contribution to the software is welcome, and can be\n",
    "directed to the hazard scientific staff of the GEM Model Facility\n",
    "(hazard@globalquakemodel.org).\n",
    "\n",
    "The notebook is therefore distributed WITHOUT ANY WARRANTY; without\n",
    "even the implied warranty of MERCHANTABILITY or FITNESS FOR A PARTICULAR\n",
    "PURPOSE. See the GNU General Public License for more details.\n",
    "\n",
    "The GEM Foundation, and the authors of the software, assume no liability for\n",
    "use of the software."
   ]
  },
  {
   "cell_type": "code",
   "execution_count": null,
   "metadata": {
    "deletable": true,
    "editable": true
   },
   "outputs": [],
   "source": [
    "%load_ext autoreload\n",
    "%autoreload 2\n",
    "import warnings; warnings.filterwarnings(\"ignore\")"
   ]
  },
  {
   "cell_type": "code",
   "execution_count": null,
   "metadata": {
    "deletable": true,
    "editable": true
   },
   "outputs": [],
   "source": [
    "%matplotlib inline\n",
    "\n",
    "from openquake.hazardlib.geo import (\n",
    "    Point, Line, PlanarSurface, MultiSurface, SimpleFaultSurface,\n",
    "    ComplexFaultSurface, RectangularMesh\n",
    ")\n",
    "\n",
    "import numpy\n",
    "from matplotlib import pyplot\n",
    "from mpl_toolkits.basemap import Basemap"
   ]
  },
  {
   "cell_type": "code",
   "execution_count": null,
   "metadata": {
    "deletable": true,
    "editable": true
   },
   "outputs": [],
   "source": [
    "def get_grid_and_map_proj(surf, buf=0.3, delta=0.001):\n",
    "    \"\"\"\n",
    "    Return grid of nodes and map projection specific to surface\n",
    "    \"\"\"\n",
    "    min_lon, max_lon, max_lat, min_lat = surf.get_bounding_box()\n",
    "    \n",
    "    min_lon -= buf\n",
    "    max_lon += buf\n",
    "    min_lat -= buf\n",
    "    max_lat += buf\n",
    "\n",
    "    lons = numpy.arange(min_lon, max_lon + delta, delta)\n",
    "    lats = numpy.arange(min_lat, max_lat + delta, delta)\n",
    "    lons, lats = numpy.meshgrid(lons, lats)\n",
    "    mesh = RectangularMesh(lons=lons, lats=lats, depths=None)\n",
    "    \n",
    "    m = Basemap(projection='merc', llcrnrlat=numpy.min(lats), urcrnrlat=numpy.max(lats),\n",
    "                llcrnrlon=numpy.min(lons), urcrnrlon=numpy.max(lons), resolution='l')\n",
    "    \n",
    "    return mesh, m"
   ]
  },
  {
   "cell_type": "markdown",
   "metadata": {
    "deletable": true,
    "editable": true
   },
   "source": [
    "# Distances to single Planar Surface"
   ]
  },
  {
   "cell_type": "code",
   "execution_count": null,
   "metadata": {
    "deletable": true,
    "editable": true
   },
   "outputs": [],
   "source": [
    "# define planar surface\n",
    "surf= PlanarSurface(\n",
    "    mesh_spacing=2., strike=3., dip=40.,\n",
    "    top_left = Point(depth=2.0, latitude=36.539, longitude=137.874),\n",
    "    top_right = Point(depth=2.0, latitude=36.7680117889, longitude=137.888982562),\n",
    "    bottom_left = Point(depth=14.8557521937, latitude=36.5316665297, longitude=138.045238973),\n",
    "    bottom_right = Point(depth=14.8557521937, latitude=36.7606772927, longitude=138.060731463)\n",
    ")\n",
    "\n",
    "# get grid of points for which to calculate distances and associated map projection\n",
    "mesh, m = get_grid_and_map_proj(surf)\n",
    "x, y = m(mesh.lons, mesh.lats)"
   ]
  },
  {
   "cell_type": "code",
   "execution_count": null,
   "metadata": {
    "deletable": true,
    "editable": true
   },
   "outputs": [],
   "source": [
    "print mesh.lons.shape\n",
    "print mesh.lats.shape"
   ]
  },
  {
   "cell_type": "code",
   "execution_count": null,
   "metadata": {
    "deletable": true,
    "editable": true
   },
   "outputs": [],
   "source": [
    "# extract coordinates of rupture surface boundary\n",
    "boundary_lons = [\n",
    "    surf.top_left.longitude, surf.top_right.longitude,\n",
    "    surf.bottom_right.longitude, surf.bottom_left.longitude, surf.top_left.longitude\n",
    "]\n",
    "boundary_lats = [\n",
    "    surf.top_left.latitude, surf.top_right.latitude,\n",
    "    surf.bottom_right.latitude, surf.bottom_left.latitude, surf.top_left.latitude\n",
    "]\n",
    "boundary_x, boundary_y = m(boundary_lons, boundary_lats)"
   ]
  },
  {
   "cell_type": "code",
   "execution_count": null,
   "metadata": {
    "deletable": true,
    "editable": true
   },
   "outputs": [],
   "source": [
    "# compute and plot Rrup\n",
    "r_rup = surf.get_min_distance(mesh)\n",
    "\n",
    "fig = pyplot.figure(figsize=(9, 9))\n",
    "m.plot(boundary_x, boundary_y, linewidth=3, color='white')\n",
    "m.contourf(x, y, r_rup, 100)\n",
    "#m.drawparallels(numpy.arange(numpy.min(mesh.lats), numpy.max(mesh.lats), 0.1), labels=[True, False, False, True])\n",
    "#m.drawmeridians(numpy.arange(numpy.min(mesh.lons), numpy.max(mesh.lons), 0.1), labels=[True, False, False, True])\n",
    "m.colorbar()\n",
    "pyplot.title('Rrup', fontsize=20)"
   ]
  },
  {
   "cell_type": "code",
   "execution_count": null,
   "metadata": {
    "deletable": true,
    "editable": true
   },
   "outputs": [],
   "source": [
    "# compute and plot Rjb\n",
    "r_jb = surf.get_joyner_boore_distance(mesh)\n",
    "\n",
    "fig = pyplot.figure(figsize=(9, 9))\n",
    "m.plot(boundary_x, boundary_y, linewidth=3, color='white')\n",
    "m.contourf(x, y, r_jb, 100)\n",
    "# m.drawparallels(numpy.arange(numpy.min(mesh.lats), numpy.max(mesh.lats), 0.1), labels=[True, False, False, True])\n",
    "# m.drawmeridians(numpy.arange(numpy.min(mesh.lons), numpy.max(mesh.lons), 0.1), labels=[True, False, False, True])\n",
    "m.colorbar()\n",
    "pyplot.title('Rjb', fontsize=20)"
   ]
  },
  {
   "cell_type": "code",
   "execution_count": null,
   "metadata": {
    "deletable": true,
    "editable": true
   },
   "outputs": [],
   "source": [
    "# compute and plot Rx\n",
    "r_x = surf.get_rx_distance(mesh)\n",
    "\n",
    "fig = pyplot.figure(figsize=(9,9))\n",
    "m.plot(boundary_x, boundary_y, linewidth=3, color='black')\n",
    "m.contourf(x, y, r_x, 100, cmap='RdBu')\n",
    "# m.drawparallels(numpy.arange(numpy.min(mesh.lats), numpy.max(mesh.lats), 0.1), labels=[True, False, False, True])\n",
    "# m.drawmeridians(numpy.arange(numpy.min(mesh.lons), numpy.max(mesh.lons), 0.1), labels=[True, False, False, True])\n",
    "m.colorbar()\n",
    "pyplot.clim((- numpy.max(r_x), numpy.max(r_x)))\n",
    "pyplot.title('Rx', fontsize=20)"
   ]
  },
  {
   "cell_type": "markdown",
   "metadata": {
    "deletable": true,
    "editable": true
   },
   "source": [
    "# Distances to Simple Fault Surface"
   ]
  },
  {
   "cell_type": "code",
   "execution_count": null,
   "metadata": {
    "deletable": true,
    "editable": true
   },
   "outputs": [],
   "source": [
    "# create Simple Fault Surface\n",
    "surf = SimpleFaultSurface.from_fault_data(\n",
    "    fault_trace=Line([Point(9.21602706445, 45.1555287905), Point(9.25645636929, 45.1877167851),\n",
    "                  Point(9.29688464252, 45.2199047798), Point(9.35715705075, 45.2398017764),\n",
    "                  Point(9.42902686305, 45.2401237764), Point(9.47246500782, 45.2381597767),\n",
    "                  Point(9.51590215304, 45.236194777), Point(9.56736930079, 45.2307927779),\n",
    "                  Point(9.61883544823, 45.2253897788), Point(9.67030259419, 45.2199877797),\n",
    "                  Point(9.72270625188, 45.2033947825), Point(9.77510990175, 45.1868007853),\n",
    "                  Point(9.83238881096, 45.1680237884), Point(9.88966771001, 45.1492457915),\n",
    "                  Point(9.94694559775, 45.1304687947), Point(10.0042244753, 45.1116907978)]),\n",
    "    upper_seismogenic_depth=2.,\n",
    "    lower_seismogenic_depth=7.,\n",
    "    dip=30.,\n",
    "    mesh_spacing=4.\n",
    ")\n",
    "\n",
    "# get grid of points for which to calculate distances and associated map projection\n",
    "mesh, m = get_grid_and_map_proj(surf, delta=0.002)\n",
    "x, y = m(mesh.lons, mesh.lats)"
   ]
  },
  {
   "cell_type": "code",
   "execution_count": null,
   "metadata": {
    "deletable": true,
    "editable": true
   },
   "outputs": [],
   "source": [
    "mesh.lons.shape"
   ]
  },
  {
   "cell_type": "code",
   "execution_count": null,
   "metadata": {
    "deletable": true,
    "editable": true
   },
   "outputs": [],
   "source": [
    "# extract coordinates of rupture surface boundary\n",
    "rup_mesh = surf.get_mesh()\n",
    "boundary_lons = numpy.concatenate(\n",
    "    (rup_mesh.lons[0, :], rup_mesh.lons[1:, -1], rup_mesh.lons[-1,:-1][::-1], rup_mesh.lons[:-1, 0][::-1])\n",
    ")\n",
    "boundary_lats = numpy.concatenate(\n",
    "    (rup_mesh.lats[0, :], rup_mesh.lats[1:, -1], rup_mesh.lats[-1,:-1][::-1], rup_mesh.lats[:-1, 0][::-1])\n",
    ")\n",
    "boundary_x, boundary_y = m(boundary_lons, boundary_lats)"
   ]
  },
  {
   "cell_type": "code",
   "execution_count": null,
   "metadata": {
    "deletable": true,
    "editable": true
   },
   "outputs": [],
   "source": [
    "# compute and plot Rrup\n",
    "r_rup = surf.get_min_distance(mesh)\n",
    "\n",
    "fig = pyplot.figure(figsize=(9, 9))\n",
    "m.plot(boundary_x, boundary_y, linewidth=3, color='white')\n",
    "m.contourf(x, y, r_rup, 100)\n",
    "# m.drawparallels(numpy.arange(numpy.min(mesh.lats), numpy.max(mesh.lats), 0.2), labels=[True, False, False, True])\n",
    "# m.drawmeridians(numpy.arange(numpy.min(mesh.lons), numpy.max(mesh.lons), 0.2), labels=[True, False, False, True])\n",
    "m.colorbar()\n",
    "pyplot.title('Rrup', fontsize=20)"
   ]
  },
  {
   "cell_type": "code",
   "execution_count": null,
   "metadata": {
    "deletable": true,
    "editable": true
   },
   "outputs": [],
   "source": [
    "# compute and plot Rjb\n",
    "r_jb = surf.get_joyner_boore_distance(mesh)\n",
    "\n",
    "fig = pyplot.figure(figsize=(9, 9))\n",
    "m.plot(boundary_x, boundary_y, linewidth=3, color='white')\n",
    "m.contourf(x, y, r_jb, 100)\n",
    "#m.drawparallels(numpy.arange(numpy.min(mesh.lats), numpy.max(mesh.lats), 0.2), labels=[True, False, False, True])\n",
    "#m.drawmeridians(numpy.arange(numpy.min(mesh.lons), numpy.max(mesh.lons), 0.2), labels=[True, False, False, True])\n",
    "m.colorbar()\n",
    "pyplot.title('Rjb', fontsize=20)"
   ]
  },
  {
   "cell_type": "code",
   "execution_count": null,
   "metadata": {
    "deletable": true,
    "editable": true
   },
   "outputs": [],
   "source": []
  },
  {
   "cell_type": "markdown",
   "metadata": {
    "deletable": true,
    "editable": true
   },
   "source": [
    "# Distances to Complex Fault Surface"
   ]
  },
  {
   "cell_type": "code",
   "execution_count": null,
   "metadata": {
    "deletable": true,
    "editable": true
   },
   "outputs": [],
   "source": [
    "top_edge = Line([Point(144.069555556, 39.7059999996, 9.202), Point(143.987666642, 39.0726212093, 9.202),\n",
    "                 Point(143.844804987, 38.4446225095, 9.202), Point(143.715121187, 37.8147879271, 9.202),\n",
    "                 Point(143.452451355, 37.2149977193, 9.202), Point(143.086155668, 36.6503300815, 9.202),\n",
    "                 Point(142.589773574, 36.1569466634, 9.202), Point(142.202909091, 35.606, 9.202)])\n",
    "\n",
    "bottom_edge = Line([Point(142.0450625, 39.7059999997, 48.202), Point(141.970993342, 39.1530522533, 48.202),\n",
    "                    Point(141.893707006, 38.6004781864, 48.202), Point(141.734990146, 38.0590949727, 48.202),\n",
    "                    Point(141.52384879, 37.5292617122, 48.202), Point(141.2114751, 37.0322180634, 48.202),\n",
    "                    Point(140.900140283, 36.5353773475, 48.202), Point(140.697696296, 36.006, 48.202)])\n",
    "\n",
    "edges = [top_edge, bottom_edge]\n",
    "\n",
    "surf = ComplexFaultSurface.from_fault_data(edges, mesh_spacing=10.)\n",
    "\n",
    "# get grid of points for which to calculate distances and associated map projection\n",
    "mesh, m = get_grid_and_map_proj(surf, delta=0.05)\n",
    "x, y = m(mesh.lons, mesh.lats)"
   ]
  },
  {
   "cell_type": "code",
   "execution_count": null,
   "metadata": {
    "deletable": true,
    "editable": true
   },
   "outputs": [],
   "source": [
    "# extract coordinates of rupture surface boundary\n",
    "rup_mesh = surf.get_mesh()\n",
    "boundary_lons = numpy.concatenate(\n",
    "    (rup_mesh.lons[0, :], rup_mesh.lons[1:, -1], rup_mesh.lons[-1,:-1][::-1], rup_mesh.lons[:-1, 0][::-1])\n",
    ")\n",
    "boundary_lats = numpy.concatenate(\n",
    "    (rup_mesh.lats[0, :], rup_mesh.lats[1:, -1], rup_mesh.lats[-1,:-1][::-1], rup_mesh.lats[:-1, 0][::-1])\n",
    ")\n",
    "boundary_x, boundary_y = m(boundary_lons, boundary_lats)"
   ]
  },
  {
   "cell_type": "code",
   "execution_count": null,
   "metadata": {
    "deletable": true,
    "editable": true
   },
   "outputs": [],
   "source": [
    "# compute and plot Rrup\n",
    "r_rup = surf.get_min_distance(mesh)\n",
    "\n",
    "fig = pyplot.figure(figsize=(9, 9))\n",
    "m.plot(boundary_x, boundary_y, linewidth=3, color='white')\n",
    "m.contourf(x, y, r_rup, 100)\n",
    "# m.drawparallels(numpy.arange(numpy.min(mesh.lats), numpy.max(mesh.lats), 1.), labels=[True, False, False, True])\n",
    "# m.drawmeridians(numpy.arange(numpy.min(mesh.lons), numpy.max(mesh.lons), 1.), labels=[True, False, False, True])\n",
    "m.colorbar()\n",
    "pyplot.title('Rrup', fontsize=20)"
   ]
  },
  {
   "cell_type": "code",
   "execution_count": null,
   "metadata": {
    "deletable": true,
    "editable": true
   },
   "outputs": [],
   "source": [
    "# compute and plot Rjb\n",
    "r_jb = surf.get_joyner_boore_distance(mesh)\n",
    "\n",
    "fig = pyplot.figure(figsize=(9, 9))\n",
    "m.plot(boundary_x, boundary_y, linewidth=3, color='white')\n",
    "m.contourf(x, y, r_jb, 100)\n",
    "# m.drawparallels(numpy.arange(numpy.min(mesh.lats), numpy.max(mesh.lats), 1.), labels=[True, False, False, True])\n",
    "# m.drawmeridians(numpy.arange(numpy.min(mesh.lons), numpy.max(mesh.lons), 1.), labels=[True, False, False, True])\n",
    "m.colorbar()\n",
    "pyplot.title('Rjb', fontsize=20)"
   ]
  },
  {
   "cell_type": "markdown",
   "metadata": {
    "deletable": true,
    "editable": true
   },
   "source": [
    "# Distances to Multi Surface"
   ]
  },
  {
   "cell_type": "code",
   "execution_count": null,
   "metadata": {
    "deletable": true,
    "editable": true
   },
   "outputs": [],
   "source": [
    "# define Multi Surface as list of planar surfaces\n",
    "p1 = PlanarSurface(\n",
    "    mesh_spacing=2., strike=3., dip=40.,\n",
    "    top_left = Point(depth=2.0, latitude=36.539, longitude=137.874),\n",
    "    top_right = Point(depth=2.0, latitude=36.7680117889, longitude=137.888982562),\n",
    "    bottom_left = Point(depth=14.8557521937, latitude=36.5316665297, longitude=138.045238973),\n",
    "    bottom_right = Point(depth=14.8557521937, latitude=36.7606772927, longitude=138.060731463)\n",
    ")\n",
    "p2 = PlanarSurface(\n",
    "    mesh_spacing=2., strike=344., dip=40.,\n",
    "    top_left = Point(depth=2.0, latitude=36.2320586295, longitude=137.983095101),\n",
    "    top_right = Point(depth=2.0, latitude=36.539, longitude=137.874),\n",
    "    bottom_left = Point(depth=14.8557521937, latitude=36.2699248045, longitude=138.147372206),\n",
    "    bottom_right = Point(depth=14.8557521937, latitude=36.5768649083, longitude=138.038927779)\n",
    ")\n",
    "p3 = PlanarSurface(\n",
    "    mesh_spacing=2., strike=337., dip=80.,\n",
    "    top_left = Point(depth=2.0, latitude=36.0836674599, longitude=138.039395087),\n",
    "    top_right = Point(depth=2.0, latitude=36.212, longitude=137.972),\n",
    "    bottom_left = Point(depth=15.7873085422, latitude=36.0922075079, longitude=138.064300307),\n",
    "    bottom_right = Point(depth=15.7873085422, latitude=36.2205400358, longitude=137.996946016)\n",
    ")\n",
    "p4 = PlanarSurface(\n",
    "    mesh_spacing=2., strike=318., dip=80.,\n",
    "    top_left = Point(depth=2.0, latitude=35.8588534701, longitude=138.287735144),\n",
    "    top_right = Point(depth=2.0, latitude=36.083, longitude=138.039),\n",
    "    bottom_left = Point(depth=15.7873085422, latitude=35.8734811262, longitude=138.307786048),\n",
    "    bottom_right = Point(depth=15.7873085422, latitude=36.0976276423, longitude=138.059107946)\n",
    ")\n",
    "surf = MultiSurface([p1, p2, p3, p4])\n",
    "\n",
    "# get grid of points for which to calculate distances and associated map projection\n",
    "mesh, m = get_grid_and_map_proj(surf)\n",
    "x, y = m(mesh.lons, mesh.lats)"
   ]
  },
  {
   "cell_type": "code",
   "execution_count": null,
   "metadata": {
    "deletable": true,
    "editable": true
   },
   "outputs": [],
   "source": [
    "# For each individual surface compute the boundary\n",
    "boundaries_x = []\n",
    "boundaries_y = []\n",
    "for s in surf.surfaces:\n",
    "    lons = numpy.array(\n",
    "        [s.top_left.longitude, s.top_right.longitude, s.bottom_right.longitude, s.bottom_left.longitude, s.top_left.longitude]\n",
    "    )\n",
    "    lats = numpy.array(\n",
    "        [s.top_left.latitude, s.top_right.latitude, s.bottom_right.latitude, s.bottom_left.latitude, s.top_left.latitude]\n",
    "    )\n",
    "    xx, yy = m(lons, lats)\n",
    "    boundaries_x.append(xx)\n",
    "    boundaries_y.append(yy)"
   ]
  },
  {
   "cell_type": "code",
   "execution_count": null,
   "metadata": {
    "deletable": true,
    "editable": true
   },
   "outputs": [],
   "source": [
    "# compute and plot Rrup\n",
    "r_rup = surf.get_min_distance(mesh)\n",
    "\n",
    "fig = pyplot.figure(figsize=(9,9))\n",
    "for xx, yy in zip(boundaries_x, boundaries_y):\n",
    "    m.plot(xx, yy, linewidth=3, color='white')\n",
    "m.contourf(x, y, r_rup, 100)\n",
    "# m.drawparallels(numpy.arange(numpy.min(mesh.lats), numpy.max(mesh.lats), 0.2), labels=[True, False, False, True])\n",
    "# m.drawmeridians(numpy.arange(numpy.min(mesh.lons), numpy.max(mesh.lons), 0.2), labels=[True, False, False, True])\n",
    "m.colorbar()\n",
    "pyplot.title('Rrup', fontsize=20)"
   ]
  },
  {
   "cell_type": "code",
   "execution_count": null,
   "metadata": {
    "deletable": true,
    "editable": true
   },
   "outputs": [],
   "source": [
    "# compute and plot Rjb\n",
    "r_jb = surf.get_joyner_boore_distance(mesh)\n",
    "\n",
    "fig = pyplot.figure(figsize=(9,9))\n",
    "for xx, yy in zip(boundaries_x, boundaries_y):\n",
    "    m.plot(xx, yy, linewidth=3, color='white')\n",
    "m.contourf(x, y, r_jb, 100)\n",
    "# m.drawparallels(numpy.arange(numpy.min(mesh.lats), numpy.max(mesh.lats), 0.2), labels=[True, False, False, True])\n",
    "# m.drawmeridians(numpy.arange(numpy.min(mesh.lons), numpy.max(mesh.lons), 0.2), labels=[True, False, False, True])\n",
    "m.colorbar()\n",
    "pyplot.title('Rjb', fontsize=20)"
   ]
  },
  {
   "cell_type": "code",
   "execution_count": null,
   "metadata": {
    "deletable": true,
    "editable": true
   },
   "outputs": [],
   "source": [
    "# compute and plot Rx\n",
    "r_x = surf.get_rx_distance(mesh)\n",
    "\n",
    "fig = pyplot.figure(figsize=(9,9))\n",
    "for xx, yy in zip(boundaries_x, boundaries_y):\n",
    "    m.plot(xx, yy, linewidth=3, color='black')\n",
    "m.contourf(x, y, r_x, 100, cmap='RdBu')\n",
    "# m.drawparallels(numpy.arange(numpy.min(mesh.lats), numpy.max(mesh.lats), 0.2), labels=[True, False, False, True])\n",
    "# m.drawmeridians(numpy.arange(numpy.min(mesh.lons), numpy.max(mesh.lons), 0.2), labels=[True, False, False, True])\n",
    "m.colorbar()\n",
    "pyplot.title('Rx', fontsize=20)"
   ]
  }
 ],
 "metadata": {
  "kernelspec": {
   "display_name": "Python 2",
   "language": "python",
   "name": "python2"
  },
  "language_info": {
   "codemirror_mode": {
    "name": "ipython",
    "version": 2
   },
   "file_extension": ".py",
   "mimetype": "text/x-python",
   "name": "python",
   "nbconvert_exporter": "python",
   "pygments_lexer": "ipython2",
   "version": "2.7.13"
  }
 },
 "nbformat": 4,
 "nbformat_minor": 0
}
