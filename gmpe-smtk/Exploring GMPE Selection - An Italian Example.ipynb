{
 "cells": [
  {
   "cell_type": "markdown",
   "metadata": {},
   "source": [
    "# Overview"
   ]
  },
  {
   "cell_type": "markdown",
   "metadata": {},
   "source": [
    "In this workbook we shall explore a process for selecting GMPEs for application to Italy following these steps:\n",
    "\n",
    "1. Pre-selection of the GMPEs (no notebook required)\n",
    "\n",
    "2. Comparison of the GMPEs for 'typical' scenarios\n",
    "\n",
    "3. Comparison of the GMPEs against data"
   ]
  },
  {
   "cell_type": "code",
   "execution_count": null,
   "metadata": {
    "collapsed": true
   },
   "outputs": [],
   "source": [
    "# Setup\n",
    "%matplotlib inline\n",
    "import numpy as np\n",
    "import matplotlib.pyplot as plt\n",
    "# OpenQuake tools\n",
    "from openquake.hazardlib.imt import from_string\n",
    "from openquake.hazardlib.gsim import get_available_gsims\n",
    "\n",
    "# Import the tools for building a database from a flatfile\n",
    "import smtk.sm_database_builder as sdb\n",
    "from smtk.parsers.general_flatfile_parser import GeneralFlatfileParser\n",
    "from smtk.database_visualiser import db_magnitude_distance\n",
    "\n",
    "# Import the selection tools\n",
    "from smtk.strong_motion_selector import SMRecordSelector, rank_sites_by_record_count\n",
    "\n",
    "# Import the residual tools\n",
    "import smtk.residuals.gmpe_residuals as res\n",
    "import smtk.residuals.residual_plotter as rspl\n",
    "\n",
    "# Import the trellis plotting tools\n",
    "import smtk.trellis.configure as rcfg\n",
    "import smtk.trellis.trellis_plots as trpl\n",
    "\n",
    "#As a little digression, if you want to have more control over the colour/marker cycle then this\n",
    "# snippit of code can help\n",
    "from cycler import cycler\n",
    "import matplotlib\n",
    "matplotlib.rcParams[\"axes.prop_cycle\"] = \\\n",
    "    cycler(u'color', ['b',  'r', 'g', \"c\", \"m\", \"y\", \"k\", # Order of colours\n",
    "                      'b',  'r', 'g', \"c\", \"m\", \"y\", \"k\"]) +\\\n",
    "    cycler(u'linestyle', [\"-\", \"-\", \"-\", \"-\", \"-\", \"-\", \"-\",    # Order of markers\n",
    "                          \"--\", \"--\", \"--\", \"--\", \"--\", \"--\", \"--\"])"
   ]
  },
  {
   "cell_type": "markdown",
   "metadata": {},
   "source": [
    "# Pre-selection"
   ]
  },
  {
   "cell_type": "markdown",
   "metadata": {},
   "source": [
    "Take a look at the GMPEs in OpenQuake and thei tectonic region type"
   ]
  },
  {
   "cell_type": "code",
   "execution_count": null,
   "metadata": {
    "collapsed": false,
    "scrolled": true
   },
   "outputs": [],
   "source": [
    "available_gsims = get_available_gsims()\n",
    "for gsim_name in available_gsims:\n",
    "    if gsim_name != \"GMPETable\":\n",
    "        gsim = available_gsims[gsim_name]()\n",
    "        print(\"%s - %s\" % (gsim_name, gsim.DEFINED_FOR_TECTONIC_REGION_TYPE))"
   ]
  },
  {
   "cell_type": "markdown",
   "metadata": {},
   "source": [
    "... OK that's a lot of GMPEs. What about just the active shallow crust?"
   ]
  },
  {
   "cell_type": "code",
   "execution_count": null,
   "metadata": {
    "collapsed": false
   },
   "outputs": [],
   "source": [
    "for gsim_name in available_gsims:\n",
    "    if gsim_name != \"GMPETable\":\n",
    "        gsim = available_gsims[gsim_name]()\n",
    "        if \"Active Shallow Crust\" in gsim.DEFINED_FOR_TECTONIC_REGION_TYPE:\n",
    "            print(\"%s - %s\" % (gsim_name, gsim.DEFINED_FOR_TECTONIC_REGION_TYPE))"
   ]
  },
  {
   "cell_type": "markdown",
   "metadata": {},
   "source": [
    "# GMPE Comparison - Italian Scenarios"
   ]
  },
  {
   "cell_type": "markdown",
   "metadata": {},
   "source": [
    "## Scenario 1 - Mw 6.5 Normal Faulting (Dip 60, Top of Rupture = 0.0)"
   ]
  },
  {
   "cell_type": "markdown",
   "metadata": {},
   "source": [
    "Setup the rupture"
   ]
  },
  {
   "cell_type": "code",
   "execution_count": null,
   "metadata": {
    "collapsed": false
   },
   "outputs": [],
   "source": [
    "rupture1 = rcfg.GSIMRupture(magnitude=6.5,\n",
    "                            dip=60,\n",
    "                            aspect=1.2,\n",
    "                            rake=-90.,\n",
    "                            ztor=0.0,\n",
    "                            hypocentre_location=(0.5, 0.5))\n",
    "# Define the target points as a line perpendicular to the strike of the fault\n",
    "rupture1.get_target_sites_line(250., 1.0, vs30=800., line_azimuth=90.)\n",
    "rupture1.plot_model_configuration()"
   ]
  },
  {
   "cell_type": "markdown",
   "metadata": {},
   "source": [
    "Choose the GMPE List, Intensity Measure Types and Spectral Periods"
   ]
  },
  {
   "cell_type": "code",
   "execution_count": null,
   "metadata": {
    "collapsed": true
   },
   "outputs": [],
   "source": [
    "gsim_list = [\"AkkarEtAlRjb2014\",\n",
    "             \"CauzziEtAl2014\",\n",
    "             \"BindiEtAl2014Rjb\",\n",
    "             \"BooreEtAl2014\",\n",
    "             \"ChiouYoungs2014\",\n",
    "             \"KothaEtAl2016Italy\",\n",
    "             \"AbrahamsonEtAl2014\",\n",
    "             \"CampbellBozorgnia2014\"]\n",
    "imt_list = [\"PGA\", \"SA(0.1)\", \"SA(0.2)\", \"SA(0.3)\", \"SA(0.5)\", \"SA(1.0)\", \"SA(2.0)\"]\n",
    "\n",
    "periods = [0.05, 0.075, 0.1, 0.11, 0.12, 0.13, 0.14, 0.15, 0.16, 0.17, 0.18, 0.19,\n",
    "           0.20, 0.22, 0.24, 0.26, 0.28, 0.30, 0.32, 0.34, 0.36, 0.38, 0.40, 0.42, 0.44, 0.46, 0.48, 0.5, \n",
    "           0.55, 0.6, 0.65, 0.7, 0.75, 0.8, 0.85, 0.9, 0.95, 1.0, 1.1, 1.2, 1.3, 1.4, 1.5, 1.6, 1.7, 1.8, \n",
    "           1.9, 2.0, 3.0, 4.0, 5.0, 7.5, 10.0]"
   ]
  },
  {
   "cell_type": "code",
   "execution_count": null,
   "metadata": {
    "collapsed": false
   },
   "outputs": [],
   "source": [
    "trpl.DistanceIMTTrellis.from_rupture_model(rupture1, gsim_list, imt_list, figure_size=(10,10))"
   ]
  },
  {
   "cell_type": "markdown",
   "metadata": {},
   "source": [
    "Plot the Attenuation with Distance"
   ]
  },
  {
   "cell_type": "code",
   "execution_count": null,
   "metadata": {
    "collapsed": false
   },
   "outputs": [],
   "source": [
    "rupture2 = rcfg.GSIMRupture(magnitude=6.5,\n",
    "                            dip=60,\n",
    "                            aspect=1.2,\n",
    "                            rake=-90.,\n",
    "                            ztor=0.0,\n",
    "                            hypocentre_location=(0.5, 0.5))\n",
    "# Define the target points as a line perpendicular to the strike of the fault\n",
    "rupture2.get_target_sites_point(5., \"rrup\", vs30=800., line_azimuth=90.)\n",
    "rupture2.plot_model_configuration()"
   ]
  },
  {
   "cell_type": "markdown",
   "metadata": {},
   "source": [
    "Plot the Scenario Spectrum"
   ]
  },
  {
   "cell_type": "code",
   "execution_count": null,
   "metadata": {
    "collapsed": false
   },
   "outputs": [],
   "source": [
    "\n",
    "rupture2 = rcfg.GSIMRupture(magnitude=6.5,\n",
    "                            dip=60,\n",
    "                            aspect=1.2,\n",
    "                            rake=-90.,\n",
    "                            ztor=0.0,\n",
    "                            hypocentre_location=(0.5, 0.5))\n",
    "# Define the target points as a line perpendicular to the strike of the fault\n",
    "rupture2.get_target_sites_point(5., \"rrup\", vs30=800., line_azimuth=270.)\n",
    "rupture2.plot_model_configuration()\n",
    "\n",
    "trpl.MagnitudeDistanceSpectraTrellis.from_rupture_model(rupture2, gsim_list, periods, distance_type=\"rrup\")"
   ]
  },
  {
   "cell_type": "markdown",
   "metadata": {},
   "source": [
    "### Plotting the scaling with magnitude is a little harder - some additional Python is needed"
   ]
  },
  {
   "cell_type": "code",
   "execution_count": null,
   "metadata": {
    "collapsed": false
   },
   "outputs": [],
   "source": [
    "# Setup the rupture\n",
    "rupture2 = rcfg.GSIMRupture(magnitude=6.5,\n",
    "                            dip=60,\n",
    "                            aspect=1.2,\n",
    "                            rake=-90.,\n",
    "                            ztor=0.0,\n",
    "                            hypocentre_location=(0.5, 0.5))\n",
    "# Define the target points as a line perpendicular to the strike of the fault\n",
    "_ = rupture2.get_target_sites_point(5., \"rrup\", vs30=800., line_azimuth=90.)\n",
    "\n",
    "# Get all of the parameters the rupture needs for the calculation (i.e. site, distance, rupture)\n",
    "sctx, rctx, dctx = rupture2.get_gsim_contexts()\n",
    "# Merge the site information into a dictionary\n",
    "sctx.__dict__.update(rctx.__dict__)\n",
    "for val in dctx.__dict__:\n",
    "    if getattr(dctx, val) is not None:\n",
    "        setattr(dctx, val, getattr(dctx, val)[0])\n",
    "        \n",
    "# Magnitudes from 4.5 to 8.0 in increments of 0.1\n",
    "magnitudes = np.arange(4.5, 8.1, 0.1)\n",
    "trpl.MagnitudeIMTTrellis(magnitudes, dctx.__dict__,\n",
    "                         gsim_list, imt_list, sctx.__dict__,\n",
    "                         figure_size=(12, 12))"
   ]
  },
  {
   "cell_type": "markdown",
   "metadata": {},
   "source": [
    "# Scenario 1 - Mw 6.0 Reverse Faulting (Dip 40, Top of Rupture = 2.0)"
   ]
  },
  {
   "cell_type": "code",
   "execution_count": null,
   "metadata": {
    "collapsed": false
   },
   "outputs": [],
   "source": [
    "rupture3 = rcfg.GSIMRupture(magnitude=6.0,\n",
    "                            dip=40,\n",
    "                            aspect=1.2,\n",
    "                            rake=90.,\n",
    "                            ztor=2.0,\n",
    "                            hypocentre_location=(0.5, 0.5))\n",
    "# Define the target points as a line perpendicular to the strike of the fault\n",
    "rupture3.get_target_sites_line(250., 1.0, vs30=800., line_azimuth=90.)\n",
    "rupture3.plot_model_configuration()"
   ]
  },
  {
   "cell_type": "code",
   "execution_count": null,
   "metadata": {
    "collapsed": false
   },
   "outputs": [],
   "source": [
    "trpl.DistanceIMTTrellis.from_rupture_model(rupture3, gsim_list, imt_list, figure_size=(10,10))"
   ]
  },
  {
   "cell_type": "code",
   "execution_count": null,
   "metadata": {
    "collapsed": false
   },
   "outputs": [],
   "source": [
    "rupture4 = rcfg.GSIMRupture(magnitude=6.0,\n",
    "                            dip=40,\n",
    "                            aspect=1.2,\n",
    "                            rake=90.,\n",
    "                            ztor=2.0,\n",
    "                            hypocentre_location=(0.5, 0.5))\n",
    "# Define the target points as a line perpendicular to the strike of the fault\n",
    "rupture4.get_target_sites_point(7., \"rrup\", vs30=800., line_azimuth=90.)\n",
    "rupture4.plot_model_configuration()"
   ]
  },
  {
   "cell_type": "code",
   "execution_count": null,
   "metadata": {
    "collapsed": false
   },
   "outputs": [],
   "source": [
    "trpl.MagnitudeDistanceSpectraTrellis.from_rupture_model(rupture4, gsim_list, periods, distance_type=\"rrup\")"
   ]
  },
  {
   "cell_type": "markdown",
   "metadata": {},
   "source": [
    "# Comparison Against Data"
   ]
  },
  {
   "cell_type": "markdown",
   "metadata": {},
   "source": [
    "## Building the database from a flatfile - run this once (then no need to repeat)"
   ]
  },
  {
   "cell_type": "markdown",
   "metadata": {},
   "source": [
    "Look at the database file `core_flatfile_ngawest2.csv`.\n",
    "\n",
    "This file is the most comprehensive format, so there are many columns that are included but are not critical.\n",
    "\n",
    "For comparison against GMPEs some are:\n",
    "\n",
    "* Event IDs, Station IDs\n",
    "\n",
    "\n",
    "* Event locations and station locations (plus point source distance $R_{EPI}$, $R_{HYPO}$)\n",
    "\n",
    "\n",
    "* A reference magnitude (usually $M_W$ - but the tools don't actually need to know which)\n",
    "\n",
    "\n",
    "* Site types ($V_{S30}$)\n",
    "\n",
    "\n",
    "* Finite-rupture source-to-site distances ($R_{JB}$, $R_{RUP}$, $R_X$, $R_{Y0}$)\n"
   ]
  },
  {
   "cell_type": "code",
   "execution_count": null,
   "metadata": {
    "collapsed": true
   },
   "outputs": [],
   "source": [
    "# Path to the file\n",
    "flatfile = \"./data/core_flatfile_ngawest2.csv\"\n",
    "\n",
    "# Setup the builder - needs the type of parser and then the path to store the database\n",
    "builder = sdb.SMDatabaseBuilder(GeneralFlatfileParser, \"./data/ngawest_db\")\n",
    "\n",
    "# Parse the metadata - needs an \"ID\", \"A basic name\" and the path where to find the flatfile\n",
    "builder.build_database(\"NGAWEST2\", \"Basic NGA West 2 Flatfile \", flatfile)"
   ]
  },
  {
   "cell_type": "code",
   "execution_count": null,
   "metadata": {
    "collapsed": true
   },
   "outputs": [],
   "source": [
    "# Parse the spectra - needs to know the component (e.g. \"Geometric\", \"GMRotD50\", \"SARotD50\")\n",
    "builder.build_spectra_from_flatfile(\"SARotD50\", damping=\"05\", units=\"g\")"
   ]
  },
  {
   "cell_type": "markdown",
   "metadata": {
    "collapsed": true
   },
   "source": [
    "### Selecting Records for Use"
   ]
  },
  {
   "cell_type": "markdown",
   "metadata": {},
   "source": [
    "Not all the records in the database may be good for use. We can initially filter out some that may not be suitable.\n",
    "\n",
    "Here we use the strong motion selector and apply two filterings:\n",
    "\n",
    "1. Only use records with $100 \\leq V_{S30} \\left( {m/s} \\right) \\leq 1500$ \n",
    "\n",
    "2. Only use records with $0.1 \\leq R_{RUP} \\left( {km} \\right) \\leq 500$"
   ]
  },
  {
   "cell_type": "code",
   "execution_count": null,
   "metadata": {
    "collapsed": false
   },
   "outputs": [],
   "source": [
    "# Now load in the databse\n",
    "import cPickle\n",
    "\n",
    "db1 = cPickle.load(open(\"./data/ngawest_db/metadatafile.pkl\", \"r\"))\n",
    "print(\"Initial Database has %g records\" % len(db1))\n",
    "\n",
    "# Eliminate records with missing Vs30 or excessively low or high values\n",
    "selector = SMRecordSelector(db1)\n",
    "db1.records = selector.select_within_vs30_range(100., 1500., as_db=False)\n",
    "print(\"Selected Database has %g records\" % len(db1))\n",
    "\n",
    "# Eliminate records missing Rrup\n",
    "selector2 = SMRecordSelector(db1)\n",
    "db1.records = selector2.select_within_distance_range(\"rrup\", 0.1, 500., alternative=False,as_db=False)\n",
    "print(\"Selected Database has %g records\" % len(db1))"
   ]
  },
  {
   "cell_type": "markdown",
   "metadata": {},
   "source": [
    "Now select the records only within a bounding box around Italy (defined by west, south, east, north)"
   ]
  },
  {
   "cell_type": "code",
   "execution_count": null,
   "metadata": {
    "collapsed": false
   },
   "outputs": [],
   "source": [
    "# Italy Bounding Box\n",
    "west, south, east, north = (5.0, 35.0, 20., 47.)\n",
    "# Select the records\n",
    "selector3 = SMRecordSelector(db1)\n",
    "db1.records = selector2.select_epicentre_within_bounding_box(west, south, east, north, as_db=False)\n",
    "print(\"Selected Database has %g records\" % len(db1))\n",
    "# Look at the magnitude-distance distribution\n",
    "db_magnitude_distance(db1, \"rrup\")"
   ]
  },
  {
   "cell_type": "markdown",
   "metadata": {
    "collapsed": true
   },
   "source": [
    "## Comparing Against Data"
   ]
  },
  {
   "cell_type": "markdown",
   "metadata": {},
   "source": [
    "### Calculate the Residuals - and store them into a csv file"
   ]
  },
  {
   "cell_type": "code",
   "execution_count": null,
   "metadata": {
    "collapsed": false
   },
   "outputs": [],
   "source": [
    "resid1 = res.Residuals(gsim_list, imt_list)\n",
    "resid1.get_residuals(db1, component=\"SARotD50\")\n",
    "print(\"Printing to file\")\n",
    "resid1.pretty_print(\"NGAWest2Residuals1.csv\", sep=\",\")"
   ]
  },
  {
   "cell_type": "markdown",
   "metadata": {},
   "source": [
    "Explore the overall residual trend"
   ]
  },
  {
   "cell_type": "code",
   "execution_count": null,
   "metadata": {
    "collapsed": false
   },
   "outputs": [],
   "source": [
    "rspl.ResidualPlot(resid1, \"BooreEtAl2014\", \"PGA\", figure_size=(8,8))\n",
    "rspl.ResidualPlot(resid1, \"BindiEtAl2014Rjb\", \"PGA\", figure_size=(8,8))\n",
    "rspl.ResidualPlot(resid1, \"CampbellBozorgnia2014\", \"PGA\", figure_size=(8,8))\n",
    "rspl.ResidualPlot(resid1, \"CauzziEtAl2014\", \"PGA\", figure_size=(8,8))"
   ]
  },
  {
   "cell_type": "code",
   "execution_count": null,
   "metadata": {
    "collapsed": false
   },
   "outputs": [],
   "source": [
    "rspl.ResidualPlot(resid1, \"BooreEtAl2014\", \"SA(1.0)\", figure_size=(8,8))\n",
    "rspl.ResidualPlot(resid1, \"BindiEtAl2014Rjb\", \"SA(1.0)\", figure_size=(8,8))\n",
    "rspl.ResidualPlot(resid1, \"CampbellBozorgnia2014\", \"SA(1.0)\", figure_size=(8,8))\n",
    "rspl.ResidualPlot(resid1, \"CauzziEtAl2014\", \"SA(1.0)\", figure_size=(8,8))"
   ]
  },
  {
   "cell_type": "markdown",
   "metadata": {},
   "source": [
    "Compare with Magnitude"
   ]
  },
  {
   "cell_type": "code",
   "execution_count": null,
   "metadata": {
    "collapsed": false
   },
   "outputs": [],
   "source": [
    "rspl.ResidualWithMagnitude(resid1, \"BooreEtAl2014\", \"PGA\", figure_size=(8,8))\n",
    "rspl.ResidualWithMagnitude(resid1, \"BindiEtAl2014Rjb\", \"PGA\", figure_size=(8,8))\n",
    "rspl.ResidualWithMagnitude(resid1, \"CampbellBozorgnia2014\", \"PGA\", figure_size=(8,8))\n",
    "rspl.ResidualWithMagnitude(resid1, \"CauzziEtAl2014\", \"PGA\", figure_size=(8,8))"
   ]
  },
  {
   "cell_type": "code",
   "execution_count": null,
   "metadata": {
    "collapsed": false,
    "scrolled": false
   },
   "outputs": [],
   "source": [
    "rspl.ResidualWithMagnitude(resid1, \"BooreEtAl2014\", \"SA(1.0)\", figure_size=(8,8))\n",
    "rspl.ResidualWithMagnitude(resid1, \"BindiEtAl2014Rjb\", \"SA(1.0)\", figure_size=(8,8))\n",
    "rspl.ResidualWithMagnitude(resid1, \"CampbellBozorgnia2014\", \"SA(1.0)\", figure_size=(8,8))\n",
    "rspl.ResidualWithMagnitude(resid1, \"CauzziEtAl2014\", \"SA(1.0)\", figure_size=(8,8))"
   ]
  },
  {
   "cell_type": "markdown",
   "metadata": {},
   "source": [
    "Compare with Distance"
   ]
  },
  {
   "cell_type": "code",
   "execution_count": null,
   "metadata": {
    "collapsed": false
   },
   "outputs": [],
   "source": [
    "rspl.ResidualWithDistance(resid1, \"BooreEtAl2014\", \"SA(1.0)\", figure_size=(8,8), plot_type=\"linear\")\n",
    "rspl.ResidualWithDistance(resid1, \"BindiEtAl2014Rjb\", \"SA(1.0)\", figure_size=(8,8), plot_type=\"linear\")\n",
    "rspl.ResidualWithDistance(resid1, \"CampbellBozorgnia2014\", \"SA(1.0)\", figure_size=(8,8), plot_type=\"linear\")\n",
    "rspl.ResidualWithDistance(resid1, \"CauzziEtAl2014\", \"SA(1.0)\", figure_size=(8,8), plot_type=\"linear\")"
   ]
  },
  {
   "cell_type": "markdown",
   "metadata": {},
   "source": [
    "# Log-likelihood Analysis"
   ]
  },
  {
   "cell_type": "markdown",
   "metadata": {},
   "source": [
    "Run the Log-likelihood Analysis and see Results: 1. By Period, 2. By GMPE"
   ]
  },
  {
   "cell_type": "code",
   "execution_count": null,
   "metadata": {
    "collapsed": true
   },
   "outputs": [],
   "source": [
    "llh = res.LLH(gsim_list, imt_list)\n",
    "llh.get_residuals(db1, component=\"SARotD50\")"
   ]
  },
  {
   "cell_type": "code",
   "execution_count": null,
   "metadata": {
    "collapsed": false,
    "scrolled": false
   },
   "outputs": [],
   "source": [
    "# Run LLH analysis and store the results in dictionaries\n",
    "llh_values, weights = llh.get_loglikelihood_values(imt_list)\n",
    "periods = dict([(gmpe, []) for gmpe in gsim_list])\n",
    "llhs = dict([(gmpe, []) for gmpe in gsim_list])\n",
    "for gmpe in gsim_list:\n",
    "    print(\"LLH(%s) = %12.6f  Weight = %12.6f\" % (gmpe, llh_values[gmpe][\"All\"], weights[gmpe]))\n",
    "    for imt in imt_list:\n",
    "        if llh_values[gmpe][imt]:\n",
    "            print(\"    %s = %12.6f\" % (imt, llh_values[gmpe][imt]))\n",
    "            llhs[gmpe].append(llh_values[gmpe][imt])\n",
    "            if \"SA(\" in imt:\n",
    "               periods[gmpe].append(from_string(imt).period)\n",
    "            elif \"PGA\" in imt:\n",
    "               periods[gmpe].append(0.0)\n",
    "            else:\n",
    "                pass\n",
    "\n",
    "# Plot the LLH values by Period\n",
    "fig = plt.figure(figsize=(8,8))\n",
    "ax = fig.add_subplot(111)\n",
    "for gmpe in gsim_list:\n",
    "    ax.plot(periods[gmpe], llhs[gmpe], marker=\"o\", lw=1.5,\n",
    "            label=\"{:s} ({:.4f})\".format(gmpe, llh_values[gmpe][\"All\"]))\n",
    "ax.set_xlabel(\"Period (s)\", fontsize=14)\n",
    "ax.set_ylabel(\"LLH\", fontsize=14)\n",
    "ax.grid(True)\n",
    "ax.legend(fontsize=14)"
   ]
  },
  {
   "cell_type": "code",
   "execution_count": null,
   "metadata": {
    "collapsed": true
   },
   "outputs": [],
   "source": []
  }
 ],
 "metadata": {
  "kernelspec": {
   "display_name": "Python 2",
   "language": "python",
   "name": "python2"
  },
  "language_info": {
   "codemirror_mode": {
    "name": "ipython",
    "version": 2
   },
   "file_extension": ".py",
   "mimetype": "text/x-python",
   "name": "python",
   "nbconvert_exporter": "python",
   "pygments_lexer": "ipython2",
   "version": "2.7.13"
  }
 },
 "nbformat": 4,
 "nbformat_minor": 0
}
