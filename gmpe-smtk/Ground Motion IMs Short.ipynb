{
 "metadata": {
  "name": "",
  "signature": "sha256:7a5925b592364556ef088d7670c8a8d1c1a7f17acdd24308d8ef6bfccd0d7853"
 },
 "nbformat": 3,
 "nbformat_minor": 0,
 "worksheets": [
  {
   "cells": [
    {
     "cell_type": "heading",
     "level": 1,
     "metadata": {},
     "source": [
      "Calculating Ground Motion Intensity Measures"
     ]
    },
    {
     "cell_type": "raw",
     "metadata": {},
     "source": [
      "The SMTK contains two modules for the characterisation of ground motion:\n",
      "\n",
      "1) smtk.response_spectrum\n",
      "\n",
      "This module contains methods for calculation of the response of a set of single degree-of-freedom (SDOF) oscillators using an input time series. Two methods are currently supported:\n",
      "    i) Newmark-Beta\n",
      "    ii) Nigam & Jennings (1969) {Preferred}\n",
      "\n",
      "The module also includes functions for plotting the response spectra and time series\n",
      "\n",
      "2) smtk.intensity_measures \n",
      "\n",
      "This module contains a set of functions for deriving different intensity measures from a strong motion record\n",
      "\n",
      "i) get_peak_measures(...) - returns PGA, PGV and PGD\n",
      "ii) get_response_spectrum(...) - returns the response spectrum\n",
      "iii) get_response_spectrum_pair(...) - returns a response spectrum pair\n",
      "iv) geometric_mean_spectrum(...) - returns the geometric mean of a pair of records\n",
      "v) arithmetic_mean_spectrum(...) - returns the arithmetic mean of a pair of records\n",
      "vi) geometric_mean_spectrum(...) - returns the envelope spectrum of a pair of records\n",
      "vii) larger_pga(...) - Returns the spectrum with the larger PGA\n",
      "viii) rotate_horizontal(...) - rotates a record pair through angle theta\n",
      "ix) gmrotdpp(...) - Returns the rotationally-dependent geometric fractile (pp) of a pair of records\n",
      "x) gmrotipp(...) - Returns the rotationally-independent geometric fractile (pp) of a pair of records"
     ]
    },
    {
     "cell_type": "heading",
     "level": 3,
     "metadata": {},
     "source": [
      "Example Usage of the Response Spectrum"
     ]
    },
    {
     "cell_type": "code",
     "collapsed": false,
     "input": [
      "# Import modules\n",
      "import numpy as np  # Numerical Python package\n",
      "import matplotlib.pyplot as plt # Python plotting package\n",
      "# Import\n",
      "import smtk.response_spectrum as rsp # Response Spectra tools\n",
      "import smtk.intensity_measures as ims # Intensity Measure Tools\n",
      "\n",
      "\n",
      "periods = np.array([0.01, 0.02, 0.03, 0.04, 0.05, 0.075, 0.1, 0.11, 0.12, 0.13, 0.14, 0.15, 0.16, 0.17, 0.18, 0.19,\n",
      "                    0.20, 0.22, 0.24, 0.26, 0.28, 0.30, 0.32, 0.34, 0.36, 0.38, 0.40, 0.42, 0.44, 0.46, 0.48, 0.5, \n",
      "                    0.55, 0.6, 0.65, 0.7, 0.75, 0.8, 0.85, 0.9, 0.95, 1.0, 1.1, 1.2, 1.3, 1.4, 1.5, 1.6, 1.7, 1.8, \n",
      "                    1.9, 2.0, 2.2, 2.4, 2.6, 2.8, 3.0, 3.2, 3.4, 3.6, 3.8, 4.0, 4.2, 4.4, 4.6, 4.8, 5.0, 5.5, 6.0, \n",
      "                    6.5, 7.0,7.5, 8.0, 8.5, 9.0, 9.5, 10.0], dtype=float)\n",
      "number_periods = len(periods)"
     ],
     "language": "python",
     "metadata": {},
     "outputs": []
    },
    {
     "cell_type": "code",
     "collapsed": false,
     "input": [
      "# Load record pair from files\n",
      "x_record = np.genfromtxt(\"data/sm_record_x.txt\")\n",
      "y_record = np.genfromtxt(\"data/sm_record_y.txt\")\n",
      "\n",
      "x_time_step = 0.002 # Record sampled at 0.002 s  \n",
      "y_time_step = 0.002"
     ],
     "language": "python",
     "metadata": {},
     "outputs": []
    },
    {
     "cell_type": "heading",
     "level": 3,
     "metadata": {},
     "source": [
      "Show the Fourier Spectrum"
     ]
    },
    {
     "cell_type": "code",
     "collapsed": false,
     "input": [
      "ims.plot_fourier_spectrum(x_record, x_time_step)"
     ],
     "language": "python",
     "metadata": {},
     "outputs": []
    },
    {
     "cell_type": "heading",
     "level": 3,
     "metadata": {},
     "source": [
      "Get Response Spectrum - Nigam & Jennings"
     ]
    },
    {
     "cell_type": "code",
     "collapsed": false,
     "input": [
      "# Create an instance of the Newmark-Beta class\n",
      "nigam_jennings = rsp.NigamJennings(x_record, x_time_step, periods, damping=0.05, units=\"cm/s/s\")\n",
      "sax, time_series, acc, vel, dis = nigam_jennings.evaluate()\n",
      "\n",
      "# Plot Response Spectrum\n",
      "rsp.plot_response_spectra(sax, axis_type=\"semilogx\", filename=\"images/response_nigam_jennings.pdf\",filetype=\"pdf\")"
     ],
     "language": "python",
     "metadata": {},
     "outputs": []
    },
    {
     "cell_type": "heading",
     "level": 3,
     "metadata": {},
     "source": [
      "Plot Time Series"
     ]
    },
    {
     "cell_type": "code",
     "collapsed": false,
     "input": [
      "rsp.plot_time_series(time_series[\"Acceleration\"],\n",
      "                     x_time_step,\n",
      "                     time_series[\"Velocity\"],\n",
      "                     time_series[\"Displacement\"])"
     ],
     "language": "python",
     "metadata": {},
     "outputs": []
    },
    {
     "cell_type": "heading",
     "level": 3,
     "metadata": {},
     "source": [
      "Intensity Measures"
     ]
    },
    {
     "cell_type": "heading",
     "level": 4,
     "metadata": {},
     "source": [
      "Get PGA, PGV and PGD"
     ]
    },
    {
     "cell_type": "code",
     "collapsed": false,
     "input": [
      "pga_x, pgv_x, pgd_x, _, _ = ims.get_peak_measures(0.002, x_record, True, True)\n",
      "print \"PGA = %10.4f cm/s/s,  PGV = %10.4f cm/s,   PGD = %10.4f cm\" % (pga_x, pgv_x, pgd_x)\n",
      "pga_y, pgv_y, pgd_y, _, _ = ims.get_peak_measures(0.002, y_record, True, True)\n",
      "print \"PGA = %10.4f cm/s/s,  PGV = %10.4f cm/s,   PGD = %10.4f cm\" % (pga_y, pgv_y, pgd_y)"
     ],
     "language": "python",
     "metadata": {},
     "outputs": []
    },
    {
     "cell_type": "heading",
     "level": 4,
     "metadata": {},
     "source": [
      "Get Durations: Bracketed, Uniform, Significant"
     ]
    },
    {
     "cell_type": "code",
     "collapsed": false,
     "input": [
      "print \"Bracketed Duration (> 5 cm/s/s) = %9.3f s\" % ims.get_bracketed_duration(x_record, x_time_step, 5.0)\n",
      "print \"Uniform Duration (> 5 cm/s/s) = %9.3f s\" % ims.get_uniform_duration(x_record, x_time_step, 5.0)\n",
      "print \"Significant Duration (5 - 95 Arias ) = %9.3f s\" % ims.get_significant_duration(x_record, x_time_step, 0.05, 0.95)"
     ],
     "language": "python",
     "metadata": {},
     "outputs": []
    },
    {
     "cell_type": "heading",
     "level": 4,
     "metadata": {},
     "source": [
      "Get Arias Intensity, CAV, CAV5 and rms acceleration"
     ]
    },
    {
     "cell_type": "code",
     "collapsed": false,
     "input": [
      "print \"Arias Intensity = %12.4f cm-s\" % ims.get_arias_intensity(x_record, x_time_step)\n",
      "print \"Arias Intensity (5 - 95) = %12.4f cm-s\" % ims.get_arias_intensity(x_record, x_time_step, 0.05, 0.95)\n",
      "print \"CAV = %12.4f cm-s\" % ims.get_cav(x_record, x_time_step)\n",
      "print \"CAV5 = %12.4f cm-s\" % ims.get_cav(x_record, x_time_step, threshold=5.0)\n",
      "print \"Arms = %12.4f cm-s\" % ims.get_arms(x_record, x_time_step)"
     ],
     "language": "python",
     "metadata": {},
     "outputs": []
    },
    {
     "cell_type": "heading",
     "level": 5,
     "metadata": {},
     "source": [
      "Spectrum Intensities: Housner Intensity, Acceleration Spectrum Intensity"
     ]
    },
    {
     "cell_type": "code",
     "collapsed": false,
     "input": [
      "# Get response spectrum\n",
      "sax = ims.get_response_spectrum(x_record, x_time_step, periods)[0]\n",
      "print \"Velocity Spectrum Intensity (cm/s/s) = %12.5f\" % ims.get_response_spectrum_intensity(sax)\n",
      "print \"Acceleration Spectrum Intensity (cm-s) = %12.5f\" % ims.get_acceleration_spectrum_intensity(sax)\n"
     ],
     "language": "python",
     "metadata": {},
     "outputs": []
    },
    {
     "cell_type": "heading",
     "level": 4,
     "metadata": {},
     "source": [
      "Get the response spectrum pair from two records"
     ]
    },
    {
     "cell_type": "code",
     "collapsed": false,
     "input": [
      "sax, say = ims.get_response_spectrum_pair(x_record, x_time_step,\n",
      "                                          y_record, y_time_step,\n",
      "                                          periods,\n",
      "                                          damping=0.05,\n",
      "                                          units=\"cm/s/s\",\n",
      "                                          method=\"Nigam-Jennings\")\n"
     ],
     "language": "python",
     "metadata": {},
     "outputs": []
    },
    {
     "cell_type": "heading",
     "level": 4,
     "metadata": {},
     "source": [
      "Get Geomtric Mean Spectrum"
     ]
    },
    {
     "cell_type": "code",
     "collapsed": false,
     "input": [
      "sa_gm = ims.geometric_mean_spectrum(sax, say)\n",
      "rsp.plot_response_spectra(sa_gm, \"semilogx\", filename=\"images/geometric_mean_spectrum.pdf\", filetype=\"pdf\")"
     ],
     "language": "python",
     "metadata": {},
     "outputs": []
    },
    {
     "cell_type": "heading",
     "level": 4,
     "metadata": {},
     "source": [
      "Get Envelope Spectrum"
     ]
    },
    {
     "cell_type": "code",
     "collapsed": false,
     "input": [
      "sa_env = ims.envelope_spectrum(sax, say)\n",
      "rsp.plot_response_spectra(sa_env, \"semilogx\", filename=\"images/envelope_spectrum.pdf\", filetype=\"pdf\")"
     ],
     "language": "python",
     "metadata": {},
     "outputs": []
    },
    {
     "cell_type": "heading",
     "level": 3,
     "metadata": {},
     "source": [
      "Rotationally Dependent and Independent IMs"
     ]
    },
    {
     "cell_type": "heading",
     "level": 4,
     "metadata": {},
     "source": [
      "GMRotd50"
     ]
    },
    {
     "cell_type": "code",
     "collapsed": false,
     "input": [
      "gmrotd50 = ims.gmrotdpp(x_record, x_time_step, y_record, y_time_step, periods, percentile=50.0,\n",
      "                                               damping=0.05, units=\"cm/s/s\")\n",
      "gmroti50 = ims.gmrotipp(x_record, x_time_step, y_record, y_time_step, periods, percentile=50.0,\n",
      "                                               damping=0.05, units=\"cm/s/s\")"
     ],
     "language": "python",
     "metadata": {},
     "outputs": []
    },
    {
     "cell_type": "code",
     "collapsed": false,
     "input": [
      "# Plot all of the rotational angles!\n",
      "plt.figure(figsize=(8, 6))\n",
      "for row in gmrotd50[\"GeoMeanPerAngle\"]:\n",
      "    plt.semilogx(periods, row, \"-\", color=\"LightGray\")\n",
      "plt.semilogx(periods, gmrotd50[\"GMRotDpp\"], 'b-', linewidth=2, label=\"GMRotD50\")\n",
      "plt.semilogx(periods, gmroti50[\"Pseudo-Acceleration\"], 'r-', linewidth=2, label=\"GMRotI50\")\n",
      "plt.xlabel(\"Period (s)\", fontsize=18)\n",
      "plt.ylabel(\"Acceleration (cm/s/s)\", fontsize=18)\n",
      "legend(loc=0)\n",
      "plt.savefig(\"images/rotational_spectra.pdf\", dpi=300, format=\"pdf\")\n"
     ],
     "language": "python",
     "metadata": {},
     "outputs": []
    },
    {
     "cell_type": "code",
     "collapsed": false,
     "input": [],
     "language": "python",
     "metadata": {},
     "outputs": []
    }
   ],
   "metadata": {}
  }
 ]
}