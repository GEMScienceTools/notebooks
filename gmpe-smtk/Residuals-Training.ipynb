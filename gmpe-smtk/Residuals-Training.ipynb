{
 "metadata": {
  "name": "",
  "signature": "sha256:c8a654459decbcc05c49fa99ef15d49940bf1273e33fd39b5a45fb2d5d10b149"
 },
 "nbformat": 3,
 "nbformat_minor": 0,
 "worksheets": [
  {
   "cells": [
    {
     "cell_type": "heading",
     "level": 1,
     "metadata": {},
     "source": [
      "Comparing GMPEs with Observed Ground Motions"
     ]
    },
    {
     "cell_type": "markdown",
     "metadata": {},
     "source": [
      "This tutorial illustrates how to use a database of strong ground motions to expected ground motion values from GMPEs with observations."
     ]
    },
    {
     "cell_type": "heading",
     "level": 3,
     "metadata": {},
     "source": [
      "Loading a Database and Selecting Records"
     ]
    },
    {
     "cell_type": "markdown",
     "metadata": {},
     "source": [
      "A database (of metadata) is stored as a Python \"Pickle\" file. To load the database, do the following:"
     ]
    },
    {
     "cell_type": "code",
     "collapsed": false,
     "input": [
      "import numpy as np\n",
      "import cPickle\n",
      "\n",
      "input_database = \"data/demo_records/metadata.pkl\"\n",
      "\n",
      "db1 = cPickle.load(open(input_database, \"r\"))"
     ],
     "language": "python",
     "metadata": {},
     "outputs": []
    },
    {
     "cell_type": "heading",
     "level": 3,
     "metadata": {},
     "source": [
      "Comparing Records with a Set of GMPEs"
     ]
    },
    {
     "cell_type": "markdown",
     "metadata": {},
     "source": [
      "In the following example we select a subset of records from a database and compare these observed\n",
      "ground motions against four relevent GMPEs:\n",
      "\n",
      "1.) Boore & Atkinson (2008)\n",
      "2.) Akkar & Bommer (2010)\n",
      "3.) Akkar & Cagnan (2010)\n",
      "4.) Akkar et al (2014) - Joyner-Boore coefficients\n",
      "\n",
      "Four intensity measures will also be considered: PGA, Sa (0.2), Sa(1.0), Sa(2.0)"
     ]
    },
    {
     "cell_type": "code",
     "collapsed": false,
     "input": [
      "gmpe_list = [\"BooreAtkinson2008\",\n",
      "             \"AkkarBommer2010\",\n",
      "             \"AkkarCagnan2010\",\n",
      "             \"AkkarEtAlRjb2014\"]\n",
      "\n",
      "imt_list = [\"PGA\", \"SA(0.2)\", \"SA(1.0)\", \"SA(2.0)\"]"
     ],
     "language": "python",
     "metadata": {},
     "outputs": []
    },
    {
     "cell_type": "code",
     "collapsed": false,
     "input": [
      "# Get residuals\n",
      "from smtk.residuals.gmpe_residuals import Residuals, Likelihood, LLH, EDR\n",
      "import smtk.residuals.residual_plotter as rspl\n",
      "\n",
      "# Create an instance of the residual calculator\n",
      "resid1 = Residuals(gmpe_list, imt_list)\n",
      "resid1.get_residuals(db1)"
     ],
     "language": "python",
     "metadata": {},
     "outputs": []
    },
    {
     "cell_type": "heading",
     "level": 3,
     "metadata": {},
     "source": [
      "Plot the Distribution of Residuals"
     ]
    },
    {
     "cell_type": "code",
     "collapsed": false,
     "input": [
      "rspl.ResidualPlot(resid1, \"BooreAtkinson2008\", \"PGA\")"
     ],
     "language": "python",
     "metadata": {},
     "outputs": []
    },
    {
     "cell_type": "code",
     "collapsed": false,
     "input": [
      "rspl.ResidualPlot(resid1, \"AkkarEtAlRjb2014\", \"PGA\")"
     ],
     "language": "python",
     "metadata": {},
     "outputs": []
    },
    {
     "cell_type": "heading",
     "level": 3,
     "metadata": {},
     "source": [
      "Plots the Ordinary Likelihood Analysis (Scherbaum et al. 2004)"
     ]
    },
    {
     "cell_type": "code",
     "collapsed": false,
     "input": [
      "lh_analysis = Likelihood(gmpe_list, imt_list)\n",
      "lh_analysis.get_residuals(db1)"
     ],
     "language": "python",
     "metadata": {},
     "outputs": []
    },
    {
     "cell_type": "code",
     "collapsed": false,
     "input": [
      "rspl.LikelihoodPlot(lh_analysis, \"BooreAtkinson2008\", \"PGA\")"
     ],
     "language": "python",
     "metadata": {},
     "outputs": []
    },
    {
     "cell_type": "code",
     "collapsed": false,
     "input": [
      "rspl.LikelihoodPlot(lh_analysis, \"AkkarEtAlRjb2014\", \"PGA\")"
     ],
     "language": "python",
     "metadata": {},
     "outputs": []
    },
    {
     "cell_type": "code",
     "collapsed": false,
     "input": [
      "rspl.LikelihoodPlot(lh_analysis, \"AkkarEtAlRjb2014\", \"SA(1.0)\")"
     ],
     "language": "python",
     "metadata": {},
     "outputs": []
    },
    {
     "cell_type": "heading",
     "level": 3,
     "metadata": {},
     "source": [
      "Trends in Residuals: 1) Distance"
     ]
    },
    {
     "cell_type": "code",
     "collapsed": false,
     "input": [
      "rspl.ResidualWithDistance(resid1, \"AkkarEtAlRjb2014\", \"PGA\", plot_type=\"linear\", figure_size=(7, 7))"
     ],
     "language": "python",
     "metadata": {},
     "outputs": []
    },
    {
     "cell_type": "code",
     "collapsed": false,
     "input": [
      "rspl.ResidualWithDistance(resid1, \"BooreAtkinson2008\", \"PGA\", plot_type=\"linear\", figure_size=(7, 7))"
     ],
     "language": "python",
     "metadata": {},
     "outputs": []
    },
    {
     "cell_type": "heading",
     "level": 3,
     "metadata": {},
     "source": [
      "Trends in Residuals 2: Magnitude"
     ]
    },
    {
     "cell_type": "code",
     "collapsed": false,
     "input": [
      "rspl.ResidualWithMagnitude(resid1, \"AkkarEtAlRjb2014\", \"PGA\", figure_size=(7,7))"
     ],
     "language": "python",
     "metadata": {},
     "outputs": []
    },
    {
     "cell_type": "code",
     "collapsed": false,
     "input": [
      "rspl.ResidualWithMagnitude(resid1, \"BooreAtkinson2008\", \"PGA\", figure_size=(7,7))"
     ],
     "language": "python",
     "metadata": {},
     "outputs": []
    },
    {
     "cell_type": "heading",
     "level": 3,
     "metadata": {},
     "source": [
      "Trends in Residuals 3: Vs30"
     ]
    },
    {
     "cell_type": "code",
     "collapsed": false,
     "input": [
      "rspl.ResidualWithVs30(resid1, \"AkkarEtAlRjb2014\", \"PGA\", figure_size=(7,7))"
     ],
     "language": "python",
     "metadata": {},
     "outputs": []
    },
    {
     "cell_type": "code",
     "collapsed": false,
     "input": [
      "rspl.ResidualWithVs30(resid1, \"BooreAtkinson2008\", \"PGA\", figure_size=(7,7))"
     ],
     "language": "python",
     "metadata": {},
     "outputs": []
    },
    {
     "cell_type": "heading",
     "level": 3,
     "metadata": {},
     "source": [
      "Trends in Residuals 4: Depths"
     ]
    },
    {
     "cell_type": "code",
     "collapsed": false,
     "input": [
      "rspl.ResidualWithDepth(resid1, \"AkkarEtAlRjb2014\", \"PGA\", figure_size=(7,7))"
     ],
     "language": "python",
     "metadata": {},
     "outputs": []
    },
    {
     "cell_type": "code",
     "collapsed": false,
     "input": [
      "rspl.ResidualWithDepth(resid1, \"BooreAtkinson2008\", \"PGA\", figure_size=(7,7))"
     ],
     "language": "python",
     "metadata": {},
     "outputs": []
    },
    {
     "cell_type": "heading",
     "level": 3,
     "metadata": {},
     "source": [
      "Comparing the GMPEs using the LLH Metric (Scherbaum et al., 2009)"
     ]
    },
    {
     "cell_type": "code",
     "collapsed": false,
     "input": [
      "# Create an instance of the residual calculator\n",
      "llh_1 = LLH(gmpe_list, imt_list)\n",
      "llh_1.get_residuals(db1)"
     ],
     "language": "python",
     "metadata": {},
     "outputs": []
    },
    {
     "cell_type": "code",
     "collapsed": false,
     "input": [
      "# Run LLH analysis\n",
      "llh_values, weights = llh_1.get_loglikelihood_values()\n",
      "\n",
      "for gmpe in gmpe_list:\n",
      "    print \"LLH(%s) = %12.6f  Weight = %12.6f\" % (gmpe, llh_values[gmpe], weights[gmpe])"
     ],
     "language": "python",
     "metadata": {},
     "outputs": []
    },
    {
     "cell_type": "heading",
     "level": 3,
     "metadata": {},
     "source": [
      "Comparing the GMPEs using the Euclidian Distance-Based Raking Metric (Kale & Akkar, 2013)"
     ]
    },
    {
     "cell_type": "code",
     "collapsed": false,
     "input": [
      "# EDR analysis\n",
      "edr1 = EDR(gmpe_list, imt_list)\n",
      "edr1.get_residuals(db1)"
     ],
     "language": "python",
     "metadata": {},
     "outputs": []
    },
    {
     "cell_type": "code",
     "collapsed": false,
     "input": [
      "edr_values = edr1.get_edr_values()\n",
      "\n",
      "for gmpe in gmpe_list:\n",
      "    print \"EDR(%s) = %8.4f (sqrt(kappa) = %8.4f)\" %(gmpe,\n",
      "                                                    edr_values[gmpe][\"EDR\"],\n",
      "                                                    edr_values[gmpe][\"sqrt Kappa\"])"
     ],
     "language": "python",
     "metadata": {},
     "outputs": []
    },
    {
     "cell_type": "heading",
     "level": 3,
     "metadata": {},
     "source": [
      "Single Station Analysis"
     ]
    },
    {
     "cell_type": "markdown",
     "metadata": {},
     "source": [
      "This illustrates the application of a set of site specific analyses to determine the single-station phi.\n",
      "Implementation is based on the description and formulae found in Rodgriguez-Marek et al. (2011)"
     ]
    },
    {
     "cell_type": "heading",
     "level": 3,
     "metadata": {},
     "source": [
      "Find the Stations in the Database with the Most Recordings"
     ]
    },
    {
     "cell_type": "code",
     "collapsed": false,
     "input": [
      "from smtk.strong_motion_selector import SMRecordSelector, rank_sites_by_record_count\n",
      "import smtk.residuals.gmpe_residuals as res\n",
      "import smtk.residuals.residual_plotter as rspl"
     ],
     "language": "python",
     "metadata": {},
     "outputs": []
    },
    {
     "cell_type": "code",
     "collapsed": false,
     "input": [
      "# Returns a list of the stations with the most records (in descending order)\n",
      "# cutting off sites with less than 30 records\n",
      "top_sites = rank_sites_by_record_count(db1, threshold=5)\n",
      "for site_id in top_sites.keys():\n",
      "    print \"Site ID: %s   Name: %s  Number of Records: %s\" %(site_id, top_sites[site_id][\"Name\"], top_sites[site_id][\"Count\"])"
     ],
     "language": "python",
     "metadata": {},
     "outputs": []
    },
    {
     "cell_type": "heading",
     "level": 3,
     "metadata": {},
     "source": [
      "Calculate the ground motion residuals for each of the sites"
     ]
    },
    {
     "cell_type": "code",
     "collapsed": false,
     "input": [
      "# Consider the AkkarEtAlRjb2014 GMPE with PGA, Sa (0.2), Sa(1.0)\n",
      "gmpe_list = [\"AkkarEtAlRjb2014\"]\n",
      "imt_list = [\"PGA\", \"SA(0.2)\", \"SA(1.0)\"]\n",
      "# Get the residuals for the site\n",
      "ssa1 = res.SingleStationAnalysis(top_sites.keys(), gmpe_list, imt_list)\n",
      "ssa1.get_site_residuals(db1)"
     ],
     "language": "python",
     "metadata": {},
     "outputs": []
    },
    {
     "cell_type": "heading",
     "level": 5,
     "metadata": {},
     "source": [
      "Plot the ordinary residuals for each site"
     ]
    },
    {
     "cell_type": "code",
     "collapsed": false,
     "input": [
      "# Plots the GMPE Residuals for Each Site\n",
      "rspl.ResidualWithSite(ssa1, \"AkkarEtAlRjb2014\", \"PGA\", figure_size=(7,7))"
     ],
     "language": "python",
     "metadata": {},
     "outputs": []
    },
    {
     "cell_type": "code",
     "collapsed": false,
     "input": [
      "rspl.ResidualWithSite(ssa1, \"AkkarEtAlRjb2014\", \"SA(1.0)\", figure_size=(7,7))"
     ],
     "language": "python",
     "metadata": {},
     "outputs": []
    },
    {
     "cell_type": "heading",
     "level": 5,
     "metadata": {},
     "source": [
      "Plot the decomposition of the intra-event residuals"
     ]
    },
    {
     "cell_type": "code",
     "collapsed": false,
     "input": [
      "# Plots the Intra-event analysis for each site\n",
      "rspl.IntraEventResidualWithSite(ssa1, \"AkkarEtAlRjb2014\", \"PGA\", figure_size=(7,7))"
     ],
     "language": "python",
     "metadata": {},
     "outputs": []
    },
    {
     "cell_type": "code",
     "collapsed": false,
     "input": [
      "# Plots the Intra-event analysis for each site\n",
      "rspl.IntraEventResidualWithSite(ssa1, \"AkkarEtAlRjb2014\", \"SA(1.0)\", figure_size=(7,7))"
     ],
     "language": "python",
     "metadata": {},
     "outputs": []
    },
    {
     "cell_type": "code",
     "collapsed": false,
     "input": [
      "for iloc, output in enumerate(ssa1.site_residuals):\n",
      "    print \"Site ID = %s\" % (top_sites.keys()[iloc])\n",
      "    for gmpe in output.site_analysis.keys():\n",
      "        print \"GMPE = %s\" % gmpe \n",
      "        for imt_type in output.site_analysis[gmpe]:\n",
      "            site_results = output.site_analysis[gmpe][imt_type]\n",
      "            print \"%10s: dS2ss = %10.8f    phi_ss,s = %10.8f\" % (imt_type, site_results[\"dS2ss\"], site_results[\"phi_ss,s\"])\n",
      "    print \"=======================================================\""
     ],
     "language": "python",
     "metadata": {},
     "outputs": []
    },
    {
     "cell_type": "code",
     "collapsed": false,
     "input": [],
     "language": "python",
     "metadata": {},
     "outputs": []
    }
   ],
   "metadata": {}
  }
 ]
}