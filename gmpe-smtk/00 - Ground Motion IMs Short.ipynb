{
 "cells": [
  {
   "cell_type": "markdown",
   "metadata": {
    "deletable": true,
    "editable": true
   },
   "source": [
    "# Calculating Ground Motion Intensity Measures"
   ]
  },
  {
   "cell_type": "markdown",
   "metadata": {
    "deletable": true,
    "editable": true
   },
   "source": [
    "The SMTK contains two modules for the characterisation of ground motion:\n",
    "\n",
    "1) smtk.response_spectrum\n",
    "\n",
    "This module contains methods for calculation of the response of a set of single degree-of-freedom (SDOF) oscillators using an input time series. Two methods are currently supported:\n",
    "\n",
    "    i) Newmark-Beta\n",
    "    \n",
    "    ii) Nigam & Jennings (1969) {Preferred}\n",
    "\n",
    "The module also includes functions for plotting the response spectra and time series\n",
    "\n",
    "2) smtk.intensity_measures \n",
    "\n",
    "This module contains a set of functions for deriving different intensity measures from a strong motion record\n",
    "\n",
    "i) get_peak_measures(...) - returns PGA, PGV and PGD\n",
    "\n",
    "ii) get_response_spectrum(...) - returns the response spectrum\n",
    "\n",
    "iii) get_response_spectrum_pair(...) - returns a response spectrum pair\n",
    "\n",
    "iv) geometric_mean_spectrum(...) - returns the geometric mean of a pair of records\n",
    "\n",
    "v) arithmetic_mean_spectrum(...) - returns the arithmetic mean of a pair of records\n",
    "\n",
    "vi) geometric_mean_spectrum(...) - returns the envelope spectrum of a pair of records\n",
    "\n",
    "vii) larger_pga(...) - Returns the spectrum with the larger PGA\n",
    "\n",
    "viii) rotate_horizontal(...) - rotates a record pair through angle theta\n",
    "\n",
    "ix) gmrotdpp(...) - Returns the rotationally-dependent geometric fractile (pp) of a pair of records\n",
    "\n",
    "x) gmrotipp(...) - Returns the rotationally-independent geometric fractile (pp) of a pair of records\n"
   ]
  },
  {
   "cell_type": "markdown",
   "metadata": {
    "deletable": true,
    "editable": true
   },
   "source": [
    "### Example Usage of the Response Spectrum"
   ]
  },
  {
   "cell_type": "code",
   "execution_count": null,
   "metadata": {
    "collapsed": false,
    "deletable": true,
    "editable": true
   },
   "outputs": [],
   "source": [
    "%load_ext autoreload\n",
    "%autoreload 2\n",
    "import warnings; warnings.filterwarnings(\"ignore\")"
   ]
  },
  {
   "cell_type": "code",
   "execution_count": null,
   "metadata": {
    "collapsed": false,
    "deletable": true,
    "editable": true
   },
   "outputs": [],
   "source": [
    "# Import modules\n",
    "%matplotlib inline\n",
    "import numpy as np  # Numerical Python package\n",
    "import matplotlib.pyplot as plt # Python plotting package\n",
    "# Import\n",
    "import smtk.response_spectrum as rsp # Response Spectra tools\n",
    "import smtk.intensity_measures as ims # Intensity Measure Tools\n",
    "\n",
    "\n",
    "periods = np.array([0.01, 0.02, 0.03, 0.04, 0.05, 0.075, 0.1, 0.11, 0.12, 0.13, 0.14, 0.15, 0.16, 0.17, 0.18, 0.19,\n",
    "                    0.20, 0.22, 0.24, 0.26, 0.28, 0.30, 0.32, 0.34, 0.36, 0.38, 0.40, 0.42, 0.44, 0.46, 0.48, 0.5, \n",
    "                    0.55, 0.6, 0.65, 0.7, 0.75, 0.8, 0.85, 0.9, 0.95, 1.0, 1.1, 1.2, 1.3, 1.4, 1.5, 1.6, 1.7, 1.8, \n",
    "                    1.9, 2.0, 2.2, 2.4, 2.6, 2.8, 3.0, 3.2, 3.4, 3.6, 3.8, 4.0, 4.2, 4.4, 4.6, 4.8, 5.0, 5.5, 6.0, \n",
    "                    6.5, 7.0,7.5, 8.0, 8.5, 9.0, 9.5, 10.0], dtype=float)\n",
    "number_periods = len(periods)"
   ]
  },
  {
   "cell_type": "code",
   "execution_count": null,
   "metadata": {
    "collapsed": false,
    "deletable": true,
    "editable": true
   },
   "outputs": [],
   "source": [
    "# Load record pair from files\n",
    "x_record = np.genfromtxt(\"data/sm_record_x.txt\")\n",
    "y_record = np.genfromtxt(\"data/sm_record_y.txt\")\n",
    "\n",
    "x_time_step = 0.002 # Record sampled at 0.002 s  \n",
    "y_time_step = 0.002"
   ]
  },
  {
   "cell_type": "markdown",
   "metadata": {
    "deletable": true,
    "editable": true
   },
   "source": [
    "### Get Response Spectrum - Nigam & Jennings"
   ]
  },
  {
   "cell_type": "code",
   "execution_count": null,
   "metadata": {
    "collapsed": false,
    "deletable": true,
    "editable": true
   },
   "outputs": [],
   "source": [
    "# Create an instance of the Newmark-Beta class\n",
    "nigam_jennings = rsp.NigamJennings(x_record, x_time_step, periods, damping=0.05, units=\"cm/s/s\")\n",
    "sax, time_series, acc, vel, dis = nigam_jennings.evaluate()\n",
    "\n",
    "# Plot Response Spectrum\n",
    "rsp.plot_response_spectra(sax, axis_type=\"semilogx\", filename=\"images/response_nigam_jennings.pdf\",filetype=\"pdf\")"
   ]
  },
  {
   "cell_type": "markdown",
   "metadata": {
    "deletable": true,
    "editable": true
   },
   "source": [
    "### Plot Time Series"
   ]
  },
  {
   "cell_type": "code",
   "execution_count": null,
   "metadata": {
    "collapsed": false,
    "deletable": true,
    "editable": true
   },
   "outputs": [],
   "source": [
    "rsp.plot_time_series(time_series[\"Acceleration\"],\n",
    "                     x_time_step,\n",
    "                     time_series[\"Velocity\"],\n",
    "                     time_series[\"Displacement\"])"
   ]
  },
  {
   "cell_type": "markdown",
   "metadata": {
    "deletable": true,
    "editable": true
   },
   "source": [
    "### Intensity Measures"
   ]
  },
  {
   "cell_type": "markdown",
   "metadata": {
    "deletable": true,
    "editable": true
   },
   "source": [
    "#### Get PGA, PGV and PGD"
   ]
  },
  {
   "cell_type": "code",
   "execution_count": null,
   "metadata": {
    "collapsed": false,
    "deletable": true,
    "editable": true
   },
   "outputs": [],
   "source": [
    "pga_x, pgv_x, pgd_x, _, _ = ims.get_peak_measures(0.002, x_record, True, True)\n",
    "print \"PGA = %10.4f cm/s/s,  PGV = %10.4f cm/s,   PGD = %10.4f cm\" % (pga_x, pgv_x, pgd_x)\n",
    "pga_y, pgv_y, pgd_y, _, _ = ims.get_peak_measures(0.002, y_record, True, True)\n",
    "print \"PGA = %10.4f cm/s/s,  PGV = %10.4f cm/s,   PGD = %10.4f cm\" % (pga_y, pgv_y, pgd_y)"
   ]
  },
  {
   "cell_type": "markdown",
   "metadata": {
    "deletable": true,
    "editable": true
   },
   "source": [
    "#### Get Durations: Bracketed, Uniform, Significant"
   ]
  },
  {
   "cell_type": "code",
   "execution_count": null,
   "metadata": {
    "collapsed": false,
    "deletable": true,
    "editable": true
   },
   "outputs": [],
   "source": [
    "print \"Bracketed Duration (> 5 cm/s/s) = %9.3f s\" % ims.get_bracketed_duration(x_record, x_time_step, 5.0)\n",
    "print \"Uniform Duration (> 5 cm/s/s) = %9.3f s\" % ims.get_uniform_duration(x_record, x_time_step, 5.0)\n",
    "print \"Significant Duration (5 - 95 Arias ) = %9.3f s\" % ims.get_significant_duration(x_record, x_time_step, 0.05, 0.95)"
   ]
  },
  {
   "cell_type": "markdown",
   "metadata": {
    "deletable": true,
    "editable": true
   },
   "source": [
    "#### Get Arias Intensity, CAV, CAV5 and rms acceleration"
   ]
  },
  {
   "cell_type": "code",
   "execution_count": null,
   "metadata": {
    "collapsed": false,
    "deletable": true,
    "editable": true
   },
   "outputs": [],
   "source": [
    "print \"Arias Intensity = %12.4f cm-s\" % ims.get_arias_intensity(x_record, x_time_step)\n",
    "print \"Arias Intensity (5 - 95) = %12.4f cm-s\" % ims.get_arias_intensity(x_record, x_time_step, 0.05, 0.95)\n",
    "print \"CAV = %12.4f cm-s\" % ims.get_cav(x_record, x_time_step)\n",
    "print \"CAV5 = %12.4f cm-s\" % ims.get_cav(x_record, x_time_step, threshold=5.0)\n",
    "print \"Arms = %12.4f cm-s\" % ims.get_arms(x_record, x_time_step)"
   ]
  },
  {
   "cell_type": "markdown",
   "metadata": {
    "deletable": true,
    "editable": true
   },
   "source": [
    "##### Spectrum Intensities: Housner Intensity, Acceleration Spectrum Intensity"
   ]
  },
  {
   "cell_type": "code",
   "execution_count": null,
   "metadata": {
    "collapsed": false,
    "deletable": true,
    "editable": true
   },
   "outputs": [],
   "source": [
    "# Get response spectrum\n",
    "sax = ims.get_response_spectrum(x_record, x_time_step, periods)[0]\n",
    "print \"Velocity Spectrum Intensity (cm/s/s) = %12.5f\" % ims.get_response_spectrum_intensity(sax)\n",
    "print \"Acceleration Spectrum Intensity (cm-s) = %12.5f\" % ims.get_acceleration_spectrum_intensity(sax)\n"
   ]
  },
  {
   "cell_type": "markdown",
   "metadata": {
    "deletable": true,
    "editable": true
   },
   "source": [
    "#### Get the response spectrum pair from two records"
   ]
  },
  {
   "cell_type": "code",
   "execution_count": null,
   "metadata": {
    "collapsed": false,
    "deletable": true,
    "editable": true
   },
   "outputs": [],
   "source": [
    "sax, say = ims.get_response_spectrum_pair(x_record, x_time_step,\n",
    "                                          y_record, y_time_step,\n",
    "                                          periods,\n",
    "                                          damping=0.05,\n",
    "                                          units=\"cm/s/s\",\n",
    "                                          method=\"Nigam-Jennings\")\n"
   ]
  },
  {
   "cell_type": "markdown",
   "metadata": {
    "deletable": true,
    "editable": true
   },
   "source": [
    "#### Get Geometric Mean Spectrum"
   ]
  },
  {
   "cell_type": "code",
   "execution_count": null,
   "metadata": {
    "collapsed": false,
    "deletable": true,
    "editable": true
   },
   "outputs": [],
   "source": [
    "sa_gm = ims.geometric_mean_spectrum(sax, say)\n",
    "rsp.plot_response_spectra(sa_gm, \"semilogx\", filename=\"images/geometric_mean_spectrum.pdf\", filetype=\"pdf\")"
   ]
  },
  {
   "cell_type": "markdown",
   "metadata": {
    "deletable": true,
    "editable": true
   },
   "source": [
    "#### Get Envelope Spectrum"
   ]
  },
  {
   "cell_type": "code",
   "execution_count": null,
   "metadata": {
    "collapsed": false,
    "deletable": true,
    "editable": true
   },
   "outputs": [],
   "source": [
    "sa_env = ims.envelope_spectrum(sax, say)\n",
    "rsp.plot_response_spectra(sa_env, \"semilogx\", filename=\"images/envelope_spectrum.pdf\", filetype=\"pdf\")"
   ]
  },
  {
   "cell_type": "markdown",
   "metadata": {
    "deletable": true,
    "editable": true
   },
   "source": [
    "### Rotationally Dependent and Independent IMs"
   ]
  },
  {
   "cell_type": "markdown",
   "metadata": {
    "deletable": true,
    "editable": true
   },
   "source": [
    "#### GMRotD50 and GMRotI50"
   ]
  },
  {
   "cell_type": "code",
   "execution_count": null,
   "metadata": {
    "collapsed": false,
    "deletable": true,
    "editable": true
   },
   "outputs": [],
   "source": [
    "gmrotd50 = ims.gmrotdpp(x_record, x_time_step, y_record, y_time_step, periods, percentile=50.0,\n",
    "                                               damping=0.05, units=\"cm/s/s\")\n",
    "gmroti50 = ims.gmrotipp(x_record, x_time_step, y_record, y_time_step, periods, percentile=50.0,\n",
    "                                               damping=0.05, units=\"cm/s/s\")"
   ]
  },
  {
   "cell_type": "code",
   "execution_count": null,
   "metadata": {
    "collapsed": false,
    "deletable": true,
    "editable": true
   },
   "outputs": [],
   "source": [
    "# Plot all of the rotational angles!\n",
    "plt.figure(figsize=(8, 6))\n",
    "for row in gmrotd50[\"GeoMeanPerAngle\"]:\n",
    "    plt.semilogx(periods, row, \"-\", color=\"LightGray\")\n",
    "plt.semilogx(periods, gmrotd50[\"GMRotDpp\"], 'b-', linewidth=2, label=\"GMRotD50\")\n",
    "plt.semilogx(periods, gmroti50[\"Pseudo-Acceleration\"], 'r-', linewidth=2, label=\"GMRotI50\")\n",
    "plt.xlabel(\"Period (s)\", fontsize=18)\n",
    "plt.ylabel(\"Acceleration (cm/s/s)\", fontsize=18)\n",
    "plt.legend(loc=0)\n",
    "plt.savefig(\"images/rotational_spectra.pdf\", dpi=300, format=\"pdf\")\n"
   ]
  },
  {
   "cell_type": "raw",
   "metadata": {
    "collapsed": false,
    "deletable": true,
    "editable": true
   },
   "source": [
    "rotd50 = ims.rotdpp(x_record, x_time_step, y_record, y_time_step, periods, percentile=50.0,\n",
    "                    damping=0.05, units=\"cm/s/s\")[0]\n",
    "plt.semilogx(periods, rotd50[\"Pseudo-Acceleration\"], 'b-', linewidth=2, label=\"RotD50\")\n",
    "plt.xlabel(\"Period (s)\", fontsize=18)\n",
    "plt.ylabel(\"Acceleration (cm/s/s)\", fontsize=18)\n",
    "plt.legend(loc=0)\n",
    "plt.savefig(\"images/rotd50_spectrum.pdf\", dpi=300, format=\"pdf\")\n",
    "roti50 = ims.rotipp(x_record, x_time_step, y_record, y_time_step, periods, percentile=50.0,\n",
    "                    damping=0.05, units=\"cm/s/s\")"
   ]
  },
  {
   "cell_type": "markdown",
   "metadata": {
    "deletable": true,
    "editable": true
   },
   "source": [
    "## Fourier Spectra, Smoothing and HVSR"
   ]
  },
  {
   "cell_type": "markdown",
   "metadata": {
    "deletable": true,
    "editable": true
   },
   "source": [
    "### Show the Fourier Spectrum"
   ]
  },
  {
   "cell_type": "code",
   "execution_count": null,
   "metadata": {
    "collapsed": false,
    "deletable": true,
    "editable": true
   },
   "outputs": [],
   "source": [
    "ims.plot_fourier_spectrum(x_record, x_time_step,\n",
    "                          filename=\"images/fourier_spectrum.pdf\", filetype=\"pdf\")"
   ]
  },
  {
   "cell_type": "markdown",
   "metadata": {
    "deletable": true,
    "editable": true
   },
   "source": [
    "### Smooth the Fourier Spectrum Using the Konno & Omachi (1998) Method "
   ]
  },
  {
   "cell_type": "code",
   "execution_count": null,
   "metadata": {
    "collapsed": false,
    "deletable": true,
    "editable": true
   },
   "outputs": [],
   "source": [
    "from smtk.smoothing.konno_ohmachi import KonnoOhmachi\n",
    "# Get the original Fourier spectrum\n",
    "freq, amplitude = ims.get_fourier_spectrum(x_record, x_time_step)\n",
    "\n",
    "# Configure Smoothing Parameters\n",
    "smoothing_config = {\"bandwidth\": 40, # Size of smoothing window (lower = more smoothing)\n",
    "                    \"count\": 1, # Number of times to apply smoothing (may be more for noisy records) \n",
    "                    \"normalize\": True} \n",
    "\n",
    "# Apply the Smoothing\n",
    "smoother = KonnoOhmachi(smoothing_config)\n",
    "smoothed_spectra = smoother.apply_smoothing(amplitude, freq)\n",
    "\n",
    "# Compare the Two Spectra\n",
    "plt.figure(figsize=(7,5))\n",
    "plt.loglog(freq, amplitude, \"k-\", lw=1.0,label=\"Original\")\n",
    "plt.loglog(freq, smoothed_spectra, \"r\", lw=2.0, label=\"Smoothed\")\n",
    "plt.xlabel(\"Frequency (Hz)\", fontsize=14)\n",
    "plt.xlim(0.05, 200)\n",
    "plt.ylabel(\"Fourier Amplitude\", fontsize=14)\n",
    "plt.tick_params(labelsize=12)\n",
    "plt.legend(loc=0, fontsize=14)\n",
    "plt.grid(True)\n",
    "plt.savefig(\"images/SmoothedFourierSpectra.pdf\", format=\"pdf\", dpi=300)"
   ]
  },
  {
   "cell_type": "markdown",
   "metadata": {
    "deletable": true,
    "editable": true
   },
   "source": [
    "## Get the HVSR"
   ]
  },
  {
   "cell_type": "markdown",
   "metadata": {
    "deletable": true,
    "editable": true
   },
   "source": [
    "#### Load in the Time Series"
   ]
  },
  {
   "cell_type": "code",
   "execution_count": null,
   "metadata": {
    "collapsed": false,
    "deletable": true,
    "editable": true
   },
   "outputs": [],
   "source": [
    "# Load in a three component data set\n",
    "record_file = \"data/record_3component.csv\"\n",
    "record_3comp = np.genfromtxt(record_file, delimiter=\",\")\n",
    "\n",
    "time_vector = record_3comp[:, 0]\n",
    "x_record = record_3comp[:, 1]\n",
    "y_record = record_3comp[:, 2]\n",
    "v_record = record_3comp[:, 3]\n",
    "time_step = 0.002\n",
    "\n",
    "# Plot the records\n",
    "fig = plt.figure(figsize=(8,12))\n",
    "fig.set_tight_layout(True)\n",
    "ax = plt.subplot(311)\n",
    "ax.plot(time_vector, x_record)\n",
    "ax.set_ylim(-80., 80.)\n",
    "ax.set_xlim(0., 10.5)\n",
    "ax.grid(True)\n",
    "ax.set_xlabel(\"Time (s)\", fontsize=14)\n",
    "ax.set_ylabel(\"Acceleration (cm/s/s)\", fontsize=14)\n",
    "ax.tick_params(labelsize=12)\n",
    "ax.set_title(\"EW\", fontsize=16)\n",
    "ax = plt.subplot(312)\n",
    "ax.plot(time_vector, y_record)\n",
    "ax.set_xlim(0., 10.5)\n",
    "ax.set_ylim(-80., 80.)\n",
    "ax.grid(True)\n",
    "ax.set_xlabel(\"Time (s)\", fontsize=14)\n",
    "ax.set_ylabel(\"Acceleration (cm/s/s)\", fontsize=14)\n",
    "ax.set_title(\"NS\", fontsize=16)\n",
    "ax.tick_params(labelsize=12)\n",
    "ax = plt.subplot(313)\n",
    "ax.plot(time_vector, v_record)\n",
    "ax.set_xlim(0., 10.5)\n",
    "ax.set_ylim(-40., 40.)\n",
    "ax.grid(True)\n",
    "ax.set_xlabel(\"Time (s)\", fontsize=14)\n",
    "ax.set_ylabel(\"Acceleration (cm/s/s)\", fontsize=14)\n",
    "ax.set_title(\"Vertical\", fontsize=16)\n",
    "ax.tick_params(labelsize=12)\n",
    "plt.savefig(\"images/3component_timeseries.pdf\", format=\"pdf\", dpi=300)"
   ]
  },
  {
   "cell_type": "markdown",
   "metadata": {
    "deletable": true,
    "editable": true
   },
   "source": [
    "#### Look at the Fourier Spectra"
   ]
  },
  {
   "cell_type": "code",
   "execution_count": null,
   "metadata": {
    "collapsed": false,
    "deletable": true,
    "editable": true
   },
   "outputs": [],
   "source": [
    "x_freq, x_four = ims.get_fourier_spectrum(x_record, time_step)\n",
    "y_freq, y_four = ims.get_fourier_spectrum(y_record, time_step)\n",
    "v_freq, v_four = ims.get_fourier_spectrum(v_record, time_step)\n",
    "plt.figure(figsize=(7, 5))\n",
    "plt.loglog(x_freq, x_four, \"k-\", lw=1.0, label=\"EW\")\n",
    "plt.loglog(y_freq, y_four, \"b-\", lw=1.0, label=\"NS\")\n",
    "plt.loglog(v_freq, v_four, \"r-\", lw=1.0, label=\"V\")\n",
    "plt.xlim(0.05, 200.)\n",
    "plt.tick_params(labelsize=12)\n",
    "plt.grid(True)\n",
    "plt.xlabel(\"Frequency (Hz)\", fontsize=16)\n",
    "plt.ylabel(\"Fourier Amplitude\", fontsize=16)\n",
    "plt.legend(loc=3, fontsize=16)\n",
    "plt.savefig(\"images/3component_fas.pdf\", format=\"pdf\", dpi=300)"
   ]
  },
  {
   "cell_type": "markdown",
   "metadata": {
    "deletable": true,
    "editable": true
   },
   "source": [
    "### Calculate the Horizontal To Vertical Spectral Ratio"
   ]
  },
  {
   "cell_type": "code",
   "execution_count": null,
   "metadata": {
    "collapsed": false,
    "deletable": true,
    "editable": true
   },
   "outputs": [],
   "source": [
    "# Setup parameters\n",
    "params = {\"Function\": \"KonnoOhmachi\",\n",
    "          \"bandwidth\": 40.0,\n",
    "          \"count\": 1.0,\n",
    "          \"normalize\": True\n",
    "          }\n",
    "# Returns\n",
    "# 1. Horizontal to Vertical Spectral Ratio\n",
    "# 2. Frequency\n",
    "# 3. Maximum H/V\n",
    "# 4. Period of Maximum H/V\n",
    "hvsr, freq, max_hv, t_0 = ims.get_hvsr(x_record, time_step, y_record, time_step, v_record, time_step, params)"
   ]
  },
  {
   "cell_type": "code",
   "execution_count": null,
   "metadata": {
    "collapsed": false,
    "deletable": true,
    "editable": true
   },
   "outputs": [],
   "source": [
    "plt.figure(figsize=(7,5))\n",
    "plt.semilogx(freq, hvsr, 'k-', lw=2.0)\n",
    "# Show T0\n",
    "t_0_line = np.array([[t_0, 0.0],\n",
    "                     [t_0, 1.1 * max_hv]])\n",
    "plt.semilogx(1.0 / t_0_line[:, 0], t_0_line[:, 1], \"r--\", lw=1.5)\n",
    "plt.xlabel(\"Frequency (Hz)\", fontsize=14)\n",
    "plt.ylabel(\"H / V\", fontsize=14)\n",
    "plt.tick_params(labelsize=14)\n",
    "plt.xlim(0.1, 10.0)\n",
    "plt.grid(True)\n",
    "plt.title(r\"$T_0 = %.4f s$\" % t_0, fontsize=16)\n",
    "plt.savefig(\"images/hvsr_example1.pdf\", format=\"pdf\", dpi=300)"
   ]
  }
 ],
 "metadata": {
  "kernelspec": {
   "display_name": "Python 2",
   "language": "python",
   "name": "python2"
  },
  "language_info": {
   "codemirror_mode": {
    "name": "ipython",
    "version": 2
   },
   "file_extension": ".py",
   "mimetype": "text/x-python",
   "name": "python",
   "nbconvert_exporter": "python",
   "pygments_lexer": "ipython2",
   "version": "2.7.13"
  }
 },
 "nbformat": 4,
 "nbformat_minor": 0
}
