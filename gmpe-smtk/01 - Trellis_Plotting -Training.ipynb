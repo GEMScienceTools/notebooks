{
 "cells": [
  {
   "cell_type": "markdown",
   "metadata": {
    "deletable": true,
    "editable": true
   },
   "source": [
    "# Comparing GMPEs Using Trellis Plots"
   ]
  },
  {
   "cell_type": "raw",
   "metadata": {
    "deletable": true,
    "editable": true
   },
   "source": [
    "The objective of this worksheet is to demonstrate how to use the SMTK and Openquake to generate Trellis plots to compare different GMPEs. It is necessary to establish a source and site configuration for which different GMPEs can be compared. This can be done in one of two ways:\n",
    "\n",
    "1) Manually create parameters of the rupture, distances and sites\n",
    "2) Creation of a planar planar rupture surface with a site orientation that can be used to explore the influence of the GMPE space"
   ]
  },
  {
   "cell_type": "markdown",
   "metadata": {
    "deletable": true,
    "editable": true
   },
   "source": [
    "### Manual Creation of Trellis Plots"
   ]
  },
  {
   "cell_type": "raw",
   "metadata": {
    "deletable": true,
    "editable": true
   },
   "source": [
    "In this example we will compare six GMPEs under a controlled set of conditions:\n",
    "1) Akkar & Bommer (2010)\n",
    "2) Akkar & Cagnan (2010)\n",
    "3) Akkar et al (2014) - Joyner-Boore coefficients\n",
    "4) Boore & Atkinson (2008)\n",
    "5) Chiou & Youngs (2008)\n",
    "6) Zhao et al (2006) (Active Shallow Crust)\n",
    "\n",
    "In the present examples we will consider four intensity measures:\n",
    "\n",
    "i) PGA\n",
    "ii) Sa (0.2)\n",
    "iii) Sa (1.0)\n",
    "iv) Sa (2.0)"
   ]
  },
  {
   "cell_type": "code",
   "execution_count": null,
   "metadata": {
    "collapsed": false,
    "deletable": true,
    "editable": true
   },
   "outputs": [],
   "source": [
    "%load_ext autoreload\n",
    "%autoreload 2\n",
    "import warnings; warnings.filterwarnings(\"ignore\")"
   ]
  },
  {
   "cell_type": "code",
   "execution_count": null,
   "metadata": {
    "collapsed": false,
    "deletable": true,
    "editable": true
   },
   "outputs": [],
   "source": [
    "# Import the modules\n",
    "%matplotlib inline\n",
    "import numpy as np\n",
    "import smtk.trellis.trellis_plots as trpl\n",
    "from openquake.hazardlib.gsim import get_available_gsims"
   ]
  },
  {
   "cell_type": "code",
   "execution_count": null,
   "metadata": {
    "collapsed": false,
    "deletable": true,
    "editable": true,
    "scrolled": true
   },
   "outputs": [],
   "source": [
    "get_available_gsims().keys()"
   ]
  },
  {
   "cell_type": "code",
   "execution_count": null,
   "metadata": {
    "collapsed": false,
    "deletable": true,
    "editable": true
   },
   "outputs": [],
   "source": [
    "# Set up the configuration\n",
    "GMPES = get_available_gsims()\n",
    "gmpe_list = [\"AkkarBommer2010\", \n",
    "             \"AkkarCagnan2010\", \n",
    "             \"AkkarEtAlRjb2014\", \n",
    "             \"BooreAtkinson2008\", \n",
    "             \"ChiouYoungs2008\",\n",
    "             \"ZhaoEtAl2006Asc\"]\n",
    "\n",
    "imts = [\"PGA\", \"SA(0.2)\", \"SA(1.0)\", \"SA(2.0)\"]\n",
    "\n",
    "params = {\"ztor\": 5.0,   # Top of rupture depth\n",
    "         \"hypo_depth\": 10.0,   # Hypocentral depth\n",
    "         \"vs30\": 800.0, # Vs30 for all sites\n",
    "         \"vs30measured\": True, # Vs30 value is measured\n",
    "         \"z1pt0\": 100.0, # Depth (m) to the 1.0 km/s Vs interface \n",
    "         \"dip\": 90.0,  # Vertical Fault\n",
    "         \"rake\": 0.0 # Strike-slip fault\n",
    "         }"
   ]
  },
  {
   "cell_type": "code",
   "execution_count": null,
   "metadata": {
    "collapsed": false,
    "deletable": true,
    "editable": true
   },
   "outputs": [],
   "source": [
    "magnitudes = np.arange(4.5, 8.1, 0.1)\n",
    "distances = {\"repi\": 20.0,\n",
    "             \"rhypo\": 22.5,\n",
    "             \"rjb\": 15.0,\n",
    "             \"rrup\": 16.0,\n",
    "             \"rx\": 15.0}"
   ]
  },
  {
   "cell_type": "markdown",
   "metadata": {
    "deletable": true,
    "editable": true
   },
   "source": [
    "##### Example 1: Scaling of IMT with magnitude"
   ]
  },
  {
   "cell_type": "code",
   "execution_count": null,
   "metadata": {
    "collapsed": false,
    "deletable": true,
    "editable": true
   },
   "outputs": [],
   "source": [
    "mag_imt_trellis = trpl.MagnitudeIMTTrellis(magnitudes, distances, gmpe_list, imts, params, figure_size=(7,5),\n",
    "                                           filename=\"images/magnitude_imt_trellis_simple.pdf\", filetype=\"pdf\")\n"
   ]
  },
  {
   "cell_type": "code",
   "execution_count": null,
   "metadata": {
    "collapsed": true,
    "deletable": true,
    "editable": true
   },
   "outputs": [],
   "source": [
    "mag_imt_trellis.pretty_print(\"data/magnitude_imt_trellis1.csv\", sep=\",\")"
   ]
  },
  {
   "cell_type": "code",
   "execution_count": null,
   "metadata": {
    "collapsed": false,
    "deletable": true,
    "editable": true
   },
   "outputs": [],
   "source": [
    "mag_imt_sigma_trellis = trpl.MagnitudeSigmaIMTTrellis(magnitudes, distances, gmpe_list, imts, params, \n",
    "                                                      stddevs=\"Total\", figure_size=(7,5),\n",
    "                                                      filename=\"images/magnitude_intra_sigma_imt_trellis_simple.pdf\",\n",
    "                                                      filetype=\"pdf\")"
   ]
  },
  {
   "cell_type": "code",
   "execution_count": null,
   "metadata": {
    "collapsed": true,
    "deletable": true,
    "editable": true
   },
   "outputs": [],
   "source": [
    "mag_imt_sigma_trellis.pretty_print(\"data/magnitude_imt_sigma_trellis1.csv\", sep=\",\")"
   ]
  },
  {
   "cell_type": "markdown",
   "metadata": {
    "deletable": true,
    "editable": true
   },
   "source": [
    "##### Example 2: Scaling of IMT with Distance"
   ]
  },
  {
   "cell_type": "code",
   "execution_count": null,
   "metadata": {
    "collapsed": false,
    "deletable": true,
    "editable": true
   },
   "outputs": [],
   "source": [
    "magnitudes = 6.5\n",
    "distances = {\"repi\": np.arange(0.0, 151.0, 1.0)}\n",
    "distances[\"rhypo\"] = np.sqrt(distances[\"repi\"] ** 2.0 + params[\"hypo_depth\"] ** 2)\n",
    "distances[\"rjb\"] = distances[\"repi\"]\n",
    "distances[\"rrup\"] = np.sqrt(distances[\"rjb\"] ** 2.0 + params[\"ztor\"] ** 2)\n",
    "distances[\"rx\"] = distances[\"rjb\"]\n"
   ]
  },
  {
   "cell_type": "code",
   "execution_count": null,
   "metadata": {
    "collapsed": false,
    "deletable": true,
    "editable": true
   },
   "outputs": [],
   "source": [
    "dist_imt_trellis = trpl.DistanceIMTTrellis(magnitudes, distances, gmpe_list, imts, params,\n",
    "                                           distance_type=\"rjb\", plot_type=\"loglog\",\n",
    "                                           filename=\"images/magnitude_distance_imt_trellis_simple.pdf\", filetype=\"pdf\")"
   ]
  },
  {
   "cell_type": "code",
   "execution_count": null,
   "metadata": {
    "collapsed": true,
    "deletable": true,
    "editable": true
   },
   "outputs": [],
   "source": [
    "dist_imt_trellis.pretty_print(\"data/distance_imt_trellis1.csv\", sep=\",\")"
   ]
  },
  {
   "cell_type": "code",
   "execution_count": null,
   "metadata": {
    "collapsed": false,
    "deletable": true,
    "editable": true
   },
   "outputs": [],
   "source": [
    "dist_imt_sigma_trellis = trpl.DistanceSigmaIMTTrellis(magnitudes, distances, gmpe_list, imts, params,\n",
    "                                                      distance_type=\"rjb\", plot_type=\"loglog\",\n",
    "                                                      filename=\"images/distance_total_sigma_imt_trellis_simple.pdf\",\n",
    "                                                      filetype=\"pdf\")"
   ]
  },
  {
   "cell_type": "code",
   "execution_count": null,
   "metadata": {
    "collapsed": true,
    "deletable": true,
    "editable": true
   },
   "outputs": [],
   "source": [
    "dist_imt_sigma_trellis.pretty_print(\"data/distance_imt_sigma_trellis1.csv\", sep=\",\")"
   ]
  },
  {
   "cell_type": "markdown",
   "metadata": {
    "deletable": true,
    "editable": true
   },
   "source": [
    "##### Example 3 : Response Spectra with Magnitude and Distance"
   ]
  },
  {
   "cell_type": "code",
   "execution_count": null,
   "metadata": {
    "collapsed": false,
    "deletable": true,
    "editable": true
   },
   "outputs": [],
   "source": [
    "periods = [0.05, 0.075, 0.1, 0.11, 0.12, 0.13, 0.14, 0.15, 0.16, 0.17, 0.18, 0.19,\n",
    "           0.20, 0.22, 0.24, 0.26, 0.28, 0.30, 0.32, 0.34, 0.36, 0.38, 0.40, 0.42, 0.44, 0.46, 0.48, 0.5, \n",
    "           0.55, 0.6, 0.65, 0.7, 0.75, 0.8, 0.85, 0.9, 0.95, 1.0, 1.1, 1.2, 1.3, 1.4, 1.5, 1.6, 1.7, 1.8, \n",
    "           1.9, 2.0, 3.0, 4.0, 5.0, 7.5, 10.0]\n",
    "\n",
    "# Choose 4 magnitudes for comparison: 5, 6, 7, 8\n",
    "magnitudes = np.array([5.0, 6.0, 7.0, 8.0])\n",
    "# Choose 4 distances for comparison: 5., 20., 50., 100.\n",
    "distances = {\"repi\": np.array([5.0, 20.0, 50.0, 100.0])}\n",
    "distances[\"rhypo\"] = np.sqrt(distances[\"repi\"] ** 2.0 + params[\"hypo_depth\"] ** 2)\n",
    "distances[\"rjb\"] = distances[\"repi\"]\n",
    "distances[\"rrup\"] = np.sqrt(distances[\"rjb\"] ** 2.0 + params[\"ztor\"] ** 2)\n",
    "distances[\"rx\"] = distances[\"rjb\"]"
   ]
  },
  {
   "cell_type": "code",
   "execution_count": null,
   "metadata": {
    "collapsed": false,
    "deletable": true,
    "editable": true
   },
   "outputs": [],
   "source": [
    "mag_dist_spectra_trellis = trpl.MagnitudeDistanceSpectraTrellis(magnitudes, distances, gmpe_list,\n",
    "                                                                periods, params, plot_type=\"loglog\",\n",
    "                                                                figure_size=(10,8),\n",
    "                                                                filename=\"images/spectra_trellis_simple.pdf\",\n",
    "                                                                filetype=\"pdf\")"
   ]
  },
  {
   "cell_type": "code",
   "execution_count": null,
   "metadata": {
    "collapsed": true,
    "deletable": true,
    "editable": true
   },
   "outputs": [],
   "source": [
    "mag_dist_spectra_trellis.pretty_print(\"data/mag_dist_spectra_trellis.csv\", sep=\",\")"
   ]
  },
  {
   "cell_type": "code",
   "execution_count": null,
   "metadata": {
    "collapsed": false,
    "deletable": true,
    "editable": true
   },
   "outputs": [],
   "source": [
    "mag_dist_spectra_sigma = trpl.MagnitudeDistanceSpectraSigmaTrellis(magnitudes, distances, gmpe_list,\n",
    "                                                                   periods, params, plot_type=\"loglog\",\n",
    "                                                                   figure_size=(10,8),\n",
    "                                                                   filename=\"images/spectra_total_sigma_trellis_simple.pdf\",\n",
    "                                                                   filetype=\"pdf\")"
   ]
  },
  {
   "cell_type": "code",
   "execution_count": null,
   "metadata": {
    "collapsed": true,
    "deletable": true,
    "editable": true
   },
   "outputs": [],
   "source": [
    "mag_dist_spectra_sigma.pretty_print(\"data/mag_dist_spectra_sigma.csv\", sep=\",\")"
   ]
  },
  {
   "cell_type": "markdown",
   "metadata": {
    "deletable": true,
    "editable": true
   },
   "source": [
    "## Creation of a Trellis Plots from a Rupture-Site Configuration"
   ]
  },
  {
   "cell_type": "raw",
   "metadata": {
    "deletable": true,
    "editable": true
   },
   "source": [
    "As is seen from the previous examples, in order to configure the trellis manually it is necessary to specify how the distance metrics relate to one another. The example above is relatively simple, but for dipping ruptures or more complex configurations it is difficult for the user to determine a realistic set of distance configurations.\n",
    "\n",
    "The solution to this is to use OpenQuake's rupture geometry functions to set up a rupture and a site configuration that ensures total consistency in the distance metrics. Furthermore, it becomes easier to visualise how the different GMPEs behave with different rupture and site configurations"
   ]
  },
  {
   "cell_type": "markdown",
   "metadata": {
    "deletable": true,
    "editable": true
   },
   "source": [
    "##### Setting up the Rupture"
   ]
  },
  {
   "cell_type": "raw",
   "metadata": {
    "deletable": true,
    "editable": true
   },
   "source": [
    "A rupture can be configured with the following properties (*indicates compulsory)\n",
    "          magnitude : The magnitude of the rupture*\n",
    "                dip : Dip of the rupture*\n",
    "             aspect : Aspect ratio of the rupture*\n",
    "    tectonic region : Tectonic Region Type\n",
    "               rake : Rake of rupture\n",
    "               ztor : Top of Rupture Depth\n",
    "             strike : Strike of rupture\n",
    "                msr : Magnitude Scaling Model (default: WC1994() - Wells & Coppersmith, 1994)\n",
    "      initial_point : Loction on Earth's Surface to place centroid of rupture (Longitude, Latitude, Depth) \n",
    "hypocentre_location : Location of the hypocentre within the rupture (along-strike fraction, down-dip fraction)"
   ]
  },
  {
   "cell_type": "code",
   "execution_count": null,
   "metadata": {
    "collapsed": false,
    "deletable": true,
    "editable": true
   },
   "outputs": [],
   "source": [
    "import smtk.trellis.configure as rcfg"
   ]
  },
  {
   "cell_type": "code",
   "execution_count": null,
   "metadata": {
    "collapsed": false,
    "deletable": true,
    "editable": true
   },
   "outputs": [],
   "source": [
    "#A rupture is configured with the following properties\n",
    "\n",
    "# The hypocentre location can be configured using the tuple (along-strike fraction, down-dip fraction)\n",
    "# If not specified, the rupture will place the hypocentre in the centroid of the plane i.e.\n",
    "hypo_loc = (0.5, 0.5) \n",
    "\n",
    "\n",
    "rupt1 = rcfg.GSIMRupture(magnitude=6.5,   # Moment magnitude\n",
    "                         dip=45.0,   # Dip of Rupture\n",
    "                         aspect=1.5, # Aspect Ratio of Rupture\n",
    "                         rake=90.0,  # Rake of rupture \n",
    "                         ztor=0.0,  # Top of rupture depth\n",
    "                         strike=0.0,  # Strike of rupture\n",
    "                         hypocentre_location=hypo_loc   # Location of hypocentre within rupture plane\n",
    "                         )"
   ]
  },
  {
   "cell_type": "markdown",
   "metadata": {
    "deletable": true,
    "editable": true
   },
   "source": [
    "### Configuring the Sites"
   ]
  },
  {
   "cell_type": "raw",
   "metadata": {
    "deletable": true,
    "editable": true
   },
   "source": [
    "The location of the sites with respect to the ruptures can be configured in several different ways:\n",
    "i) As a mesh of points overlaying the site up to a maximum Joyner-Boore distance\n",
    "ii) As a line of points radiating away from the rupture along a given azimuth up to a maximum Joyner-Boore distance\n",
    "iii) As a point located at a specific distance away from the rupture (distance can be configured by the user)"
   ]
  },
  {
   "cell_type": "markdown",
   "metadata": {
    "deletable": true,
    "editable": true
   },
   "source": [
    "##### Set-up as a Mesh of Points"
   ]
  },
  {
   "cell_type": "code",
   "execution_count": null,
   "metadata": {
    "collapsed": false,
    "deletable": true,
    "editable": true
   },
   "outputs": [],
   "source": [
    "_ = rupt1.get_target_sites_mesh(maximum_distance=200.0,\n",
    "                                spacing = 5.0,\n",
    "                                vs30 = 800.0)\n",
    "rupt1.plot_model_configuration(marker_style=\".\", filename=\"images/rupt_config_regular_mesh.pdf\", filetype=\"pdf\")"
   ]
  },
  {
   "cell_type": "code",
   "execution_count": null,
   "metadata": {
    "collapsed": false,
    "deletable": true,
    "editable": true
   },
   "outputs": [],
   "source": [
    "# If you are interested to see how two differen distance types compare in this scenario there is\n",
    "# a built-in plotting function\n",
    "rupt1.plot_distance_comparisons(\"rjb\", \"rrup\", filename=\"images/rupt_distance_comp_1.pdf\", filetype=\"pdf\")"
   ]
  },
  {
   "cell_type": "markdown",
   "metadata": {
    "deletable": true,
    "editable": true
   },
   "source": [
    "##### Set up as a Line of Points"
   ]
  },
  {
   "cell_type": "code",
   "execution_count": null,
   "metadata": {
    "collapsed": false,
    "deletable": true,
    "editable": true
   },
   "outputs": [],
   "source": [
    "rupt2 = rcfg.GSIMRupture(magnitude=6.5,   # Moment magnitude\n",
    "                         dip=45.0,   # Dip of Rupture\n",
    "                         aspect=1.5, # Aspect Ratio of Rupture\n",
    "                         rake=90.0,  # Rake of rupture \n",
    "                         ztor=0.0,  # Top of rupture depth\n",
    "                         strike=0.0,  # Strike of rupture\n",
    "                         hypocentre_location=hypo_loc   # Location of hypocentre within rupture plane\n",
    "                         )\n",
    "_ = rupt2.get_target_sites_line(200.0, 2.0, vs30=800.0, line_azimuth=90, as_log=False)\n",
    "rupt2.plot_model_configuration(filename=\"images/rupt_config_line.pdf\", filetype=\"pdf\")"
   ]
  },
  {
   "cell_type": "code",
   "execution_count": null,
   "metadata": {
    "collapsed": false,
    "deletable": true,
    "editable": true
   },
   "outputs": [],
   "source": [
    "rupt2.plot_distance_comparisons(\"repi\", \"rjb\", filename=\"images/distance_config_2.pdf\", filetype=\"pdf\")"
   ]
  },
  {
   "cell_type": "markdown",
   "metadata": {
    "deletable": true,
    "editable": true
   },
   "source": [
    "##### Set up as a single Point (useful for spectra comparisons!)"
   ]
  },
  {
   "cell_type": "code",
   "execution_count": null,
   "metadata": {
    "collapsed": false,
    "deletable": true,
    "editable": true
   },
   "outputs": [],
   "source": [
    "rupt3 = rcfg.GSIMRupture(magnitude=6.5,   # Moment magnitude\n",
    "                         dip=45.0,   # Dip of Rupture\n",
    "                         aspect=1.5, # Aspect Ratio of Rupture\n",
    "                         rake=90.0,  # Rake of rupture \n",
    "                         ztor=0.0,  # Top of rupture depth\n",
    "                         strike=0.0,  # Strike of rupture\n",
    "                         hypocentre_location=hypo_loc   # Location of hypocentre within rupture plane\n",
    "                         )\n",
    "_ = rupt3.get_target_sites_point(20.0,  # Distance (km) \n",
    "                                 \"rjb\",  # Distance Type\n",
    "                                 vs30=800.0, \n",
    "                                 line_azimuth=90.)\n",
    "rupt3.plot_model_configuration(filename=\"images/rupt_config_site.pdf\", filetype=\"pdf\")"
   ]
  },
  {
   "cell_type": "markdown",
   "metadata": {
    "deletable": true,
    "editable": true
   },
   "source": [
    "### Create the Trellis Plots"
   ]
  },
  {
   "cell_type": "markdown",
   "metadata": {
    "deletable": true,
    "editable": true
   },
   "source": [
    "In this example we will use just the line configuration\n"
   ]
  },
  {
   "cell_type": "code",
   "execution_count": null,
   "metadata": {
    "collapsed": false,
    "deletable": true,
    "editable": true
   },
   "outputs": [],
   "source": [
    "rupt1 = rcfg.GSIMRupture(magnitude=6.5,   # Moment magnitude\n",
    "                         dip=45.0,   # Dip of Rupture\n",
    "                         aspect=1.5, # Aspect Ratio of Rupture\n",
    "                         rake=90.0,  # Rake of rupture \n",
    "                         ztor=0.0,  # Top of rupture depth\n",
    "                         strike=0.0,  # Strike of rupture\n",
    "                         hypocentre_location=hypo_loc   # Location of hypocentre within rupture plane\n",
    "                         )\n",
    "# It is critical that before running the trellis plots, the site configuration must be run!!!!\n",
    "_ = rupt1.get_target_sites_line(200.0, 1.0, vs30=800.0, line_azimuth=90)\n",
    "rupt1.plot_model_configuration()"
   ]
  },
  {
   "cell_type": "markdown",
   "metadata": {
    "deletable": true,
    "editable": true
   },
   "source": [
    "##### Example 1 - Distance Scaling with IMT"
   ]
  },
  {
   "cell_type": "code",
   "execution_count": null,
   "metadata": {
    "collapsed": false,
    "deletable": true,
    "editable": true
   },
   "outputs": [],
   "source": [
    "trpl.DistanceIMTTrellis.from_rupture_model(rupt1, gmpe_list, imts, \n",
    "                                           filename=\"images/distance_trellis_rupt.pdf\", filetype=\"pdf\")"
   ]
  },
  {
   "cell_type": "code",
   "execution_count": null,
   "metadata": {
    "collapsed": false,
    "deletable": true,
    "editable": true
   },
   "outputs": [],
   "source": [
    "trpl.DistanceSigmaIMTTrellis.from_rupture_model(rupt1, gmpe_list, imts, \n",
    "                                                filename=\"images/distance_sigma_trellis_rupt.pdf\", filetype=\"pdf\")"
   ]
  },
  {
   "cell_type": "markdown",
   "metadata": {
    "deletable": true,
    "editable": true
   },
   "source": [
    "##### Distance Scaling along a different aziumth"
   ]
  },
  {
   "cell_type": "code",
   "execution_count": null,
   "metadata": {
    "collapsed": false,
    "deletable": true,
    "editable": true
   },
   "outputs": [],
   "source": [
    "rupt2 = rcfg.GSIMRupture(magnitude=6.5,   # Moment magnitude\n",
    "                         dip=45.0,   # Dip of Rupture\n",
    "                         aspect=1.5, # Aspect Ratio of Rupture\n",
    "                         rake=90.0,  # Rake of rupture \n",
    "                         ztor=0.0,  # Top of rupture depth\n",
    "                         strike=0.0,  # Strike of rupture\n",
    "                         hypocentre_location=hypo_loc   # Location of hypocentre within rupture plane\n",
    "                         )\n",
    "# It is critical that before running the trellis plots, the site configuration must be run!!!!\n",
    "_ = rupt2.get_target_sites_line(200.0, 1.0, vs30=800.0, line_azimuth=230.0)\n",
    "rupt2.plot_model_configuration(filename=\"images/rupt_config_footwall.pdf\", filetype=\"pdf\")"
   ]
  },
  {
   "cell_type": "code",
   "execution_count": null,
   "metadata": {
    "collapsed": false,
    "deletable": true,
    "editable": true
   },
   "outputs": [],
   "source": [
    "trpl.DistanceIMTTrellis.from_rupture_model(rupt2, gmpe_list, imts,\n",
    "                                           filename=\"images/distance_footwall_trellis_rupt.pdf\", filetype=\"pdf\")"
   ]
  },
  {
   "cell_type": "code",
   "execution_count": null,
   "metadata": {
    "collapsed": false,
    "deletable": true,
    "editable": true
   },
   "outputs": [],
   "source": [
    "trpl.DistanceSigmaIMTTrellis.from_rupture_model(rupt2, gmpe_list, imts, \n",
    "                                                filename=\"images/distance_sigma_trellis_rupt.pdf\", filetype=\"pdf\")"
   ]
  },
  {
   "cell_type": "markdown",
   "metadata": {
    "deletable": true,
    "editable": true
   },
   "source": [
    "##### Spectral Scaling IMT"
   ]
  },
  {
   "cell_type": "code",
   "execution_count": null,
   "metadata": {
    "collapsed": false,
    "deletable": true,
    "editable": true
   },
   "outputs": [],
   "source": [
    "rupt3 = rcfg.GSIMRupture(magnitude=6.5,   # Moment magnitude\n",
    "                         dip=45.0,   # Dip of Rupture\n",
    "                         aspect=1.5, # Aspect Ratio of Rupture\n",
    "                         rake=90.0,  # Rake of rupture \n",
    "                         ztor=0.0,  # Top of rupture depth\n",
    "                         strike=0.0,  # Strike of rupture\n",
    "                         hypocentre_location=hypo_loc   # Location of hypocentre within rupture plane\n",
    "                         )\n",
    "_ = rupt3.get_target_sites_point(20.0,  # Distance (km) \n",
    "                                 \"rjb\",  # Distance Type\n",
    "                                 vs30=800.0, \n",
    "                                 line_azimuth=90.)\n",
    "rupt3.plot_model_configuration()"
   ]
  },
  {
   "cell_type": "code",
   "execution_count": null,
   "metadata": {
    "collapsed": false,
    "deletable": true,
    "editable": true
   },
   "outputs": [],
   "source": [
    "trpl.MagnitudeDistanceSpectraTrellis.from_rupture_model(rupt3, gmpe_list, periods,\n",
    "                                                        filename=\"images/spectra_trellis_rupt.pdf\", filetype=\"pdf\")"
   ]
  },
  {
   "cell_type": "code",
   "execution_count": null,
   "metadata": {
    "collapsed": false,
    "deletable": true,
    "editable": true
   },
   "outputs": [],
   "source": [
    "trpl.MagnitudeDistanceSpectraSigmaTrellis.from_rupture_model(rupt3, gmpe_list, periods,\n",
    "                                                             filename=\"images/spectra_sigma_trellis_rupt.pdf\", filetype=\"pdf\")"
   ]
  },
  {
   "cell_type": "markdown",
   "metadata": {
    "deletable": true,
    "editable": true
   },
   "source": [
    "##### With a different azimuth (now on the footwall!)"
   ]
  },
  {
   "cell_type": "code",
   "execution_count": null,
   "metadata": {
    "collapsed": false,
    "deletable": true,
    "editable": true
   },
   "outputs": [],
   "source": [
    "rupt3 = rcfg.GSIMRupture(magnitude=6.5,   # Moment magnitude\n",
    "                         dip=45.0,   # Dip of Rupture\n",
    "                         aspect=1.5, # Aspect Ratio of Rupture\n",
    "                         rake=90.0,  # Rake of rupture \n",
    "                         ztor=0.0,  # Top of rupture depth\n",
    "                         strike=0.0,  # Strike of rupture\n",
    "                         hypocentre_location=hypo_loc   # Location of hypocentre within rupture plane\n",
    "                         )\n",
    "_ = rupt3.get_target_sites_point(20.0,  # Distance (km) \n",
    "                                 \"rjb\",  # Distance Type\n",
    "                                 vs30=800.0, \n",
    "                                 line_azimuth=220.)\n",
    "rupt3.plot_model_configuration(filename=\"images/rupture_config_footwall_site.pdf\", filetype=\"pdf\")"
   ]
  },
  {
   "cell_type": "code",
   "execution_count": null,
   "metadata": {
    "collapsed": false,
    "deletable": true,
    "editable": true
   },
   "outputs": [],
   "source": [
    "trpl.MagnitudeDistanceSpectraTrellis.from_rupture_model(rupt3, gmpe_list, periods,\n",
    "                                                        filename=\"images/spectra_trellis_rupt_footwall.pdf\",\n",
    "                                                        filetype=\"pdf\")"
   ]
  },
  {
   "cell_type": "code",
   "execution_count": null,
   "metadata": {
    "collapsed": false,
    "deletable": true,
    "editable": true
   },
   "outputs": [],
   "source": [
    "trpl.MagnitudeDistanceSpectraSigmaTrellis.from_rupture_model(rupt3, gmpe_list, periods,\n",
    "                                                             filename=\"images/spectra_sigma_trellis_rupt_footwall.pdf\",\n",
    "                                                             filetype=\"pdf\")"
   ]
  }
 ],
 "metadata": {
  "kernelspec": {
   "display_name": "Python 2",
   "language": "python",
   "name": "python2"
  },
  "language_info": {
   "codemirror_mode": {
    "name": "ipython",
    "version": 2
   },
   "file_extension": ".py",
   "mimetype": "text/x-python",
   "name": "python",
   "nbconvert_exporter": "python",
   "pygments_lexer": "ipython2",
   "version": "2.7.13"
  }
 },
 "nbformat": 4,
 "nbformat_minor": 0
}
