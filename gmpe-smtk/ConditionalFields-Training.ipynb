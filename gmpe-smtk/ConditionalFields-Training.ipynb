{
 "cells": [
  {
   "cell_type": "markdown",
   "metadata": {
    "deletable": true,
    "editable": true
   },
   "source": [
    "# Example of Conditional Random Field Simulation Using the GMPE-SMTK and OpenQuake "
   ]
  },
  {
   "cell_type": "code",
   "execution_count": null,
   "metadata": {
    "collapsed": true,
    "deletable": true,
    "editable": true
   },
   "outputs": [],
   "source": [
    "%load_ext autoreload\n",
    "%autoreload 2"
   ]
  },
  {
   "cell_type": "code",
   "execution_count": null,
   "metadata": {
    "collapsed": false,
    "deletable": true,
    "editable": true
   },
   "outputs": [],
   "source": [
    "%matplotlib inline\n",
    "import numpy as np\n",
    "import matplotlib.pyplot as plt\n",
    "from matplotlib.colors import LogNorm, Normalize\n",
    "import smtk.hazard.conditional_simulation as csim\n",
    "import smtk.sm_database_builder as sdb\n",
    "from smtk.residuals.gmpe_residuals import Residuals\n",
    "from smtk.residuals.residual_plotter import ResidualPlot, ResidualWithDistance\n",
    "from smtk.parsers.sigma_database_parser import SigmaDatabaseMetadataReader, SigmaRecordParser, SigmaSpectraParser"
   ]
  },
  {
   "cell_type": "code",
   "execution_count": null,
   "metadata": {
    "collapsed": true,
    "deletable": true,
    "editable": true
   },
   "outputs": [],
   "source": [
    "import warnings\n",
    "warnings.filterwarnings(\"ignore\")"
   ]
  },
  {
   "cell_type": "markdown",
   "metadata": {
    "deletable": true,
    "editable": true
   },
   "source": [
    "### Create Database from Event Records"
   ]
  },
  {
   "cell_type": "raw",
   "metadata": {
    "deletable": true,
    "editable": true
   },
   "source": [
    "record_folder = \"data/LAquila_Good_Records/\"\n",
    "database_folder = \"data/LAquila_Database/\"\n",
    "\n",
    "# Build the database\n",
    "builder = sdb.SMDatabaseBuilder(SigmaDatabaseMetadataReader, database_folder)\n",
    "builder.build_database(\"001\", \"LAquila Mainshock\", record_folder)\n",
    "builder.parse_records(SigmaRecordParser, SigmaSpectraParser)"
   ]
  },
  {
   "cell_type": "raw",
   "metadata": {
    "deletable": true,
    "editable": true
   },
   "source": [
    "# Add on resolved horizonal components\n",
    "ims = [\"PGA\", \"PGV\", \"Geometric\"]\n",
    "sdb.add_horizontal_im(builder.database, ims)"
   ]
  },
  {
   "cell_type": "markdown",
   "metadata": {
    "deletable": true,
    "editable": true
   },
   "source": [
    "### Load in the database and retreive the GMPE residuals"
   ]
  },
  {
   "cell_type": "code",
   "execution_count": null,
   "metadata": {
    "collapsed": false,
    "deletable": true,
    "editable": true
   },
   "outputs": [],
   "source": [
    "import cPickle\n",
    "db1 = cPickle.load(open(\"data/LAquila_Database/metadatafile.pkl\", \"r\"))"
   ]
  },
  {
   "cell_type": "code",
   "execution_count": null,
   "metadata": {
    "collapsed": false,
    "deletable": true,
    "editable": true
   },
   "outputs": [],
   "source": [
    "# 1 GMPE, 2 IMS\n",
    "gmpe_list = [\"AkkarEtAlRjb2014\"]\n",
    "imts = [\"PGA\", \"SA(0.2)\", \"SA(1.0)\"]\n",
    "\n",
    "resid1 = Residuals(gmpe_list, imts)\n",
    "resid1.get_residuals(db1)"
   ]
  },
  {
   "cell_type": "code",
   "execution_count": null,
   "metadata": {
    "collapsed": false,
    "deletable": true,
    "editable": true
   },
   "outputs": [],
   "source": [
    "ResidualWithDistance(resid1, \"AkkarEtAlRjb2014\", \"PGA\", plot_type=\"Linear\", figure_size=(5,7))"
   ]
  },
  {
   "cell_type": "code",
   "execution_count": null,
   "metadata": {
    "collapsed": false,
    "deletable": true,
    "editable": true
   },
   "outputs": [],
   "source": [
    "ResidualWithDistance(resid1, \"AkkarEtAlRjb2014\", \"SA(1.0)\", plot_type=\"Linear\", figure_size=(5,7))"
   ]
  },
  {
   "cell_type": "markdown",
   "metadata": {
    "deletable": true,
    "editable": true
   },
   "source": [
    "### Load in the Rupture Model and View"
   ]
  },
  {
   "cell_type": "code",
   "execution_count": null,
   "metadata": {
    "collapsed": false,
    "deletable": true,
    "editable": true
   },
   "outputs": [],
   "source": [
    "rupture_file = \"data/laquila_rupture.xml\"\n",
    "rupture = csim.build_rupture_from_file(rupture_file)"
   ]
  },
  {
   "cell_type": "code",
   "execution_count": null,
   "metadata": {
    "collapsed": false,
    "deletable": true,
    "editable": true
   },
   "outputs": [],
   "source": [
    "from openquake.hazardlib.geo.point import Point\n",
    "from openquake.hazardlib.geo.polygon import Polygon\n",
    "rupture_outline = []\n",
    "for iloc in xrange(rupture.surface.mesh.shape[1]):\n",
    "    rupture_outline.append(Point(rupture.surface.mesh.lons[0, iloc],\n",
    "                                 rupture.surface.mesh.lats[0, iloc],\n",
    "                                 rupture.surface.mesh.depths[0, iloc]))\n",
    "for iloc in xrange(rupture.surface.mesh.shape[1]):\n",
    "    rupture_outline.append(Point(rupture.surface.mesh.lons[-1, -(iloc + 1)],\n",
    "                                 rupture.surface.mesh.lats[-1, -(iloc + 1)],\n",
    "                                 rupture.surface.mesh.depths[-1, -(iloc + 1)]))\n",
    "# Close the polygon\n",
    "rupture_outline.append(Point(rupture.surface.mesh.lons[0, 0],\n",
    "                             rupture.surface.mesh.lats[0, 0],\n",
    "                             rupture.surface.mesh.depths[0, 0]))\n",
    "rupture_outline = Polygon(rupture_outline)"
   ]
  },
  {
   "cell_type": "code",
   "execution_count": null,
   "metadata": {
    "collapsed": false,
    "deletable": true,
    "editable": true
   },
   "outputs": [],
   "source": [
    "observed_sites = db1.get_site_collection()\n",
    "pga_residuals = resid1.residuals[\"AkkarEtAlRjb2014\"][\"PGA\"][\"Intra event\"]\n",
    "#pga_residuals = (pga_residuals - (-3.0)) / 6.0\n",
    "plt.figure(figsize=(10,8))\n",
    "#ax = plt.subplot(111)\n",
    "plt.plot(rupture_outline.lons, rupture_outline.lats, \"r-\")\n",
    "plt.scatter(observed_sites.lons, observed_sites.lats, \n",
    "            s=40,\n",
    "            c=pga_residuals, \n",
    "            norm=Normalize(vmin=-3.0, vmax=3.0))\n",
    "plt.title(\"PGA Observed Intra-event Residual\", fontsize=16)\n",
    "plt.colorbar()\n",
    "plt.xlabel(\"Longitude\", fontsize=14)\n",
    "plt.ylabel(\"Latitude\", fontsize=14)"
   ]
  },
  {
   "cell_type": "code",
   "execution_count": null,
   "metadata": {
    "collapsed": false,
    "deletable": true,
    "editable": true
   },
   "outputs": [],
   "source": [
    "sa1_residuals = resid1.residuals[\"AkkarEtAlRjb2014\"][\"SA(1.0)\"][\"Intra event\"]\n",
    "#pga_residuals = (pga_residuals - (-3.0)) / 6.0\n",
    "plt.figure(figsize=(10,8))\n",
    "#ax = plt.subplot(111)\n",
    "plt.plot(rupture_outline.lons, rupture_outline.lats, \"r-\")\n",
    "plt.scatter(observed_sites.lons, observed_sites.lats, \n",
    "            s=40,\n",
    "            c=sa1_residuals, \n",
    "            norm=Normalize(vmin=-3.0, vmax=3.0))\n",
    "plt.title(\"Sa(1.0s) Observed Intra-event Residual\", fontsize=16)\n",
    "plt.colorbar()\n",
    "plt.xlabel(\"Longitude\", fontsize=14)\n",
    "plt.ylabel(\"Latitude\", fontsize=14)"
   ]
  },
  {
   "cell_type": "code",
   "execution_count": null,
   "metadata": {
    "collapsed": false,
    "deletable": true,
    "editable": true
   },
   "outputs": [],
   "source": [
    "# Generate a field of calculation sites\n",
    "limits = [12.5, 15.0, 0.05, 40.5, 43.0, 0.05]\n",
    "vs30 = 800.0\n",
    "unknown_sites = csim.get_regular_site_collection(limits, vs30)"
   ]
  },
  {
   "cell_type": "markdown",
   "metadata": {
    "deletable": true,
    "editable": true
   },
   "source": [
    "##### Generate a set of ground motion residuals conditioned upon the observations"
   ]
  },
  {
   "cell_type": "code",
   "execution_count": null,
   "metadata": {
    "collapsed": false,
    "deletable": true,
    "editable": true
   },
   "outputs": [],
   "source": [
    "# Generate a set of residuals\n",
    "output_resid = csim.conditional_simulation(observed_sites, pga_residuals, unknown_sites, \"PGA\", 1)"
   ]
  },
  {
   "cell_type": "code",
   "execution_count": null,
   "metadata": {
    "collapsed": false,
    "deletable": true,
    "editable": true
   },
   "outputs": [],
   "source": [
    "plt.figure(figsize=(10,8))\n",
    "plt.plot(rupture_outline.lons, rupture_outline.lats, \"r-\")\n",
    "plt.scatter(unknown_sites.lons, unknown_sites.lats, \n",
    "            s=20,\n",
    "            c=output_resid[:, 0].A.flatten(),\n",
    "            marker=\"s\",\n",
    "            edgecolor=\"None\",\n",
    "            norm=Normalize(vmin=-3.0, vmax=3.0))\n",
    "plt.scatter(observed_sites.lons, observed_sites.lats, \n",
    "            s=50,\n",
    "            c=pga_residuals, \n",
    "            norm=Normalize(vmin=-3.0, vmax=3.0))\n",
    "plt.title(\"PGA - Simulated Intra-event Residual\", fontsize=16)\n",
    "plt.colorbar()\n",
    "plt.xlabel(\"Longitude\", fontsize=14)\n",
    "plt.ylabel(\"Latitude\", fontsize=14)"
   ]
  },
  {
   "cell_type": "code",
   "execution_count": null,
   "metadata": {
    "collapsed": false,
    "deletable": true,
    "editable": true
   },
   "outputs": [],
   "source": [
    "sa1_residuals = resid1.residuals[\"AkkarEtAlRjb2014\"][\"SA(1.0)\"][\"Intra event\"]\n",
    "output_resid_1p0 = csim.conditional_simulation(observed_sites, sa1_residuals, unknown_sites, \"SA(1.0)\", 1)\n",
    "plt.figure(figsize=(10,8))\n",
    "#ax = plt.subplot(111)\n",
    "plt.plot(rupture_outline.lons, rupture_outline.lats, \"r-\")\n",
    "plt.scatter(unknown_sites.lons, unknown_sites.lats, \n",
    "            s=20,\n",
    "            c=output_resid_1p0[:, 0].A.flatten(),\n",
    "            marker=\"s\",\n",
    "            edgecolor=\"None\",\n",
    "            norm=Normalize(vmin=-3.0, vmax=3.0))\n",
    "plt.scatter(observed_sites.lons, observed_sites.lats, \n",
    "            s=50,\n",
    "            c=sa1_residuals, \n",
    "            norm=Normalize(vmin=-3.0, vmax=3.0))\n",
    "plt.title(\"Sa (1.0s) - Simulated Intra-event Residual\", fontsize=16)\n",
    "plt.colorbar()\n",
    "plt.xlabel(\"Longitude\", fontsize=14)\n",
    "plt.ylabel(\"Latitude\", fontsize=14)"
   ]
  },
  {
   "cell_type": "markdown",
   "metadata": {
    "deletable": true,
    "editable": true
   },
   "source": [
    "### Generate the Full Ground Motion Fields"
   ]
  },
  {
   "cell_type": "code",
   "execution_count": null,
   "metadata": {
    "collapsed": false,
    "deletable": true,
    "editable": true
   },
   "outputs": [],
   "source": [
    "gmfs = csim.get_conditional_gmfs(db1,\n",
    "                                 rupture, \n",
    "                                 sites=unknown_sites, \n",
    "                                 gsims=[\"AkkarEtAlRjb2014\"],\n",
    "                                 imts=[\"PGA\", \"SA(1.0)\"],\n",
    "                                 number_simulations=5,\n",
    "                                 truncation_level=3.0)"
   ]
  },
  {
   "cell_type": "markdown",
   "metadata": {
    "deletable": true,
    "editable": true
   },
   "source": [
    "##### Visualise the fields"
   ]
  },
  {
   "cell_type": "code",
   "execution_count": null,
   "metadata": {
    "collapsed": false,
    "deletable": true,
    "editable": true
   },
   "outputs": [],
   "source": [
    "plt.figure(figsize=(10,8))\n",
    "\n",
    "pga_field = gmfs[\"AkkarEtAlRjb2014\"][\"PGA\"][:, 0]\n",
    "plt.plot(rupture_outline.lons, rupture_outline.lats, \"r-\")\n",
    "plt.scatter(unknown_sites.lons, unknown_sites.lats, \n",
    "            s=50,\n",
    "            c=pga_field,\n",
    "            marker=\"s\",\n",
    "            edgecolor=\"None\",\n",
    "            norm=LogNorm(vmin=0.001, vmax=1))\n",
    "plt.xlim(12.5, 15.0)\n",
    "plt.ylim(40.5, 43.0)\n",
    "plt.title(\"PGA (g) - Conditional Random Field\", fontsize=18)\n",
    "plt.colorbar()\n",
    "plt.xlabel(\"Longitude\", fontsize=14)\n",
    "plt.ylabel(\"Latitude\", fontsize=14)"
   ]
  },
  {
   "cell_type": "code",
   "execution_count": null,
   "metadata": {
    "collapsed": false,
    "deletable": true,
    "editable": true
   },
   "outputs": [],
   "source": [
    "plt.figure(figsize=(10,8))\n",
    "sa1_field = gmfs[\"AkkarEtAlRjb2014\"][\"SA(1.0)\"][:, 0]\n",
    "plt.plot(rupture_outline.lons, rupture_outline.lats, \"r-\")\n",
    "plt.scatter(unknown_sites.lons, unknown_sites.lats, \n",
    "            s=50,\n",
    "            c=sa1_field,\n",
    "            marker=\"s\",\n",
    "            edgecolor=\"None\",\n",
    "            norm=LogNorm(vmin=0.001, vmax=1))\n",
    "plt.xlim(12.5, 15.0)\n",
    "plt.ylim(40.5, 43.0)\n",
    "plt.title(\"Sa (1.0s) (g) - Conditional Random Field\", fontsize=18)\n",
    "plt.colorbar()\n",
    "plt.xlabel(\"Longitude\", fontsize=14)\n",
    "plt.ylabel(\"Latitude\", fontsize=14)"
   ]
  }
 ],
 "metadata": {
  "kernelspec": {
   "display_name": "Python 2",
   "language": "python",
   "name": "python2"
  },
  "language_info": {
   "codemirror_mode": {
    "name": "ipython",
    "version": 2
   },
   "file_extension": ".py",
   "mimetype": "text/x-python",
   "name": "python",
   "nbconvert_exporter": "python",
   "pygments_lexer": "ipython2",
   "version": "2.7.13"
  }
 },
 "nbformat": 4,
 "nbformat_minor": 0
}
