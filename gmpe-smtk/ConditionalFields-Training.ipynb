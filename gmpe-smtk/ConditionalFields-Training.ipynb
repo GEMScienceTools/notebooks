{
 "metadata": {
  "name": "",
  "signature": "sha256:b29adfe3e56140d21c5b5b500cbfb0fcf3b79846c4efadfd38196d6d45a16a14"
 },
 "nbformat": 3,
 "nbformat_minor": 0,
 "worksheets": [
  {
   "cells": [
    {
     "cell_type": "heading",
     "level": 1,
     "metadata": {},
     "source": [
      "Example of Conditional Random Field Simulation Using the GMPE-SMTK and OpenQuake "
     ]
    },
    {
     "cell_type": "code",
     "collapsed": false,
     "input": [
      "import numpy as np\n",
      "import matplotlib.pyplot as plt\n",
      "from matplotlib.colors import LogNorm\n",
      "import smtk.hazard.conditional_simulation as csim\n",
      "import smtk.sm_database_builder as sdb\n",
      "from smtk.residuals.gmpe_residuals import Residuals\n",
      "from smtk.residuals.residual_plotter import ResidualPlot, ResidualWithDistance\n",
      "from smtk.parsers.sigma_database_parser import SigmaDatabaseMetadataReader, SigmaRecordParser, SigmaSpectraParser"
     ],
     "language": "python",
     "metadata": {},
     "outputs": []
    },
    {
     "cell_type": "heading",
     "level": 3,
     "metadata": {},
     "source": [
      "Create Database from Event Records"
     ]
    },
    {
     "cell_type": "raw",
     "metadata": {},
     "source": [
      "record_folder = \"data/LAquila_Good_Records/\"\n",
      "database_folder = \"data/LAquila_Database/\"\n",
      "\n",
      "# Build the database\n",
      "builder = sdb.SMDatabaseBuilder(SigmaDatabaseMetadataReader, database_folder)\n",
      "builder.build_database(\"001\", \"LAquila Mainshock\", record_folder)\n",
      "builder.parse_records(SigmaRecordParser, SigmaSpectraParser)"
     ]
    },
    {
     "cell_type": "raw",
     "metadata": {},
     "source": [
      "# Add on resolved horizonal components\n",
      "ims = [\"PGA\", \"PGV\", \"Geometric\"]\n",
      "sdb.add_horizontal_im(builder.database, ims)"
     ]
    },
    {
     "cell_type": "heading",
     "level": 3,
     "metadata": {},
     "source": [
      "Load in the database and retreive the GMPE residuals"
     ]
    },
    {
     "cell_type": "code",
     "collapsed": false,
     "input": [
      "import cPickle\n",
      "db1 = cPickle.load(open(\"data/LAquila_Database/metadatafile.pkl\", \"r\"))"
     ],
     "language": "python",
     "metadata": {},
     "outputs": []
    },
    {
     "cell_type": "code",
     "collapsed": false,
     "input": [
      "# 1 GMPE, 2 IMS\n",
      "gmpe_list = [\"AkkarEtAlRjb2014\"]\n",
      "imts = [\"PGA\", \"SA(0.2)\", \"SA(1.0)\"]\n",
      "\n",
      "resid1 = Residuals(gmpe_list, imts)\n",
      "resid1.get_residuals(db1)"
     ],
     "language": "python",
     "metadata": {},
     "outputs": []
    },
    {
     "cell_type": "code",
     "collapsed": false,
     "input": [
      "ResidualWithDistance(resid1, \"AkkarEtAlRjb2014\", \"PGA\", plot_type=\"Linear\", figure_size=(5,7))"
     ],
     "language": "python",
     "metadata": {},
     "outputs": []
    },
    {
     "cell_type": "code",
     "collapsed": false,
     "input": [
      "ResidualWithDistance(resid1, \"AkkarEtAlRjb2014\", \"SA(1.0)\", plot_type=\"Linear\", figure_size=(5,7))"
     ],
     "language": "python",
     "metadata": {},
     "outputs": []
    },
    {
     "cell_type": "heading",
     "level": 3,
     "metadata": {},
     "source": [
      "Load in the Rupture Model and View"
     ]
    },
    {
     "cell_type": "code",
     "collapsed": false,
     "input": [
      "rupture_file = \"data/laquila_rupture.xml\"\n",
      "rupture = csim.build_rupture_from_file(rupture_file)"
     ],
     "language": "python",
     "metadata": {},
     "outputs": []
    },
    {
     "cell_type": "code",
     "collapsed": false,
     "input": [
      "# Creates the rupture outline\n",
      "from openquake.hazardlib.geo.polygon import Polygon\n",
      "rupture_outline = Polygon([rupture.surface.top_left,\n",
      "                           rupture.surface.top_right,\n",
      "                           rupture.surface.bottom_right,\n",
      "                           rupture.surface.bottom_left,\n",
      "                           rupture.surface.top_left])"
     ],
     "language": "python",
     "metadata": {},
     "outputs": []
    },
    {
     "cell_type": "code",
     "collapsed": false,
     "input": [
      "observed_sites = db1.get_site_collection()\n",
      "pga_residuals = resid1.residuals[\"AkkarEtAlRjb2014\"][\"PGA\"][\"Intra event\"]\n",
      "#pga_residuals = (pga_residuals - (-3.0)) / 6.0\n",
      "plt.figure(figsize=(10,8))\n",
      "#ax = plt.subplot(111)\n",
      "plt.plot(rupture_outline.lons, rupture_outline.lats, \"r-\")\n",
      "plt.scatter(observed_sites.lons, observed_sites.lats, \n",
      "            s=40,\n",
      "            c=pga_residuals, \n",
      "            norm=Normalize(vmin=-3.0, vmax=3.0))\n",
      "plt.title(\"PGA Observed Intra-event Residual\", fontsize=16)\n",
      "plt.colorbar()\n",
      "plt.xlabel(\"Longitude\", fontsize=14)\n",
      "plt.ylabel(\"Latitude\", fontsize=14)"
     ],
     "language": "python",
     "metadata": {},
     "outputs": []
    },
    {
     "cell_type": "code",
     "collapsed": false,
     "input": [
      "sa1_residuals = resid1.residuals[\"AkkarEtAlRjb2014\"][\"SA(1.0)\"][\"Intra event\"]\n",
      "#pga_residuals = (pga_residuals - (-3.0)) / 6.0\n",
      "plt.figure(figsize=(10,8))\n",
      "#ax = plt.subplot(111)\n",
      "plt.plot(rupture_outline.lons, rupture_outline.lats, \"r-\")\n",
      "plt.scatter(observed_sites.lons, observed_sites.lats, \n",
      "            s=40,\n",
      "            c=sa1_residuals, \n",
      "            norm=Normalize(vmin=-3.0, vmax=3.0))\n",
      "plt.title(\"Sa(1.0s) Observed Intra-event Residual\", fontsize=16)\n",
      "plt.colorbar()\n",
      "plt.xlabel(\"Longitude\", fontsize=14)\n",
      "plt.ylabel(\"Latitude\", fontsize=14)"
     ],
     "language": "python",
     "metadata": {},
     "outputs": []
    },
    {
     "cell_type": "code",
     "collapsed": false,
     "input": [
      "# Generate a field of calculation sites\n",
      "limits = [12.5, 15.0, 0.05, 40.5, 43.0, 0.05]\n",
      "vs30 = 800.0\n",
      "unknown_sites = csim.get_regular_site_collection(limits, vs30)"
     ],
     "language": "python",
     "metadata": {},
     "outputs": []
    },
    {
     "cell_type": "heading",
     "level": 5,
     "metadata": {},
     "source": [
      "Generate a set of ground motion residuals conditioned upon the observations"
     ]
    },
    {
     "cell_type": "code",
     "collapsed": false,
     "input": [
      "# Generate a set of residuals\n",
      "output_resid = csim.conditional_simulation(observed_sites, pga_residuals, unknown_sites, \"PGA\", 1)"
     ],
     "language": "python",
     "metadata": {},
     "outputs": []
    },
    {
     "cell_type": "code",
     "collapsed": false,
     "input": [
      "plt.figure(figsize=(10,8))\n",
      "plt.plot(rupture_outline.lons, rupture_outline.lats, \"r-\")\n",
      "plt.scatter(unknown_sites.lons, unknown_sites.lats, \n",
      "            s=20,\n",
      "            c=output_resid[:, 0].A.flatten(),\n",
      "            marker=\"s\",\n",
      "            edgecolor=\"None\",\n",
      "            norm=Normalize(vmin=-3.0, vmax=3.0))\n",
      "plt.scatter(observed_sites.lons, observed_sites.lats, \n",
      "            s=50,\n",
      "            c=pga_residuals, \n",
      "            norm=Normalize(vmin=-3.0, vmax=3.0))\n",
      "plt.title(\"PGA - Simulated Intra-event Residual\", fontsize=16)\n",
      "plt.colorbar()\n",
      "plt.xlabel(\"Longitude\", fontsize=14)\n",
      "plt.ylabel(\"Latitude\", fontsize=14)"
     ],
     "language": "python",
     "metadata": {},
     "outputs": []
    },
    {
     "cell_type": "code",
     "collapsed": false,
     "input": [
      "sa1_residuals = resid1.residuals[\"AkkarEtAlRjb2014\"][\"SA(1.0)\"][\"Intra event\"]\n",
      "output_resid_1p0 = csim.conditional_simulation(observed_sites, sa1_residuals, unknown_sites, \"SA(1.0)\", 1)\n",
      "plt.figure(figsize=(10,8))\n",
      "#ax = plt.subplot(111)\n",
      "plt.plot(rupture_outline.lons, rupture_outline.lats, \"r-\")\n",
      "plt.scatter(unknown_sites.lons, unknown_sites.lats, \n",
      "            s=20,\n",
      "            c=output_resid_1p0[:, 0].A.flatten(),\n",
      "            marker=\"s\",\n",
      "            edgecolor=\"None\",\n",
      "            norm=Normalize(vmin=-3.0, vmax=3.0))\n",
      "plt.scatter(observed_sites.lons, observed_sites.lats, \n",
      "            s=50,\n",
      "            c=sa1_residuals, \n",
      "            norm=Normalize(vmin=-3.0, vmax=3.0))\n",
      "plt.title(\"Sa (1.0s) - Simulated Intra-event Residual\", fontsize=16)\n",
      "plt.colorbar()\n",
      "plt.xlabel(\"Longitude\", fontsize=14)\n",
      "plt.ylabel(\"Latitude\", fontsize=14)"
     ],
     "language": "python",
     "metadata": {},
     "outputs": []
    },
    {
     "cell_type": "heading",
     "level": 3,
     "metadata": {},
     "source": [
      "Generate the Full Ground Motion Fields"
     ]
    },
    {
     "cell_type": "code",
     "collapsed": false,
     "input": [
      "gmfs = csim.get_conditional_gmfs(db1,\n",
      "                                 rupture, \n",
      "                                 sites=unknown_sites, \n",
      "                                 gsims=[\"AkkarEtAlRjb2014\"],\n",
      "                                 imts=[\"PGA\", \"SA(1.0)\"],\n",
      "                                 number_simulations=5,\n",
      "                                 truncation_level=3.0)"
     ],
     "language": "python",
     "metadata": {},
     "outputs": []
    },
    {
     "cell_type": "heading",
     "level": 5,
     "metadata": {},
     "source": [
      "Visualise the fields"
     ]
    },
    {
     "cell_type": "code",
     "collapsed": false,
     "input": [
      "plt.figure(figsize=(10,8))\n",
      "\n",
      "pga_field = gmfs[\"AkkarEtAlRjb2014\"][\"PGA\"][:, 0]\n",
      "plt.plot(rupture_outline.lons, rupture_outline.lats, \"r-\")\n",
      "plt.scatter(unknown_sites.lons, unknown_sites.lats, \n",
      "            s=50,\n",
      "            c=pga_field,\n",
      "            marker=\"s\",\n",
      "            edgecolor=\"None\",\n",
      "            norm=LogNorm(vmin=0.001, vmax=1))\n",
      "plt.xlim(12.5, 15.0)\n",
      "plt.ylim(40.5, 43.0)\n",
      "plt.title(\"PGA (g) - Conditional Random Field\", fontsize=18)\n",
      "plt.colorbar()\n",
      "plt.xlabel(\"Longitude\", fontsize=14)\n",
      "plt.ylabel(\"Latitude\", fontsize=14)"
     ],
     "language": "python",
     "metadata": {},
     "outputs": []
    },
    {
     "cell_type": "code",
     "collapsed": false,
     "input": [
      "plt.figure(figsize=(10,8))\n",
      "sa1_field = gmfs[\"AkkarEtAlRjb2014\"][\"SA(1.0)\"][:, 0]\n",
      "plt.plot(rupture_outline.lons, rupture_outline.lats, \"r-\")\n",
      "plt.scatter(unknown_sites.lons, unknown_sites.lats, \n",
      "            s=50,\n",
      "            c=sa1_field,\n",
      "            marker=\"s\",\n",
      "            edgecolor=\"None\",\n",
      "            norm=LogNorm(vmin=0.001, vmax=1))\n",
      "plt.xlim(12.5, 15.0)\n",
      "plt.ylim(40.5, 43.0)\n",
      "plt.title(\"Sa (1.0s) (g) - Conditional Random Field\", fontsize=18)\n",
      "plt.colorbar()\n",
      "plt.xlabel(\"Longitude\", fontsize=14)\n",
      "plt.ylabel(\"Latitude\", fontsize=14)"
     ],
     "language": "python",
     "metadata": {},
     "outputs": []
    }
   ],
   "metadata": {}
  }
 ]
}