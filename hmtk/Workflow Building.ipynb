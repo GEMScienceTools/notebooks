{
 "metadata": {
  "name": "",
  "signature": "sha256:3d65c4adce62c57597a22d0542f5bf9ea3d2f013809d19b9117903245723179d"
 },
 "nbformat": 3,
 "nbformat_minor": 0,
 "worksheets": [
  {
   "cells": [
    {
     "cell_type": "heading",
     "level": 1,
     "metadata": {},
     "source": [
      "Using Source Models and Building a Workflow"
     ]
    },
    {
     "cell_type": "markdown",
     "metadata": {},
     "source": [
      "This notebook shows how to link together tools in the hmtk to build a workflow for constructing a PSHA source model"
     ]
    },
    {
     "cell_type": "heading",
     "level": 3,
     "metadata": {},
     "source": [
      "Source Models"
     ]
    },
    {
     "cell_type": "markdown",
     "metadata": {},
     "source": [
      "The hmtk reads input model geometries in the form of a nrML file.\n",
      "\n",
      "At present not all information in specfic sources can be constrained from existing hmtk tools (e.g. seismogenic depth limits,\n",
      "nodal plane distribution etc.). Therefore the source geometries and the missing information should be defined in an xml file a priori. "
     ]
    },
    {
     "cell_type": "heading",
     "level": 4,
     "metadata": {},
     "source": [
      "Loading and Viewing a Source Model"
     ]
    },
    {
     "cell_type": "code",
     "collapsed": false,
     "input": [
      "%matplotlib inline\n",
      "import numpy as np\n",
      "\n",
      "from hmtk.plotting.mapping import HMTKBaseMap\n",
      "from hmtk.parsers.source_model.nrml04_parser import nrmlSourceModelParser\n",
      "\n",
      "# Import an Area Source Model\n",
      "area_source_file = 'input_data/WT2006_Aegean_Sources.xml'\n",
      "parser = nrmlSourceModelParser(area_source_file)\n",
      "area_model = parser.read_file(\"Aegean Source Model 1\")\n",
      "\n",
      "# Import a Simple Fault Source Model\n",
      "fault_source_file = 'input_data/Greek_Faults_SHARE.xml'\n",
      "parser = nrmlSourceModelParser(fault_source_file)\n",
      "fault_model = parser.read_file(\"Greek Fault Model 1\",\n",
      "                               simple_mesh_spacing=1.0)  # Fault surface meshes are rendered with a discretisation step of 1 km"
     ],
     "language": "python",
     "metadata": {},
     "outputs": []
    },
    {
     "cell_type": "heading",
     "level": 4,
     "metadata": {},
     "source": [
      "View the sources in a map"
     ]
    },
    {
     "cell_type": "code",
     "collapsed": false,
     "input": [
      "map_config = {'min_lon': 18.0, 'max_lon': 32.0, 'min_lat': 33.0, 'max_lat': 43.0, 'resolution':'h'}\n",
      "# Create a hmtk basemap\n",
      "basemap1 = HMTKBaseMap(map_config, 'Source Models')\n",
      "# Add fault sources\n",
      "basemap1.add_source_model(fault_model, overlay=True)\n",
      "# Add area sources\n",
      "basemap1.add_source_model(area_model, area_border='b-')"
     ],
     "language": "python",
     "metadata": {},
     "outputs": []
    },
    {
     "cell_type": "heading",
     "level": 3,
     "metadata": {},
     "source": [
      "Selection Tools"
     ]
    },
    {
     "cell_type": "markdown",
     "metadata": {},
     "source": [
      "A specific tool is created as a placeholder for catalogue selection functionalities, including geographical selection tools"
     ]
    },
    {
     "cell_type": "code",
     "collapsed": false,
     "input": [
      "from hmtk.seismicity.selector import CatalogueSelector\n",
      "\n",
      "\n",
      "# Load in the catalogue\n",
      "from hmtk.parsers.catalogue.csv_catalogue_parser import CsvCatalogueParser\n",
      "input_file = 'input_data/Aegean_ExtendedCat1.csv'\n",
      "parser = CsvCatalogueParser(input_file)\n",
      "catalogue = parser.read_file()\n",
      "\n",
      "# Create an instance of the selector class\n",
      "selector = CatalogueSelector(catalogue, create_copy=True)"
     ],
     "language": "python",
     "metadata": {},
     "outputs": []
    },
    {
     "cell_type": "raw",
     "metadata": {},
     "source": [
      "The selector class has the following methods:\n",
      "\n",
      ".within_polygon(polygon, distance=None)\n",
      "\n",
      "    polygon = Polygon as instance of the openquake.hazardlib.geo.polygon.Polygon class\n",
      "    distance = Can select events within a distance (km)  outside of the polygon (Optional) \n",
      "\n",
      ".circular_distance_from_point(point, distance)\n",
      "\n",
      "    point = Location (Long, Lat, Depth) as instance of the openquake.hazardlib.geo.point.Point class\n",
      "    distance = Distance (in km) from the point for selection\n",
      "\n",
      ".cartesian_square_centred_on_point(point, distance)\n",
      "\n",
      "    point = Location (Long, Lat, Depth) as instance of the openquake.hazardlib.geo.point.Point class\n",
      "    distance = Width corresponding to half the square dimension\n",
      "        \n",
      ".within_joyner_boore_distance(surface, distance)\n",
      "    \n",
      "    surface = Fault surface as instance of the openquake.hazardlib.geo.surface.SimpleFaultSurface or \n",
      "              openquake.hazardlib.geo.surface.ComplexFaultSurface class\n",
      "    distance = Joyner-Boore distance (km)\n",
      "    \n",
      ".within_rupture_distance(surface, distance)\n",
      "\n",
      "    surface = Fault surface as instance of the openquake.hazardlib.geo.surface.SimpleFaultSurface or \n",
      "              openquake.hazardlib.geo.surface.ComplexFaultSurface class\n",
      "    distance = Rupture distance (km)\n",
      "    \n",
      ".within_time_period(start_time, end_time)\n",
      "\n",
      "    start_time = Earliest time for selection (as instance of datetime.Datetime object)\n",
      "    end_time = Latest time for selection (as instance of datetime.Datetime object)\n",
      "    \n",
      ".within_depth_range(lower_depth=None, upper_depth=None)\n",
      "    \n",
      "    lower_depth = Lower depth (km) - defaults to infinity if not specified\n",
      "    upper_depth = Upper depth (km) - defaults to zero if not specified\n",
      "    \n",
      ".within_magnitude_range(lower_mag=None, upper_mag=None)\n",
      "    \n",
      "    lower_mag = Low magnitude (unbounded if none)\n",
      "    upper_mag = Upper magnitude (unbounded if none)\n",
      "    "
     ]
    },
    {
     "cell_type": "markdown",
     "metadata": {},
     "source": [
      "The selection tools can be useful as stand-alone tools. However, they are often embedded within other methods\n",
      "found in other objects. \n",
      "\n",
      "The best example of this is in the selection of earthquakes within a source.\n",
      "\n",
      "In the following example we will select earthquakes within each of the area sources shown previously, counting\n",
      "the number of events in each source"
     ]
    },
    {
     "cell_type": "code",
     "collapsed": false,
     "input": [
      "for source in area_model.sources:\n",
      "    # Selects the earthquakes within each polygon\n",
      "    source.select_catalogue(selector)\n",
      "    print 'Source Number %s - %s contains %8.0f events' %(source.id, source.name, source.catalogue.get_number_events())\n"
     ],
     "language": "python",
     "metadata": {},
     "outputs": []
    },
    {
     "cell_type": "code",
     "collapsed": false,
     "input": [
      "# Example - show earthquakes in the Gulf of Corinth zone\n",
      "map_config_goc = {'min_lon': 21.0, 'max_lon': 25.0, 'min_lat': 37.0, 'max_lat': 39.0, 'resolution':'h'}\n",
      "\n",
      "basemap2 = HMTKBaseMap(map_config_goc, 'Gulf of Corinth Seismicity')\n",
      "basemap2.add_catalogue(area_model.sources[5].catalogue, overlay=True)\n",
      "basemap2.add_source_model(area_model, area_border='k-')\n"
     ],
     "language": "python",
     "metadata": {},
     "outputs": []
    },
    {
     "cell_type": "code",
     "collapsed": false,
     "input": [],
     "language": "python",
     "metadata": {},
     "outputs": []
    },
    {
     "cell_type": "code",
     "collapsed": false,
     "input": [],
     "language": "python",
     "metadata": {},
     "outputs": []
    }
   ],
   "metadata": {}
  }
 ]
}