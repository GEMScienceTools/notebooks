{
 "cells": [
  {
   "cell_type": "markdown",
   "metadata": {
    "deletable": true,
    "editable": true
   },
   "source": [
    "# Geodetic Tools"
   ]
  },
  {
   "cell_type": "markdown",
   "metadata": {
    "deletable": true,
    "editable": true
   },
   "source": [
    "This notebook demonstrates the basic workflow for creating an activity rate model from geodetic strain. The methodology\n",
    "is an implementation of the Seismic Hazard Inferred from Tectonics (SHIFT) (Bird & Liu, 2007; Bird et al., 2010)"
   ]
  },
  {
   "cell_type": "markdown",
   "metadata": {
    "deletable": true,
    "editable": true
   },
   "source": [
    "### The Geodetic Strain Rate Model"
   ]
  },
  {
   "cell_type": "code",
   "execution_count": null,
   "metadata": {
    "collapsed": true,
    "deletable": true,
    "editable": true
   },
   "outputs": [],
   "source": [
    "%load_ext autoreload\n",
    "%autoreload 2\n",
    "import warnings; warnings.filterwarnings('ignore')"
   ]
  },
  {
   "cell_type": "code",
   "execution_count": null,
   "metadata": {
    "collapsed": false,
    "deletable": true,
    "editable": true
   },
   "outputs": [],
   "source": [
    "%matplotlib inline\n",
    "import numpy as np\n",
    "from openquake.hmtk.parsers.strain.strain_csv_parser import ReadStrainCsv\n",
    "\n",
    "strain_file = 'input_data/average_strain_minimal.csv'\n",
    "fid = open(strain_file, 'r')\n",
    "\n",
    "for i, row in enumerate(fid.readlines()):\n",
    "    if i >= 20:\n",
    "        break\n",
    "    print row\n",
    "fid.close()"
   ]
  },
  {
   "cell_type": "markdown",
   "metadata": {
    "deletable": true,
    "editable": true
   },
   "source": [
    "### Load in the Strain File"
   ]
  },
  {
   "cell_type": "code",
   "execution_count": null,
   "metadata": {
    "collapsed": false,
    "deletable": true,
    "editable": true
   },
   "outputs": [],
   "source": [
    "import numpy as np\n",
    "from openquake.hmtk.parsers.strain.strain_csv_parser import ReadStrainCsv\n",
    "\n",
    "reader = ReadStrainCsv(strain_file)\n",
    "\n",
    "strain_data = reader.read_data(scaling_factor=1E-9) # Data reported in nanostrain\n",
    "print 'Data loaded ok'\n",
    "\n"
   ]
  },
  {
   "cell_type": "code",
   "execution_count": null,
   "metadata": {
    "collapsed": false,
    "deletable": true,
    "editable": true
   },
   "outputs": [],
   "source": [
    "for iloc in range(0, 20):\n",
    "    print '%8.3f %8.3f %.8e %.8e %.8e %.8e %.8e' % (strain_data.data['longitude'][iloc],\n",
    "                                                    strain_data.data['latitude'][iloc],\n",
    "                                                    strain_data.data['exx'][iloc],\n",
    "                                                    strain_data.data['eyy'][iloc],\n",
    "                                                    strain_data.data['exy'][iloc],\n",
    "                                                    strain_data.data['2nd_inv'][iloc],\n",
    "                                                    strain_data.data['dilatation'][iloc])"
   ]
  },
  {
   "cell_type": "markdown",
   "metadata": {
    "deletable": true,
    "editable": true
   },
   "source": [
    "### Adding the Tectonic Regionalisaton"
   ]
  },
  {
   "cell_type": "markdown",
   "metadata": {
    "deletable": true,
    "editable": true
   },
   "source": [
    "To define a seismic moment rate, the volume of each deforming cell must be known. Therefore the seismogenic coupling depth must be defined. This is done using the regionalisation. In the current example the tectonic regionalisation of Kreemer (2003) is used. The cells can be assigned to this regionalisation using as follows:"
   ]
  },
  {
   "cell_type": "code",
   "execution_count": null,
   "metadata": {
    "collapsed": false,
    "deletable": true,
    "editable": true
   },
   "outputs": [],
   "source": [
    "from openquake.hmtk.strain.regionalisation.kreemer_regionalisation import KreemerRegionalisation\n",
    "\n",
    "regionalisation = KreemerRegionalisation()\n",
    "\n",
    "strain_data = regionalisation.get_regionalisation(strain_data)                              "
   ]
  },
  {
   "cell_type": "code",
   "execution_count": null,
   "metadata": {
    "collapsed": false,
    "deletable": true,
    "editable": true
   },
   "outputs": [],
   "source": [
    "for iloc in range(0, 20):\n",
    "    print '%8.3f %8.3f %.8e %.8e %.8e %.8e %.8e %s' % (strain_data.data['longitude'][iloc],\n",
    "                                                    strain_data.data['latitude'][iloc],\n",
    "                                                    strain_data.data['exx'][iloc],\n",
    "                                                    strain_data.data['eyy'][iloc],\n",
    "                                                    strain_data.data['exy'][iloc],\n",
    "                                                    strain_data.data['2nd_inv'][iloc],\n",
    "                                                    strain_data.data['dilatation'][iloc],\n",
    "                                                    strain_data.data['region'][iloc])"
   ]
  },
  {
   "cell_type": "markdown",
   "metadata": {
    "deletable": true,
    "editable": true
   },
   "source": [
    "### Applying the SHIFT Methodology"
   ]
  },
  {
   "cell_type": "code",
   "execution_count": null,
   "metadata": {
    "collapsed": false,
    "deletable": true,
    "editable": true
   },
   "outputs": [],
   "source": [
    "from hmtk.strain.shift import Shift\n",
    "\n",
    "magnitudes = np.arange(5.0, 9.6, 0.1)\n",
    "\n",
    "modeller = Shift(magnitudes)"
   ]
  },
  {
   "cell_type": "markdown",
   "metadata": {
    "deletable": true,
    "editable": true
   },
   "source": [
    "Implicit in this methodology are the regionalisation parameters of Bird & Kagan (2004) and Bird et al (2009). The SHIFT methodology assumes that for each cell the activity is modelled via a Tapered Gutenberg-Richter distribution, with the\n",
    "beta-value and corner magnitude derived according to the region type assigned by Bird & Kagan (2004)"
   ]
  },
  {
   "cell_type": "code",
   "execution_count": null,
   "metadata": {
    "collapsed": false,
    "deletable": true,
    "editable": true
   },
   "outputs": [],
   "source": [
    "for key in modeller.regionalisation.keys():\n",
    "    print key\n",
    "    print modeller.regionalisation[key]"
   ]
  },
  {
   "cell_type": "code",
   "execution_count": null,
   "metadata": {
    "collapsed": false,
    "deletable": true,
    "editable": true
   },
   "outputs": [],
   "source": [
    "# Get the activity rate\n",
    "modeller.calculate_activity_rate(strain_data, cumulative=False)"
   ]
  },
  {
   "cell_type": "code",
   "execution_count": null,
   "metadata": {
    "collapsed": false,
    "deletable": true,
    "editable": true
   },
   "outputs": [],
   "source": [
    "import matplotlib.pyplot as plt\n",
    "\n",
    "# Show a sample of 8 random cells\n",
    "sampler = np.random.randint(0, strain_data.get_number_observations(), 5)\n",
    "\n",
    "plt.figure(figsize=(8.0, 6.0))\n",
    "for sample in sampler:\n",
    "    plt.semilogy(magnitudes, modeller.strain.seismicity_rate[sample, :])\n",
    "plt.xlim(5.0, 9.4)\n",
    "plt.xlabel('Magnitude', fontsize=12)\n",
    "plt.ylabel('Incremental Rate', fontsize=12)\n"
   ]
  },
  {
   "cell_type": "markdown",
   "metadata": {
    "deletable": true,
    "editable": true
   },
   "source": [
    "### Export the Activity Model to a CSV"
   ]
  },
  {
   "cell_type": "code",
   "execution_count": null,
   "metadata": {
    "collapsed": false,
    "deletable": true,
    "editable": true
   },
   "outputs": [],
   "source": [
    "from openquake.hmtk.parsers.strain.strain_csv_parser import WriteStrainCsv\n",
    "\n",
    "output_file = 'output_data/SHIFT_Demo_Output1.csv'\n",
    "\n",
    "writer = WriteStrainCsv(output_file)\n",
    "\n",
    "writer.write_file(modeller.strain, scaling_factor=1E-9)"
   ]
  }
 ],
 "metadata": {
  "kernelspec": {
   "display_name": "Python 2",
   "language": "python",
   "name": "python2"
  },
  "language_info": {
   "codemirror_mode": {
    "name": "ipython",
    "version": 2
   },
   "file_extension": ".py",
   "mimetype": "text/x-python",
   "name": "python",
   "nbconvert_exporter": "python",
   "pygments_lexer": "ipython2",
   "version": "2.7.13"
  }
 },
 "nbformat": 4,
 "nbformat_minor": 0
}
