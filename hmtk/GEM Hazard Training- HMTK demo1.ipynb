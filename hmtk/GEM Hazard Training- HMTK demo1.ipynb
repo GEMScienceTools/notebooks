{
 "metadata": {
  "name": "",
  "signature": "sha256:f70389900bcdfdd3ae84a00163eb2b0ab108ac5dcd326947eceb77982a886acc"
 },
 "nbformat": 3,
 "nbformat_minor": 0,
 "worksheets": [
  {
   "cells": [
    {
     "cell_type": "heading",
     "level": 1,
     "metadata": {},
     "source": [
      "Examples of the usage of the \"Hazard Modeller's Toolkit\" (hmtk)"
     ]
    },
    {
     "cell_type": "heading",
     "level": 1,
     "metadata": {},
     "source": [
      "Section 1. Seismicity Tools"
     ]
    },
    {
     "cell_type": "heading",
     "level": 5,
     "metadata": {},
     "source": [
      "G. Weatherill, M. Pagani, L. Rodriguez, Copyright (c) 2015, GEM Foundation, Hazard Modeller's Toolkit (hmtk)"
     ]
    },
    {
     "cell_type": "markdown",
     "metadata": {},
     "source": [
      "This notebook contains: \n",
      "\n",
      "1. Read a seismic catalogue and pre-defined seismic sources. \n",
      "\n",
      "2. Explore basic methods for qualitative analysis of the catalogue. \n",
      "\n",
      "3. Declustering: Aftershocks and foreshocks identification and removal. \n",
      "\n",
      "4. Completeness\n",
      "\n",
      "5. Estimation of the Gutenberg-Richter parameters. \n",
      "\n",
      "6. Exploration of some methods to estimate the maximum magnitude (statistically from the catalogue)\n",
      "\n",
      "7. Smoothed seismicity"
     ]
    },
    {
     "cell_type": "heading",
     "level": 2,
     "metadata": {},
     "source": [
      "Importing libraries and dependencies "
     ]
    },
    {
     "cell_type": "markdown",
     "metadata": {},
     "source": [
      "In this part there are imported the methods from the hmtk library and other dependencies to run the analysis. "
     ]
    },
    {
     "cell_type": "code",
     "collapsed": false,
     "input": [
      "%matplotlib inline\n",
      "# Dependencies \n",
      "import os\n",
      "import numpy as np\n",
      "from copy import deepcopy\n",
      "import matplotlib.pyplot as plt\n",
      "\n",
      "# Classes for importing sources \n",
      "from hmtk.sources import (simple_fault_source, \n",
      "                          complex_fault_source, \n",
      "                          area_source)\n",
      "\n",
      "# Catalogue and sources \n",
      "from hmtk.parsers.catalogue import CsvCatalogueParser\n",
      "from hmtk.parsers.catalogue.csv_catalogue_parser import CsvCatalogueWriter\n",
      "from hmtk.parsers.source_model.nrml04_parser import nrmlSourceModelParser\n",
      "\n",
      "# Completeness \n",
      "from hmtk.seismicity.completeness.comp_stepp_1971 import Stepp1971\n",
      "\n",
      "# Plotting tools\n",
      "from hmtk.plotting.mapping import HMTKBaseMap\n",
      "from hmtk.plotting.seismicity.completeness import plot_stepp_1972\n",
      "from hmtk.plotting.seismicity.catalogue_plots import plot_magnitude_time_scatter\n",
      "from hmtk.plotting.seismicity.catalogue_plots import plot_depth_histogram\n",
      "from hmtk.plotting.seismicity.catalogue_plots import plot_magnitude_time_density\n",
      "from hmtk.plotting.seismicity.max_magnitude.cumulative_moment import plot_cumulative_moment \n",
      "from hmtk.plotting.seismicity.catalogue_plots import (plot_observed_recurrence, \n",
      "                                                      get_completeness_adjusted_table,\n",
      "                                                      _get_catalogue_bin_limits)\n",
      "\n",
      "# Seismicity tools: Events and declustering methods\n",
      "from hmtk.seismicity.selector import CatalogueSelector\n",
      "from hmtk.seismicity.declusterer.dec_afteran import Afteran \n",
      "from hmtk.seismicity.declusterer.dec_gardner_knopoff import GardnerKnopoffType1 \n",
      "from hmtk.seismicity.declusterer.distance_time_windows import (GardnerKnopoffWindow, \n",
      "                                                               GruenthalWindow, \n",
      "                                                               UhrhammerWindow)\n",
      "# Seismicity tools: Recurrence methods\n",
      "from hmtk.seismicity.occurrence.aki_maximum_likelihood import AkiMaxLikelihood\n",
      "from hmtk.seismicity.occurrence.b_maximum_likelihood import BMaxLikelihood\n",
      "from hmtk.seismicity.occurrence.kijko_smit import KijkoSmit\n",
      "from hmtk.seismicity.occurrence.weichert import Weichert\n",
      "\n",
      "# Seismicity tools: Recurrence methods\n",
      "from hmtk.seismicity.max_magnitude.kijko_sellevol_fixed_b import KijkoSellevolFixedb\n",
      "from hmtk.seismicity.max_magnitude.kijko_sellevol_bayes import KijkoSellevolBayes\n",
      "from hmtk.seismicity.max_magnitude.kijko_nonparametric_gaussian import KijkoNonParametricGaussian\n",
      "from hmtk.seismicity.max_magnitude.cumulative_moment_release import CumulativeMoment \n",
      "\n",
      "# Seismicity tools: Smoothed seismicity\n",
      "from hmtk.seismicity.smoothing.smoothed_seismicity import SmoothedSeismicity \n",
      "from hmtk.seismicity.smoothing.kernels.isotropic_gaussian import IsotropicGaussian \n",
      "\n",
      "print 'Import: ok'"
     ],
     "language": "python",
     "metadata": {},
     "outputs": []
    },
    {
     "cell_type": "heading",
     "level": 2,
     "metadata": {},
     "source": [
      "Pre-analysis of the catalogue "
     ]
    },
    {
     "cell_type": "heading",
     "level": 3,
     "metadata": {},
     "source": [
      "1.1 Importing the catalogue "
     ]
    },
    {
     "cell_type": "markdown",
     "metadata": {},
     "source": [
      "Seismic catalogue format\n",
      "\n",
      "The hmtk is able to read a catalogue in .csv format (Windows comma separated values). \n",
      "There are a minimum number of fields that are required to import and use the catalogue \n",
      "information into hmtk. \n",
      "The fields require: \n",
      "\n",
      "        eventID* Agency year* month* day* hour* minute* second* longitude* latitude* depth* magnitude*\n",
      "\n",
      "The fields marked with a star are mandatory. "
     ]
    },
    {
     "cell_type": "code",
     "collapsed": false,
     "input": [
      "#Importing catalogue\n",
      "catalogue_filename = 'input_data/catalogues/catalogue_example.csv'\n",
      "parser = CsvCatalogueParser(catalogue_filename) # From .csv to hmtk\n",
      "\n",
      "# Read and process the catalogue content in a variable called \"catalogue\"\n",
      "catalogue = parser.read_file() \n",
      "\n",
      "print '\\n'\n",
      "print 'The minimum magnitude in the catalogue is Mw =', np.min(catalogue.data['magnitude'])\n",
      "print 'The maximum magnitude in the catalogue is Mw =', np.max(catalogue.data['magnitude'])\n",
      "print 'The total number of entries is =', len(catalogue.data['magnitude'])\n",
      "print '\\n'\n",
      "print 'The catalogue contains:'\n",
      "print catalogue.data.keys()\n",
      "print '\\n'"
     ],
     "language": "python",
     "metadata": {},
     "outputs": []
    },
    {
     "cell_type": "heading",
     "level": 4,
     "metadata": {},
     "source": [
      "1.1.1 Pre-cleaning the catalogue"
     ]
    },
    {
     "cell_type": "code",
     "collapsed": false,
     "input": [
      "'''\n",
      "Filtering events based on a minimum magnitude\n",
      "'''\n",
      "\n",
      "# Removing from the catalogue events with magnitude smaller than 4.5\n",
      "catalogue.catalogue_mt_filter([[3000., 4.5]])\n",
      "\n",
      "print '\\n'\n",
      "print 'The minimum magnitude in the catalogue is Mw =', np.min(catalogue.data['magnitude'])\n",
      "print 'The maximum magnitude in the catalogue is Mw =', np.max(catalogue.data['magnitude'])\n",
      "print '\\n'\n",
      "print 'Period covered by the catalogue: %s a %s' % (catalogue.start_year, catalogue.end_year)"
     ],
     "language": "python",
     "metadata": {},
     "outputs": []
    },
    {
     "cell_type": "heading",
     "level": 4,
     "metadata": {},
     "source": [
      "1.1.2 Extracting limits"
     ]
    },
    {
     "cell_type": "code",
     "collapsed": false,
     "input": [
      "# Extact the limits of the catalogue\n",
      "min_lon, max_lon, min_lat, max_lat = catalogue.get_bounding_box()\n",
      "\n",
      "print 'Min Lon = %f, Max Lon = %f, Min Lat = %f, Max Lat = %f' % (min_lon, max_lon, min_lat, max_lat)"
     ],
     "language": "python",
     "metadata": {},
     "outputs": []
    },
    {
     "cell_type": "heading",
     "level": 4,
     "metadata": {},
     "source": [
      "1.1.3 Arranging chronologically  the catalogue"
     ]
    },
    {
     "cell_type": "code",
     "collapsed": false,
     "input": [
      "catalogue.sort_catalogue_chronologically()\n",
      "print 'The catalogue is now arranged cronologically'"
     ],
     "language": "python",
     "metadata": {},
     "outputs": []
    },
    {
     "cell_type": "heading",
     "level": 3,
     "metadata": {},
     "source": [
      "1.2 Catalogue statistics and plots"
     ]
    },
    {
     "cell_type": "heading",
     "level": 4,
     "metadata": {},
     "source": [
      "1.2.1 Magnitude vs. Time"
     ]
    },
    {
     "cell_type": "markdown",
     "metadata": {},
     "source": [
      "Visualization of the catalogue per magnitude vs. time. \n",
      "In case the catalogue contain error magnitude, this information can be used writing \"plot_error=True\"\n",
      "\n",
      "            plot_magnitude_time_scatter(catalogue, plot_error=True, fmt_string='.')"
     ]
    },
    {
     "cell_type": "code",
     "collapsed": false,
     "input": [
      "plot_magnitude_time_scatter(catalogue, fmt_string='Dr')"
     ],
     "language": "python",
     "metadata": {},
     "outputs": []
    },
    {
     "cell_type": "heading",
     "level": 4,
     "metadata": {},
     "source": [
      "1.2.2 Density of events: Magnitude vs. Time"
     ]
    },
    {
     "cell_type": "markdown",
     "metadata": {},
     "source": [
      "Plot showing the density of events magnitude vs time. \n",
      "\n",
      "It is needed to define the magnitude and time bin width "
     ]
    },
    {
     "cell_type": "code",
     "collapsed": false,
     "input": [
      "mag_bin = 0.1\n",
      "time_bin = 1.0\n",
      "plot_magnitude_time_density(catalogue, mag_bin, time_bin)"
     ],
     "language": "python",
     "metadata": {},
     "outputs": []
    },
    {
     "cell_type": "heading",
     "level": 4,
     "metadata": {},
     "source": [
      "1.2.3 Depth histogram"
     ]
    },
    {
     "cell_type": "code",
     "collapsed": false,
     "input": [
      "# Shows depth histogram every 10 km  \n",
      "plot_depth_histogram(catalogue, 10.)"
     ],
     "language": "python",
     "metadata": {},
     "outputs": []
    },
    {
     "cell_type": "heading",
     "level": 3,
     "metadata": {},
     "source": [
      "1.3 Seismic analysis and seismic sources"
     ]
    },
    {
     "cell_type": "heading",
     "level": 3,
     "metadata": {},
     "source": [
      "1.3.1 Importing seismic sources and visualizing the catalogue "
     ]
    },
    {
     "cell_type": "markdown",
     "metadata": {},
     "source": [
      "Visualization of the events in the catalogue by magnitude. \n",
      "Read and visualize seismic sources in nrml format. \n",
      "\n",
      "The hmtk supports the next type of source modelling: \n",
      "\n",
      "- Point Source \n",
      "- Area Source \n",
      "- Simple Fault Source \n",
      "- Complex Fault Source \n",
      "- Mixed Source"
     ]
    },
    {
     "cell_type": "code",
     "collapsed": false,
     "input": [
      "# Map configuration\n",
      "map_config = {'min_lon': -82., 'max_lon': -65., 'min_lat': -5, 'max_lat': 12., 'resolution':'l'}\n",
      "\n",
      "# Creating a basemap \n",
      "basemap1 = HMTKBaseMap(map_config, 'Catalogue and seismic sources')\n",
      "\n",
      "# Adding the catalogue to the basemap\n",
      "basemap1.add_catalogue(catalogue, overlay=True)\n",
      "\n",
      "# File containing the seismic sources\n",
      "source_model_file = 'input_data/source_models/source_model_example.xml'\n",
      "\n",
      "# Reading the models \n",
      "parser = nrmlSourceModelParser(source_model_file)\n",
      "\n",
      "# Parse the seismic sources and save them into a variable called \"source_model\"\n",
      "source_model = parser.read_file(\"Source Model 1\")\n",
      "\n",
      "# Adding the seismic sources\n",
      "basemap1.add_source_model(source_model, area_border='r-', border_width=1.5, alpha=0.5) "
     ],
     "language": "python",
     "metadata": {},
     "outputs": []
    },
    {
     "cell_type": "heading",
     "level": 4,
     "metadata": {},
     "source": [
      "1.3.2 Events selection from each source "
     ]
    },
    {
     "cell_type": "markdown",
     "metadata": {},
     "source": [
      "Tools used to select events in the catalogue based on: \n",
      "    \n",
      "        I. Events inside an area source defined by a polygon\n",
      "        II. Events to a given distance from a fault. The distance metrics allowed by the hmtk are: \n",
      "            \n",
      "                - Joyner-Boore distance\n",
      "                - Rupture distance\n",
      "\n",
      "The hmtk allows to select events based on other definitions or paremeters, such as time period, depth, etc. "
     ]
    },
    {
     "cell_type": "code",
     "collapsed": false,
     "input": [
      "# Creates an instance of the slector method called \"selector\" and copy the catalogue using \"create_copy=True\"\n",
      "selector1 = CatalogueSelector(catalogue, create_copy=True)"
     ],
     "language": "python",
     "metadata": {},
     "outputs": []
    },
    {
     "cell_type": "heading",
     "level": 5,
     "metadata": {},
     "source": [
      "1.3.2.1 Selection of events using area sources"
     ]
    },
    {
     "cell_type": "code",
     "collapsed": false,
     "input": [
      "for source in source_model.sources:\n",
      "    if isinstance(source, area_source.mtkAreaSource): \n",
      "        source.select_catalogue(selector1)\n",
      "        print 'Area source %s, name %s, # of events %8.0f' %(source.id, source.name, source.catalogue.get_number_events())\n",
      "        #subcatalogue_area = selector.    \n",
      "    else: \n",
      "        continue"
     ],
     "language": "python",
     "metadata": {},
     "outputs": []
    },
    {
     "cell_type": "code",
     "collapsed": false,
     "input": [
      "map_config = {'min_lon': -82., 'max_lon': -65., 'min_lat': -5, 'max_lat': 12., 'resolution':'l'}\n",
      "basemap2 = HMTKBaseMap(map_config, 'Events inside the area source')\n",
      "basemap2.add_catalogue(source_model.sources[0].catalogue, overlay=True)\n",
      "basemap2.add_source_model(source_model, area_border='k-')"
     ],
     "language": "python",
     "metadata": {},
     "outputs": []
    },
    {
     "cell_type": "heading",
     "level": 5,
     "metadata": {},
     "source": [
      "1.3.2.2 Selection of events using distance from a fault"
     ]
    },
    {
     "cell_type": "code",
     "collapsed": false,
     "input": [
      "# Selecting events from 50 km from the simple fault \n",
      "\n",
      "selector2 = CatalogueSelector(catalogue, create_copy=True)\n",
      "\n",
      "for source in source_model.sources:\n",
      "    if isinstance(source, simple_fault_source.mtkSimpleFaultSource): \n",
      "        source.select_catalogue(selector2, 50)\n",
      "        print 'Source number %s, name %s, # of events %8.0f' %(source.id, source.name, source.catalogue.get_number_events())\n",
      "    elif isinstance(source, complex_fault_source.mtkComplexFaultSource): \n",
      "        source.select_catalogue(selector2, 50) \n",
      "        print 'Source number %s, name %s, # of events %8.0f' %(source.id, source.name, source.catalogue.get_number_events())\n",
      "    else: \n",
      "        continue "
     ],
     "language": "python",
     "metadata": {},
     "outputs": []
    },
    {
     "cell_type": "heading",
     "level": 6,
     "metadata": {},
     "source": [
      "1.3.2.2 Plot: Events 50 km from Simple fault"
     ]
    },
    {
     "cell_type": "code",
     "collapsed": false,
     "input": [
      "map_config = {'min_lon': -82., 'max_lon': -65., 'min_lat': -5, 'max_lat': 12., 'resolution':'l'}\n",
      "basemap3 = HMTKBaseMap(map_config, 'Events 50 km from the simple fault')\n",
      "basemap3.add_catalogue(source_model.sources[1].catalogue, overlay=True)\n",
      "basemap3.add_source_model(source_model, area_border='k-')"
     ],
     "language": "python",
     "metadata": {},
     "outputs": []
    },
    {
     "cell_type": "heading",
     "level": 6,
     "metadata": {},
     "source": [
      "1.3.2.4 Plot: Events 50 km from Complex fault"
     ]
    },
    {
     "cell_type": "code",
     "collapsed": false,
     "input": [
      "map_config = {'min_lon': -82., 'max_lon': -65., 'min_lat': -5, 'max_lat': 12., 'resolution':'l'}\n",
      "basemap4 = HMTKBaseMap(map_config, 'Events 50 km from the complex fault')\n",
      "basemap4.add_catalogue(source_model.sources[2].catalogue, overlay=True)\n",
      "basemap4.add_source_model(source_model, area_border='k-', alpha=0.2)"
     ],
     "language": "python",
     "metadata": {},
     "outputs": []
    },
    {
     "cell_type": "heading",
     "level": 3,
     "metadata": {},
     "source": [
      "1.4 Declustering "
     ]
    },
    {
     "cell_type": "markdown",
     "metadata": {},
     "source": [
      "The declusterin methods included in the hmtk are: \n",
      "\n",
      "    - Gardner & Knopoff (1974)\n",
      "    - Afteran (Musson, 1999b)\n",
      "\n",
      "The time-distance windows available are: \n",
      "\n",
      "    - UhrhammerWindow\n",
      "    - GardnerKnopoffWindow\n",
      "    - GruenthalWindow\n",
      "\n",
      "i.e. \n",
      "    from hmtk.seismicity.declusterer.distance_time_windows import UhrhammerWindow\n",
      "\n",
      "\n",
      "Output:\n",
      "\n",
      "    Cluster index: Flag indicating the cluster or group to which every event is assigned. \n",
      "    Cluster flag: Flag indicating the type of events:  \n",
      "        - 0 if is considered a main shock \n",
      "        - 1 if is considered foreshock or aftershock"
     ]
    },
    {
     "cell_type": "heading",
     "level": 4,
     "metadata": {},
     "source": [
      "1.4.1 Gardner and Knopoff"
     ]
    },
    {
     "cell_type": "code",
     "collapsed": false,
     "input": [
      "# Time-distance window configuration\n",
      "declust_config_gk = {'time_distance_window': UhrhammerWindow(), 'fs_time_prop': 1.0}\n",
      "\n",
      "# Instanciate the declustering methode\n",
      "declustering_gk = GardnerKnopoffType1()\n",
      "\n",
      "# Declustering\n",
      "cluster_index_gk, cluster_flag_gk = declustering_gk.decluster(catalogue, declust_config_gk)\n",
      "\n",
      "# Adding the information to the catalogue: The cluster index and cluter flag\n",
      "catalogue.data['Cluster_Index_gk'] = cluster_index_gk\n",
      "catalogue.data['Cluster_Flag_gk'] = cluster_flag_gk"
     ],
     "language": "python",
     "metadata": {},
     "outputs": []
    },
    {
     "cell_type": "heading",
     "level": 4,
     "metadata": {},
     "source": [
      "1.4.2 Afteran"
     ]
    },
    {
     "cell_type": "code",
     "collapsed": false,
     "input": [
      "# Time-distance window configuration\n",
      "declust_config_af = {'time_distance_window': GardnerKnopoffWindow (), 'time_window': 100.0}\n",
      "\n",
      "# Instanciate the declustering methode\n",
      "declustering_af = Afteran()\n",
      "\n",
      "# Declustering\n",
      "cluster_index_af, cluster_flag_af = declustering_af.decluster(catalogue, declust_config_af)\n",
      "\n",
      "# Adding the information to the catalogue: The cluster index and cluter flag\n",
      "catalogue.data['Cluster_Index_af'] = cluster_index_af\n",
      "catalogue.data['Cluster_Flag_af'] = cluster_flag_af"
     ],
     "language": "python",
     "metadata": {},
     "outputs": []
    },
    {
     "cell_type": "code",
     "collapsed": false,
     "input": [
      "# Print info \n",
      "\n",
      "data = np.column_stack([catalogue.get_decimal_time(), catalogue.data['magnitude'], catalogue.data['longitude'], catalogue.data['latitude'], cluster_index_gk, cluster_flag_gk])\n",
      "print '      Time    Magnitude    Long.    Lat.   Cluster No. Index (-1 = foreshock, 0 = mainshock, 1 = afterschock)'\n",
      "for row in data:\n",
      "    print '%14.8f  %6.2f  %8.3f  %8.3f  %6.0f  %6.0f' %(row[0], row[1], row[2], row[3], row[4], row[5])"
     ],
     "language": "python",
     "metadata": {},
     "outputs": []
    },
    {
     "cell_type": "heading",
     "level": 4,
     "metadata": {},
     "source": [
      "1.4.3 Purging catalogue: Removing aftershocks and foreshocks "
     ]
    },
    {
     "cell_type": "markdown",
     "metadata": {},
     "source": [
      "Removing foreshocks and aftershocks from the catalogue. \n",
      "This example show how to remove the non Poissonian events based on the previous outputs. \n",
      "\n",
      "      Methode                      Choose\n",
      "  \n",
      "    - Gardner and Knopoff choose   cluster_flag_gk\n",
      "    - Afteran                      cluster_flag_af"
     ]
    },
    {
     "cell_type": "code",
     "collapsed": false,
     "input": [
      "# Copying the catalogue and saving it under a new name \"catalogue_dec\"(declustered catalogue) \n",
      "catalogue_dec = deepcopy(catalogue)\n",
      "\n",
      "# Logical indexing: Chossing the outputs for the main events: Cluster_flag = 0 \n",
      "mainshock_flag = cluster_flag_gk == 0 \n",
      "\n",
      "# Filtering the foreshocks and aftershocks in the copy of the catalogue \n",
      "catalogue_dec.purge_catalogue(mainshock_flag)\n",
      "\n",
      "\n",
      "# Printing the number of events considered main shocks\n",
      "print 'Declustering: ok'\n",
      "print 'Number of main events =', catalogue_dec.get_number_events()\n",
      "print '\\n'"
     ],
     "language": "python",
     "metadata": {},
     "outputs": []
    },
    {
     "cell_type": "heading",
     "level": 4,
     "metadata": {},
     "source": [
      "1.4.4 Exporting the declustered catalogue to a .csv file"
     ]
    },
    {
     "cell_type": "code",
     "collapsed": false,
     "input": [
      "# Selecting path and name for the output file \n",
      "output_cat_dec = 'output_data/cat_dec.csv'\n",
      "\n",
      "# Call the method and save the output file under the name \"cat_csv\"\n",
      "cat_csv = CsvCatalogueWriter(output_cat_dec) \n",
      "\n",
      "# Write the purged catalogue\n",
      "cat_csv.write_file(catalogue)\n",
      "print 'Declustered catalogue: ok\\n'"
     ],
     "language": "python",
     "metadata": {},
     "outputs": []
    },
    {
     "cell_type": "heading",
     "level": 3,
     "metadata": {},
     "source": [
      "1.5 Completeness "
     ]
    },
    {
     "cell_type": "heading",
     "level": 4,
     "metadata": {},
     "source": [
      "1.5.1 Stepp method (1971)"
     ]
    },
    {
     "cell_type": "markdown",
     "metadata": {},
     "source": [
      "Estimates the completeness based on the Stepp methode (1971). \n",
      "The outputs are the completeness table and a plot. \n",
      "\n",
      "The configuration file contains three variables:\n",
      "\n",
      "    1) 'magnitude_bin': The size of the magnitude bin (float)\n",
      "\n",
      "    2) 'time_bin': The size of the time-step to increment the time analysis (float)\n",
      "\n",
      "    3) 'increment_lock': A boolean (\"True\"/\"False\") variable to determine whether the trend in the completeness magnitude\n",
      "    should be fixed (\"True\") in order to ensure the trend of lower completeness magnitudes for the later part of the\n",
      "    catalogue, or to allow the completeness to vary without constraint (\"False\")."
     ]
    },
    {
     "cell_type": "code",
     "collapsed": false,
     "input": [
      "# Set up the configuration parameterss\n",
      "comp_config = {'magnitude_bin': 1.0, 'time_bin': 5.0, 'increment_lock': False}\n",
      "\n",
      "# Calling the method\n",
      "completeness_algorithm = Stepp1971()\n",
      "\n",
      "# Use the catalogue and completeness configuration\n",
      "completeness_table = completeness_algorithm.completeness(catalogue, comp_config)\n",
      "print 'Completeness: ok'\n",
      "\n",
      "# Print the completeness table\n",
      "print '\\n'\n",
      "print 'Completeness table using Stepp method (1971)'\n",
      "print completeness_table\n",
      "print '\\n'\n",
      "\n",
      "# Setting configuration for the completeness plot\n",
      "completeness_parameters = completeness_algorithm\n",
      "if os.path.exists('output_data/Stepp_prueba.png'):\n",
      "    os.remove('output_data/Stepp_prueba.png')\n",
      "plot_stepp_1972.create_stepp_plot(completeness_parameters, 'output_data/Stepp_prueba.png')"
     ],
     "language": "python",
     "metadata": {},
     "outputs": []
    },
    {
     "cell_type": "heading",
     "level": 4,
     "metadata": {},
     "source": [
      "1.5.2 Inserting a new completeness table"
     ]
    },
    {
     "cell_type": "code",
     "collapsed": false,
     "input": [
      "'''\n",
      "The hmtk allows to use a completeness table proposed by the modeller. \n",
      "'''\n",
      "\n",
      "# Table format\n",
      "completeness_table_a = np.array([[1995, 5.0],\n",
      "                                 [1983, 6.0], \n",
      "                                 [1970, 7.0],\n",
      "                                 [1902, 8.0]]) \n",
      "\n",
      "# Print the table\n",
      "print '\\n'\n",
      "print 'Completeness table'\n",
      "print completeness_table_a\n",
      "print '\\n'"
     ],
     "language": "python",
     "metadata": {},
     "outputs": []
    },
    {
     "cell_type": "heading",
     "level": 3,
     "metadata": {},
     "source": [
      "1.6 Recurrence: Estimation of the Gutenberg-Richter (G-R) parameters"
     ]
    },
    {
     "cell_type": "markdown",
     "metadata": {},
     "source": [
      "Estimation of the Gutenberg-Richter a-value and b-value \n",
      "\n",
      "    I. The inputs needed are a catalogue and a completeness table. \n",
      "    II. In the case where no completeness table is specified, the method assumes \n",
      "        that the catalogue is complete above the minimum magnitude included in \n",
      "        the given catalogue. \n",
      "\n",
      "    III. The methods included in the hmtk are: \n",
      "\n",
      "        - Maximum Likelihood b-value \n",
      "        - Kijko and Smit (2012)\n",
      "        - Weichert (1980)\n",
      "\n",
      "    The average can be estimated using:  \n",
      "\n",
      "        - Weighted \n",
      "        - Harmonic"
     ]
    },
    {
     "cell_type": "code",
     "collapsed": false,
     "input": [
      "print 'Completeness properties'\n",
      "plot_observed_recurrence(catalogue, completeness_table_a, 0.1)"
     ],
     "language": "python",
     "metadata": {},
     "outputs": []
    },
    {
     "cell_type": "heading",
     "level": 4,
     "metadata": {},
     "source": [
      "1.6.1 b-Maximum Likelihood"
     ]
    },
    {
     "cell_type": "code",
     "collapsed": false,
     "input": [
      "'''\n",
      "This method is simply an adaptation of the Aki (1965) approach \n",
      "in which b-value is determined from the weighted mean of the b-value \n",
      "for each completeness period.\n",
      "'''\n",
      "\n",
      "# Set up the configuration parameters\n",
      "mle_config = {'magnitude_interval': 1.0, 'Average Type': 'Weighted', 'reference_magnitude': 4.5}\n",
      "\n",
      "# Calling the method under the name \"recurrence\"\n",
      "recurrence = BMaxLikelihood()\n",
      "\n",
      "# b-value, a-value and unceratinties estimation\n",
      "bval, sigmab, aval, sigmaa = recurrence.calculate(catalogue_dec, mle_config, completeness = completeness_table)\n",
      "\n",
      "print '\\n'\n",
      "print 'b-Maximum Likelihood: ok'\n",
      "print 'bval =', bval, 'sigmab =', sigmab, 'aval =', aval, 'sigmaa =', sigmaa\n",
      "print '\\n'"
     ],
     "language": "python",
     "metadata": {},
     "outputs": []
    },
    {
     "cell_type": "heading",
     "level": 4,
     "metadata": {},
     "source": [
      "1.6.2 Kijko & Smit (2012) "
     ]
    },
    {
     "cell_type": "code",
     "collapsed": false,
     "input": [
      "'''\n",
      "Implements the maximum likelihood estimator of Kijko & Smit (2012)\n",
      "'''\n",
      "\n",
      "# Set up the configuration parameters\n",
      "kijko_smit_config = {'magnitude_interval': 1.0}\n",
      "\n",
      "# Call the method under the name \"recurrence\"\n",
      "recurrence = KijkoSmit()\n",
      "\n",
      "# b-value, a-value and unceratinties estimation\n",
      "bval, sigmab, aval, sigmaa = recurrence.calculate(catalogue_dec, kijko_smit_config, completeness = completeness_table_a)\n",
      "\n",
      "print '\\n'\n",
      "print 'Kijko y Smit: ok'\n",
      "print 'bval =', bval, 'sigmab =', sigmab, 'aval =', aval, 'sigmaa =', sigmaa\n",
      "print '\\n'"
     ],
     "language": "python",
     "metadata": {},
     "outputs": []
    },
    {
     "cell_type": "heading",
     "level": 4,
     "metadata": {},
     "source": [
      "1.6.3 Weichert (1980)"
     ]
    },
    {
     "cell_type": "code",
     "collapsed": false,
     "input": [
      "'''\n",
      "Implements the maximum likelihood estimator of Weichert (1980)\n",
      "'''\n",
      "\n",
      "# Set up the configuration parameters\n",
      "weichert_config = {'magnitude_interval': 1.0, 'bvalue': 1., 'itstab': 1E-5, 'maxiter': 1000}\n",
      "\n",
      "recurrence = Weichert()\n",
      "\n",
      "bval, sigmab, rate, sigmarate = recurrence.calculate(catalogue_dec, weichert_config, completeness = completeness_table_a)\n",
      "\n",
      "print '\\n'\n",
      "print 'Weichert: ok'\n",
      "print 'bval =', bval, 'sigmab =', sigmab, 'rate =', rate, 'sigmarate =', sigmarate\n",
      "print '\\n'"
     ],
     "language": "python",
     "metadata": {},
     "outputs": []
    },
    {
     "cell_type": "heading",
     "level": 3,
     "metadata": {},
     "source": [
      "1.7 Maximum Magnitude Estimators"
     ]
    },
    {
     "cell_type": "markdown",
     "metadata": {},
     "source": [
      "The hmtk includes methods for the estimation of maximum magnitude, based on \n",
      "statistical analysis of the catalogue. \n",
      "\n",
      "The methods allocated in the toolkit \n",
      "are: \n",
      "\n",
      "        - Kijko Case I. Fixed b-value \n",
      "        - Kijko Case II. Uncertain b-value \n",
      "        - Kijko Case III. Non-Parametric Gaussian (N-P-G) \n",
      "        - Cumulative Moment Release"
     ]
    },
    {
     "cell_type": "heading",
     "level": 4,
     "metadata": {},
     "source": [
      "1.7.1 Kijko & Sellevol - Fixed b-value"
     ]
    },
    {
     "cell_type": "code",
     "collapsed": false,
     "input": [
      "'''\n",
      "Maximum likelihood estimator of maximum magnitude assuming no uncertainty \n",
      "in b-value; see Kijko (2004) for more details.\n",
      "'''\n",
      "\n",
      "# Set up the configuration parameters\n",
      "mmax_config = {'input_mmax': 8.0, 'input_mmax_uncertainty': 0.2, 'b-value': 0.8, 'input_mmin': 5.0, 'tolerance': 1.0E-5, 'maximum_iterations': 49}\n",
      "\n",
      "# Call the medthod under the name \"mmax_estimator\"\n",
      "mmax_estimator = KijkoSellevolFixedb()\n",
      "\n",
      "print 'mmin, mmax, neq, beta'\n",
      "# Estimation of mmax and uncertainty\n",
      "mmax, mmax_uncertainty = mmax_estimator.get_mmax(catalogue_dec, mmax_config)\n",
      "\n",
      "print '\\n'\n",
      "print 'Kijko Case I. Fixed b-value: ok'\n",
      "print 'mmax =', mmax, 'mmax_uncertainty =', mmax_uncertainty\n",
      "print '\\n'"
     ],
     "language": "python",
     "metadata": {},
     "outputs": []
    },
    {
     "cell_type": "heading",
     "level": 4,
     "metadata": {},
     "source": [
      "1.7.2 Kijko & Sellevol - Uncertain b-value"
     ]
    },
    {
     "cell_type": "code",
     "collapsed": false,
     "input": [
      "'''\n",
      "Maximum likelihood estimator of maximum magnitude assuming uncertain b-value. \n",
      "'''\n",
      "\n",
      "# Set up the configuration parameters\n",
      "mmax_config = {'input_mmax': 8.9, 'input_mmax_uncertainty': 0.2, 'b-value': 0.8, 'sigma-b': 0.05, 'input_mmin': 5.0, 'tolerance': 1.0E-5, 'maximum_iterations': 1000}\n",
      "\n",
      "# Call the medthod under the name \"mmax_estimator\"\n",
      "mmax_estimator = KijkoSellevolBayes()\n",
      "\n",
      "# # Estimation of mmax and uncertainty\n",
      "mmax, mmax_uncertainty = mmax_estimator.get_mmax(catalogue, mmax_config)\n",
      "\n",
      "print '\\n'\n",
      "print 'Kijko Case II. Uncertain b-value: ok'\n",
      "print 'mmax =', mmax, 'mmax_uncertainty =', mmax_uncertainty\n",
      "print '\\n'"
     ],
     "language": "python",
     "metadata": {},
     "outputs": []
    },
    {
     "cell_type": "heading",
     "level": 4,
     "metadata": {},
     "source": [
      "1.7.3 Kijko & Sellevol Non-Parametric Gaussian"
     ]
    },
    {
     "cell_type": "code",
     "collapsed": false,
     "input": [
      "'''\n",
      "Maximum likelihood estimator of maximum magnitude assuming no specified magnitude frequency distribution\n",
      "'''\n",
      "\n",
      "# Set up the configuration parameters\n",
      "mmax_config3 = {'input_mmax': 8.0, 'input_mmax_uncertainty': 0.2, 'number_samples': 51, 'number_earthquakes': 50, 'tolerance': 1.0E-3, 'maximum_iterations': 1000}\n",
      "\n",
      "# Call the method under the name \"mmax_estimator\"\n",
      "mmax_estimator = KijkoNonParametricGaussian()\n",
      "\n",
      "# # Estimation of mmax and uncertainty\n",
      "mmax, mmax_uncertainty = mmax_estimator.get_mmax(catalogue_dec, mmax_config3)\n",
      "\n",
      "print '\\n'\n",
      "print 'mmax =', mmax, 'mmax_uncertainty =', mmax_uncertainty\n",
      "print '\\n'\n"
     ],
     "language": "python",
     "metadata": {},
     "outputs": []
    },
    {
     "cell_type": "heading",
     "level": 4,
     "metadata": {},
     "source": [
      "1.7.4 Cumulative Moment Release. Adapted from Makropoulos & Burton (1983)"
     ]
    },
    {
     "cell_type": "code",
     "collapsed": false,
     "input": [
      "'''\n",
      "Estimator of Maximum Magnitude based on the \"Cumulative Moment\" method, \n",
      "an adaptation of the cumulative strain energy estimator of Mmax \n",
      "(Makropoulos & Burton, 1983), with Mmax uncertainty estimated via Monte Carlo \n",
      "sampling of the observed magnitude uncertainties.\n",
      "'''\n",
      "\n",
      "# Set up the configuration parameters\n",
      "cm_config = {'number_bootstraps': 500}\n",
      "\n",
      "# # Call the method under the name \"cmax_estimator\"\n",
      "cmmax_estimator = CumulativeMoment()\n",
      "\n",
      "# Estimation of cmmax and uncertainty\n",
      "cmmax, cmmax_uncertainty = cmmax_estimator.get_mmax(catalogue_dec, cm_config)\n",
      "\n",
      "print '\\n'\n",
      "print 'cmax =', cmmax, 'cmmax_uncertainty =', cmmax_uncertainty\n",
      "print '\\n'"
     ],
     "language": "python",
     "metadata": {},
     "outputs": []
    },
    {
     "cell_type": "heading",
     "level": 5,
     "metadata": {},
     "source": [
      "1.7.4.1 Plot: Cumulative moment release"
     ]
    },
    {
     "cell_type": "code",
     "collapsed": false,
     "input": [
      "plot_cumulative_moment(catalogue_dec.data['year'], catalogue_dec.data['magnitude'])"
     ],
     "language": "python",
     "metadata": {},
     "outputs": []
    },
    {
     "cell_type": "heading",
     "level": 3,
     "metadata": {},
     "source": [
      "1.8 Smoothed seismicity (Frankel 1995)"
     ]
    },
    {
     "cell_type": "markdown",
     "metadata": {},
     "source": [
      "Smoothed Seismicty from Frankel (1995)\n",
      "\n",
      "The method requires as input: \n",
      "                        - Grid definition:\n",
      "                        \n",
      "                            Long min, Long max, Lon step, Lat min, Lat max, Lat step, Depth min, Depth max, Depth step \n",
      "                            \n",
      "                        - b-value\n",
      "                        - Completeness table \n",
      "    Output: \n",
      "            File in .csv format with a-values in a grid"
     ]
    },
    {
     "cell_type": "heading",
     "level": 4,
     "metadata": {},
     "source": [
      "1.8.1 Analysis"
     ]
    },
    {
     "cell_type": "code",
     "collapsed": false,
     "input": [
      "print 'Lat min, Lat max, Long min, Lon max'\n",
      "print min_lat, max_lat, min_lon, max_lon\n",
      "table = np.array([[1995, 5.0],\n",
      "                  [1983, 6.0], \n",
      "                  [1970, 7.0],\n",
      "                  [1902, 8.0]]) \n",
      "bval = 0.8\n",
      "\n",
      "# Defining the region for the analysis\n",
      "grid_limits = [min_lon, max_lon, 0.5, min_lat, max_lat, 0.5, 0., 100., 100.]  \n",
      "\n",
      "# Call the method under the name \"smooth_seis\"\n",
      "smooth_seis = SmoothedSeismicity(grid_limits, use_3d=False, bvalue= bval)\n",
      "\n",
      "# Set up the kernel parameters\n",
      "config = {'Length_Limit': 1., 'BandWidth': 30., 'increment': False}\n",
      "\n",
      "# Printing parameters \n",
      "print 'b-value is:', bval\n",
      "print '\\n'\n",
      "print 'Completeness table', '\\n', table\n",
      "\n",
      "# Smoothed seismicity estimation\n",
      "print '\\n'\n",
      "output_data = smooth_seis.run_analysis(catalogue_dec, config, table, smoothing_kernel=IsotropicGaussian())\n",
      "\n",
      "# Exporting results\n",
      "smooth_seis.write_to_csv('output_data/smoothed_seismicity.csv')\n",
      "\n",
      "print 'Smoothed Seismicity: ok'\n",
      "print '\\n'"
     ],
     "language": "python",
     "metadata": {},
     "outputs": []
    },
    {
     "cell_type": "heading",
     "level": 4,
     "metadata": {},
     "source": [
      "1.8.2 Plotting results from Smoothed Seismicity"
     ]
    },
    {
     "cell_type": "code",
     "collapsed": false,
     "input": [
      "from matplotlib.colors import LogNorm\n",
      "# Map configuration\n",
      "map_config = {'min_lon': -82., 'max_lon': -65., 'min_lat': -5, 'max_lat': 12., 'resolution':'l'}\n",
      "\n",
      "# Creating a basemap \n",
      "basemap2 = HMTKBaseMap(map_config, 'Smoothed Seismicity')\n",
      "basemap2.add_colour_scaled_points(output_data[:,0], output_data[:,1], output_data[:,4], norm=LogNorm(1E-4, 1))"
     ],
     "language": "python",
     "metadata": {},
     "outputs": []
    },
    {
     "cell_type": "code",
     "collapsed": false,
     "input": [],
     "language": "python",
     "metadata": {},
     "outputs": []
    }
   ],
   "metadata": {}
  }
 ]
}