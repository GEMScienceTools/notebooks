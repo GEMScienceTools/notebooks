{
 "metadata": {
  "name": "",
  "signature": "sha256:e252189aa4fcf1be51acda583e3afebf09c9ed64352d447005234028b72cd803"
 },
 "nbformat": 3,
 "nbformat_minor": 0,
 "worksheets": [
  {
   "cells": [
    {
     "cell_type": "heading",
     "level": 1,
     "metadata": {},
     "source": [
      "Geodetic Tools"
     ]
    },
    {
     "cell_type": "markdown",
     "metadata": {},
     "source": [
      "This notebook demonstrates the basic workflow for creating an activity rate model from geodetic strain. The methodology\n",
      "is an implementation of the Seismic Hazard Inferred from Tectonics (SHIFT) (Bird & Liu, 2007; Bird et al., 2010)"
     ]
    },
    {
     "cell_type": "heading",
     "level": 3,
     "metadata": {},
     "source": [
      "The Geodetic Strain Rate Model"
     ]
    },
    {
     "cell_type": "code",
     "collapsed": false,
     "input": [
      "import numpy as np\n",
      "from hmtk.parsers.strain.strain_csv_parser import ReadStrainCsv\n",
      "\n",
      "strain_file = 'input_data/average_strain_minimal.csv'\n",
      "fid = open(strain_file, 'r')\n",
      "\n",
      "for i, row in enumerate(fid.readlines()):\n",
      "    if i >= 20:\n",
      "        break\n",
      "    print row\n",
      "fid.close()"
     ],
     "language": "python",
     "metadata": {},
     "outputs": []
    },
    {
     "cell_type": "heading",
     "level": 3,
     "metadata": {},
     "source": [
      "Load in the Strain File"
     ]
    },
    {
     "cell_type": "code",
     "collapsed": false,
     "input": [
      "import numpy as np\n",
      "from hmtk.parsers.strain.strain_csv_parser import ReadStrainCsv\n",
      "\n",
      "reader = ReadStrainCsv(strain_file)\n",
      "\n",
      "strain_data = reader.read_data(scaling_factor=1E-9) # Data reported in nanostrain\n",
      "print 'Data loaded ok'\n",
      "\n"
     ],
     "language": "python",
     "metadata": {},
     "outputs": []
    },
    {
     "cell_type": "code",
     "collapsed": false,
     "input": [
      "for iloc in range(0, 20):\n",
      "    print '%8.3f %8.3f %.8e %.8e %.8e %.8e %.8e' % (strain_data.data['longitude'][iloc],\n",
      "                                                    strain_data.data['latitude'][iloc],\n",
      "                                                    strain_data.data['exx'][iloc],\n",
      "                                                    strain_data.data['eyy'][iloc],\n",
      "                                                    strain_data.data['exy'][iloc],\n",
      "                                                    strain_data.data['2nd_inv'][iloc],\n",
      "                                                    strain_data.data['dilatation'][iloc])"
     ],
     "language": "python",
     "metadata": {},
     "outputs": []
    },
    {
     "cell_type": "heading",
     "level": 3,
     "metadata": {},
     "source": [
      "Adding the Tectonic Regionalisaton"
     ]
    },
    {
     "cell_type": "markdown",
     "metadata": {},
     "source": [
      "To define a seismic moment rate, the volume of each deforming cell must be known. Therefore the seismogenic coupling depth must be defined. This is done using the regionalisation. In the current example the tectonic regionalisation of Kreemer (2003) is used. The cells can be assigned to this regionalisation using as follows:"
     ]
    },
    {
     "cell_type": "code",
     "collapsed": false,
     "input": [
      "from hmtk.strain.regionalisation.kreemer_regionalisation import KreemerRegionalisation\n",
      "\n",
      "regionalisation = KreemerRegionalisation()\n",
      "\n",
      "strain_data = regionalisation.get_regionalisation(strain_data)\n",
      "\n",
      "                                         "
     ],
     "language": "python",
     "metadata": {},
     "outputs": []
    },
    {
     "cell_type": "code",
     "collapsed": false,
     "input": [
      "for iloc in range(0, 20):\n",
      "    print '%8.3f %8.3f %.8e %.8e %.8e %.8e %.8e %s' % (strain_data.data['longitude'][iloc],\n",
      "                                                    strain_data.data['latitude'][iloc],\n",
      "                                                    strain_data.data['exx'][iloc],\n",
      "                                                    strain_data.data['eyy'][iloc],\n",
      "                                                    strain_data.data['exy'][iloc],\n",
      "                                                    strain_data.data['2nd_inv'][iloc],\n",
      "                                                    strain_data.data['dilatation'][iloc],\n",
      "                                                    strain_data.data['region'][iloc])"
     ],
     "language": "python",
     "metadata": {},
     "outputs": []
    },
    {
     "cell_type": "heading",
     "level": 3,
     "metadata": {},
     "source": [
      "Applying the SHIFT Methodology"
     ]
    },
    {
     "cell_type": "code",
     "collapsed": false,
     "input": [
      "from hmtk.strain.shift import Shift\n",
      "\n",
      "magnitudes = np.arange(5.0, 9.6, 0.1)\n",
      "\n",
      "modeller = Shift(magnitudes)"
     ],
     "language": "python",
     "metadata": {},
     "outputs": []
    },
    {
     "cell_type": "markdown",
     "metadata": {},
     "source": [
      "Implicit in this methodology are the regionalisation parameters of Bird & Kagan (2004) and Bird et al (2009). The SHIFT methodology assumes that for each cell the activity is modelled via a Tapered Gutenberg-Richter distribution, with the\n",
      "beta-value and corner magnitude derived according to the region type assigned by Bird & Kagan (2004)"
     ]
    },
    {
     "cell_type": "code",
     "collapsed": false,
     "input": [
      "for key in modeller.regionalisation.keys():\n",
      "    print key\n",
      "    print modeller.regionalisation[key]"
     ],
     "language": "python",
     "metadata": {},
     "outputs": []
    },
    {
     "cell_type": "code",
     "collapsed": false,
     "input": [
      "# Get the activity rate\n",
      "modeller.calculate_activity_rate(strain_data, cumulative=False)"
     ],
     "language": "python",
     "metadata": {},
     "outputs": []
    },
    {
     "cell_type": "code",
     "collapsed": false,
     "input": [
      "import matplotlib.pyplot as plt\n",
      "\n",
      "# Show a sample of 8 random cells\n",
      "sampler = np.random.randint(0, strain_data.get_number_observations(), 5)\n",
      "\n",
      "plt.figure(figsize=(8.0, 6.0))\n",
      "for sample in sampler:\n",
      "    plt.semilogy(magnitudes, modeller.strain.seismicity_rate[sample, :])\n",
      "plt.xlim(5.0, 9.4)\n",
      "plt.xlabel('Magnitude', fontsize=12)\n",
      "plt.ylabel('Incremental Rate', fontsize=12)\n"
     ],
     "language": "python",
     "metadata": {},
     "outputs": []
    },
    {
     "cell_type": "heading",
     "level": 3,
     "metadata": {},
     "source": [
      "Export the Activity Model to a CSV"
     ]
    },
    {
     "cell_type": "code",
     "collapsed": false,
     "input": [
      "from hmtk.parsers.strain.strain_csv_parser import WriteStrainCsv\n",
      "\n",
      "output_file = 'output_data/SHIFT_Demo_Output1.csv'\n",
      "\n",
      "writer = WriteStrainCsv(output_file)\n",
      "\n",
      "writer.write_file(modeller.strain, scaling_factor=1E-9)"
     ],
     "language": "python",
     "metadata": {},
     "outputs": []
    }
   ],
   "metadata": {}
  }
 ]
}