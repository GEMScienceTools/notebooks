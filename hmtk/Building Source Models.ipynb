{
 "cells": [
  {
   "cell_type": "code",
   "execution_count": null,
   "metadata": {
    "collapsed": false
   },
   "outputs": [],
   "source": [
    "%matplotlib inline\n",
    "# Python dependences\n",
    "import os, time\n",
    "import numpy as np   # Numpy - Python's numerical library\n",
    "import matplotlib.pyplot as plt  # Matplotlib - Python's plotting library\n",
    "from copy import deepcopy   # Python module for copying objects\n",
    "\n",
    "# Input and Output Tools\n",
    "# Catalogue and sources \n",
    "from hmtk.parsers.catalogue import CsvCatalogueParser   # Reads an earthquake catalogue from CSV\n",
    "from hmtk.parsers.catalogue.csv_catalogue_parser import CsvCatalogueWriter  # Writes an earthquake catalogue to CSV\n",
    "from hmtk.parsers.source_model.nrml04_parser import nrmlSourceModelParser  # Imports a source model from XML\n",
    "\n",
    "# Plotting tools\n",
    "from hmtk.plotting.mapping import HMTKBaseMap\n",
    "from hmtk.plotting.seismicity.completeness import plot_stepp_1972\n",
    "from hmtk.plotting.seismicity.catalogue_plots import plot_magnitude_time_scatter\n",
    "from hmtk.plotting.seismicity.catalogue_plots import plot_depth_histogram\n",
    "from hmtk.plotting.seismicity.catalogue_plots import plot_magnitude_time_density\n",
    "from hmtk.plotting.seismicity.max_magnitude.cumulative_moment import plot_cumulative_moment \n",
    "from hmtk.plotting.seismicity.catalogue_plots import (plot_observed_recurrence, \n",
    "                                                      get_completeness_adjusted_table,\n",
    "                                                      _get_catalogue_bin_limits)\n",
    "from hmtk.plotting.seismicity.occurrence.recurrence_plot import plot_recurrence_model\n",
    "# Recurrence and Mmax\n",
    "from hmtk.seismicity.occurrence.kijko_smit import KijkoSmit\n",
    "from hmtk.seismicity.occurrence.weichert import Weichert\n",
    "from hmtk.seismicity.max_magnitude.kijko_sellevol_bayes import KijkoSellevolBayes\n",
    "from hmtk.seismicity.max_magnitude.kijko_sellevol_fixed_b import KijkoSellevolFixedb\n",
    "from hmtk.seismicity.max_magnitude.cumulative_moment_release import CumulativeMoment\n",
    "from hmtk.plotting.seismicity.max_magnitude.cumulative_moment import plot_cumulative_moment\n",
    "\n",
    "# Catalogue selector - we will see this in action\n",
    "from hmtk.seismicity.selector import CatalogueSelector\n",
    "\n",
    "from openquake.hazardlib.mfd import TruncatedGRMFD"
   ]
  },
  {
   "cell_type": "code",
   "execution_count": null,
   "metadata": {
    "collapsed": true
   },
   "outputs": [],
   "source": [
    "catalogue_file = \"output_data/aegean_cat_dec.csv\"\n",
    "parser = CsvCatalogueParser(catalogue_file)\n",
    "catalogue = parser.read_file(start_year=1900)"
   ]
  },
  {
   "cell_type": "markdown",
   "metadata": {},
   "source": [
    "# Load in a Source Model File"
   ]
  },
  {
   "cell_type": "code",
   "execution_count": null,
   "metadata": {
    "collapsed": true
   },
   "outputs": [],
   "source": [
    "source_model_file = \"input_data/WT2006_Aegean_Sources.xml\"\n",
    "parser = nrmlSourceModelParser(source_model_file)\n",
    "\n",
    "# Parse the seismic sources and save them into a variable called \"source_model\"\n",
    "source_model = parser.read_file(\"Aegean Source Model 1\") # You need to supply a name for the source model"
   ]
  },
  {
   "cell_type": "code",
   "execution_count": null,
   "metadata": {
    "collapsed": false
   },
   "outputs": [],
   "source": [
    "llon, ulon, llat, ulat = catalogue.get_bounding_box()\n",
    "map_config = {'min_lon': np.floor(llon), 'max_lon': np.ceil(ulon),\n",
    "              'min_lat': np.floor(llat), 'max_lat': np.ceil(ulat), 'resolution':'i'}\n",
    "\n",
    "basemap1 = HMTKBaseMap(map_config, 'Earthquake Catalogue + Area Sources')\n",
    "# Adding the catalogue to the basemap\n",
    "basemap1.add_catalogue(catalogue, overlay=True)\n",
    "# Adding the seismic sources\n",
    "basemap1.add_source_model(source_model, area_border='r-', border_width=1.5, alpha=0.5) "
   ]
  },
  {
   "cell_type": "markdown",
   "metadata": {},
   "source": [
    "### A Source Model Workflow - Area Source Example"
   ]
  },
  {
   "cell_type": "markdown",
   "metadata": {},
   "source": [
    "Each of the area sources has:\n",
    "\n",
    "1. Defined name, ID, tectonic region type\n",
    "\n",
    "2. Geometry (polygon)\n",
    "\n",
    "3. Magnitude Scaling Relation (Wells & Coppersmith, 1994)\n",
    "\n",
    "4. Rupture Aspect Ratio (1.5)\n",
    "\n",
    "5. Nodal Plane Distribution (varies)\n",
    "\n",
    "\n",
    "But they are missing the magnitude frequency distribution and the hypocentral depth distribution!\n",
    "\n",
    "Using the observed catalogue - define the MFD as a Truncated Gutenberg-Richer model for each source\n",
    "\n",
    "Assume $M_{MIN} = 4.5$"
   ]
  },
  {
   "cell_type": "code",
   "execution_count": null,
   "metadata": {
    "collapsed": true
   },
   "outputs": [],
   "source": [
    "completeness_table = np.array([[1990., 4.5],\n",
    "                               [1964., 5.0],\n",
    "                               [1960., 5.5],\n",
    "                               [1900., 6.5]])\n",
    "\n",
    "min_mag = 4.5\n",
    "\n",
    "selector1 = CatalogueSelector(catalogue, create_copy=True)"
   ]
  },
  {
   "cell_type": "markdown",
   "metadata": {},
   "source": [
    "In the following workflow we will, for each source:\n",
    "\n",
    "1. Select the earthquakes within the source\n",
    "\n",
    "2. Plot them on a map\n",
    "\n",
    "3. Use them to calculate a- and b-value from the Weichert (1980) method\n",
    "\n",
    "4. Estimate Mmax using the cumulative moment method (plus a small offset)\n",
    "\n",
    "5. View the hypocentral depth distribution - and use the density to define the hypocentral depth distribution for the source"
   ]
  },
  {
   "cell_type": "code",
   "execution_count": null,
   "metadata": {
    "collapsed": false
   },
   "outputs": [],
   "source": [
    "for source in source_model.sources:\n",
    "    # Select the earthquakes within the source\n",
    "    source.select_catalogue(selector1)\n",
    "    print \"Source ID: %s  Source Name: %s   Number of Events: %g\" % (source.id, source.name,\n",
    "                                                                     source.catalogue.get_number_events())\n",
    "    \n",
    "    \n",
    "    # Map the Source\n",
    "    src_basemap = HMTKBaseMap(map_config, \"Source: {:s}\".format(source.name))\n",
    "    # Add on the catalogue\n",
    "    src_basemap.add_catalogue(source.catalogue)\n",
    "    \n",
    "    \n",
    "    # Get the a- and b-value using Weichert (1980)\n",
    "    occurrence = Weichert()\n",
    "    recurrence_config = {\"magnitude_interval\": 0.1}\n",
    "    bval, sigma_b, aval, sigma_a = occurrence.calculate(source.catalogue,\n",
    "                                                        recurrence_config,\n",
    "                                                        completeness_table)\n",
    "    print \"a = %.3f (+/- %.3f),  b = %.3f (+/-%.3f)\" % (aval, sigma_a, bval, sigma_b)\n",
    "\n",
    "    \n",
    "    # Estimate the Maximum Magnitude - using the Cumulative Moment method\n",
    "    mmax_config = {\"number_bootstraps\": 500}\n",
    "    mmax_calculator = CumulativeMoment()\n",
    "    mmax, sigma_mmax = mmax_calculator.get_mmax(source.catalogue, mmax_config)\n",
    "    print \"Mmax (Observed) = %.2f Mmax (Inferred) = %.3f +/- %.3f\" % (\n",
    "        np.max(source.catalogue.data[\"magnitude\"]), mmax + 0.2, sigma_mmax)\n",
    "    \n",
    "    \n",
    "    # Compare the model against data\n",
    "    source.mfd = TruncatedGRMFD(min_mag, mmax + 0.2, 0.1, aval, bval)\n",
    "    plot_recurrence_model(source.mfd, source.catalogue, completeness_table, 0.1)\n",
    "    print \"\\n\"\n",
    "    \n",
    "    \n",
    "    # Show the depth histogram\n",
    "    depth_interval = 5.0  # in km\n",
    "    plot_depth_histogram(source.catalogue, depth_interval, normalisation=True)\n",
    "    \n",
    "    \n",
    "    # Add the probability mass function of the hypocentre depths to the source\n",
    "    depth_bins = np.arange(source.upper_depth,\n",
    "                           source.lower_depth + depth_interval,\n",
    "                           depth_interval)\n",
    "    #source.hypo_depth_dist = source.catalogue.get_depth_pmf(depth_bins)\n",
    "    # Wait for the plotting to catch up!\n",
    "    time.sleep(2.0)"
   ]
  },
  {
   "cell_type": "code",
   "execution_count": null,
   "metadata": {
    "collapsed": false
   },
   "outputs": [],
   "source": [
    "source_model.serialise_to_nrml(\"New_Aegean_Source_Model.xml\")"
   ]
  },
  {
   "cell_type": "markdown",
   "metadata": {},
   "source": [
    "### Exploring Fault Sources in the Gulf of Corinth"
   ]
  },
  {
   "cell_type": "code",
   "execution_count": null,
   "metadata": {
    "collapsed": false
   },
   "outputs": [],
   "source": [
    "fault_model_file = \"input_data/source_models/GulfOfCorinth_minimal.xml\"\n",
    "parser = nrmlSourceModelParser(fault_model_file)\n",
    "fault_sources = parser.read_file(\"Gulf of Corinth Faults\")"
   ]
  },
  {
   "cell_type": "markdown",
   "metadata": {},
   "source": [
    "#### Visualise"
   ]
  },
  {
   "cell_type": "code",
   "execution_count": null,
   "metadata": {
    "collapsed": false
   },
   "outputs": [],
   "source": [
    "map_config = {'min_lon': 20.9, 'max_lon': 24.0,\n",
    "              'min_lat': 37.5, 'max_lat': 39.0, 'resolution':'h'}\n",
    "\n",
    "# Map the Source\n",
    "src_basemap = HMTKBaseMap(map_config, \"Gulf of Corinth Faults & Seismicity\")\n",
    "# Add on the catalogue\n",
    "src_basemap.add_catalogue(catalogue, overlay=True)\n",
    "src_basemap.add_source_model(fault_sources)"
   ]
  }
 ],
 "metadata": {
  "kernelspec": {
   "display_name": "Python 2",
   "language": "python",
   "name": "python2"
  },
  "language_info": {
   "codemirror_mode": {
    "name": "ipython",
    "version": 2
   },
   "file_extension": ".py",
   "mimetype": "text/x-python",
   "name": "python",
   "nbconvert_exporter": "python",
   "pygments_lexer": "ipython2",
   "version": "2.7.6"
  }
 },
 "nbformat": 4,
 "nbformat_minor": 0
}
