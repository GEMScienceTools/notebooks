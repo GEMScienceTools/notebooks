{
 "metadata": {
  "name": "",
  "signature": "sha256:b1288c3614c1fd1e8a6ba39780424b7539ed5d18bb674ddd54a398e00001bd2c"
 },
 "nbformat": 3,
 "nbformat_minor": 0,
 "worksheets": [
  {
   "cells": [
    {
     "cell_type": "heading",
     "level": 1,
     "metadata": {},
     "source": [
      "Section 2. End-to-end example: Ruptures and hazard curves"
     ]
    },
    {
     "cell_type": "heading",
     "level": 5,
     "metadata": {},
     "source": [
      "G. Weatherill, M. Pagani, L. Rodriguez, Copyright (c) 2015, GEM Foundation, Hazard Modeller's Toolkit (hmtk)"
     ]
    },
    {
     "cell_type": "markdown",
     "metadata": {},
     "source": [
      "This notebook contains: \n",
      "\n",
      "1. Importing data: Reading and pre-processing a catalogue\n",
      "\n",
      "2. Importing a source model and selecting the catalogue for the source\n",
      "\n",
      "3. Defining the seismicity model for the source\n",
      "    - Magnitude frequency distribution\n",
      "    - Hypocentral depth distribution\n",
      "    - Nodal plane distribution\n",
      "\n",
      "4. Calculating hazard curves\n",
      "\n",
      "5. Plotting hazard curves"
     ]
    },
    {
     "cell_type": "heading",
     "level": 3,
     "metadata": {},
     "source": [
      "Scripts"
     ]
    },
    {
     "cell_type": "code",
     "collapsed": false,
     "input": [
      "def get_map_projection(src):\n",
      "    \"\"\"\n",
      "    Return map projection specific to source.\n",
      "    \"\"\"\n",
      "    # extract rupture enclosing polygon (considering a buffer of 10 km)\n",
      "    rup_poly = src.get_rupture_enclosing_polygon(10.)\n",
      "    min_lon = numpy.min(rup_poly.lons)\n",
      "    max_lon = numpy.max(rup_poly.lons)\n",
      "    min_lat = numpy.min(rup_poly.lats)\n",
      "    max_lat = numpy.max(rup_poly.lats)\n",
      "    \n",
      "    # create map projection\n",
      "    m = Basemap(projection='merc', llcrnrlat=min_lat, urcrnrlat=max_lat,\n",
      "                llcrnrlon=min_lon, urcrnrlon=max_lon, resolution='l')\n",
      "\n",
      "    return min_lon, max_lon, min_lat, max_lat, m"
     ],
     "language": "python",
     "metadata": {},
     "outputs": []
    },
    {
     "cell_type": "heading",
     "level": 3,
     "metadata": {},
     "source": [
      "2.1 Importing data: Catalogue and pre-defined sources"
     ]
    },
    {
     "cell_type": "heading",
     "level": 4,
     "metadata": {},
     "source": [
      "2.1.1 Reading data"
     ]
    },
    {
     "cell_type": "code",
     "collapsed": false,
     "input": [
      "from hmtk.parsers.catalogue import CsvCatalogueParser\n",
      "from hmtk.parsers.source_model.nrml04_parser import nrmlSourceModelParser\n",
      "\n",
      "#Importing catalogue\n",
      "catalogue_filename = 'input_data/catalogues/catalogue_example.csv'\n",
      "parser = CsvCatalogueParser(catalogue_filename) \n",
      "catalogue = parser.read_file() \n",
      "\n",
      "# Reading area source\n",
      "source_model_file1 = 'input_data/source_models/area_source_minimal.xml'\n",
      "parser = nrmlSourceModelParser(source_model_file1)\n",
      "source_model = parser.read_file()"
     ],
     "language": "python",
     "metadata": {},
     "outputs": []
    },
    {
     "cell_type": "heading",
     "level": 4,
     "metadata": {},
     "source": [
      "2.1.2 Plotting entire catalogue"
     ]
    },
    {
     "cell_type": "code",
     "collapsed": false,
     "input": [
      "from hmtk.plotting.mapping import HMTKBaseMap\n",
      "\n",
      "map_config = {'min_lon': -82., 'max_lon': -65., 'min_lat': -5, 'max_lat': 12., 'resolution':'l'}\n",
      "basemap1 = HMTKBaseMap(map_config, 'Catalogue and sources')\n",
      "basemap1.add_catalogue(catalogue, overlay=True)\n",
      "basemap1.add_source_model(source_model, area_border='r-', border_width=2.0)"
     ],
     "language": "python",
     "metadata": {},
     "outputs": []
    },
    {
     "cell_type": "heading",
     "level": 3,
     "metadata": {},
     "source": [
      "Pre-Process Catalogue"
     ]
    },
    {
     "cell_type": "code",
     "collapsed": false,
     "input": [
      "from copy import deepcopy\n",
      "\n",
      "from hmtk.seismicity.declusterer.dec_gardner_knopoff import GardnerKnopoffType1 \n",
      "from hmtk.seismicity.declusterer.distance_time_windows import UhrhammerWindow \n",
      "from hmtk.seismicity.occurrence.weichert import Weichert\n",
      "from hmtk.seismicity.max_magnitude.cumulative_moment_release import CumulativeMoment\n",
      "\n",
      "# Declustering\n",
      "declustering_gk = GardnerKnopoffType1()\n",
      "declust_config_gk = {'time_distance_window': UhrhammerWindow(), 'fs_time_prop': 1.0}\n",
      "cluster_index_gk, cluster_flag_gk = declustering_gk.decluster(catalogue, declust_config_gk)\n",
      "\n",
      "# Purging catalogue\n",
      "catalogue_dec = deepcopy(catalogue)\n",
      "mainshock_flag = cluster_flag_gk == 0 \n",
      "catalogue_dec.purge_catalogue(mainshock_flag)\n",
      "\n",
      "# Completeness\n",
      "completeness_table = np.array([[1995., 5.], \n",
      "                               [1983., 6.],\n",
      "                               [1970., 7.]])"
     ],
     "language": "python",
     "metadata": {},
     "outputs": []
    },
    {
     "cell_type": "heading",
     "level": 3,
     "metadata": {},
     "source": [
      "2 Creation of the subcatalogue"
     ]
    },
    {
     "cell_type": "code",
     "collapsed": false,
     "input": [
      "from hmtk.seismicity.selector import CatalogueSelector\n",
      "\n",
      "# Selecting subcatalogue\n",
      "area_source = source_model.sources[0]\n",
      "selector = CatalogueSelector(catalogue)\n",
      "area_source.select_catalogue(selector)\n",
      "\n",
      "print 'Number of events in the area source', area_source.catalogue.get_number_events()"
     ],
     "language": "python",
     "metadata": {},
     "outputs": []
    },
    {
     "cell_type": "heading",
     "level": 5,
     "metadata": {},
     "source": [
      "View Some Properties of the Catalogue in the Zone"
     ]
    },
    {
     "cell_type": "code",
     "collapsed": false,
     "input": [
      "map_config = {'min_lon': -82., 'max_lon': -65., 'min_lat': -5, 'max_lat': 12., 'resolution':'l'}\n",
      "basemap2 = HMTKBaseMap(map_config, 'Subcatalogue based on area source')\n",
      "basemap2.add_catalogue(area_source.catalogue, overlay=True)\n",
      "basemap2.add_source_model(source_model, area_border='r-', border_width=2.0)"
     ],
     "language": "python",
     "metadata": {},
     "outputs": []
    },
    {
     "cell_type": "code",
     "collapsed": false,
     "input": [
      "from hmtk.plotting.seismicity.catalogue_plots import (plot_depth_histogram,\n",
      "                                                      plot_observed_recurrence,\n",
      "                                                      plot_magnitude_time_density)\n",
      "magnitude_bin = 0.1\n",
      "time_bin = 1.0\n",
      "depth_bin = 20.0\n",
      "# Look at the magnitude time density\n",
      "plot_magnitude_time_density(area_source.catalogue, magnitude_bin, time_bin)\n",
      "# Look at the observed recurrence\n",
      "plot_observed_recurrence(area_source.catalogue, completeness_table, 0.1)\n",
      "# Look at the depth histogram\n",
      "plot_depth_histogram(area_source.catalogue, depth_bin, normalisation=True)"
     ],
     "language": "python",
     "metadata": {},
     "outputs": []
    },
    {
     "cell_type": "heading",
     "level": 3,
     "metadata": {},
     "source": [
      "3 Running a Hazard Analysis from the HMTK - A Sensitivity Study"
     ]
    },
    {
     "cell_type": "heading",
     "level": 5,
     "metadata": {},
     "source": [
      "Get the Hypocentral Depth Distribution"
     ]
    },
    {
     "cell_type": "markdown",
     "metadata": {},
     "source": [
      "OQ-hazardlib describes the aleatory variability in depth and rupture orientation using a probability mass function. This defines the probability for ruptures with different nodal planes and hypocenter depths, in this manner both characteristics are taken as discrete random variables. \n",
      "\n",
      "http://docs.openquake.org/oq-hazardlib/stable/pmf.html?highlight=pmf\n",
      "\n",
      "In both cases is needed to provide a probability associated to a set of data: \n",
      "\n",
      "    - Nodal Plane:  PMF([(1, NodalPlane(strike=90., dip=45., rake=0.))])\n",
      "   \n",
      "In this case, there is a probability of 1 that the rupture occurs with dip 45 degrees, strike 90 degrees and strike-slip focal mechanism.  \n",
      "   \n",
      "    - Hypocenter depth:  PMF([(1, 25.)])\n",
      "   \n",
      "In this case, there is a probability of 1 that the rupture occurs at 25 km depth. "
     ]
    },
    {
     "cell_type": "markdown",
     "metadata": {},
     "source": [
      "For the hypocentral depth distribution, we can use the toolkit to define the probability mass function directly from the distribution of hypocentral depths\n",
      "\n",
      "- Our seismic source has a depth range from 0 km to 60 km\n",
      "- We therefore define the hypocentral distribution from three values 10 km, 30 km and 50 km, which correspond to the mid-points of the histogram bins with a spacing of 20 km"
     ]
    },
    {
     "cell_type": "code",
     "collapsed": false,
     "input": [
      "# Histogram bin width\n",
      "depth_bin_width = 20.0\n",
      "\n",
      "# Set up histogram bins\n",
      "depth_bins = np.arange(area_source.upper_depth, # Upper seismogenic depth\n",
      "                       area_source.lower_depth + depth_bin_width, # Lower seismogenic depth (plus one more increment)\n",
      "                       depth_bin_width)\n",
      "\n",
      "# The catalogue has the method .get_depth_pmf, which will look at the hypocentral\n",
      "# depth distribution and define a PMF from it\n",
      "hdd_pmf = area_source.catalogue.get_depth_pmf(depth_bins)\n",
      "\n",
      "# Look at the probabilities\n",
      "for prob, depth in hdd_pmf.data:\n",
      "    print \"Probability = %.3f, Depth = %.1f\" % (prob, depth)\n",
      "\n",
      "# Assign the PMF to the source\n",
      "area_source.hypo_depth_dist = hdd_pmf"
     ],
     "language": "python",
     "metadata": {},
     "outputs": []
    },
    {
     "cell_type": "heading",
     "level": 5,
     "metadata": {},
     "source": [
      "Get the Nodal Plane Distribution"
     ]
    },
    {
     "cell_type": "markdown",
     "metadata": {},
     "source": [
      "At the moment there are no tools for deriving this from the catalogue.\n",
      "So we define two nodal planes with equal probability:\\\\\n",
      "1) Strike = 45.0, Dip = 90.0, Rake = 0.0\\\\\n",
      "2) Strike = 135.0, Dip = 90.0, Rake = 0.0"
     ]
    },
    {
     "cell_type": "code",
     "collapsed": false,
     "input": [
      "# Import the NodalPlane and the PMF objects from the hazardlib\n",
      "from openquake.hazardlib.geo.nodalplane import NodalPlane\n",
      "from openquake.hazardlib.pmf import PMF\n",
      "\n",
      "# Define our two Nodal Planes\n",
      "nodal_plane1 = NodalPlane(strike = 45.0, dip = 90.0, rake = 0.0)\n",
      "nodal_plane2 = NodalPlane(strike = 135.0, dip = 90.0, rake = 0.0)\n",
      "\n",
      "# Assign this PMF to the area source\n",
      "area_source.nodal_plane_dist = PMF([(0.5, nodal_plane1),\n",
      "                                    (0.5, nodal_plane2)])"
     ],
     "language": "python",
     "metadata": {},
     "outputs": []
    },
    {
     "cell_type": "heading",
     "level": 3,
     "metadata": {},
     "source": [
      "Get Magnitude Frequency Distribution"
     ]
    },
    {
     "cell_type": "heading",
     "level": 3,
     "metadata": {},
     "source": [
      "We will derive two different source models - one with different methodologies for deriving the a- and b-value using the catalogue defined for the source zone"
     ]
    },
    {
     "cell_type": "code",
     "collapsed": false,
     "input": [
      "from hmtk.seismicity.occurrence.weichert import Weichert\n",
      "from hmtk.seismicity.occurrence.b_maximum_likelihood import BMaxLikelihood\n",
      "\n",
      "# Weichert Method\n",
      "recurrence1 = Weichert()\n",
      "weichert_config = {'magnitude_interval': 0.1, 'bvalue': 1., 'itstab': 1E-5, 'maxiter': 1000}\n",
      "bval1, sigmab1, aval1, sigmaa1 = recurrence1.calculate(area_source.catalogue, weichert_config, completeness = completeness_table)\n",
      "\n",
      "print \"--- Weichert ---\"\n",
      "print \"a-value = %.4f +/- %.4f, b-value = %.4f +/- %.4f\" % (aval1, sigmaa1, bval1, sigmab1)\n",
      "\n",
      "# Weighted Maximum Likelihood Method\n",
      "recurrence2 = BMaxLikelihood()\n",
      "wml_config = {'magnitude_interval': 0.1, 'Average Type': 'Weighted'}\n",
      "bval2, sigmab2, aval2, sigmaa2 = recurrence2.calculate(area_source.catalogue, wml_config, completeness = completeness_table)\n",
      "\n",
      "print \"--- Weighted Maximum Likelihood ---\"\n",
      "print \"a-value = %.4f +/- %.4f, b-value = %.4f +/- %.4f\" % (aval2, sigmaa2, bval2, sigmab2)"
     ],
     "language": "python",
     "metadata": {},
     "outputs": []
    },
    {
     "cell_type": "heading",
     "level": 3,
     "metadata": {},
     "source": [
      "Define an Upper-Bound Magnitude (Use only one Mmax for both distributions)"
     ]
    },
    {
     "cell_type": "code",
     "collapsed": false,
     "input": [
      "cm_config = {'number_bootstraps': 500}\n",
      "cmmax_estimator = CumulativeMoment()\n",
      "cmmax, cmmax_uncertainty = cmmax_estimator.get_mmax(catalogue_dec, cm_config)\n",
      "print \"Maximum Magnitude (estimate): %.3f +/- %.3f\" % (cmmax, cmmax_uncertainty)"
     ],
     "language": "python",
     "metadata": {},
     "outputs": []
    },
    {
     "cell_type": "heading",
     "level": 5,
     "metadata": {},
     "source": [
      "2.4.2.1 Defining magnitude frequency distribution"
     ]
    },
    {
     "cell_type": "markdown",
     "metadata": {},
     "source": [
      "http://docs.openquake.org/oq-hazardlib/stable/mfd.html"
     ]
    },
    {
     "cell_type": "code",
     "collapsed": false,
     "input": [
      "from hmtk.sources.source_model import mtkSourceModel\n",
      "from openquake.hazardlib.mfd.truncated_gr import TruncatedGRMFD\n",
      "\n",
      "# Set the minimum magnitude to 5.0\n",
      "minimum_mag = 5.0\n",
      "# Set the width of descretisation of the MFD to 0.2\n",
      "mfd_bin_width = 0.2\n",
      "\n",
      "# Build source model1 - using Wiechert b-value\n",
      "area_source1 = deepcopy(area_source)\n",
      "area_source1.mfd =TruncatedGRMFD(min_mag=minimum_mag, # Minimum magnitude\n",
      "                                 max_mag=cmmax, # Maximum magnitude\n",
      "                                 bin_width=mfd_bin_width, # Bin width for discretisation of MFD\n",
      "                                 a_val=aval1, # a-value\n",
      "                                 b_val=bval1) # b-value\n",
      "\n",
      "source_model1 = mtkSourceModel(\"001\",  # Source Model ID\n",
      "                               \"Area Source Weichert\",  # Source Model Name\n",
      "                               sources=[area_source1])  # List of Sources\n",
      "\n",
      "# Build Source Model 2 - Using Weighted MLE\n",
      "area_source2 = deepcopy(area_source)\n",
      "area_source2.mfd =TruncatedGRMFD(min_mag=minimum_mag,\n",
      "                                 max_mag=cmmax,\n",
      "                                 bin_width=mfd_bin_width,\n",
      "                                 a_val=aval2,\n",
      "                                 b_val=bval2)\n",
      "source_model2 = mtkSourceModel(\"002\", \"Area Source Weighted MLE\", sources=[area_source2])"
     ],
     "language": "python",
     "metadata": {},
     "outputs": []
    },
    {
     "cell_type": "heading",
     "level": 5,
     "metadata": {},
     "source": [
      "Setting up the Source Model for PSHA Calculation - Temporal Occurrence Model"
     ]
    },
    {
     "cell_type": "markdown",
     "metadata": {},
     "source": [
      "Poissonian temporal occurrence model requires the time span (investigation time) as an input. \n",
      "\n",
      "http://docs.openquake.org/oq-hazardlib/stable/tom.html\n",
      "\n",
      "In the current example we use a 1-year investigation time"
     ]
    },
    {
     "cell_type": "code",
     "collapsed": false,
     "input": [
      "from openquake.hazardlib.tom import PoissonTOM\n",
      "tom = PoissonTOM(1.0)"
     ],
     "language": "python",
     "metadata": {},
     "outputs": []
    },
    {
     "cell_type": "heading",
     "level": 5,
     "metadata": {},
     "source": [
      "Convert the mtkSourceModel to one ready for use in OQ-hazardlib"
     ]
    },
    {
     "cell_type": "code",
     "collapsed": false,
     "input": [
      "oq_source_model1 = source_model1.convert_to_oqhazardlib(tom, area_discretisation=20.0)\n",
      "oq_source_model2 = source_model2.convert_to_oqhazardlib(tom, area_discretisation=20.0)"
     ],
     "language": "python",
     "metadata": {},
     "outputs": []
    },
    {
     "cell_type": "heading",
     "level": 5,
     "metadata": {},
     "source": [
      "Set up the Site Configuration"
     ]
    },
    {
     "cell_type": "markdown",
     "metadata": {},
     "source": [
      "In this case we are interested in the hazard at two sites:\n",
      "* Site 1) -76.6E, 6.0N (inside of the area source) with a measured Vs30 of 800 m/s \n",
      "* Site 2) -73.0E, 0.5N (outside of the area source) with a measured Vs30 of 350 m/s"
     ]
    },
    {
     "cell_type": "code",
     "collapsed": false,
     "input": [
      "from hmtk.hazard import HMTKHazardCurve, site_array_to_collection\n",
      "\n",
      "# Create our sites in a table (a 2-D array) with all of the site attributes\n",
      "#                       ID, Longitude, Latitude,      Vs30,  Vs30Measured,     Z1.0, Z2.5\n",
      "site_array = np.array([[1.0,    -76.6,     6.0,      800.0,      1.0,          40.0, 1.0],\n",
      "                       [2.0,    -73.0,     0.5,      350.0,      1.0,          80.0, 1.5]])\n",
      "\n",
      "# Create our \"Site Collection\" for the calculation\n",
      "sites = site_array_to_collection(site_array)"
     ],
     "language": "python",
     "metadata": {},
     "outputs": []
    },
    {
     "cell_type": "heading",
     "level": 5,
     "metadata": {},
     "source": [
      "View our Source and Site Configuration"
     ]
    },
    {
     "cell_type": "code",
     "collapsed": false,
     "input": [
      "from mpl_toolkits.basemap import Basemap\n",
      "\n",
      "# plot ruptures. Color proportional to magnitude\n",
      "fig1 = pyplot.figure(figsize=(10, 10), dpi=160)\n",
      "\n",
      "# loop over ruptures, extract rupture surface boundary and magnitude\n",
      "min_lon, max_lon, min_lat, max_lat, m = get_map_projection(oq_source_model1[0])\n",
      "print min_lon, max_lon, min_lat, max_lat\n",
      "m.drawparallels(numpy.arange(np.ceil(min_lat), np.ceil(max_lat), 1.0), labels=[True, False, False, True])\n",
      "m.drawmeridians(numpy.arange(np.ceil(min_lon), np.ceil(max_lon), 1.0), labels=[True, False, False, True])\n",
      "m.drawcoastlines()\n",
      "m.drawcountries()\n",
      "\n",
      "# plot area source boundary\n",
      "x, y = m(oq_source_model1[0].polygon.lons, oq_source_model1[0].polygon.lats)\n",
      "m.plot(x, y, linewidth=2, color='black')\n",
      "lon1, lat1 = m(site_array[0, 1], site_array[0, 2])\n",
      "lon2, lat2 = m(site_array[1, 1], site_array[1, 2])\n",
      "m.plot(lon1, lat1, 'Db', label='Site 1', markersize=10.)\n",
      "m.plot(lon2, lat2, 'sr', label='Site 2', markersize=10.)\n",
      "pyplot.legend()\n"
     ],
     "language": "python",
     "metadata": {},
     "outputs": []
    },
    {
     "cell_type": "heading",
     "level": 3,
     "metadata": {},
     "source": [
      "Run the PSHA Calculation"
     ]
    },
    {
     "cell_type": "heading",
     "level": 5,
     "metadata": {},
     "source": [
      "Choose a GMPE - In this Example we will use BooreEtAl2014"
     ]
    },
    {
     "cell_type": "code",
     "collapsed": false,
     "input": [
      "gmpes = {\"Active Shallow Crust\": 'BooreEtAl2014'}"
     ],
     "language": "python",
     "metadata": {},
     "outputs": []
    },
    {
     "cell_type": "code",
     "collapsed": false,
     "input": [
      "# Intensity measure levels\n",
      "imls = [0.001, 0.005, 0.007, 0.0098, 0.0137, 0.0192, 0.0269, 0.0376, 0.0527, 0.0738, 0.103, 0.145,\n",
      "        0.203, 0.284, 0.397, 0.556, 0.778, 1.09, 1.52, 2.13]\n",
      "\n",
      "# Run Hazard Curves For Source Model 1 (Weichert)\n",
      "curve_builder1 = HMTKHazardCurve(oq_source_model1,   # Source Model\n",
      "                                 sites,   # Site Model\n",
      "                                 {\"Active Shallow Crust\": \"BooreEtAl2014\"}, # GMPE & Tectonic Region Type\n",
      "                                 [imls], # Intensity Measure levels - 1 list per GMPE\n",
      "                                 [\"PGA\"], # Intensity Measure Types\n",
      "                                 truncation_level = 3.0, # Sigma truncation\n",
      "                                 source_integration_dist=200.0, # Nearest source-to-site distance\n",
      "                                 rupture_integration_dist=200.0) # Nearest rupture-to-site distance\n",
      "curves1 = curve_builder1.calculate_hazard()\n",
      "\n",
      "# View the hazard curves\n",
      "print \"Hazard Curve 1\"\n",
      "print \"PGA (g)    Annual PoE - Site 1    Annual Poe - Site 2\"\n",
      "for iloc, iml in enumerate(imls):\n",
      "    print \"%.4f        %.8E        %.8E\" %(iml, curves1['PGA'][0, iloc], curves1['PGA'][1,iloc])\n",
      "print \"======================================================\"\n",
      "    \n",
      "# Run Hazard Curves For Source Model 2 (Weighted MLE)\n",
      "curve_builder2 = HMTKHazardCurve(oq_source_model2,\n",
      "                                 sites,\n",
      "                                 {\"Active Shallow Crust\": \"BooreEtAl2014\"},\n",
      "                                 [imls],\n",
      "                                 [\"PGA\"],\n",
      "                                 truncation_level = 3.0,\n",
      "                                 source_integration_dist=200.0,\n",
      "                                 rupture_integration_dist=200.0)\n",
      "curves2 = curve_builder2.calculate_hazard()\n",
      "print \"Hazard Curve 2\"\n",
      "print \"PGA (g)    Annual PoE - Site 1    Annual Poe - Site 2\"\n",
      "for iloc, iml in enumerate(imls):\n",
      "    print \"%.4f        %.8E        %.8E\" %(iml, curves2['PGA'][0, iloc], curves2['PGA'][1,iloc])\n",
      "print \"======================================================\""
     ],
     "language": "python",
     "metadata": {},
     "outputs": []
    },
    {
     "cell_type": "heading",
     "level": 5,
     "metadata": {},
     "source": [
      "Compare the Hazard Curves for the Source Models - Site 1"
     ]
    },
    {
     "cell_type": "code",
     "collapsed": false,
     "input": [
      "fig = pyplot.figure(figsize=(9, 9))\n",
      "pyplot.loglog(imls, curves1[\"PGA\"][0,:], '-b', linewidth=2, label='Weichert')\n",
      "pyplot.loglog(imls, curves2[\"PGA\"][0,:], '-r', linewidth=2, label='Weighted MLE')\n",
      "pyplot.legend(loc=\"upper left\", bbox_to_anchor=(1,1))\n",
      "plt.xlim([5E-3, 2.0])\n",
      "plt.ylim([1E-7, 1])\n",
      "pyplot.xlabel('PGA (g)', fontsize=20)\n",
      "pyplot.ylabel('Annual Probability of exceedance', fontsize=20)\n",
      "pyplot.title(\"Hazard Curves for Site 1\", fontsize=20)"
     ],
     "language": "python",
     "metadata": {},
     "outputs": []
    },
    {
     "cell_type": "heading",
     "level": 5,
     "metadata": {},
     "source": [
      "... and for Source Model 2"
     ]
    },
    {
     "cell_type": "code",
     "collapsed": false,
     "input": [
      "fig = pyplot.figure(figsize=(9, 9))\n",
      "pyplot.loglog(imls, curves1[\"PGA\"][1,:], '-b', linewidth=2, label='Weichert')\n",
      "pyplot.loglog(imls, curves2[\"PGA\"][1,:], '-r', linewidth=2, label='Weighted MLE')\n",
      "pyplot.legend(loc=\"upper left\", bbox_to_anchor=(1,1))\n",
      "plt.xlim([5E-3, 2.0])\n",
      "plt.ylim([1E-7, 1])\n",
      "pyplot.xlabel('PGA (g)', fontsize=20)\n",
      "pyplot.ylabel('Annual Probability of exceedance', fontsize=20)\n",
      "pyplot.title(\"Hazard Curves for Site 2\", fontsize=20)"
     ],
     "language": "python",
     "metadata": {},
     "outputs": []
    }
   ],
   "metadata": {}
  }
 ]
}