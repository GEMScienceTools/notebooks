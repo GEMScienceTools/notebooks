{
 "cells": [
  {
   "cell_type": "markdown",
   "metadata": {
    "deletable": true,
    "editable": true
   },
   "source": [
    "# Demonstration of the Earthquake Catalogue Tools"
   ]
  },
  {
   "cell_type": "markdown",
   "metadata": {
    "deletable": true,
    "editable": true
   },
   "source": [
    "The earthquake catalogue toolkit <b>OQ-EQCAT</b> contains tools for data mining earthquake databases for the ultimate aim of creating a magnitude homogeneous earthquake catalogue.\n",
    "\n",
    "In this tutorial we will do the following:\n",
    "\n",
    "1. Build an earthquake catalogue database using data from the International Seismological Centre (www.isc.ac.uk)\n",
    "\n",
    "2. Apply various selection criteria\n",
    "\n",
    "3. Explore different catalogue/agency regressions\n",
    "\n",
    "4. Select several agencies and apply a homogenisation"
   ]
  },
  {
   "cell_type": "markdown",
   "metadata": {
    "collapsed": true,
    "deletable": true,
    "editable": true
   },
   "source": [
    "# Building the database"
   ]
  },
  {
   "cell_type": "code",
   "execution_count": null,
   "metadata": {
    "collapsed": false,
    "deletable": true,
    "editable": true
   },
   "outputs": [],
   "source": [
    "%load_ext autoreload\n",
    "%autoreload 2\n",
    "import warnings; warnings.filterwarnings('ignore')"
   ]
  },
  {
   "cell_type": "code",
   "execution_count": null,
   "metadata": {
    "collapsed": false,
    "deletable": true,
    "editable": true
   },
   "outputs": [],
   "source": [
    "%matplotlib inline\n",
    "import os\n",
    "import numpy as np\n",
    "import matplotlib.pyplot as plt\n",
    "import eqcat.parsers.isf_catalogue_reader as icr\n",
    "import eqcat.catalogue_query_tools as cqt"
   ]
  },
  {
   "cell_type": "markdown",
   "metadata": {
    "deletable": true,
    "editable": true
   },
   "source": [
    "We are interested only in the events that the reporting networks believe to be natural tectonic events.\n",
    "\n",
    "Using the descriptions reported in the contributing agencies we remove events with descriptions containing specific keywords indicating anthropogenic origin."
   ]
  },
  {
   "cell_type": "code",
   "execution_count": null,
   "metadata": {
    "collapsed": false,
    "deletable": true,
    "editable": true
   },
   "outputs": [],
   "source": [
    "raw_file = \"input_data/catalogues/catalogue_input_raw.txt\"\n",
    "rejection_keywords = [\"mining\", \"geothermal\", \"explosion\", \"quarry\", \"reservoir\", \"rockburst\"]\n",
    "reader = icr.ISFReader(raw_file, rejection_keywords=rejection_keywords)\n",
    "catalogue = reader.read_file(\"FRC\", \"ISC (France)\")"
   ]
  },
  {
   "cell_type": "markdown",
   "metadata": {
    "deletable": true,
    "editable": true
   },
   "source": [
    "We keep those events identified as anthropogenic in a separate database stored in the reader class.\n",
    "\n",
    "Which events have been rejected and why."
   ]
  },
  {
   "cell_type": "code",
   "execution_count": null,
   "metadata": {
    "collapsed": false,
    "deletable": true,
    "editable": true,
    "scrolled": true
   },
   "outputs": [],
   "source": [
    "for event in reader.rejected_catalogue.events:\n",
    "    print event.id, event.description, event.comment"
   ]
  },
  {
   "cell_type": "markdown",
   "metadata": {
    "deletable": true,
    "editable": true
   },
   "source": [
    "Now we can build the database and store it to file - we only need to do this once!"
   ]
  },
  {
   "cell_type": "code",
   "execution_count": null,
   "metadata": {
    "collapsed": false,
    "deletable": true,
    "editable": true,
    "scrolled": true
   },
   "outputs": [],
   "source": [
    "# Build HDF5 database\n",
    "CAT_DB_FILE = \"output_data/catalogue_db.hdf5\"\n",
    "_ = catalogue.build_dataframe(CAT_DB_FILE)\n",
    "print \"Comment this section out after first use!\""
   ]
  },
  {
   "cell_type": "markdown",
   "metadata": {
    "deletable": true,
    "editable": true
   },
   "source": [
    "From now on we can simply load in the data from the database"
   ]
  },
  {
   "cell_type": "code",
   "execution_count": null,
   "metadata": {
    "collapsed": true,
    "deletable": true,
    "editable": true
   },
   "outputs": [],
   "source": [
    "CAT_DB_FILE = \"output_data/catalogue_db.hdf5\"\n",
    "db1 = cqt.CatalogueDB(CAT_DB_FILE)"
   ]
  },
  {
   "cell_type": "markdown",
   "metadata": {
    "deletable": true,
    "editable": true
   },
   "source": [
    "#### Origin Table"
   ]
  },
  {
   "cell_type": "code",
   "execution_count": null,
   "metadata": {
    "collapsed": false,
    "deletable": true,
    "editable": true,
    "scrolled": true
   },
   "outputs": [],
   "source": [
    "db1.origins"
   ]
  },
  {
   "cell_type": "markdown",
   "metadata": {
    "deletable": true,
    "editable": true
   },
   "source": [
    "#### Magnitude Table"
   ]
  },
  {
   "cell_type": "code",
   "execution_count": null,
   "metadata": {
    "collapsed": false,
    "deletable": true,
    "editable": true,
    "scrolled": true
   },
   "outputs": [],
   "source": [
    "db1.magnitudes"
   ]
  },
  {
   "cell_type": "markdown",
   "metadata": {
    "deletable": true,
    "editable": true
   },
   "source": [
    "## Visualising the Catalogue"
   ]
  },
  {
   "cell_type": "markdown",
   "metadata": {
    "deletable": true,
    "editable": true
   },
   "source": [
    "View the whole catalogue ..."
   ]
  },
  {
   "cell_type": "code",
   "execution_count": null,
   "metadata": {
    "collapsed": false,
    "deletable": true,
    "editable": true
   },
   "outputs": [],
   "source": [
    "# Set up the configuration of the limits\n",
    "map_config = {\"llon\": -10.0, \"ulon\": 15., \"llat\": 35.0, \"ulat\": 55.0, \"parallel\": 5.0, \"meridian\": 5.0,\n",
    "              \"resolution\": \"l\"}\n",
    "cqt.plot_catalogue_map(map_config, db1)"
   ]
  },
  {
   "cell_type": "markdown",
   "metadata": {
    "deletable": true,
    "editable": true
   },
   "source": [
    "Choose a particular agency within the catalogue ... then show it"
   ]
  },
  {
   "cell_type": "code",
   "execution_count": null,
   "metadata": {
    "collapsed": false,
    "deletable": true,
    "editable": true
   },
   "outputs": [],
   "source": [
    "selector = cqt.CatalogueSelector(db1)\n",
    "madrid_catalogue = selector.limit_to_agency(\"MDD\")\n",
    "cqt.plot_catalogue_map(map_config, madrid_catalogue)"
   ]
  },
  {
   "cell_type": "markdown",
   "metadata": {
    "deletable": true,
    "editable": true
   },
   "source": [
    "Choose a particular sub-region of the catalogue ... then show it"
   ]
  },
  {
   "cell_type": "code",
   "execution_count": null,
   "metadata": {
    "collapsed": false,
    "deletable": true,
    "editable": true
   },
   "outputs": [],
   "source": [
    "selector = cqt.CatalogueSelector(db1)\n",
    "central_france = selector.select_within_bounding_box([0., 45., 5., 50.])\n",
    "cqt.plot_catalogue_map(map_config, central_france)"
   ]
  },
  {
   "cell_type": "markdown",
   "metadata": {
    "deletable": true,
    "editable": true
   },
   "source": [
    "## Exploring the catalogue"
   ]
  },
  {
   "cell_type": "markdown",
   "metadata": {
    "deletable": true,
    "editable": true
   },
   "source": [
    "We could begin to execute queries on the catalogue based on what we are hoping should be there.\n",
    "\n",
    "But to help us understand which queries might be more likely to return significant results it can be useful to know how many events are reported by particular agencies and in which magnitude scales.\n",
    "\n",
    "There is a tool for this:"
   ]
  },
  {
   "cell_type": "code",
   "execution_count": null,
   "metadata": {
    "collapsed": false,
    "deletable": true,
    "editable": true,
    "scrolled": true
   },
   "outputs": [],
   "source": [
    "agency_magnitude_stats = cqt.get_agency_magtype_statistics(db1)"
   ]
  },
  {
   "cell_type": "markdown",
   "metadata": {
    "deletable": true,
    "editable": true
   },
   "source": [
    "Some notes:\n",
    "\n",
    "* `LDG` - Laboratoire de Détection et de Géophysique/CEA\n",
    "\n",
    "* `STR` - is Institut de Physique du Globe (France)\n",
    "\n",
    "* `CSEM` - Euro-Mediterranean Seismological Centre (EMSC-CSEM)\n",
    "\n",
    "* `MDD` - Instituto Geográfico Nacional (Madrid, Spain)\n",
    "\n",
    "* `ROM` - INGV, Italy\n",
    "\n",
    "* `ZUR` - Swiss Seismological Service (SED, ETH Zurich)\n",
    "\n",
    "* `GEN` - Dipartimento per lo Studio del Territorio e delle sue Risorse (RSNI)\n",
    "\n",
    "* `BGR` - BRGM, Orleans France\n"
   ]
  },
  {
   "cell_type": "markdown",
   "metadata": {
    "deletable": true,
    "editable": true
   },
   "source": [
    "### Executing Queries"
   ]
  },
  {
   "cell_type": "markdown",
   "metadata": {
    "deletable": true,
    "editable": true
   },
   "source": [
    "To find all of the events with magnitudes reported by specific pairs of agencies we can simply execute the function below.\n",
    "\n",
    "In this example we ask to find all of the events with a reported local magnitude $M_L$ from the LDG network, and a reported body-wave magnitude $m_b$ from the ISC network."
   ]
  },
  {
   "cell_type": "code",
   "execution_count": null,
   "metadata": {
    "collapsed": false,
    "deletable": true,
    "editable": true
   },
   "outputs": [],
   "source": [
    "ldg_ml_isc_mb, query1_cat = cqt.get_agency_magnitude_pairs(db1, (\"LDG\", \"ML\"), (\"ISC\", \"mb\"), no_case=True)\n",
    "cqt.plot_catalogue_map(map_config, query1_cat)"
   ]
  },
  {
   "cell_type": "markdown",
   "metadata": {
    "deletable": true,
    "editable": true
   },
   "source": [
    "To visualise the comparisons we can either plot a conventional scatter plot or a density plot"
   ]
  },
  {
   "cell_type": "code",
   "execution_count": null,
   "metadata": {
    "collapsed": false,
    "deletable": true,
    "editable": true,
    "scrolled": true
   },
   "outputs": [],
   "source": [
    "_ = cqt.plot_agency_magnitude_pair(ldg_ml_isc_mb)\n",
    "_ = cqt.plot_agency_magnitude_density(ldg_ml_isc_mb, lognorm=False)"
   ]
  },
  {
   "cell_type": "markdown",
   "metadata": {
    "deletable": true,
    "editable": true
   },
   "source": [
    "### Let's take a look at local magnitude scales"
   ]
  },
  {
   "cell_type": "markdown",
   "metadata": {
    "deletable": true,
    "editable": true
   },
   "source": [
    "#### Comparing LDG and ROM"
   ]
  },
  {
   "cell_type": "code",
   "execution_count": null,
   "metadata": {
    "collapsed": false,
    "deletable": true,
    "editable": true
   },
   "outputs": [],
   "source": [
    "# Query the catalogue\n",
    "ldg_ml_rom_ml, query3_cat = cqt.get_agency_magnitude_pairs(db1, (\"LDG\", \"ML\"), (\"ROM\", \"ML\"), no_case=True)\n",
    "# Plot the density of event pairs\n",
    "_ = cqt.plot_agency_magnitude_density(ldg_ml_rom_ml)\n",
    "# Map the pairs\n",
    "cqt.plot_catalogue_map(map_config, query3_cat)"
   ]
  },
  {
   "cell_type": "markdown",
   "metadata": {
    "deletable": true,
    "editable": true
   },
   "source": [
    "#### Comparing LDG and SED"
   ]
  },
  {
   "cell_type": "code",
   "execution_count": null,
   "metadata": {
    "collapsed": false,
    "deletable": true,
    "editable": true,
    "scrolled": true
   },
   "outputs": [],
   "source": [
    "ldg_ml_zur_rmt, query4_cat = cqt.get_agency_magnitude_pairs(db1, (\"LDG\", \"ML\"), (\"ZUR_RMT\", \"Mw\"), no_case=True)\n",
    "cqt.plot_agency_magnitude_pair(ldg_ml_zur_rmt)\n",
    "cqt.plot_catalogue_map(map_config, query4_cat)"
   ]
  },
  {
   "cell_type": "markdown",
   "metadata": {
    "deletable": true,
    "editable": true
   },
   "source": [
    "### Exploring the Relationships between Magnitude Scales"
   ]
  },
  {
   "cell_type": "markdown",
   "metadata": {
    "deletable": true,
    "editable": true
   },
   "source": [
    "Large databases of earthquake can provide an enormous quantity of information to help understand how different recording agencies and different magnitude scales compare.\n",
    "\n",
    "Ultimately, however, we are interested in deriving clear and applicable empirical models that can be used to convert between scales.\n",
    "\n",
    "For this purpose, a set of regession tools are built in. As both magnitude scales are commonly reported with uncertainty, we make use of Python's tools for <b>Orthogonal Distance Regression</b>\n",
    "\n",
    "Orthogonal Distance Regression is a more generalised form of orthogonal regression that searches for an optimal fit of a functional form (of any shape - not just linear!) taking into account error in both variables.\n",
    "\n",
    "Several different functional forms are coded into the toolkit and can be called by a keyword (plus initial estimate of parameters)\n",
    "\n",
    "* `polynomial`  - Nth order polynomial of the form: $y = c_0 + c_1 \\cdot x + c_2 \\cdot x^2 + \\ldots c_n \\cdot x^n$\n",
    "\n",
    "* `2segmentM#.#` - 2-segment linear model with a cross-over at magnitude #.#, i.e. \n",
    "\n",
    "$y = c_0 + c_1 \\cdot x$  (for $x < M_C$),    $y = c_2 + c_3 \\cdot x$ for ($x \\geq M_C$) \n",
    "\n",
    "* `exponential` - Exponential model of the form: $y = e^{\\left( {c_0 + c_1 \\cdot x} \\right)} + c_2$\n",
    "\n",
    "* `piecewise` - N-segment linear model with cross-over magnitudes determined in the fitting process"
   ]
  },
  {
   "cell_type": "code",
   "execution_count": null,
   "metadata": {
    "collapsed": false,
    "deletable": true,
    "editable": true
   },
   "outputs": [],
   "source": [
    "regressor1 = cqt.CatalogueRegressor(ldg_ml_zur_rmt)\n",
    "results = regressor1.run_regression(\"polynomial\", [0., 1.0])\n",
    "regressor1.results.pprint()\n",
    "regressor1.plot_model(overlay=False)\n",
    "print \"Model standard deviation is %s\" % str(regressor1.standard_deviation)"
   ]
  },
  {
   "cell_type": "code",
   "execution_count": null,
   "metadata": {
    "collapsed": false,
    "deletable": true,
    "editable": true
   },
   "outputs": [],
   "source": [
    "regressor1 = cqt.CatalogueRegressor(ldg_ml_zur_rmt)\n",
    "results = regressor1.run_regression(\"2segmentM4.3\", [1.0, 1.0, 1.0])\n",
    "regressor1.results.pprint()\n",
    "regressor1.plot_model(overlay=False)\n",
    "print regressor1.standard_deviation"
   ]
  },
  {
   "cell_type": "code",
   "execution_count": null,
   "metadata": {
    "collapsed": false,
    "deletable": true,
    "editable": true
   },
   "outputs": [],
   "source": [
    "regressor1b = cqt.CatalogueRegressor(ldg_ml_zur_rmt)\n",
    "results = regressor1b.run_regression(\"exponential\", [1.0, 1.0, 1.0])\n",
    "regressor1b.results.pprint()\n",
    "regressor1b.plot_model(overlay=False)\n",
    "print regressor1b.standard_deviation"
   ]
  },
  {
   "cell_type": "code",
   "execution_count": null,
   "metadata": {
    "collapsed": false,
    "deletable": true,
    "editable": true
   },
   "outputs": [],
   "source": [
    "ldg_ml_csem_ml, query3_cat = cqt.get_agency_magnitude_pairs(db1, (\"LDG\", \"ML\"), (\"CSEM\", \"ML\"), no_case=True)\n",
    "regressor2 = cqt.CatalogueRegressor(ldg_ml_csem_ml)\n",
    "results = regressor2.run_regression(\"polynomial\", [0.0, 1.0])\n",
    "regressor2.results.pprint()\n",
    "regressor2.plot_model_density(overlay=False, sample=0)\n",
    "print regressor2.standard_deviation"
   ]
  },
  {
   "cell_type": "code",
   "execution_count": null,
   "metadata": {
    "collapsed": false,
    "deletable": true,
    "editable": true
   },
   "outputs": [],
   "source": [
    "ldg_ml_str_ml, query4_cat = cqt.get_agency_magnitude_pairs(db1, (\"LDG\", \"ML\"), (\"STR\", \"ML\"), no_case=True)\n",
    "regressor2 = cqt.CatalogueRegressor(ldg_ml_csem_ml)\n",
    "results = regressor2.run_regression(\"polynomial\", [0.0, 1.0])\n",
    "regressor2.results.pprint()\n",
    "regressor2.plot_model_density(overlay=False, sample=0)\n",
    "print regressor2.standard_deviation"
   ]
  },
  {
   "cell_type": "code",
   "execution_count": null,
   "metadata": {
    "collapsed": false,
    "deletable": true,
    "editable": true
   },
   "outputs": [],
   "source": [
    "str_ml_zur_mw, query4_cat = cqt.get_agency_magnitude_pairs(db1, (\"STR\", \"ML\"), (\"ZUR_RMT\", \"Mw\"), no_case=True)\n",
    "regressor4 = cqt.CatalogueRegressor(str_ml_zur_mw)\n",
    "results = regressor4.run_regression(\"polynomial\", [0.0, 1.0])\n",
    "regressor4.results.pprint()\n",
    "regressor4.plot_model(overlay=False)\n",
    "print regressor4.standard_deviation"
   ]
  },
  {
   "cell_type": "code",
   "execution_count": null,
   "metadata": {
    "collapsed": false,
    "deletable": true,
    "editable": true
   },
   "outputs": [],
   "source": [
    "zur_mw_med_mw, query4_cat = cqt.get_agency_magnitude_pairs(db1, (\"ZUR_RMT\", \"Mw\"), (\"MED_RCMT\", \"Mw\"), no_case=True)\n",
    "regressor4 = cqt.CatalogueRegressor(zur_mw_med_mw)\n",
    "results = regressor4.run_regression(\"polynomial\", [0.0, 1.0])\n",
    "regressor4.results.pprint()\n",
    "regressor4.plot_model(overlay=False)\n",
    "print regressor4.standard_deviation"
   ]
  },
  {
   "cell_type": "markdown",
   "metadata": {
    "deletable": true,
    "editable": true
   },
   "source": [
    "## Catalogue Homogenisation"
   ]
  },
  {
   "cell_type": "markdown",
   "metadata": {
    "deletable": true,
    "editable": true
   },
   "source": [
    "The homogenisation process applies a set of conversion formulae to convert from each individual scale found in the database into a target magnitude scale defined by the user.\n",
    "\n",
    "The user may wish to use the models from the regressions - or specify their own\n",
    "\n",
    "The user must supply the hierarchy (in terms of the location and magnitude) by which certain conversion models may be applied. The tool will apply the conversion rule in order of preference.\n",
    "\n",
    "The hierarchies may be changed for different time periods, different depths or different ``keys`` (the key in this case may correspond to a particular geographical region)\n",
    "\n"
   ]
  },
  {
   "cell_type": "markdown",
   "metadata": {
    "deletable": true,
    "editable": true
   },
   "source": [
    "### Defining the Hierarchies"
   ]
  },
  {
   "cell_type": "markdown",
   "metadata": {
    "deletable": true,
    "editable": true
   },
   "source": [
    "In the current example we build a catalogue by harmonising data from four agencies\n",
    "\n",
    "<b>Agencies</b>:\n",
    "\n",
    "For the period 1900 to 1990: LDG, STR, ISC, ROM, MDD, NEIC\n",
    "For the period 1900 to 2014: STR, LDG, ROM, ISC, NEIC, MDD\n",
    "\n",
    "<b>Magnitudes (harmonising to Moment Magnitude)</b>:\n",
    "\n",
    "For the period 1900 to 1976: GCMT, HRVD, ZUR_RMT, MED_RCMT, STR (ML), LDG (ML), ISC (Ms), (ISC mb)"
   ]
  },
  {
   "cell_type": "code",
   "execution_count": null,
   "metadata": {
    "collapsed": true,
    "deletable": true,
    "editable": true
   },
   "outputs": [],
   "source": [
    "from eqcat.isc_homogenisor import MagnitudeConversionRule, DynamicHomogenisor, HomogenisorPreprocessor"
   ]
  },
  {
   "cell_type": "code",
   "execution_count": null,
   "metadata": {
    "collapsed": true,
    "deletable": true,
    "editable": true
   },
   "outputs": [],
   "source": [
    "origin_rules = [\n",
    "    (\"1900/01/01 - 1989/12/31\", [\"LDG\", \"STR\", \"ISC\", \"ROM\", \"MDD\", \"NEIC\"]),\n",
    "    (\"1990/01/01 - 2014/12/31\", [\"STR\", \"LDG\", \"ROM\", \"ISC\", \"NEIC\", \"MDD\"])\n",
    "]"
   ]
  },
  {
   "cell_type": "markdown",
   "metadata": {
    "deletable": true,
    "editable": true
   },
   "source": [
    "Each magnitude conversion rule is input as a Python function"
   ]
  },
  {
   "cell_type": "code",
   "execution_count": null,
   "metadata": {
    "collapsed": true,
    "deletable": true,
    "editable": true
   },
   "outputs": [],
   "source": [
    "# Magnitude rules\n",
    "def gcmt_hrvd(magnitude):\n",
    "    return magnitude\n",
    "\n",
    "def gcmt_hrvd_sigma(magnitude):\n",
    "    return 0.0\n",
    "\n",
    "def zur_med_rcmt(magnitude):\n",
    "    return magnitude\n",
    "\n",
    "def zur_med_rcmt_sigma(magnitude):\n",
    "    \"\"\"\n",
    "    Adds uncertainty\n",
    "    \"\"\"\n",
    "    return 0.1\n",
    "\n",
    "def str_ml(magnitude):\n",
    "    \"\"\"\n",
    "    From regression\n",
    "    \"\"\"\n",
    "    return 0.320 + 0.858 * magnitude\n",
    "\n",
    "def str_ml_sigma(magnitude):\n",
    "    \"\"\"\n",
    "    From regression\n",
    "    \"\"\"\n",
    "    return 0.21\n",
    "\n",
    "def ldg_ml(magnitude):\n",
    "    \"\"\"\n",
    "    Convert from LDG ML to Zurich CMT\n",
    "    From regression 2 - segment\n",
    "    \"\"\"\n",
    "    if magnitude < 4.3:\n",
    "        return -0.397 + 0.995 * magnitude\n",
    "    else:\n",
    "        return 0.594 + 0.765 * magnitude\n",
    "\n",
    "def ldg_ml_sigma(magnitude):\n",
    "    \"\"\"\n",
    "    \"\"\"\n",
    "    if magnitude < 4.3:\n",
    "        return 0.214\n",
    "    else:\n",
    "        return 0.284\n",
    "\n",
    "def isc_ms(magnitude):\n",
    "    \"\"\"\n",
    "    From Scordilis (2006)\n",
    "    \"\"\"\n",
    "    if magnitude < 6.1:\n",
    "        return 0.67 * magnitude + 2.07\n",
    "    else:\n",
    "        return 0.99 * magnitude + 0.08\n",
    "\n",
    "def isc_ms_sigma(magnitude):\n",
    "    \"\"\"\n",
    "    From Scordilis 2006\n",
    "    \"\"\"\n",
    "    if magnitude < 6.1:\n",
    "        return 0.17\n",
    "    else:\n",
    "        return 0.2\n",
    "\n",
    "def isc_mb(magnitude):\n",
    "    \"\"\"\n",
    "    From Scordilis (2006)\n",
    "    \"\"\"\n",
    "    return 0.85 * magnitude + 1.03\n",
    "\n",
    "def isc_mb_sigma(magnitude):\n",
    "    \"\"\"\n",
    "    From Scordilis 2006\n",
    "    \"\"\"\n",
    "    return 0.29    "
   ]
  },
  {
   "cell_type": "markdown",
   "metadata": {
    "deletable": true,
    "editable": true
   },
   "source": [
    "To build the rules themselves, however, we use a class called ``MagnitudeConversionRule``, which stores information about the rule, i.e. to which agency it should be applied, to which magnitude scale, how to propagate uncertainty etc."
   ]
  },
  {
   "cell_type": "code",
   "execution_count": null,
   "metadata": {
    "collapsed": true,
    "deletable": true,
    "editable": true
   },
   "outputs": [],
   "source": [
    "magnitude_rule_set = [\n",
    "    MagnitudeConversionRule(\"GCMT\", \"Mw\", gcmt_hrvd, gcmt_hrvd_sigma),\n",
    "    MagnitudeConversionRule(\"HRVD\", \"Mw\", gcmt_hrvd, gcmt_hrvd_sigma),\n",
    "    MagnitudeConversionRule(\"ZUR_RMT\", \"Mw\", zur_med_rcmt, zur_med_rcmt_sigma),\n",
    "    MagnitudeConversionRule(\"MED_RCMT\", \"Mw\", zur_med_rcmt, zur_med_rcmt_sigma),\n",
    "    MagnitudeConversionRule(\"STR\", \"ML\", str_ml, str_ml_sigma),\n",
    "    MagnitudeConversionRule(\"LDG\", \"ML\", ldg_ml, ldg_ml_sigma),\n",
    "    MagnitudeConversionRule(\"ISC\", \"Ms\", isc_ms, isc_ms_sigma),\n",
    "    MagnitudeConversionRule(\"ISC\", \"mb\", isc_mb, isc_mb_sigma)\n",
    "]\n",
    "\n",
    "magnitude_rules = [\n",
    "    (\"1900/01/01 - 2015/12/31\", magnitude_rule_set)\n",
    "]"
   ]
  },
  {
   "cell_type": "markdown",
   "metadata": {
    "deletable": true,
    "editable": true
   },
   "source": [
    "### Homogenise the Catalogue"
   ]
  },
  {
   "cell_type": "markdown",
   "metadata": {
    "deletable": true,
    "editable": true
   },
   "source": [
    "As a pre-processing step we apply a tool that can search through the database and see which, if any, rule can be\n",
    "applied to each earthquake\n",
    "\n",
    "Those earthquakes for which no selection rule can be applied are neglected in the homogenisation process.\n",
    "\n",
    "\n",
    "In this case we are expecting that the hierarchies changes with time - so we tell the preprocessing tool that the rules are time dependent."
   ]
  },
  {
   "cell_type": "code",
   "execution_count": null,
   "metadata": {
    "collapsed": false,
    "deletable": true,
    "editable": true
   },
   "outputs": [],
   "source": [
    "preprocessor = HomogenisorPreprocessor(rule_type=\"time\")\n",
    "preprocessed_catalogue = preprocessor.execute(catalogue, origin_rules, magnitude_rules)"
   ]
  },
  {
   "cell_type": "markdown",
   "metadata": {
    "deletable": true,
    "editable": true
   },
   "source": [
    "##### Run the Homogenisation Tool ..."
   ]
  },
  {
   "cell_type": "markdown",
   "metadata": {
    "deletable": true,
    "editable": true
   },
   "source": [
    "The logging can be useful to understand which rule (and which hierarchy) was adopted for each event. Most of the time it is not necessary, but if you find strange results in the harmonised catalogue then it is helpful to check."
   ]
  },
  {
   "cell_type": "code",
   "execution_count": null,
   "metadata": {
    "collapsed": false,
    "deletable": true,
    "editable": true
   },
   "outputs": [],
   "source": [
    "homogenisor = DynamicHomogenisor(preprocessed_catalogue, logging=True)"
   ]
  },
  {
   "cell_type": "code",
   "execution_count": null,
   "metadata": {
    "collapsed": false,
    "deletable": true,
    "editable": true,
    "scrolled": true
   },
   "outputs": [],
   "source": [
    "output_catalogue = homogenisor.homogenise(magnitude_rules, origin_rules)"
   ]
  },
  {
   "cell_type": "markdown",
   "metadata": {
    "deletable": true,
    "editable": true
   },
   "source": [
    "If we wish, we can export the log to a csv file"
   ]
  },
  {
   "cell_type": "code",
   "execution_count": null,
   "metadata": {
    "collapsed": true,
    "deletable": true,
    "editable": true
   },
   "outputs": [],
   "source": [
    "homogenisor.dump_log(\"output_data/homogenisation1_logfile.csv\")"
   ]
  },
  {
   "cell_type": "markdown",
   "metadata": {
    "deletable": true,
    "editable": true
   },
   "source": [
    "### Finally ... we export the homogenised catalogue"
   ]
  },
  {
   "cell_type": "code",
   "execution_count": null,
   "metadata": {
    "collapsed": true,
    "deletable": true,
    "editable": true
   },
   "outputs": [],
   "source": [
    "homogenisor.export_homogenised_to_csv(\"output_data/output_catalogue.csv\")"
   ]
  }
 ],
 "metadata": {
  "kernelspec": {
   "display_name": "Python 2",
   "language": "python",
   "name": "python2"
  },
  "language_info": {
   "codemirror_mode": {
    "name": "ipython",
    "version": 2
   },
   "file_extension": ".py",
   "mimetype": "text/x-python",
   "name": "python",
   "nbconvert_exporter": "python",
   "pygments_lexer": "ipython2",
   "version": "2.7.13"
  }
 },
 "nbformat": 4,
 "nbformat_minor": 0
}
