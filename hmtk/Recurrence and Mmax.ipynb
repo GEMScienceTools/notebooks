{
 "metadata": {
  "name": "Recurrence and Mmax"
 },
 "nbformat": 3,
 "nbformat_minor": 0,
 "worksheets": [
  {
   "cells": [
    {
     "cell_type": "heading",
     "level": 1,
     "metadata": {},
     "source": [
      "Recurrence and (Inferred) Maximum Magnitude Examples"
     ]
    },
    {
     "cell_type": "markdown",
     "metadata": {},
     "source": [
      "The objective of this example is to demonstrate how to use the catalogue tools to calculated recurrence by different methodologies"
     ]
    },
    {
     "cell_type": "code",
     "collapsed": false,
     "input": [
      "# Import required modules\n",
      "import numpy as np\n",
      "import matplotlib.pyplot as plt\n",
      "\n",
      "from hmtk.parsers.catalogue.csv_catalogue_parser import CsvCatalogueParser, CsvCatalogueWriter\n",
      "\n",
      "# Import Recurrence Tools\n",
      "from hmtk.seismicity.occurrence.b_maximum_likelihood import BMaxLikelihood\n",
      "from hmtk.seismicity.occurrence.kijko_smit import KijkoSmit\n",
      "from hmtk.seismicity.occurrence.weichert import Weichert\n",
      "\n",
      "# Import Mmax Tools\n",
      "from hmtk.seismicity.max_magnitude.kijko_nonparametric_gaussian import KijkoNonParametricGaussian\n",
      "from hmtk.seismicity.max_magnitude.kijko_sellevol_bayes import KijkoSellevolBayes\n",
      "from hmtk.seismicity.max_magnitude.kijko_sellevol_fixed_b import KijkoSellevolFixedb\n",
      "from hmtk.seismicity.max_magnitude.cumulative_moment_release import CumulativeMoment\n",
      "\n",
      "print 'Import OK!'"
     ],
     "language": "python",
     "metadata": {},
     "outputs": [
      {
       "output_type": "stream",
       "stream": "stdout",
       "text": [
        "Import OK!\n"
       ]
      }
     ],
     "prompt_number": 1
    },
    {
     "cell_type": "markdown",
     "metadata": {},
     "source": [
      "In the present example we use a synthetic catalogue with known b-value properties and completeness windows"
     ]
    },
    {
     "cell_type": "code",
     "collapsed": false,
     "input": [
      "input_file = '../../hmtk/tests/seismicity/completeness/data/completeness_test_cat.csv'\n",
      "\n",
      "parser = CsvCatalogueParser(input_file)\n",
      "catalogue = parser.read_file()\n",
      "print 'Input complete: %s events in catalogue' % catalogue.get_number_events()\n",
      "print 'Catalogue Covers the Period: %s to %s' % (catalogue.start_year, catalogue.end_year)\n",
      "\n",
      "# Plot magnitude time density\n",
      "from hmtk.plotting.seismicity.catalogue_plots import plot_magnitude_time_density\n",
      "magnitude_bin = 0.1\n",
      "time_bin = 1.0\n",
      "plot_magnitude_time_density(catalogue, 0.1, 1.0)"
     ],
     "language": "python",
     "metadata": {},
     "outputs": [
      {
       "output_type": "stream",
       "stream": "stdout",
       "text": [
        "Catalogue Attribute sigmamb is not a recognised catalogue key\n",
        "Catalogue Attribute sigmaMs is not a recognised catalogue key\n",
        "Catalogue Attribute Ms is not a recognised catalogue key\n",
        "Catalogue Attribute Identifier is not a recognised catalogue key\n",
        "Catalogue Attribute mb is not a recognised catalogue key\n",
        "Catalogue Attribute ML is not a recognised catalogue key\n",
        "Catalogue Attribute sigmaML is not a recognised catalogue key\n",
        "Input complete: 1801 events in catalogue"
       ]
      },
      {
       "output_type": "stream",
       "stream": "stdout",
       "text": [
        "\n",
        "Catalogue Covers the Period: 1910 to 2009\n"
       ]
      },
      {
       "output_type": "display_data",
       "png": "[encoded data removed]"
      }
     ],
     "prompt_number": 3
    },
    {
     "cell_type": "code",
     "collapsed": false,
     "input": [
      "# Known completeness properties\n",
      "completeness = np.array([[1990., 4.0],\n",
      "                         [1960., 4.5],\n",
      "                         [1910., 5.5]])\n",
      "from hmtk.plotting.seismicity.catalogue_plots import (plot_observed_recurrence, \n",
      "                                                      get_completeness_adjusted_table,\n",
      "                                                      _get_catalogue_bin_limits)\n",
      "\n",
      "earthquake_count = get_completeness_adjusted_table(catalogue, completeness, 0.1, 2009)\n",
      "print 'Magnitude  N(OBS)     N(CUM)   Log10(Nc)'\n",
      "for row in earthquake_count:\n",
      "    print '%6.2f %10.3f %10.3f %10.3f' %(row[0], row[1], row[2], row[3]) \n",
      "\n",
      "plot_observed_recurrence(catalogue, completeness, 0.1)"
     ],
     "language": "python",
     "metadata": {},
     "outputs": [
      {
       "output_type": "stream",
       "stream": "stdout",
       "text": [
        "Magnitude  N(OBS)     N(CUM)   Log10(Nc)\n",
        "  4.00      6.300     49.400      1.694\n",
        "  4.10      9.850     43.100      1.634\n",
        "  4.20     13.250     33.250      1.522\n",
        "  4.30      0.000     20.000      1.301\n",
        "  4.40      0.000     20.000      1.301\n",
        "  4.50      7.860     20.000      1.301\n",
        "  4.60      2.560     12.140      1.084\n",
        "  4.70      2.260      9.580      0.981\n",
        "  4.80      0.000      7.320      0.865\n",
        "  4.90      2.940      7.320      0.865\n",
        "  5.00      0.860      4.380      0.641\n",
        "  5.10      0.780      3.520      0.547\n",
        "  5.20      0.600      2.740      0.438\n",
        "  5.30      0.600      2.140      0.330\n",
        "  5.40      0.000      1.540      0.188\n",
        "  5.50      0.340      1.540      0.188\n",
        "  5.60      0.140      1.200      0.079\n",
        "  5.70      0.230      1.060      0.025\n",
        "  5.80      0.180      0.830     -0.081\n",
        "  5.90      0.150      0.650     -0.187\n",
        "  6.00      0.120      0.500     -0.301\n",
        "  6.10      0.040      0.380     -0.420\n",
        "  6.20      0.120      0.340     -0.469\n",
        "  6.30      0.060      0.220     -0.658\n",
        "  6.40      0.040      0.160     -0.796\n",
        "  6.50      0.040      0.120     -0.921\n",
        "  6.60      0.000      0.080     -1.097\n",
        "  6.70      0.010      0.080     -1.097\n",
        "  6.80      0.010      0.070     -1.155\n",
        "  6.90      0.030      0.060     -1.222\n",
        "  7.00      0.000      0.030     -1.523\n",
        "  7.10      0.010      0.030     -1.523\n",
        "  7.20      0.000      0.020     -1.699\n",
        "  7.30      0.020      0.020     -1.699\n"
       ]
      },
      {
       "output_type": "display_data",
       "png": "[encoded data removed]"
      }
     ],
     "prompt_number": 4
    },
    {
     "cell_type": "heading",
     "level": 3,
     "metadata": {},
     "source": [
      "Recurrence Methods 1: b-Maximum Likelihood\n",
      "                                        "
     ]
    },
    {
     "cell_type": "markdown",
     "metadata": {},
     "source": [
      "The first method is simply an adaptation of the Aki (1965) approach in which b-value is determined from the weighted mean of the b-value for each completeness period."
     ]
    },
    {
     "cell_type": "code",
     "collapsed": false,
     "input": [
      "# Set up the configuration parameters\n",
      "recurrence_config = {'reference_magnitude': None,\n",
      "                     'magnitude_interval': 0.1,\n",
      "                     'Average Type': 'Weighted'}\n",
      "\n",
      "bml_recurrence = BMaxLikelihood()\n",
      "\n",
      "bval, sigmab, rate, sigma_rate = bml_recurrence.calculate(catalogue, recurrence_config, completeness)\n",
      "\n",
      "print 'B-value = %9.4f +/- %9.4f' %(bval, sigmab)\n",
      "print 'Rate (M >= 4.0) = %9.4f +/- %9.4f' %(rate, sigma_rate)"
     ],
     "language": "python",
     "metadata": {},
     "outputs": [
      {
       "output_type": "stream",
       "stream": "stdout",
       "text": [
        "--- ctime 1990.0  m_c 4.0\n",
        "--- ctime 1960.0  m_c 4.5\n",
        "--- ctime 1910.0  m_c 5.5\n",
        "B-value =    0.9654 +/-    0.0319\n",
        "Rate (M >= 4.0) =    5.8212 +/-    0.1322\n"
       ]
      }
     ],
     "prompt_number": 5
    },
    {
     "cell_type": "heading",
     "level": 3,
     "metadata": {},
     "source": [
      "Recurrence Methods 2: Kijko & Smit (2012) "
     ]
    },
    {
     "cell_type": "markdown",
     "metadata": {},
     "source": [
      "Implements the maximum likelihood estimator of Kijko & Smit (2012)"
     ]
    },
    {
     "cell_type": "code",
     "collapsed": false,
     "input": [
      "# Set up the configuration parameters\n",
      "bks_recurrence = KijkoSmit()\n",
      "\n",
      "bval, sigmab, rate, sigma_rate = bks_recurrence.calculate(catalogue, recurrence_config, completeness)\n",
      "\n",
      "print 'B-value = %9.4f +/- %9.4f' % (bval, sigmab)\n",
      "print 'Rate (M >= 4.0) = %9.4f +/- %9.4f' % (rate, sigma_rate)"
     ],
     "language": "python",
     "metadata": {},
     "outputs": [
      {
       "output_type": "stream",
       "stream": "stdout",
       "text": [
        "B-value =    0.9462 +/-    0.0223\n",
        "Rate (M >= 4.0) =    3.1935 +/-    0.0439\n"
       ]
      }
     ],
     "prompt_number": 6
    },
    {
     "cell_type": "heading",
     "level": 3,
     "metadata": {},
     "source": [
      "Recurrence Methods 3: Weichert (1980)"
     ]
    },
    {
     "cell_type": "markdown",
     "metadata": {},
     "source": [
      "Implements the maximum likelihood estimator of Weichert (1980)"
     ]
    },
    {
     "cell_type": "code",
     "collapsed": false,
     "input": [
      "# Set up the configuration parameters\n",
      "bwc_recurrence = Weichert()\n",
      "\n",
      "bval, sigmab, rate, sigma_rate = bwc_recurrence.calculate(catalogue, recurrence_config, completeness)\n",
      "\n",
      "print 'B-value = %9.4f +/- %9.4f' %(bval, sigmab)\n",
      "print 'Rate (M >= 4.0) = %9.4f +/- %9.4f' %(rate, sigma_rate)"
     ],
     "language": "python",
     "metadata": {},
     "outputs": [
      {
       "output_type": "stream",
       "stream": "stdout",
       "text": [
        "B-value =    0.9335 +/-    0.0172\n",
        "Rate (M >= 4.0) =    5.4351 +/-    0.0101\n"
       ]
      }
     ],
     "prompt_number": 7
    },
    {
     "cell_type": "code",
     "collapsed": false,
     "input": [],
     "language": "python",
     "metadata": {},
     "outputs": []
    },
    {
     "cell_type": "heading",
     "level": 2,
     "metadata": {},
     "source": [
      "Maximum Magnitude Estimators"
     ]
    },
    {
     "cell_type": "heading",
     "level": 3,
     "metadata": {},
     "source": [
      "Kijko & Sellevol - Fixed b-value"
     ]
    },
    {
     "cell_type": "markdown",
     "metadata": {},
     "source": [
      "Maximum likelihood estimator of maximum magnitude assuming no uncertainty in b-value (see Kijko (2004) for more details)"
     ]
    },
    {
     "cell_type": "code",
     "collapsed": false,
     "input": [
      "mmax_config = {'b-value': 1.0,\n",
      "               'input_mmin': 4.5,\n",
      "               'input_mmax': None,\n",
      "               'input_mmax_uncertainty': None}\n",
      "\n",
      "mmax_ks = KijkoSellevolFixedb()\n",
      "\n",
      "mmax, mmax_sigma = mmax_ks.get_mmax(catalogue, mmax_config)\n",
      "\n",
      "print 'Mmax = %8.3f +/- %8.3f' %(mmax, mmax_sigma)"
     ],
     "language": "python",
     "metadata": {},
     "outputs": [
      {
       "output_type": "stream",
       "stream": "stdout",
       "text": [
        "4.5 7.4 1116.0 2.30258509299\n",
        "Mmax =    7.749 +/-    0.363"
       ]
      },
      {
       "output_type": "stream",
       "stream": "stdout",
       "text": [
        "\n"
       ]
      }
     ],
     "prompt_number": 8
    },
    {
     "cell_type": "heading",
     "level": 3,
     "metadata": {},
     "source": [
      "Kijko & Sellevol - Uncertain b-value"
     ]
    },
    {
     "cell_type": "markdown",
     "metadata": {},
     "source": [
      "Maximum likelihood estimator of maximum magnitude assuming uncertain b-value (see Kijko (2004) for more details)"
     ]
    },
    {
     "cell_type": "code",
     "collapsed": false,
     "input": [
      "mmax_config = {'b-value': 1.0,\n",
      "               'sigma-b': 0.05,\n",
      "               'input_mmin': 4.5,\n",
      "               'input_mmax': None,\n",
      "               'input_mmax_uncertainty': None}\n",
      "\n",
      "mmax_ksb = KijkoSellevolBayes()\n",
      "\n",
      "mmax, mmax_sigma = mmax_ksb.get_mmax(catalogue, mmax_config)\n",
      "\n",
      "print 'Mmax = %8.3f +/- %8.3f' %(mmax, mmax_sigma)"
     ],
     "language": "python",
     "metadata": {},
     "outputs": [
      {
       "output_type": "stream",
       "stream": "stdout",
       "text": [
        "Mmax =    7.732 +/-    0.347\n"
       ]
      }
     ],
     "prompt_number": 9
    },
    {
     "cell_type": "heading",
     "level": 3,
     "metadata": {},
     "source": [
      "Kijko & Sellevol Non-Parametric Gaussian"
     ]
    },
    {
     "cell_type": "markdown",
     "metadata": {},
     "source": [
      "Maximum likelihood estimator of maximum magnitude assuming no specified magnitude frequency distribution\n",
      "(see Kijko (2004) for more details)"
     ]
    },
    {
     "cell_type": "code",
     "collapsed": false,
     "input": [
      "mmax_config = {'number_earthquakes': 100, # Selects the N largest earthquakes in the catalogue for analysis\n",
      "               'input_mmax': None,\n",
      "               'input_mmax_uncertainty': None}\n",
      "\n",
      "mmax_knpg = KijkoNonParametricGaussian()\n",
      "mmax, mmax_sigma = mmax_knpg.get_mmax(catalogue, mmax_config)\n",
      "print 'Mmax = %8.3f +/- %8.3f' %(mmax, mmax_sigma)"
     ],
     "language": "python",
     "metadata": {},
     "outputs": [
      {
       "output_type": "stream",
       "stream": "stdout",
       "text": [
        "Mmax =    7.543 +/-    0.175\n"
       ]
      }
     ],
     "prompt_number": 10
    },
    {
     "cell_type": "heading",
     "level": 3,
     "metadata": {},
     "source": [
      "Cumulative Moment Release (Adapted from Makropoulos & Burton (1983))"
     ]
    },
    {
     "cell_type": "markdown",
     "metadata": {},
     "source": [
      "Estimator of Maximum Magnitude based on the \"Cumulative Moment\" method, an adaptation of the cumulative strain energy estimator of Mmax (Makropoulos & Burton, 1983), with Mmax uncertainty estimated via Monte Carlo sampling of the observed magnitude uncertainties"
     ]
    },
    {
     "cell_type": "code",
     "collapsed": false,
     "input": [
      "mmax_config = {'number_bootstraps': 1000} # Number of samples for the uncertainty analyis\n",
      "\n",
      "mmax_cum_mo = CumulativeMoment()\n",
      "mmax, mmax_sigma = mmax_cum_mo.get_mmax(catalogue, mmax_config)\n",
      "print 'Mmax = %8.3f +/- %8.3f' %(mmax, mmax_sigma)"
     ],
     "language": "python",
     "metadata": {},
     "outputs": [
      {
       "output_type": "stream",
       "stream": "stdout",
       "text": [
        "Mmax =    7.524 +/-    0.057\n"
       ]
      }
     ],
     "prompt_number": 11
    }
   ],
   "metadata": {}
  }
 ]
}