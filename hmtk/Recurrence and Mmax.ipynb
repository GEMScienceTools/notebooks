{
 "metadata": {
  "name": "",
  "signature": "sha256:2527ccd77d85ead4b8d3c8fbb590dc1975947faf6f388d6c81e6d5037c20f714"
 },
 "nbformat": 3,
 "nbformat_minor": 0,
 "worksheets": [
  {
   "cells": [
    {
     "cell_type": "heading",
     "level": 1,
     "metadata": {},
     "source": [
      "Recurrence and (Inferred) Maximum Magnitude Examples"
     ]
    },
    {
     "cell_type": "markdown",
     "metadata": {},
     "source": [
      "The objective of this example is to demonstrate how to use the catalogue tools to calculated recurrence by different methodologies"
     ]
    },
    {
     "cell_type": "code",
     "collapsed": false,
     "input": [
      "# Import required modules\n",
      "%matplotlib inline\n",
      "import numpy as np\n",
      "import matplotlib.pyplot as plt\n",
      "\n",
      "from hmtk.parsers.catalogue.csv_catalogue_parser import CsvCatalogueParser, CsvCatalogueWriter\n",
      "\n",
      "# Import Recurrence Tools\n",
      "from hmtk.seismicity.occurrence.b_maximum_likelihood import BMaxLikelihood\n",
      "from hmtk.seismicity.occurrence.kijko_smit import KijkoSmit\n",
      "from hmtk.seismicity.occurrence.weichert import Weichert\n",
      "\n",
      "# Import Mmax Tools\n",
      "from hmtk.seismicity.max_magnitude.kijko_nonparametric_gaussian import KijkoNonParametricGaussian\n",
      "from hmtk.seismicity.max_magnitude.kijko_sellevol_bayes import KijkoSellevolBayes\n",
      "from hmtk.seismicity.max_magnitude.kijko_sellevol_fixed_b import KijkoSellevolFixedb\n",
      "from hmtk.seismicity.max_magnitude.cumulative_moment_release import CumulativeMoment\n",
      "\n",
      "print 'Import OK!'"
     ],
     "language": "python",
     "metadata": {},
     "outputs": []
    },
    {
     "cell_type": "markdown",
     "metadata": {},
     "source": [
      "In the present example we use a synthetic catalogue with known b-value properties and completeness windows"
     ]
    },
    {
     "cell_type": "code",
     "collapsed": false,
     "input": [
      "input_file = 'input_data/catalogues/completeness_test_cat.csv'\n",
      "\n",
      "parser = CsvCatalogueParser(input_file)\n",
      "catalogue = parser.read_file()\n",
      "print 'Input complete: %s events in catalogue' % catalogue.get_number_events()\n",
      "print 'Catalogue Covers the Period: %s to %s' % (catalogue.start_year, catalogue.end_year)\n",
      "\n",
      "# Plot magnitude time density\n",
      "from hmtk.plotting.seismicity.catalogue_plots import plot_magnitude_time_density\n",
      "magnitude_bin = 0.1\n",
      "time_bin = 1.0\n",
      "plot_magnitude_time_density(catalogue, 0.1, 1.0)"
     ],
     "language": "python",
     "metadata": {},
     "outputs": []
    },
    {
     "cell_type": "code",
     "collapsed": false,
     "input": [
      "# Known completeness properties\n",
      "completeness = np.array([[1990., 4.0],\n",
      "                         [1960., 4.5],\n",
      "                         [1910., 5.5]])\n",
      "from hmtk.plotting.seismicity.catalogue_plots import (plot_observed_recurrence, \n",
      "                                                      get_completeness_adjusted_table,\n",
      "                                                      _get_catalogue_bin_limits)\n",
      "\n",
      "earthquake_count = get_completeness_adjusted_table(catalogue, completeness, 0.1, 2009)\n",
      "print 'Magnitude  N(OBS)     N(CUM)   Log10(Nc)'\n",
      "for row in earthquake_count:\n",
      "    print '%6.2f %10.3f %10.3f %10.3f' %(row[0], row[1], row[2], row[3]) \n",
      "\n",
      "plot_observed_recurrence(catalogue, completeness, 0.1)"
     ],
     "language": "python",
     "metadata": {},
     "outputs": []
    },
    {
     "cell_type": "heading",
     "level": 3,
     "metadata": {},
     "source": [
      "Recurrence Methods 1: b-Maximum Likelihood\n",
      "                                        "
     ]
    },
    {
     "cell_type": "markdown",
     "metadata": {},
     "source": [
      "The first method is simply an adaptation of the Aki (1965) approach in which b-value is determined from the weighted mean of the b-value for each completeness period."
     ]
    },
    {
     "cell_type": "code",
     "collapsed": false,
     "input": [
      "# Set up the configuration parameters\n",
      "recurrence_config = {'reference_magnitude': None,\n",
      "                     'magnitude_interval': 0.1,\n",
      "                     'Average Type': 'Weighted'}\n",
      "\n",
      "bml_recurrence = BMaxLikelihood()\n",
      "\n",
      "bval, sigmab, rate, sigma_rate = bml_recurrence.calculate(catalogue, recurrence_config, completeness)\n",
      "\n",
      "print 'B-value = %9.4f +/- %9.4f' %(bval, sigmab)\n",
      "print 'Rate (M >= 4.0) = %9.4f +/- %9.4f' %(rate, sigma_rate)"
     ],
     "language": "python",
     "metadata": {},
     "outputs": []
    },
    {
     "cell_type": "heading",
     "level": 3,
     "metadata": {},
     "source": [
      "Recurrence Methods 2: Kijko & Smit (2012) "
     ]
    },
    {
     "cell_type": "markdown",
     "metadata": {},
     "source": [
      "Implements the maximum likelihood estimator of Kijko & Smit (2012)"
     ]
    },
    {
     "cell_type": "code",
     "collapsed": false,
     "input": [
      "# Set up the configuration parameters\n",
      "bks_recurrence = KijkoSmit()\n",
      "\n",
      "bval, sigmab, rate, sigma_rate = bks_recurrence.calculate(catalogue, recurrence_config, completeness)\n",
      "\n",
      "print 'B-value = %9.4f +/- %9.4f' % (bval, sigmab)\n",
      "print 'Rate (M >= 4.0) = %9.4f +/- %9.4f' % (rate, sigma_rate)"
     ],
     "language": "python",
     "metadata": {},
     "outputs": []
    },
    {
     "cell_type": "heading",
     "level": 3,
     "metadata": {},
     "source": [
      "Recurrence Methods 3: Weichert (1980)"
     ]
    },
    {
     "cell_type": "markdown",
     "metadata": {},
     "source": [
      "Implements the maximum likelihood estimator of Weichert (1980)"
     ]
    },
    {
     "cell_type": "code",
     "collapsed": false,
     "input": [
      "# Set up the configuration parameters\n",
      "bwc_recurrence = Weichert()\n",
      "\n",
      "bval, sigmab, rate, sigma_rate = bwc_recurrence.calculate(catalogue, recurrence_config, completeness)\n",
      "\n",
      "print 'B-value = %9.4f +/- %9.4f' %(bval, sigmab)\n",
      "print 'Rate (M >= 4.0) = %9.4f +/- %9.4f' %(rate, sigma_rate)"
     ],
     "language": "python",
     "metadata": {},
     "outputs": []
    },
    {
     "cell_type": "code",
     "collapsed": false,
     "input": [],
     "language": "python",
     "metadata": {},
     "outputs": []
    },
    {
     "cell_type": "heading",
     "level": 2,
     "metadata": {},
     "source": [
      "Maximum Magnitude Estimators"
     ]
    },
    {
     "cell_type": "heading",
     "level": 3,
     "metadata": {},
     "source": [
      "Kijko & Sellevol - Fixed b-value"
     ]
    },
    {
     "cell_type": "markdown",
     "metadata": {},
     "source": [
      "Maximum likelihood estimator of maximum magnitude assuming no uncertainty in b-value (see Kijko (2004) for more details)"
     ]
    },
    {
     "cell_type": "code",
     "collapsed": false,
     "input": [
      "mmax_config = {'b-value': 1.0,\n",
      "               'input_mmin': 4.5,\n",
      "               'input_mmax': None,\n",
      "               'input_mmax_uncertainty': None}\n",
      "\n",
      "mmax_ks = KijkoSellevolFixedb()\n",
      "\n",
      "mmax, mmax_sigma = mmax_ks.get_mmax(catalogue, mmax_config)\n",
      "\n",
      "print 'Mmax = %8.3f +/- %8.3f' %(mmax, mmax_sigma)"
     ],
     "language": "python",
     "metadata": {},
     "outputs": []
    },
    {
     "cell_type": "heading",
     "level": 3,
     "metadata": {},
     "source": [
      "Kijko & Sellevol - Uncertain b-value"
     ]
    },
    {
     "cell_type": "markdown",
     "metadata": {},
     "source": [
      "Maximum likelihood estimator of maximum magnitude assuming uncertain b-value (see Kijko (2004) for more details)"
     ]
    },
    {
     "cell_type": "code",
     "collapsed": false,
     "input": [
      "mmax_config = {'b-value': 1.0,\n",
      "               'sigma-b': 0.05,\n",
      "               'input_mmin': 4.5,\n",
      "               'input_mmax': None,\n",
      "               'input_mmax_uncertainty': None}\n",
      "\n",
      "mmax_ksb = KijkoSellevolBayes()\n",
      "\n",
      "mmax, mmax_sigma = mmax_ksb.get_mmax(catalogue, mmax_config)\n",
      "\n",
      "print 'Mmax = %8.3f +/- %8.3f' %(mmax, mmax_sigma)"
     ],
     "language": "python",
     "metadata": {},
     "outputs": []
    },
    {
     "cell_type": "heading",
     "level": 3,
     "metadata": {},
     "source": [
      "Kijko & Sellevol Non-Parametric Gaussian"
     ]
    },
    {
     "cell_type": "markdown",
     "metadata": {},
     "source": [
      "Maximum likelihood estimator of maximum magnitude assuming no specified magnitude frequency distribution\n",
      "(see Kijko (2004) for more details)"
     ]
    },
    {
     "cell_type": "code",
     "collapsed": false,
     "input": [
      "mmax_config = {'number_earthquakes': 100, # Selects the N largest earthquakes in the catalogue for analysis\n",
      "               'input_mmax': None,\n",
      "               'input_mmax_uncertainty': None}\n",
      "\n",
      "mmax_knpg = KijkoNonParametricGaussian()\n",
      "mmax, mmax_sigma = mmax_knpg.get_mmax(catalogue, mmax_config)\n",
      "print 'Mmax = %8.3f +/- %8.3f' %(mmax, mmax_sigma)"
     ],
     "language": "python",
     "metadata": {},
     "outputs": []
    },
    {
     "cell_type": "heading",
     "level": 3,
     "metadata": {},
     "source": [
      "Cumulative Moment Release (Adapted from Makropoulos & Burton (1983))"
     ]
    },
    {
     "cell_type": "markdown",
     "metadata": {},
     "source": [
      "Estimator of Maximum Magnitude based on the \"Cumulative Moment\" method, an adaptation of the cumulative strain energy estimator of Mmax (Makropoulos & Burton, 1983), with Mmax uncertainty estimated via Monte Carlo sampling of the observed magnitude uncertainties"
     ]
    },
    {
     "cell_type": "code",
     "collapsed": false,
     "input": [
      "mmax_config = {'number_bootstraps': 1000} # Number of samples for the uncertainty analyis\n",
      "\n",
      "mmax_cum_mo = CumulativeMoment()\n",
      "mmax, mmax_sigma = mmax_cum_mo.get_mmax(catalogue, mmax_config)\n",
      "print 'Mmax = %8.3f +/- %8.3f' %(mmax, mmax_sigma)"
     ],
     "language": "python",
     "metadata": {},
     "outputs": []
    }
   ],
   "metadata": {}
  }
 ]
}