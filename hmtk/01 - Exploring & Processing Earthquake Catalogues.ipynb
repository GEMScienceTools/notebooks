{
 "cells": [
  {
   "cell_type": "markdown",
   "metadata": {
    "deletable": true,
    "editable": true
   },
   "source": [
    "# Using the Hazard Modeller's Toolkit - Earthquake Catalogue Examples "
   ]
  },
  {
   "cell_type": "markdown",
   "metadata": {
    "deletable": true,
    "editable": true
   },
   "source": [
    "This notebook contains: \n",
    "\n",
    "1. Read a seismic catalogue and pre-defined seismic sources. \n",
    "\n",
    "2. Explore basic methods for qualitative analysis of the catalogue. \n",
    "\n",
    "3. Declustering: Aftershocks and foreshocks identification and removal. \n",
    "\n",
    "4. Completeness\n",
    "\n",
    "5. Estimation of the Gutenberg-Richter parameters. \n",
    "\n",
    "6. Exploration of some methods to estimate the maximum magnitude (statistically from the catalogue)\n"
   ]
  },
  {
   "cell_type": "markdown",
   "metadata": {
    "deletable": true,
    "editable": true
   },
   "source": [
    "### Importing the libraries and Dependencies"
   ]
  },
  {
   "cell_type": "markdown",
   "metadata": {
    "deletable": true,
    "editable": true
   },
   "source": [
    "To use the toolkit features we need to import at the start of the session those tools that we are planning to use."
   ]
  },
  {
   "cell_type": "code",
   "execution_count": null,
   "metadata": {
    "collapsed": true
   },
   "outputs": [],
   "source": [
    "%load_ext autoreload\n",
    "%autoreload 2\n",
    "import warnings; warnings.filterwarnings('ignore')"
   ]
  },
  {
   "cell_type": "code",
   "execution_count": null,
   "metadata": {
    "collapsed": false,
    "deletable": true,
    "editable": true
   },
   "outputs": [],
   "source": [
    "%matplotlib inline  \n",
    "\n",
    "# Python dependences\n",
    "import os\n",
    "import numpy as np   # Numpy - Python's numerical library\n",
    "import matplotlib.pyplot as plt  # Matplotlib - Python's plotting library\n",
    "from copy import deepcopy   # Python module for copying objects\n",
    "\n",
    "# Input and Output Tools\n",
    "# Catalogue and sources \n",
    "from hmtk.parsers.catalogue import CsvCatalogueParser   # Reads an earthquake catalogue from CSV\n",
    "from hmtk.parsers.catalogue.csv_catalogue_parser import CsvCatalogueWriter  # Writes an earthquake catalogue to CSV\n",
    "from hmtk.parsers.source_model.nrml04_parser import nrmlSourceModelParser  # Imports a source model from XML\n",
    "\n",
    "# Plotting tools\n",
    "from hmtk.plotting.mapping import HMTKBaseMap\n",
    "from hmtk.plotting.seismicity.completeness import plot_stepp_1972\n",
    "from hmtk.plotting.seismicity.catalogue_plots import plot_magnitude_time_scatter\n",
    "from hmtk.plotting.seismicity.catalogue_plots import plot_depth_histogram\n",
    "from hmtk.plotting.seismicity.catalogue_plots import plot_magnitude_time_density\n",
    "from hmtk.plotting.seismicity.max_magnitude.cumulative_moment import plot_cumulative_moment \n",
    "from hmtk.plotting.seismicity.catalogue_plots import (plot_observed_recurrence, \n",
    "                                                      get_completeness_adjusted_table,\n",
    "                                                      _get_catalogue_bin_limits)\n",
    "\n",
    "# Seismicity tools: Events and declustering methods\n",
    "from hmtk.seismicity.selector import CatalogueSelector\n",
    "from hmtk.seismicity.declusterer.dec_afteran import Afteran \n",
    "from hmtk.seismicity.declusterer.dec_gardner_knopoff import GardnerKnopoffType1 \n",
    "from hmtk.seismicity.declusterer.distance_time_windows import (GardnerKnopoffWindow, \n",
    "                                                               GruenthalWindow, \n",
    "                                                               UhrhammerWindow)\n",
    "\n",
    "# Completeness tools\n",
    "from hmtk.seismicity.completeness.comp_stepp_1971 import Stepp1971\n",
    "\n",
    "# Seismicity tools: Recurrence methods\n",
    "from hmtk.seismicity.occurrence.aki_maximum_likelihood import AkiMaxLikelihood\n",
    "from hmtk.seismicity.occurrence.b_maximum_likelihood import BMaxLikelihood\n",
    "from hmtk.seismicity.occurrence.kijko_smit import KijkoSmit\n",
    "from hmtk.seismicity.occurrence.weichert import Weichert\n",
    "\n",
    "# Seismicity tools: Recurrence methods\n",
    "from hmtk.seismicity.max_magnitude.kijko_sellevol_fixed_b import KijkoSellevolFixedb\n",
    "from hmtk.seismicity.max_magnitude.kijko_sellevol_bayes import KijkoSellevolBayes\n",
    "from hmtk.seismicity.max_magnitude.kijko_nonparametric_gaussian import KijkoNonParametricGaussian\n",
    "from hmtk.seismicity.max_magnitude.cumulative_moment_release import CumulativeMoment \n",
    "\n",
    "# Seismicity tools: Smoothed seismicity\n",
    "from hmtk.seismicity.smoothing.smoothed_seismicity import SmoothedSeismicity \n",
    "from hmtk.seismicity.smoothing.kernels.isotropic_gaussian import IsotropicGaussian \n",
    "\n",
    "print \"Everything Imported OK!\""
   ]
  },
  {
   "cell_type": "markdown",
   "metadata": {
    "deletable": true,
    "editable": true
   },
   "source": [
    "### Importing the Catalogue (+ Useful Methods!)"
   ]
  },
  {
   "cell_type": "markdown",
   "metadata": {
    "deletable": true,
    "editable": true
   },
   "source": [
    "Seismic catalogue format\n",
    "\n",
    "The hmtk is able to read a catalogue in .csv format (Windows comma separated values). \n",
    "There are a minimum number of fields that are required to import and use the catalogue \n",
    "information into hmtk. \n",
    "The fields require: \n",
    "\n",
    "        eventID* Agency year* month* day* hour* minute* second* longitude* latitude* depth* magnitude*\n",
    "\n",
    "The fields marked with a star are mandatory.\n",
    "\n"
   ]
  },
  {
   "cell_type": "code",
   "execution_count": null,
   "metadata": {
    "collapsed": false,
    "deletable": true,
    "editable": true
   },
   "outputs": [],
   "source": [
    "#Importing catalogue\n",
    "catalogue_filename = 'input_data/Aegean_ExtendedCat1.csv'\n",
    "parser = CsvCatalogueParser(catalogue_filename) # From .csv to hmtk\n",
    "\n",
    "# Read and process the catalogue content in a variable called \"catalogue\"\n",
    "catalogue = parser.read_file(start_year=1900, end_year=2012)\n",
    "\n",
    "# How many events in the catalogue?\n",
    "print \"The catalogue contains %g events\" % catalogue.get_number_events()\n",
    "\n",
    "# What is the geographical extent of the catalogue?\n",
    "bbox = catalogue.get_bounding_box()\n",
    "print \"Catalogue ranges from %.4f E to %.4f E Longitude and %.4f N to %.4f N Latitude\\n\" % bbox"
   ]
  },
  {
   "cell_type": "markdown",
   "metadata": {
    "deletable": true,
    "editable": true
   },
   "source": [
    "It is generally a good idea for the catalogue to be input in chronological order.\n",
    "\n",
    "If the catalogue is not in chronological order then the following re-sorts the catalogue in-place to ensure it is in order\n",
    "\n"
   ]
  },
  {
   "cell_type": "code",
   "execution_count": null,
   "metadata": {
    "collapsed": true,
    "deletable": true,
    "editable": true
   },
   "outputs": [],
   "source": [
    "catalogue.sort_catalogue_chronologically()"
   ]
  },
  {
   "cell_type": "markdown",
   "metadata": {
    "deletable": true,
    "editable": true
   },
   "source": [
    "### Visualising the catalogue"
   ]
  },
  {
   "cell_type": "markdown",
   "metadata": {
    "deletable": true,
    "editable": true
   },
   "source": [
    "#### Magnitude - Time Density"
   ]
  },
  {
   "cell_type": "markdown",
   "metadata": {
    "deletable": true,
    "editable": true
   },
   "source": [
    "To see how the distribution of magnitudes changes with time we can simply plot magnitude against time:"
   ]
  },
  {
   "cell_type": "code",
   "execution_count": null,
   "metadata": {
    "collapsed": false,
    "deletable": true,
    "editable": true
   },
   "outputs": [],
   "source": [
    "plot_magnitude_time_scatter(catalogue, plot_error=True)"
   ]
  },
  {
   "cell_type": "markdown",
   "metadata": {
    "deletable": true,
    "editable": true
   },
   "source": [
    "Or, more informatively, plot the density of events with time"
   ]
  },
  {
   "cell_type": "code",
   "execution_count": null,
   "metadata": {
    "collapsed": false,
    "deletable": true,
    "editable": true
   },
   "outputs": [],
   "source": [
    "magnitude_bin_width = 0.1  # In magnitude units\n",
    "time_bin_width = 1.0 # In years\n",
    "plot_magnitude_time_density(catalogue, magnitude_bin_width, time_bin_width)"
   ]
  },
  {
   "cell_type": "markdown",
   "metadata": {
    "deletable": true,
    "editable": true
   },
   "source": [
    "### View the Depth Distribution"
   ]
  },
  {
   "cell_type": "code",
   "execution_count": null,
   "metadata": {
    "collapsed": false,
    "deletable": true,
    "editable": true
   },
   "outputs": [],
   "source": [
    "# Shows depth histogram every 5 km  \n",
    "plot_depth_histogram(catalogue, 5., normalisation=True)"
   ]
  },
  {
   "cell_type": "markdown",
   "metadata": {
    "collapsed": false,
    "deletable": true,
    "editable": true
   },
   "source": [
    "### Mapping the Catalogue"
   ]
  },
  {
   "cell_type": "markdown",
   "metadata": {
    "deletable": true,
    "editable": true
   },
   "source": [
    "We can map the catalogue using the HMTK's mapping functions. A 'basemap' can support multiple layers:"
   ]
  },
  {
   "cell_type": "code",
   "execution_count": null,
   "metadata": {
    "collapsed": false,
    "deletable": true,
    "editable": true
   },
   "outputs": [],
   "source": [
    "# Map configuration\n",
    "llon, ulon, llat, ulat = catalogue.get_bounding_box()\n",
    "map_config = {'min_lon': np.floor(llon), 'max_lon': np.ceil(ulon),\n",
    "              'min_lat': np.floor(llat), 'max_lat': np.ceil(ulat), 'resolution':'i'}\n",
    "\n",
    "# Creating a basemap - input a cconfiguration and (if desired) a title\n",
    "basemap1 = HMTKBaseMap(map_config, 'Earthquake Catalogue')\n",
    "\n",
    "\n",
    "# Adding the catalogue to the basemap\n",
    "# In this case we will 'close' the figure after rendering, we do this by setting 'overlay=False'\n",
    "# This is also the default option\n",
    "# If we wanted to add another layer on top, we would set the overlay to True\n",
    "basemap1.add_catalogue(catalogue, overlay=False)"
   ]
  },
  {
   "cell_type": "markdown",
   "metadata": {
    "deletable": true,
    "editable": true
   },
   "source": [
    "### Declustering"
   ]
  },
  {
   "cell_type": "markdown",
   "metadata": {
    "deletable": true,
    "editable": true
   },
   "source": [
    "The HMTK supports several methods for declustering the earthquake catalogue:\n",
    "\n",
    "1. Gardner & Knopoff (1974)\n",
    "\n",
    "2. AFTERAN (Musson, 1999)\n",
    "\n",
    "Others will (eventually) be added in the future\n",
    "\n",
    "We illustrate the use of the Gardner & Knopoff Algorithm"
   ]
  },
  {
   "cell_type": "markdown",
   "metadata": {
    "deletable": true,
    "editable": true
   },
   "source": [
    "#### Configuring the algorithm"
   ]
  },
  {
   "cell_type": "code",
   "execution_count": null,
   "metadata": {
    "collapsed": true,
    "deletable": true,
    "editable": true
   },
   "outputs": [],
   "source": [
    "# Create an `instance' of the tool\n",
    "declust_method = GardnerKnopoffType1()\n",
    "\n",
    "# Create a configuration file\n",
    "declust_config = {\"time_distance_window\": GardnerKnopoffWindow(), \"fs_time_prop\": 1.0}"
   ]
  },
  {
   "cell_type": "markdown",
   "metadata": {
    "deletable": true,
    "editable": true
   },
   "source": [
    "### Running the algorithm"
   ]
  },
  {
   "cell_type": "markdown",
   "metadata": {
    "deletable": true,
    "editable": true
   },
   "source": [
    "All declustering algorithms produce two outputs:\n",
    "\n",
    "* cluster_index = Vector indicating the number of the cluster to which the earthquake belongs (including mainshock)\n",
    "* cluster_flag = Vector indicating if the event is a foreshock (-1), mainshock (0) or aftershock (1)"
   ]
  },
  {
   "cell_type": "code",
   "execution_count": null,
   "metadata": {
    "collapsed": false,
    "deletable": true,
    "editable": true,
    "scrolled": true
   },
   "outputs": [],
   "source": [
    "cluster_index, cluster_flag = declust_method.decluster(catalogue, declust_config)\n",
    "\n",
    "data = np.column_stack([catalogue.get_decimal_time(),\n",
    "                        catalogue.data['magnitude'],\n",
    "                        catalogue.data['longitude'],\n",
    "                        catalogue.data['latitude'], cluster_index, cluster_flag])\n",
    "print '      Time    Magnitude    Long.    Lat.   Cluster No. Index (-1 = foreshock, 0 = mainshock, 1 = afterschock)'\n",
    "for row in data:\n",
    "    print '%14.8f  %6.2f  %8.3f  %8.3f  %6.0f  %6.0f' %(row[0], row[1], row[2], row[3], row[4], row[5])"
   ]
  },
  {
   "cell_type": "markdown",
   "metadata": {
    "deletable": true,
    "editable": true
   },
   "source": [
    "### Purging non-Poissonian Events from the Catalogue"
   ]
  },
  {
   "cell_type": "markdown",
   "metadata": {
    "deletable": true,
    "editable": true
   },
   "source": [
    "Having run the declustering algorithm you may want to remove all of the 'non-Poissonian' events (i.e. foreshocks and aftershocks) from the catalogue"
   ]
  },
  {
   "cell_type": "code",
   "execution_count": null,
   "metadata": {
    "collapsed": false,
    "deletable": true,
    "editable": true
   },
   "outputs": [],
   "source": [
    "# Copying the catalogue and saving it under a new name \"catalogue_dec\"(declustered catalogue) \n",
    "catalogue_dec = deepcopy(catalogue)\n",
    "\n",
    "# Logical indexing: Chossing the outputs for the main events: Cluster_flag = 0 \n",
    "mainshock_flag = cluster_flag == 0 \n",
    "\n",
    "# Filtering the foreshocks and aftershocks in the copy of the catalogue \n",
    "catalogue_dec.purge_catalogue(mainshock_flag)\n",
    "\n",
    "\n",
    "# Printing the number of events considered main shocks\n",
    "print 'Declustering: ok'\n",
    "print \"Number of events in original catalogue: %g\" % catalogue.get_number_events()\n",
    "print 'Number of mainshocks: %g' % catalogue_dec.get_number_events()"
   ]
  },
  {
   "cell_type": "code",
   "execution_count": null,
   "metadata": {
    "collapsed": false,
    "deletable": true,
    "editable": true
   },
   "outputs": [],
   "source": [
    "basemap1 = HMTKBaseMap(map_config, 'Declustered Earthquake Catalogue')\n",
    "basemap1.add_catalogue(catalogue_dec, overlay=False)"
   ]
  },
  {
   "cell_type": "markdown",
   "metadata": {
    "deletable": true,
    "editable": true
   },
   "source": [
    "### Saving the catalogue"
   ]
  },
  {
   "cell_type": "code",
   "execution_count": null,
   "metadata": {
    "collapsed": false,
    "deletable": true,
    "editable": true
   },
   "outputs": [],
   "source": [
    "# Selecting path and name for the output file \n",
    "output_cat_dec = 'output_data/aegean_cat_dec.csv'\n",
    "\n",
    "if os.path.exists(output_cat_dec):\n",
    "    os.remove(output_cat_dec)\n",
    "\n",
    "# Call the method and save the output file under the name \"cat_csv\"\n",
    "cat_csv = CsvCatalogueWriter(output_cat_dec) \n",
    "\n",
    "# Write the purged catalogue\n",
    "cat_csv.write_file(catalogue_dec)\n",
    "print \"Catalogue successfully written to %s\" % output_cat_dec"
   ]
  },
  {
   "cell_type": "markdown",
   "metadata": {
    "deletable": true,
    "editable": true
   },
   "source": [
    "### Analysis of Completeness"
   ]
  },
  {
   "cell_type": "code",
   "execution_count": null,
   "metadata": {
    "collapsed": false,
    "deletable": true,
    "editable": true
   },
   "outputs": [],
   "source": [
    "# Set up the configuration parameters\n",
    "comp_config = {'magnitude_bin': 0.5, 'time_bin': 5.0, 'increment_lock': False}\n",
    "\n",
    "# Calling the method\n",
    "completeness_algorithm = Stepp1971()\n",
    "\n",
    "# Use the catalogue and completeness configuration\n",
    "completeness_table = completeness_algorithm.completeness(catalogue_dec, comp_config)\n",
    "print 'Completeness: ok'\n",
    "\n",
    "# Print the completeness table\n",
    "print '\\n'\n",
    "print 'Completeness table using Stepp method (1971)'\n",
    "print completeness_table\n",
    "print '\\n'\n",
    "\n",
    "# Setting configuration for the completeness plot\n",
    "completeness_parameters = completeness_algorithm\n",
    "output_file = \"output_data/Stepp_aegean.png\"\n",
    "if os.path.exists(output_file):\n",
    "    os.remove(output_file)\n",
    "plot_stepp_1972.create_stepp_plot(completeness_parameters, output_file)"
   ]
  },
  {
   "cell_type": "markdown",
   "metadata": {
    "deletable": true,
    "editable": true
   },
   "source": [
    "### Manual setup of the completeness table"
   ]
  },
  {
   "cell_type": "markdown",
   "metadata": {
    "deletable": true,
    "editable": true
   },
   "source": [
    "The hmtk allows to use a completeness table proposed by the modeller. "
   ]
  },
  {
   "cell_type": "code",
   "execution_count": null,
   "metadata": {
    "collapsed": false,
    "deletable": true,
    "editable": true
   },
   "outputs": [],
   "source": [
    "# Table format\n",
    "completeness_table_a = np.array([[2000., 4.5],\n",
    "                                 [1964., 5.0],\n",
    "                                 [1960., 5.5],\n",
    "                                 [1900., 6.5]])\n",
    "\n",
    "plot_magnitude_time_density(catalogue_dec, 0.1, 1.0,\n",
    "                            completeness=completeness_table_a)"
   ]
  },
  {
   "cell_type": "markdown",
   "metadata": {
    "deletable": true,
    "editable": true
   },
   "source": [
    "# Estimating Recurrence"
   ]
  },
  {
   "cell_type": "markdown",
   "metadata": {
    "deletable": true,
    "editable": true
   },
   "source": [
    "Several methods are available for estimating recurrence taking into account time-dependent completeness\n",
    "\n",
    "1. 'Weighted' Maximum Likelihood\n",
    "2. Kijko & Smit (2012)\n",
    "3. Weichert (1980)\n",
    "4. Penalized Maximum Likelihood (Johnston et al., 1994)"
   ]
  },
  {
   "cell_type": "code",
   "execution_count": null,
   "metadata": {
    "collapsed": false,
    "deletable": true,
    "editable": true
   },
   "outputs": [],
   "source": [
    "from hmtk.seismicity.occurrence.weichert import Weichert\n",
    "\n",
    "recurrence_estimator = Weichert()\n",
    "\n",
    "recurrence_config = {\"magnitude_interval\": 0.1}\n",
    "\n",
    "bval, sigma_b, aval, sigma_a = recurrence_estimator.calculate(catalogue_dec,\n",
    "                                                              recurrence_config,\n",
    "                                                              completeness_table_a)\n",
    "\n",
    "print \"a = %.3f (+/- %.3f),  b = %.3f (+/-%.3f)\" % (aval, sigma_a, bval, sigma_b)"
   ]
  },
  {
   "cell_type": "code",
   "execution_count": null,
   "metadata": {
    "collapsed": false,
    "deletable": true,
    "editable": true
   },
   "outputs": [],
   "source": [
    "from hmtk.plotting.seismicity.occurrence.recurrence_plot import plot_recurrence_model\n",
    "from openquake.hazardlib.mfd import TruncatedGRMFD\n",
    "mfd0 = TruncatedGRMFD(4.5, 7.8, 0.1, aval, bval)\n",
    "plot_recurrence_model(mfd0, catalogue_dec, completeness_table_a, 0.1)"
   ]
  },
  {
   "cell_type": "markdown",
   "metadata": {
    "collapsed": true,
    "deletable": true,
    "editable": true
   },
   "source": [
    "### Inferring Maximum Magnitude"
   ]
  },
  {
   "cell_type": "markdown",
   "metadata": {
    "deletable": true,
    "editable": true
   },
   "source": [
    "The toolkit contains several tools for making statistical inferences on the maximum magnitude using the earthquake catalogue.\n",
    "\n",
    "Three of these are based on the methods proposed by Kijko (2004):\n",
    "\n",
    "1. KijkoSellevolFixedb - Maximum likelihood estimator of $M_{MAX}$ assuming no uncertainty in the b-value\n",
    "\n",
    "2. KijkoSellevolBayes - Maximum likelihood estimator of $M_{MAX}$ assuming an uncertain b-value\n",
    "\n",
    "3. KijkoNonParametricGaussian -Maximum likelihood estimator of $M_{MAX}$ assuming no specific magnitude frequency distribution\n",
    "\n",
    "More details are given in the HMTK manual.\n",
    "\n",
    "An additional method - based on cumulative moment release (adaptation of Makropolous & Burton (1983)) is also included\n",
    "\n"
   ]
  },
  {
   "cell_type": "markdown",
   "metadata": {
    "deletable": true,
    "editable": true
   },
   "source": [
    "#### Example: Kijko-Sellevol-Bayes Approach"
   ]
  },
  {
   "cell_type": "code",
   "execution_count": null,
   "metadata": {
    "collapsed": false,
    "deletable": true,
    "editable": true
   },
   "outputs": [],
   "source": [
    "# Import the tool\n",
    "from hmtk.seismicity.max_magnitude.kijko_sellevol_bayes import KijkoSellevolBayes\n",
    "\n",
    "# Create the configuration\n",
    "mmax_config = {\n",
    "    \"input_mmin\": 5.0,\n",
    "    \"input_mmax\": None,   # It will take the maximum observed in the catalogue\n",
    "    \"input_mmax_uncertainty\": None,  # It will take the uncertainty of the maximum observed in the catalogue\n",
    "    \"b-value\": bval,\n",
    "    \"sigma-b\": sigma_b\n",
    "}\n",
    "\n",
    "# Instantiate the tool\n",
    "mmax_estimator = KijkoSellevolBayes()\n",
    "# Execute!\n",
    "mmax, sigma_mmax = mmax_estimator.get_mmax(catalogue_dec, mmax_config)\n",
    "print \"Maximum Magnitude (Estimated - KSB): %.3f +/- %.3f\" % (mmax, sigma_mmax)"
   ]
  },
  {
   "cell_type": "markdown",
   "metadata": {
    "deletable": true,
    "editable": true
   },
   "source": [
    "#### Example: Kijko-Sellevol Fixed-b Approach"
   ]
  },
  {
   "cell_type": "code",
   "execution_count": null,
   "metadata": {
    "collapsed": false,
    "deletable": true,
    "editable": true
   },
   "outputs": [],
   "source": [
    "from hmtk.seismicity.max_magnitude.kijko_sellevol_fixed_b import KijkoSellevolFixedb\n",
    "mmax_estimator2 = KijkoSellevolFixedb()\n",
    "mmax2, sigma_mmax2 = mmax_estimator2.get_mmax(catalogue_dec, mmax_config)\n",
    "print \"Maximum Magnitude (Estimated - K-S-fixed-b): %.3f +/- %.3f\" % (mmax2, sigma_mmax2)"
   ]
  },
  {
   "cell_type": "code",
   "execution_count": null,
   "metadata": {
    "collapsed": false,
    "deletable": true,
    "editable": true
   },
   "outputs": [],
   "source": [
    "mfd0 = TruncatedGRMFD(4.5, mmax, 0.1, aval, bval)\n",
    "plot_recurrence_model(mfd0, catalogue_dec, completeness_table_a, 0.1)"
   ]
  },
  {
   "cell_type": "markdown",
   "metadata": {
    "deletable": true,
    "editable": true
   },
   "source": [
    "#### Example: Cumulative Moment Approach "
   ]
  },
  {
   "cell_type": "code",
   "execution_count": null,
   "metadata": {
    "collapsed": false,
    "deletable": true,
    "editable": true
   },
   "outputs": [],
   "source": [
    "from hmtk.seismicity.max_magnitude.cumulative_moment_release import CumulativeMoment\n",
    "\n",
    "mmax_cm_config = {\"number_bootstraps\": 100}\n",
    "\n",
    "mmax_estimator3 = CumulativeMoment()\n",
    "mmax3, sigma_mmax3 = mmax_estimator3.get_mmax(catalogue_dec, mmax_cm_config)\n",
    "\n",
    "print \"Maximum Magnitude (Cumulative Moment): %.3f +/- %.3f\" % (mmax3, sigma_mmax3)\n",
    "\n",
    "mfd0 = TruncatedGRMFD(4.5, mmax3, 0.1, aval, bval)\n",
    "plot_recurrence_model(mfd0, catalogue_dec, completeness_table_a, 0.1)"
   ]
  },
  {
   "cell_type": "code",
   "execution_count": null,
   "metadata": {
    "collapsed": false,
    "deletable": true,
    "editable": true
   },
   "outputs": [],
   "source": [
    "from hmtk.plotting.seismicity.max_magnitude.cumulative_moment import plot_cumulative_moment\n",
    "plot_cumulative_moment(catalogue_dec.data[\"year\"], catalogue_dec.data[\"magnitude\"])"
   ]
  }
 ],
 "metadata": {
  "kernelspec": {
   "display_name": "Python 2",
   "language": "python",
   "name": "python2"
  },
  "language_info": {
   "codemirror_mode": {
    "name": "ipython",
    "version": 2
   },
   "file_extension": ".py",
   "mimetype": "text/x-python",
   "name": "python",
   "nbconvert_exporter": "python",
   "pygments_lexer": "ipython2",
   "version": "2.7.13"
  }
 },
 "nbformat": 4,
 "nbformat_minor": 0
}
