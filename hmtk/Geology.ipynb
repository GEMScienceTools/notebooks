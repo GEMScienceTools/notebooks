{
 "cells": [
  {
   "cell_type": "markdown",
   "metadata": {},
   "source": [
    "# HMTK Geological Tools Demonstration"
   ]
  },
  {
   "cell_type": "markdown",
   "metadata": {},
   "source": [
    "This notepad demonstrates the use of the HMTK geological tools for preparing fault source models for input into OpenQuake"
   ]
  },
  {
   "cell_type": "markdown",
   "metadata": {},
   "source": [
    "## Construction of the Geological Input File"
   ]
  },
  {
   "cell_type": "markdown",
   "metadata": {},
   "source": [
    "An active fault model input file contains two sections:\n",
    "\n",
    "1) A tectonic regionalisation - this can provide a container for a set of properties that may be assigned to multiple faults by virtue of a common tectonic region\n",
    "\n",
    "2) A set of active faults"
   ]
  },
  {
   "cell_type": "markdown",
   "metadata": {},
   "source": [
    "#### Tectonic Regionalisation Representation in the Fault Source File"
   ]
  },
  {
   "cell_type": "raw",
   "metadata": {},
   "source": [
    "#*****************************************************************************\n",
    "#FAULT FILE IN YAML (Yet Another Markup Language) FORMAT\n",
    "#*****************************************************************************\n",
    "#\\\\\\\\\\\\\\\\\\\\\\\\\\\\\\\\\\\\\\\\\\\\\\\\\\\\\\\\\\\\\\\\\\\\\\\\\\\\\\\\\\\\\\\\\\\\\\\\\\\\\\\\\\\\\\\\\\\\\\\\\\\\\\\\\\\\\\\\\\\\\\\\\\\\\\\\\\\n",
    "\n",
    "tectonic_regionalisation: \n",
    "    - Name: Active Shallow Crust\n",
    "      Code: 001\n",
    "      # Magnitude scaling relation (see http://docs.openquake.org/oq-hazardlib) \n",
    "      #for currently available choices!\n",
    "      Magnitude_Scaling_Relation: {\n",
    "          Value: [WC1994], \n",
    "          Weight: [1.0]}\n",
    "      # Shear Modulus (in gigapascals, GPa)\n",
    "      Shear_Modulus: {\n",
    "          Value: [30.0], \n",
    "          Weight: [1.0]}\n",
    "      # Fault displacement to length ratio\n",
    "      Displacement_Length_Ratio: {\n",
    "          Value: [1.25E-5],\n",
    "          Weight: [1.0]}"
   ]
  },
  {
   "cell_type": "markdown",
   "metadata": {},
   "source": [
    "In the tectonic regionalisation information each of the three properties can be represented according to a set of weighted values.\n",
    "For example, in the case below faults in an arbitrarily named tectonic region (called here \"GEM Region 1\") will share the same set\n",
    "of magnitude scaling relations and shear moduli, unless over-written by the specific fault. Those faults assigned to \"GEM Region 2\"\n",
    "will have the magnitude scaling relation fixed as WC1994 and the shear modulus of 30 GPa"
   ]
  },
  {
   "cell_type": "raw",
   "metadata": {},
   "source": [
    "tectonic_regionalisation: \n",
    "    - Name: GEM Region 1 \n",
    "      Code: 001\n",
    "      # Magnitude scaling relation (see http://docs.openquake.org/oq-hazardlib) \n",
    "      #for currently available choices!\n",
    "      Magnitude_Scaling_Relation: {\n",
    "          Value: [WC1994, PeerMSR], \n",
    "          Weight: [0.7, 0.3]}\n",
    "      # Shear Modulus (in gigapascals, GPa)\n",
    "      Shear_Modulus: {\n",
    "          Value: [25.0, 30.0, 35.0], \n",
    "          Weight: [0.2, 0.6, 0.2]}\n",
    "      # Fault displacement to length ratio\n",
    "      Displacement_Length_Ratio: {\n",
    "          Value: [1.25E-5],\n",
    "          Weight: [1.0]}\n",
    "    - Name: GEM Region 2\n",
    "      Code: 002\n",
    "      # Magnitude scaling relation (see http://docs.openquake.org/oq-hazardlib) \n",
    "      #for currently available choices!\n",
    "      Magnitude_Scaling_Relation: {\n",
    "          Value: [WC1994], \n",
    "          Weight: [1.0]}\n",
    "      # Shear Modulus (in gigapascals, GPa)\n",
    "      Shear_Modulus: {\n",
    "          Value: [30.0], \n",
    "          Weight: [1.0]}\n",
    "      # Fault displacement to length ratio\n",
    "      Displacement_Length_Ratio: {\n",
    "          Value: [1.25E-5],\n",
    "          Weight: [1.0]}"
   ]
  },
  {
   "cell_type": "markdown",
   "metadata": {},
   "source": [
    "### Active Fault Model"
   ]
  },
  {
   "cell_type": "markdown",
   "metadata": {},
   "source": [
    "A set of active faults will be defined with a common ID and name. "
   ]
  },
  {
   "cell_type": "raw",
   "metadata": {},
   "source": [
    "Fault_Model_ID: 001\n",
    "Fault_Model_Name: Template Simple Fault"
   ]
  },
  {
   "cell_type": "markdown",
   "metadata": {},
   "source": [
    "An active fault set containing a single fault is shown below:"
   ]
  },
  {
   "cell_type": "raw",
   "metadata": {},
   "source": [
    "#\\\\\\\\\\\\\\\\\\\\\\\\\\\\\\\\\\\\\\\\\\\\\\\\\\\\\\\\\\\\\\\\\\\\\\\\\\\\\\\\\\\\\\\\\\\\\\\\\\\\\\\\\\\\\\\\\\\\\\\\\\\\\\\\\\\\\\\\\\\\\\\\\\\\\\\\\\\n",
    "Fault_Model_ID: 001\n",
    "Fault_Model_Name: Template Simple Fault\n",
    "Fault_Model:\n",
    "    - ID: 001\n",
    "      Tectonic_Region: Active Shallow Crust\n",
    "      Fault_Name: A Simple Fault\n",
    "      Fault_Geometry: {\n",
    "          Fault_Typology: Simple,\n",
    "          # For simple typology, defines the trace in terms of Long., Lat.\n",
    "          Fault_Trace: [30.0, 30.0,\n",
    "                        30.0, 31.5],\n",
    "\n",
    "          # Upper Seismogenic Depth (km)\n",
    "          Upper_Depth:      0.0,\n",
    "          # Lower Seismogenic Depth (km)\n",
    "          Lower_Depth:     20.0,\n",
    "          Strike: ,\n",
    "          # Dip (degrees)\n",
    "          Dip:     60.}\n",
    "      Rake: -90.0\n",
    "      Slip_Type: Thrust\n",
    "      Slip_Completeness_Factor: 1\n",
    "      #slip [value_1, value_2, ... value_n]\n",
    "      #     [weight_1, weight_2, ... weight_n]\n",
    "      Slip: {\n",
    "          Value: [18., 20.0, 23.],\n",
    "          Weight: [0.3, 0.5, 0.2]}\n",
    "      #Aseismic Slip Factor \n",
    "      Aseismic: 0.0\n",
    "      MFD_Model:           \n",
    "          # Example of constructor for characteristic earthquake\n",
    "        - Model_Name: Characteristic\n",
    "          # Spacing (magnitude units) of the magnitude frequency distribution\n",
    "          MFD_spacing: 0.1\n",
    "          # Weight of the model\n",
    "          Model_Weight: 0.7\n",
    "          # Magnitude of the Characteristic Earthquake\n",
    "          Maximum_Magnitude:\n",
    "          # Uncertainty on Characteristic Magnitude (in magnitude units)\n",
    "          Sigma: 0.12\n",
    "          # Lower bound truncation (in number of standard deviations)\n",
    "          Lower_Bound: -3.0\n",
    "          # Upper bound truncation (in number of standard deviations)\n",
    "          Upper_Bound: 3.0\n",
    "          ####################################################\n",
    "        - Model_Name: AndersonLucoArbitrary\n",
    "          # Example constructor of the Anderson & Luco (1983) - Arbitrary Exponential \n",
    "          # Type - chooses between type 1 ('First'), type 2 ('Second') or type 3 ('Third')\n",
    "          Model_Type: First\n",
    "          MFD_spacing: 0.1\n",
    "          Model_Weight: 0.3\n",
    "          # Maximum Magnitude of the exponential distribution\n",
    "          Maximum_Magnitude: \n",
    "          Minimum_Magnitude: 4.5\n",
    "          # b-value of the exponential distribution as [expected, uncertainty]\n",
    "          b_value: [0.8, 0.05]\n",
    "      Megazone: \n",
    "      Shear_Modulus: {\n",
    "          Value: [30., 35.0],\n",
    "          Weight: [0.8, 0.2]}\n",
    "      Magnitude_Scaling_Relation: {\n",
    "          Value: [WC1994],\n",
    "          Weight: [1.0]}\n",
    "      Scaling_Relation_Sigma: {\n",
    "          Value: [-1.5, 0.0, 1.5], \n",
    "          Weight: [0.15, 0.7, 0.15]}\n",
    "      Aspect_Ratio: 1.5\n",
    "      Displacement_Length_Ratio: {\n",
    "          Value: [1.25E-5, 1.5E-5],\n",
    "          Weight:[0.5, 0.5]}"
   ]
  },
  {
   "cell_type": "markdown",
   "metadata": {},
   "source": [
    "#### Fault Geometry Representations - Example 1: Simple Fault"
   ]
  },
  {
   "cell_type": "raw",
   "metadata": {},
   "source": [
    "      Fault_Geometry: {\n",
    "          Fault_Typology: Simple,\n",
    "          # For simple typology, defines the trace in terms of Long., Lat.\n",
    "          Fault_Trace: [30.0, 30.0,\n",
    "                        30.0, 31.5],\n",
    "\n",
    "          # Upper Seismogenic Depth (km)\n",
    "          Upper_Depth:      0.0,\n",
    "          # Lower Seismogenic Depth (km)\n",
    "          Lower_Depth:     20.0,\n",
    "          Strike: ,\n",
    "          # Dip (degrees)\n",
    "          Dip:     60.}"
   ]
  },
  {
   "cell_type": "markdown",
   "metadata": {},
   "source": [
    "#### Fault Geometry Representations - Example 2: Complex Fault"
   ]
  },
  {
   "cell_type": "raw",
   "metadata": {},
   "source": [
    "      Fault_Geometry: {\n",
    "          Fault_Typology: Complex,\n",
    "          # For complex fault geometry define a list of edgees from top to \n",
    "          # bottom, where each edges is [Long_1, Lat_1, Depth_1, Long_2, Lat_2,\n",
    "          # Depth_2, ... Long_N, Lat_N, Depth_N\n",
    "          Fault_Trace: [\n",
    "                        # Top Edge\n",
    "                        [30.0, 30.0, 0.0,\n",
    "                         30.0, 31.5, 0.0],\n",
    "                         # Intermediate Edge\n",
    "                        [30.2, 29.8, 30.0,\n",
    "                         30.2, 31.7, 31.0],\n",
    "                         # Bottom Edge\n",
    "                        [30.3, 29.6, 58.0,\n",
    "                         30.3, 31.9, 60.0]\n",
    "                         ]}"
   ]
  },
  {
   "cell_type": "markdown",
   "metadata": {},
   "source": [
    "#### Rupture Properties"
   ]
  },
  {
   "cell_type": "markdown",
   "metadata": {},
   "source": [
    "The rupture requires characterisation of the rake (using the Aki & Richards 2002 convention), the slip-type, the slip completeness factor\n",
    "(an integer constraining the quality of the slip information with 1 being the hights quality), the range of slip values and their \n",
    "corresponding weights, and the aseismic slip coefficient (the proportion of slip released aseismically, 1.0 - coupling coefficient)"
   ]
  },
  {
   "cell_type": "raw",
   "metadata": {},
   "source": [
    "      Rake: -90.0\n",
    "      Slip_Type: Thrust\n",
    "      Slip_Completeness_Factor: 1\n",
    "      #slip [value_1, value_2, ... value_n]\n",
    "      #     [weight_1, weight_2, ... weight_n]\n",
    "      Slip: {\n",
    "          Value: [18., 20.0, 23.],\n",
    "          Weight: [0.3, 0.5, 0.2]}\n",
    "      #Aseismic Slip Factor \n",
    "      Aseismic: 0.0"
   ]
  },
  {
   "cell_type": "markdown",
   "metadata": {},
   "source": [
    "## The Magnitude Frequency Distributions"
   ]
  },
  {
   "cell_type": "code",
   "execution_count": 10,
   "metadata": {
    "collapsed": false
   },
   "outputs": [],
   "source": [
    "#Import tools\n",
    "%matplotlib inline\n",
    "import numpy as np\n",
    "import matplotlib.pyplot as plt\n",
    "from hmtk.plotting.faults.geology_mfd_plot import plot_recurrence_models\n",
    "from openquake.hazardlib.scalerel.wc1994 import WC1994  # In all the following examples the Wells & Coppersmith (1994) Scaling Relation is Used"
   ]
  },
  {
   "cell_type": "markdown",
   "metadata": {},
   "source": [
    "The following examples refer to a fault with the following properties:\n",
    "\n",
    "Length (Along-strike) = 100 km,\n",
    "Width (Down-Dip) = 20 km,\n",
    "Slip = 10.0 mm/yr,\n",
    "Rake = 0. (Strike Slip),\n",
    "Magnitude Scaling Relation = Wells & Coppersmith (1994),\n",
    "Shear Modulus = 30.0 GPa"
   ]
  },
  {
   "cell_type": "code",
   "execution_count": 11,
   "metadata": {
    "collapsed": false
   },
   "outputs": [],
   "source": [
    "# Set up fault parameters\n",
    "slip = 10.0  # Slip rate in mm/yr\n",
    "\n",
    "# Area = along-strike length (km) * down-dip with (km)\n",
    "area = 100.0 * 20.0\n",
    "\n",
    "# Rake = 0.\n",
    "rake = 0.\n",
    "\n",
    "# Magnitude Scaling Relation\n",
    "msr = WC1994()"
   ]
  },
  {
   "cell_type": "markdown",
   "metadata": {},
   "source": [
    "### Anderson & Luco (Arbitrary)"
   ]
  },
  {
   "cell_type": "markdown",
   "metadata": {},
   "source": [
    "This describes a set of distributons where the maximum magnitude is assumed to rupture the whole fault surface"
   ]
  },
  {
   "cell_type": "code",
   "execution_count": 12,
   "metadata": {
    "collapsed": false
   },
   "outputs": [
    {
     "data": {
      "image/png": "[encoded data removed]",
      "text/plain": [
       "<matplotlib.figure.Figure at 0x10c6c40d0>"
      ]
     },
     "metadata": {},
     "output_type": "display_data"
    }
   ],
   "source": [
    "#Magnitude Frequency Distribution Example\n",
    "\n",
    "anderson_luco_config1 = {'Model_Name': 'AndersonLucoArbitrary',\n",
    "                         'Model_Type': 'First',\n",
    "                         'Model_Weight': 1.0,  # Weight is a required key - normally weights should sum to 1.0 - current example is simply illustrative! \n",
    "                         'MFD_spacing': 0.1,\n",
    "                         'Maximum_Magnitude': None,\n",
    "                         'Minimum_Magnitude': 4.5,\n",
    "                         'b_value': [0.8, 0.05]}\n",
    "anderson_luco_config2 = {'Model_Name': 'AndersonLucoArbitrary',\n",
    "                         'Model_Type': 'Second',\n",
    "                         'Model_Weight': 1.0,\n",
    "                         'MFD_spacing': 0.1,\n",
    "                         'Maximum_Magnitude': None,\n",
    "                         'Minimum_Magnitude': 4.5,\n",
    "                         'b_value': [0.8, 0.05]}\n",
    "anderson_luco_config3 = {'Model_Name': 'AndersonLucoArbitrary',\n",
    "                         'Model_Type': 'Third',\n",
    "                         'Model_Weight': 1.0,   \n",
    "                         'MFD_spacing': 0.1,\n",
    "                         'Maximum_Magnitude': None,\n",
    "                         'Minimum_Magnitude': 4.5,\n",
    "                         'b_value': [0.8, 0.05]}\n",
    "# Create a list of the configurations\n",
    "anderson_luco_arb = [anderson_luco_config1, anderson_luco_config2, anderson_luco_config3]\n",
    "\n",
    "# View the corresponding magnitude recurrence model\n",
    "plot_recurrence_models(anderson_luco_arb, area, slip, msr, rake, msr_sigma=0.0)"
   ]
  },
  {
   "cell_type": "markdown",
   "metadata": {},
   "source": [
    "### Anderson & Luco (Area - MMax)"
   ]
  },
  {
   "cell_type": "markdown",
   "metadata": {},
   "source": [
    "This describes a set of distributons where the maximum rupture extent is limited to only part of the fault surface"
   ]
  },
  {
   "cell_type": "code",
   "execution_count": 13,
   "metadata": {
    "collapsed": false
   },
   "outputs": [
    {
     "data": {
      "image/png": "[encoded data removed]",
      "text/plain": [
       "<matplotlib.figure.Figure at 0x10cba1bd0>"
      ]
     },
     "metadata": {},
     "output_type": "display_data"
    }
   ],
   "source": [
    "anderson_luco_config1 = {'Model_Name': 'AndersonLucoAreaMmax',\n",
    "                         'Model_Type': 'First',\n",
    "                         'Model_Weight': 1.0,  # Weight is a required key - normally weights should sum to 1.0 - current example is simply illustrative! \n",
    "                         'MFD_spacing': 0.1,\n",
    "                         'Maximum_Magnitude': None,\n",
    "                         'Minimum_Magnitude': 4.5,\n",
    "                         'b_value': [0.8, 0.05]}\n",
    "anderson_luco_config2 = {'Model_Name': 'AndersonLucoAreaMmax',\n",
    "                         'Model_Type': 'Second',\n",
    "                         'Model_Weight': 1.0,\n",
    "                         'MFD_spacing': 0.1,\n",
    "                         'Maximum_Magnitude': None,\n",
    "                         'Minimum_Magnitude': 4.5,\n",
    "                         'b_value': [0.8, 0.05]}\n",
    "anderson_luco_config3 = {'Model_Name': 'AndersonLucoAreaMmax',\n",
    "                         'Model_Type': 'Third',\n",
    "                         'Model_Weight': 1.0,   \n",
    "                         'MFD_spacing': 0.1,\n",
    "                         'Maximum_Magnitude': None,\n",
    "                         'Minimum_Magnitude': 4.5,\n",
    "                         'b_value': [0.8, 0.05]}\n",
    "\n",
    "# For these models a displacement to length ratio is needed\n",
    "disp_length_ratio = 1.25E-5\n",
    "\n",
    "# Create a list of the configurations\n",
    "anderson_luco_area_mmax = [anderson_luco_config1, anderson_luco_config2, anderson_luco_config3]\n",
    "\n",
    "# View the corresponding magnitude recurrence model\n",
    "plot_recurrence_models(anderson_luco_area_mmax, area, slip, msr, rake, msr_sigma=0.0)\n"
   ]
  },
  {
   "cell_type": "markdown",
   "metadata": {},
   "source": [
    "### Characteristic Earthquake"
   ]
  },
  {
   "cell_type": "markdown",
   "metadata": {},
   "source": [
    "The following example illustrates a \"Characteristic\" Model, represented by a Truncated Gaussian Distribution"
   ]
  },
  {
   "cell_type": "code",
   "execution_count": 14,
   "metadata": {
    "collapsed": false
   },
   "outputs": [
    {
     "data": {
      "image/png": "[encoded data removed]",
      "text/plain": [
       "<matplotlib.figure.Figure at 0x10c7e5f50>"
      ]
     },
     "metadata": {},
     "output_type": "display_data"
    }
   ],
   "source": [
    "characteristic = [{'Model_Name': 'Characteristic',\n",
    "                   'MFD_spacing': 0.05,\n",
    "                   'Model_Weight': 1.0,\n",
    "                   'Maximum_Magnitude': None,\n",
    "                   'Sigma': 0.15,  # Standard Deviation of Distribution (in Magnitude Units) - omit for fixed value\n",
    "                   'Lower_Bound': -3.0,   # Bounds of the distribution correspond to the number of sigma for truncation\n",
    "                   'Upper_Bound': 3.0}]\n",
    "\n",
    "# View the corresponding magnitude recurrence model\n",
    "plot_recurrence_models(characteristic, area, slip, msr, rake, msr_sigma=0.0)"
   ]
  },
  {
   "cell_type": "markdown",
   "metadata": {},
   "source": [
    "### Youngs & Coppersmith (1985) Models"
   ]
  },
  {
   "cell_type": "markdown",
   "metadata": {},
   "source": [
    "The following describes the recurrence from two distributions presented by Youngs & Coppersmith (1985): 1) Exponential Distribution, 2) Hybrid Exponential-Characteristic Distribution"
   ]
  },
  {
   "cell_type": "code",
   "execution_count": 6,
   "metadata": {
    "collapsed": false
   },
   "outputs": [
    {
     "data": {
      "image/png": "[encoded data removed]",
      "text/plain": [
       "<matplotlib.figure.Figure at 0x10c6fe5d0>"
      ]
     },
     "metadata": {},
     "output_type": "display_data"
    }
   ],
   "source": [
    "exponential = {'Model_Name': 'YoungsCoppersmithExponential',\n",
    "               'MFD_spacing': 0.1,\n",
    "               'Maximum_Magnitude': None,\n",
    "               'Maximum_Magnitude_Uncertainty': None,\n",
    "               'Minimum_Magnitude': 5.0,\n",
    "               'Model_Weight': 1.0,\n",
    "               'b_value': [0.8, 0.1]}\n",
    "\n",
    "hybrid = {'Model_Name': 'YoungsCoppersmithCharacteristic',\n",
    "          'MFD_spacing': 0.1,\n",
    "          'Maximum_Magnitude': None,\n",
    "          'Maximum_Magnitude_Uncertainty': None,\n",
    "          'Minimum_Magnitude': 5.0,\n",
    "          'Model_Weight': 1.0,\n",
    "          'b_value': [0.8, 0.1],\n",
    "          'delta_m': None}\n",
    "\n",
    "youngs_coppersmith = [exponential, hybrid]\n",
    "\n",
    "# View the corresponding magnitude recurrence model\n",
    "plot_recurrence_models(youngs_coppersmith, area, slip, msr, rake, msr_sigma=0.0)\n"
   ]
  },
  {
   "cell_type": "markdown",
   "metadata": {},
   "source": [
    "## Epistemic Uncertainty Examples"
   ]
  },
  {
   "cell_type": "raw",
   "metadata": {},
   "source": [
    "At present the toolkit can support, directly, epistemic uncertainty in six of the primary attributes within a single workflow:\n",
    "\n",
    "1) Slip Rate\n",
    "2) Choice of MAgnitude Scaling Relation\n",
    "3) Shear Modulus\n",
    "4) Displacement to Length Ratio (Applies to Anderson & Luco Area-MMax relation only)\n",
    "5) Standard Deviation of scaling relation\n",
    "6) Magnitude Frequency Distribution Configuration\n",
    "\n"
   ]
  },
  {
   "cell_type": "markdown",
   "metadata": {},
   "source": [
    "This example considers the fault defined at the top of the page. This fault defines two values of slip rate and two different magnitude frequency distributions"
   ]
  },
  {
   "cell_type": "code",
   "execution_count": 15,
   "metadata": {
    "collapsed": false
   },
   "outputs": [
    {
     "name": "stdout",
     "output_type": "stream",
     "text": [
      "#*****************************************************************************\n",
      "\n",
      "#FAULT FILE IN YAML (Yet Another Markup Language) FORMAT\n",
      "\n",
      "#*****************************************************************************\n",
      "\n",
      "#\\\\\\\\\\\\\\\\\\\\\\\\\\\\\\\\\\\\\\\\\\\\\\\\\\\\\\\\\\\\\\\\\\\\\\\\\\\\\\\\\\\\\\\\\\\\\\\\\\\\\\\\\\\\\\\\\\\\\\\\\\\\\\\\\\\\\\\\\\\\\\\\\\\\\\\\\\\n",
      "\n",
      "\n",
      "\n",
      "tectonic_regionalisation: \n",
      "\n",
      "    - Name: Active Shallow Crust\n",
      "\n",
      "      Code: 001\n",
      "\n",
      "      # Magnitude scaling relation (see http://docs.openquake.org/oq-hazardlib) \n",
      "\n",
      "      #for currently available choices!\n",
      "\n",
      "      Magnitude_Scaling_Relation: {\n",
      "\n",
      "          Value: [WC1994], \n",
      "\n",
      "          Weight: [1.0]}\n",
      "\n",
      "      # Shear Modulus (in gigapascals, GPa)\n",
      "\n",
      "      Shear_Modulus: {\n",
      "\n",
      "          Value: [30.0], \n",
      "\n",
      "          Weight: [1.0]}\n",
      "\n",
      "      # Fault displacement to length ratio\n",
      "\n",
      "      Displacement_Length_Ratio: {\n",
      "\n",
      "          Value: [1.25E-5],\n",
      "\n",
      "          Weight: [1.0]}\n",
      "\n",
      "          \n",
      "\n",
      "#\\\\\\\\\\\\\\\\\\\\\\\\\\\\\\\\\\\\\\\\\\\\\\\\\\\\\\\\\\\\\\\\\\\\\\\\\\\\\\\\\\\\\\\\\\\\\\\\\\\\\\\\\\\\\\\\\\\\\\\\\\\\\\\\\\\\\\\\\\\\\\\\\\\\\\\\\\\n",
      "\n",
      "Fault_Model_ID: 001\n",
      "\n",
      "Fault_Model_Name: Template Simple Fault\n",
      "\n",
      "Fault_Model:\n",
      "\n",
      "    - ID: 001\n",
      "\n",
      "      Tectonic_Region: Active Shallow Crust\n",
      "\n",
      "      Fault_Name: A Simple Fault\n",
      "\n",
      "      Fault_Geometry: {\n",
      "\n",
      "          Fault_Typology: Simple,\n",
      "\n",
      "          # For simple typology, defines the trace in terms of Long., Lat.\n",
      "\n",
      "          Fault_Trace: [30.0, 30.0,\n",
      "\n",
      "                        30.0, 31.0],\n",
      "\n",
      "\n",
      "\n",
      "          # Upper Seismogenic Depth (km)\n",
      "\n",
      "          Upper_Depth:      0.0,\n",
      "\n",
      "          # Lower Seismogenic Depth (km)\n",
      "\n",
      "          Lower_Depth:     20.0,\n",
      "\n",
      "          Strike: ,\n",
      "\n",
      "          # Dip (degrees)\n",
      "\n",
      "          Dip:     30.}\n",
      "\n",
      "      Rake: -90.0\n",
      "\n",
      "      Slip_Type: Thrust\n",
      "\n",
      "      Slip_Completeness_Factor: 1\n",
      "\n",
      "      #slip [value_1, value_2, ... value_n]\n",
      "\n",
      "      #     [weight_1, weight_2, ... weight_n]\n",
      "\n",
      "      Slip: {\n",
      "\n",
      "          Value: [5., 7.],\n",
      "\n",
      "          Weight: [0.5, 0.5]}\n",
      "\n",
      "      #Aseismic Slip Factor \n",
      "\n",
      "      Aseismic: 0.0\n",
      "\n",
      "      MFD_Model: \n",
      "\n",
      "          # Example of constructor for characteristic earthquake\n",
      "\n",
      "        - Model_Name: Characteristic\n",
      "\n",
      "          # Spacing (magnitude units) of the magnitude frequency distribution\n",
      "\n",
      "          MFD_spacing: 0.1\n",
      "\n",
      "          # Weight of the model\n",
      "\n",
      "          Model_Weight: 0.5\n",
      "\n",
      "          # Magnitude of the Characteristic Earthquake\n",
      "\n",
      "          Maximum_Magnitude: 7.0\n",
      "\n",
      "          # Uncertainty on Characteristic Magnitude (in magnitude units)\n",
      "\n",
      "          Sigma: 0.12\n",
      "\n",
      "          # Lower bound truncation (in number of standard deviations)\n",
      "\n",
      "          Lower_Bound: -3.0\n",
      "\n",
      "          # Upper bound truncation (in number of standard deviations)\n",
      "\n",
      "          Upper_Bound: 3.0\n",
      "\n",
      "          ####################################################\n",
      "\n",
      "        - Model_Name: AndersonLucoArbitrary\n",
      "\n",
      "          # Example constructor of the Anderson & Luco (1983) - Arbitrary Exponential \n",
      "\n",
      "          # Type - chooses between type 1 ('First'), type 2 ('Second') or type 3 ('Third')\n",
      "\n",
      "          Model_Type: First\n",
      "\n",
      "          MFD_spacing: 0.1\n",
      "\n",
      "          Model_Weight: 0.5\n",
      "\n",
      "          # Maximum Magnitude of the exponential distribution\n",
      "\n",
      "          Maximum_Magnitude: 7.0\n",
      "\n",
      "          Minimum_Magnitude: 4.5\n",
      "\n",
      "          # b-value of the exponential distribution as [expected, uncertainty]\n",
      "\n",
      "          b_value: [0.8, 0.05]\n",
      "\n",
      "      Megazone: \n",
      "\n",
      "      Shear_Modulus: {\n",
      "\n",
      "          Value: [30.],\n",
      "\n",
      "          Weight: [1.0]}\n",
      "\n",
      "      Magnitude_Scaling_Relation: {\n",
      "\n",
      "          Value: [WC1994],\n",
      "\n",
      "          Weight: [1.0]}\n",
      "\n",
      "      Scaling_Relation_Sigma: {\n",
      "\n",
      "          Value: [0.0], \n",
      "\n",
      "          Weight: [1.0]}\n",
      "\n",
      "      Aspect_Ratio: 1.5\n",
      "\n",
      "      Displacement_Length_Ratio: {\n",
      "\n",
      "          Value: [1.25E-5],\n",
      "\n",
      "          Weight:[1.0]}\n"
     ]
    }
   ],
   "source": [
    "def show_file_contents(filename):\n",
    "    \"\"\"\n",
    "    Shows the file contents\n",
    "    \"\"\"\n",
    "    fid = open(filename, 'r')\n",
    "    for row in fid.readlines():\n",
    "        print row\n",
    "    fid.close()\n",
    "\n",
    "input_file = 'input_data/simple_fault_example_4branch.yml'\n",
    "show_file_contents(input_file)\n"
   ]
  },
  {
   "cell_type": "markdown",
   "metadata": {},
   "source": [
    "### Example 1 - Full Enumeration"
   ]
  },
  {
   "cell_type": "markdown",
   "metadata": {},
   "source": [
    "In this example each individual MFD for each branch is determined. In the resulting file the fault is duplicated n_branches number of times, with the\n",
    "corresponding MFD multiplied by the end-branch weight"
   ]
  },
  {
   "cell_type": "code",
   "execution_count": 16,
   "metadata": {
    "collapsed": false
   },
   "outputs": [
    {
     "name": "stdout",
     "output_type": "stream",
     "text": [
      "<?xml version='1.0' encoding='UTF-8'?>\n",
      "\n",
      "<nrml xmlns:gml=\"http://www.opengis.net/gml\" xmlns=\"http://openquake.org/xmlns/nrml/0.4\">\n",
      "\n",
      "  <sourceModel name=\"Template Simple Fault\">\n",
      "\n",
      "    <simpleFaultSource id=\"1_1\" name=\"A Simple Fault\" tectonicRegion=\"Active Shallow Crust\">\n",
      "\n",
      "      <simpleFaultGeometry>\n",
      "\n",
      "        <gml:LineString>\n",
      "\n",
      "          <gml:posList>30.0 30.0 30.0 31.0</gml:posList>\n",
      "\n",
      "        </gml:LineString>\n",
      "\n",
      "        <dip>30.0</dip>\n",
      "\n",
      "        <upperSeismoDepth>0.0</upperSeismoDepth>\n",
      "\n",
      "        <lowerSeismoDepth>20.0</lowerSeismoDepth>\n",
      "\n",
      "      </simpleFaultGeometry>\n",
      "\n",
      "      <magScaleRel>WC1994</magScaleRel>\n",
      "\n",
      "      <ruptAspectRatio>1.5</ruptAspectRatio>\n",
      "\n",
      "      <incrementalMFD minMag=\"6.64\" binWidth=\"0.1\">\n",
      "\n",
      "        <occurRates>1.66984888376e-05 0.000165760464747 0.000658012622916 0.00135343006814 0.00144508466725 0.00080109356265 0.000230216031359 3.05523435745e-05 0.0</occurRates>\n",
      "\n",
      "      </incrementalMFD>\n",
      "\n",
      "      <rake>-90.0</rake>\n",
      "\n",
      "    </simpleFaultSource>\n",
      "\n",
      "    <simpleFaultSource id=\"1_2\" name=\"A Simple Fault\" tectonicRegion=\"Active Shallow Crust\">\n",
      "\n",
      "      <simpleFaultGeometry>\n",
      "\n",
      "        <gml:LineString>\n",
      "\n",
      "          <gml:posList>30.0 30.0 30.0 31.0</gml:posList>\n",
      "\n",
      "        </gml:LineString>\n",
      "\n",
      "        <dip>30.0</dip>\n",
      "\n",
      "        <upperSeismoDepth>0.0</upperSeismoDepth>\n",
      "\n",
      "        <lowerSeismoDepth>20.0</lowerSeismoDepth>\n",
      "\n",
      "      </simpleFaultGeometry>\n",
      "\n",
      "      <magScaleRel>WC1994</magScaleRel>\n",
      "\n",
      "      <ruptAspectRatio>1.5</ruptAspectRatio>\n",
      "\n",
      "      <incrementalMFD minMag=\"4.5\" binWidth=\"0.1\">\n",
      "\n",
      "        <occurRates>0.0404671423911 0.033659102961 0.0279964224108 0.0232864098818 0.0193687920987 0.0161102595577 0.0133999302432 0.0111455765116 0.00927048675038 0.00771085501945 0.00641360984941 0.00533460831472 0.00443713392921 0.00369064724985 0.00306974667434 0.00255330407018 0.00212374582219 0.00176645483392 0.00146927313415 0.00122208816284 0.00101648865894 0.000845478440245 0.000703238335844 0.000584928170206 0.000486522060675 0.000404671423911</occurRates>\n",
      "\n",
      "      </incrementalMFD>\n",
      "\n",
      "      <rake>-90.0</rake>\n",
      "\n",
      "    </simpleFaultSource>\n",
      "\n",
      "    <simpleFaultSource id=\"1_3\" name=\"A Simple Fault\" tectonicRegion=\"Active Shallow Crust\">\n",
      "\n",
      "      <simpleFaultGeometry>\n",
      "\n",
      "        <gml:LineString>\n",
      "\n",
      "          <gml:posList>30.0 30.0 30.0 31.0</gml:posList>\n",
      "\n",
      "        </gml:LineString>\n",
      "\n",
      "        <dip>30.0</dip>\n",
      "\n",
      "        <upperSeismoDepth>0.0</upperSeismoDepth>\n",
      "\n",
      "        <lowerSeismoDepth>20.0</lowerSeismoDepth>\n",
      "\n",
      "      </simpleFaultGeometry>\n",
      "\n",
      "      <magScaleRel>WC1994</magScaleRel>\n",
      "\n",
      "      <ruptAspectRatio>1.5</ruptAspectRatio>\n",
      "\n",
      "      <incrementalMFD minMag=\"6.64\" binWidth=\"0.1\">\n",
      "\n",
      "        <occurRates>2.33778843726e-05 0.000232064650645 0.000921217672083 0.0018948020954 0.00202311853414 0.00112153098771 0.000322302443902 4.27732810043e-05 0.0</occurRates>\n",
      "\n",
      "      </incrementalMFD>\n",
      "\n",
      "      <rake>-90.0</rake>\n",
      "\n",
      "    </simpleFaultSource>\n",
      "\n",
      "    <simpleFaultSource id=\"1_4\" name=\"A Simple Fault\" tectonicRegion=\"Active Shallow Crust\">\n",
      "\n",
      "      <simpleFaultGeometry>\n",
      "\n",
      "        <gml:LineString>\n",
      "\n",
      "          <gml:posList>30.0 30.0 30.0 31.0</gml:posList>\n",
      "\n",
      "        </gml:LineString>\n",
      "\n",
      "        <dip>30.0</dip>\n",
      "\n",
      "        <upperSeismoDepth>0.0</upperSeismoDepth>\n",
      "\n",
      "        <lowerSeismoDepth>20.0</lowerSeismoDepth>\n",
      "\n",
      "      </simpleFaultGeometry>\n",
      "\n",
      "      <magScaleRel>WC1994</magScaleRel>\n",
      "\n",
      "      <ruptAspectRatio>1.5</ruptAspectRatio>\n",
      "\n",
      "      <incrementalMFD minMag=\"4.5\" binWidth=\"0.1\">\n",
      "\n",
      "        <occurRates>0.0566539993476 0.0471227441454 0.0391949913751 0.0326009738345 0.0271163089382 0.0225543633808 0.0187599023404 0.0156038071162 0.0129786814505 0.0107951970272 0.00897905378917 0.00746845164061 0.00621198750089 0.00516690614979 0.00429764534408 0.00357462569825 0.00297324415106 0.00247303676749 0.00205698238781 0.00171092342797 0.00142308412252 0.00118366981634 0.000984533670182 0.000818899438288 0.000681130884944 0.000566539993476</occurRates>\n",
      "\n",
      "      </incrementalMFD>\n",
      "\n",
      "      <rake>-90.0</rake>\n",
      "\n",
      "    </simpleFaultSource>\n",
      "\n",
      "  </sourceModel>\n",
      "\n",
      "</nrml>\n",
      "\n"
     ]
    }
   ],
   "source": [
    "# Import the Parser\n",
    "from hmtk.parsers.faults.fault_yaml_parser import FaultYmltoSource\n",
    "\n",
    "# Fault mesh discretization step\n",
    "mesh_spacing = 1.0 # (km)\n",
    "\n",
    "# Read in the fault model\n",
    "reader = FaultYmltoSource(input_file)\n",
    "fault_model, tectonic_region = reader.read_file(mesh_spacing)\n",
    "\n",
    "# Construct the fault source model (this is really running the MFD calculation code)\n",
    "fault_model.build_fault_model()\n",
    "\n",
    "# Write to an output NRML file\n",
    "output_file_1 = 'output_data/fault_example_enumerated.xml'\n",
    "fault_model.source_model.serialise_to_nrml(output_file_1)\n",
    "\n",
    "show_file_contents(output_file_1)"
   ]
  },
  {
   "cell_type": "markdown",
   "metadata": {},
   "source": [
    "### Example 2: Collapsed Branches"
   ]
  },
  {
   "cell_type": "markdown",
   "metadata": {},
   "source": [
    "In the following example we implement the same model, this time collapsing the branched. This means that the MFD is discretised and the incremental rate\n",
    "in each magnitude bin is the weighted sum of the rates in that bin from all the end branches of the logic tree.\n",
    "\n",
    "When collapsing the branches, however, it is necessary to define a single Magnitude Scaling Relation that will need to be assigned to the fault for\n",
    "use in OpenQuake."
   ]
  },
  {
   "cell_type": "code",
   "execution_count": 17,
   "metadata": {
    "collapsed": false
   },
   "outputs": [
    {
     "name": "stdout",
     "output_type": "stream",
     "text": [
      "<?xml version='1.0' encoding='UTF-8'?>\n",
      "\n",
      "<nrml xmlns:gml=\"http://www.opengis.net/gml\" xmlns=\"http://openquake.org/xmlns/nrml/0.4\">\n",
      "\n",
      "  <sourceModel name=\"Template Simple Fault\">\n",
      "\n",
      "    <simpleFaultSource id=\"1_1\" name=\"A Simple Fault\" tectonicRegion=\"Active Shallow Crust\">\n",
      "\n",
      "      <simpleFaultGeometry>\n",
      "\n",
      "        <gml:LineString>\n",
      "\n",
      "          <gml:posList>30.0 30.0 30.0 31.0</gml:posList>\n",
      "\n",
      "        </gml:LineString>\n",
      "\n",
      "        <dip>30.0</dip>\n",
      "\n",
      "        <upperSeismoDepth>0.0</upperSeismoDepth>\n",
      "\n",
      "        <lowerSeismoDepth>20.0</lowerSeismoDepth>\n",
      "\n",
      "      </simpleFaultGeometry>\n",
      "\n",
      "      <magScaleRel>WC1994</magScaleRel>\n",
      "\n",
      "      <ruptAspectRatio>1.5</ruptAspectRatio>\n",
      "\n",
      "      <incrementalMFD minMag=\"4.5\" binWidth=\"0.1\">\n",
      "\n",
      "        <occurRates>0.0971211417387 0.0807818471064 0.0671914137858 0.0558873837162 0.0464851010369 0.0386646229385 0.0321598325836 0.0267493836278 0.0222491682009 0.0185060520467 0.0153926636386 0.0128030599553 0.0106491214301 0.00885755339963 0.00736739201842 0.00612792976843 0.00509698997324 0.00423949160142 0.00352625552195 0.00293301159081 0.00243957278146 0.00202914825659 0.00184661595792 0.00231362389313 0.00360190992617 0.00434969292261 0.00243432469089 0.000909841780938 0.000164472079868 0.0</occurRates>\n",
      "\n",
      "      </incrementalMFD>\n",
      "\n",
      "      <rake>-90.0</rake>\n",
      "\n",
      "    </simpleFaultSource>\n",
      "\n",
      "  </sourceModel>\n",
      "\n",
      "</nrml>\n",
      "\n"
     ]
    }
   ],
   "source": [
    "# Read in the fault model\n",
    "reader = FaultYmltoSource(input_file)\n",
    "fault_model, tectonic_region = reader.read_file(mesh_spacing)\n",
    "\n",
    "# Scaling relation for export\n",
    "output_msr = WC1994()\n",
    "\n",
    "# Construct the fault source model - collapsing the branches\n",
    "fault_model.build_fault_model(collapse=True, rendered_msr=output_msr)\n",
    "\n",
    "\n",
    "# Write to an output NRML file\n",
    "output_file_2 = 'output_data/fault_example_collapsed.xml'\n",
    "fault_model.source_model.serialise_to_nrml(output_file_2)\n",
    "\n",
    "show_file_contents(output_file_2)"
   ]
  },
  {
   "cell_type": "code",
   "execution_count": null,
   "metadata": {
    "collapsed": false
   },
   "outputs": [],
   "source": []
  }
 ],
 "metadata": {
  "kernelspec": {
   "display_name": "Python 2",
   "language": "python",
   "name": "python2"
  },
  "language_info": {
   "codemirror_mode": {
    "name": "ipython",
    "version": 2
   },
   "file_extension": ".py",
   "mimetype": "text/x-python",
   "name": "python",
   "nbconvert_exporter": "python",
   "pygments_lexer": "ipython2",
   "version": "2.7.2"
  }
 },
 "nbformat": 4,
 "nbformat_minor": 0
}
